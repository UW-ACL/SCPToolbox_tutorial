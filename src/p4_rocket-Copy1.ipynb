{
 "cells": [
  {
   "cell_type": "markdown",
   "id": "457496e8-f051-491a-a922-e11d4684223d",
   "metadata": {},
   "source": [
    "# SCP Toolbox Workshop\n",
    "\n",
    "___A tutorial on generating dynamically feasible trajectories reliably and efficiently___\n",
    "\n",
    "Monday, February 7, 2022\n",
    "\n",
    "Rocky Mountain AAS GN&C Conference, Breckenridge, CO"
   ]
  },
  {
   "cell_type": "code",
   "execution_count": 614,
   "id": "b046a02d-fcb1-4dd8-8a9d-28d18c7b3a8a",
   "metadata": {
    "slideshow": {
     "slide_type": "skip"
    },
    "tags": []
   },
   "outputs": [
    {
     "name": "stderr",
     "output_type": "stream",
     "text": [
      "\u001b[32m\u001b[1m  Activating\u001b[22m\u001b[39m project at `~/Nextcloud/personal/research/scp/aas_gnc_workshop/tutorial`\n",
      "\u001b[32m\u001b[1m   Resolving\u001b[22m\u001b[39m package versions...\n",
      "\u001b[32m\u001b[1m  No Changes\u001b[22m\u001b[39m to `~/Nextcloud/personal/research/scp/aas_gnc_workshop/tutorial/Project.toml`\n",
      "\u001b[32m\u001b[1m  No Changes\u001b[22m\u001b[39m to `~/Nextcloud/personal/research/scp/aas_gnc_workshop/tutorial/Manifest.toml`\n"
     ]
    }
   ],
   "source": [
    "import Pkg\n",
    "Pkg.activate(\"..\")\n",
    "\n",
    "# these lines are required only for local installations\n",
    "Pkg.develop(path=\"../../scp_traj_opt/\")\n",
    "Pkg.precompile()\n",
    "\n",
    "using SCPToolbox\n",
    "using PyPlot, Colors, LinearAlgebra\n",
    "\n",
    "# Import the different possible low-level convex solvers\n",
    "using COSMO\n",
    "using Ipopt\n",
    "using SCS\n",
    "using ECOS\n",
    "using OSQP"
   ]
  },
  {
   "cell_type": "markdown",
   "id": "572810fc-a18f-4040-ae30-965c1f711f0f",
   "metadata": {},
   "source": [
    "# Part 4: Rocket-Landing Guidance"
   ]
  },
  {
   "cell_type": "code",
   "execution_count": 615,
   "id": "29113eda-edec-4a41-b2a0-174df49cdfa4",
   "metadata": {},
   "outputs": [],
   "source": [
    "pbm = TrajectoryProblem();"
   ]
  },
  {
   "cell_type": "markdown",
   "id": "7a92f244-c651-4686-b93c-6cbb884e232f",
   "metadata": {},
   "source": [
    "## Rocket dynamics"
   ]
  },
  {
   "cell_type": "markdown",
   "id": "75a78b56-43ed-4fd8-8a2b-05c9835a7051",
   "metadata": {},
   "source": [
    "In general, the dynamics of any nonlinear system are given by:\n",
    "\n",
    "$$\n",
    "\\dot x(t) = f( t, x(t), u(t), p )\n",
    "$$\n",
    "\n",
    "* $t\\in \\mathbb R$: time;\n",
    "* $x(t)\\in \\mathbb R^n$: state vector;\n",
    "* $u(t)\\in \\mathbb R^m$: input vector (the things that we can decide on);\n",
    "* $p(t)\\in \\mathbb R^d$: \"parameter\" vector (problem specific);"
   ]
  },
  {
   "cell_type": "code",
   "execution_count": 616,
   "id": "1a1d6355-0af3-4aff-80ab-5139ddacc56f",
   "metadata": {},
   "outputs": [],
   "source": [
    "n, m, d = 7, 2, 1\n",
    "problem_set_dims!(pbm, n, m, d)"
   ]
  },
  {
   "cell_type": "markdown",
   "id": "afc2a171-1871-4d08-a5cb-dbccf36bd897",
   "metadata": {},
   "source": [
    "## Rocket parameters"
   ]
  },
  {
   "cell_type": "code",
   "execution_count": 617,
   "id": "3481a900-6a1b-4228-833f-d5c57f569d7d",
   "metadata": {},
   "outputs": [],
   "source": [
    "# Environment parameters\n",
    "g = 3.0 #1.625 # [m/s^2] Gravitational acceleration of the planet\n",
    "g_E = 9.807; # [m/s^2] Earth gravity"
   ]
  },
  {
   "cell_type": "code",
   "execution_count": 618,
   "id": "4a756afd-362e-4bd7-8218-9d7a286c0133",
   "metadata": {},
   "outputs": [],
   "source": [
    "# Mechanical parameters\n",
    "m_wet = 25e3\n",
    "L = 5.0 # Thrust lever arm\n",
    "J = 100e3; # [kg*m^2] Moment of inertia"
   ]
  },
  {
   "cell_type": "code",
   "execution_count": 619,
   "id": "3f5420cb-e2b9-4b01-a697-241b8c2b149a",
   "metadata": {},
   "outputs": [],
   "source": [
    "# Propulsion parameters\n",
    "Isp = 370 # [s] Specific impulse\n",
    "T_min = 5e3 # [N] Minimum thrust\n",
    "T_max = 66e3 # [N] Maximum thrust\n",
    "α = 0 #1 / (Isp * g_E)\n",
    "δ_max = deg2rad(10.0);"
   ]
  },
  {
   "cell_type": "code",
   "execution_count": 620,
   "id": "71583209-844b-4f58-a81f-137dfa1b47c4",
   "metadata": {},
   "outputs": [],
   "source": [
    "# Trajectory parameters\n",
    "γ_gs = deg2rad(10.0); # [rad] Glideslope angle (measured from the horizon)"
   ]
  },
  {
   "cell_type": "code",
   "execution_count": 621,
   "id": "b409571d-a6c5-4ed9-9bf6-535d96fe89f1",
   "metadata": {},
   "outputs": [],
   "source": [
    "f(t, x, u, p) = begin\n",
    "    rx, ry, vx, vy, θ, ω, m = x\n",
    "    T, δ = u\n",
    "    tf, = p\n",
    "    if t <0.01\n",
    "        # println(\"f: final time tf = \", tf)\n",
    "    end\n",
    "    return [vx; vy; -(T/m)*sin(θ+δ); (T/m)*cos(θ+δ)-g; ω; -(L*T/J)*sin(δ); -α*T]*tf\n",
    "end;"
   ]
  },
  {
   "cell_type": "markdown",
   "id": "8bdc3e1a-3d97-4a1b-a0fd-420f36eb6438",
   "metadata": {},
   "source": [
    "SCP algorithms work by iteratively linearizing nonconvex elements of the problem. This means that we have to provide the algorithm with the Jacobians of $f$.\n",
    "\n",
    "\\begin{align}\n",
    "A(t, x, u, p) &= \\nabla_x f(t, x, u, p), \\\\\n",
    "B(t, x, u, p) &= \\nabla_u f(t, x, u, p), \\\\\n",
    "F(t, x, u, p) &= \\nabla_p f(t, x, u, p).\n",
    "\\end{align}"
   ]
  },
  {
   "cell_type": "code",
   "execution_count": 622,
   "id": "e45793ab-85d4-4268-86a2-1f27037ecf58",
   "metadata": {},
   "outputs": [],
   "source": [
    "A(t, x, u, p) = begin\n",
    "    rx, ry, vx, vy, θ, ω, m = x\n",
    "    T, δ = u\n",
    "    tf, = p\n",
    "    if t <0.01\n",
    "        #println(\"A: final time tf = \", tf)\n",
    "    end\n",
    "    return [0 0 1 0       0       0       0\n",
    "            0 0 0 1       0       0       0\n",
    "            0 0 0 0 -T/m*cos(θ+δ) 0 T/m^2*sin(θ+δ)\n",
    "            0 0 0 0 -T/m*sin(θ+δ) 0 -T/m^2*cos(θ+δ)\n",
    "            0 0 0 0       0       1       0\n",
    "            0 0 0 0       0       0       0\n",
    "            0 0 0 0       0       0       0]*tf\n",
    "end\n",
    "\n",
    "B(t, x, u, p) = begin\n",
    "    rx, ry, vx, vy, θ, ω, m = x\n",
    "    T, δ = u\n",
    "    tf, = p\n",
    "    if t <0.01\n",
    "        #println(\"B: final time tf = \", tf)\n",
    "    end\n",
    "    return [     0            0\n",
    "                 0            0\n",
    "            -sin(θ+δ)/m -T/m*cos(θ+δ)\n",
    "             cos(θ+δ)/m -T/m*sin(θ+δ)\n",
    "                 0            0\n",
    "            -L/J*sin(δ) -L*T/J*cos(δ)\n",
    "                -α            0       ]*tf\n",
    "end\n",
    "\n",
    "F(t, x, u, p) = begin\n",
    "    rx, ry, vx, vy, θ, ω, m = x\n",
    "    T, δ = u\n",
    "    tf, = p\n",
    "    if t <0.01\n",
    "        #println(\"F: final time tf = \", tf)\n",
    "    end\n",
    "    return reshape(f(t, x, u, p)/tf, 7, 1)\n",
    "end;"
   ]
  },
  {
   "cell_type": "code",
   "execution_count": 623,
   "id": "a2841ea2-3b66-4370-a3b8-c31a6a9c5198",
   "metadata": {},
   "outputs": [],
   "source": [
    "wrap(func) = (t, k, x, u, p, pbm) -> func(t, x, u, p)\n",
    "problem_set_dynamics!(pbm, wrap(f), wrap(A), wrap(B), wrap(F))"
   ]
  },
  {
   "cell_type": "markdown",
   "id": "3956c4b2-8493-4311-ad5b-621de2ddafef",
   "metadata": {},
   "source": [
    "## Boundary Conditions"
   ]
  },
  {
   "cell_type": "markdown",
   "id": "6f0b62c9-8ffe-420d-ac6e-bbddfd03c717",
   "metadata": {},
   "source": [
    "The initial and terminal boundary conditions on the trajectory are set by the following two constraints:\n",
    "\n",
    "\\begin{align}\n",
    "g_{ic}(x(0), p) &= 0, \\\\\n",
    "g_{tc}(x(1), p) &= 0.\n",
    "\\end{align}"
   ]
  },
  {
   "cell_type": "code",
   "execution_count": 624,
   "id": "3018bd4f-95e5-4681-882d-53162c60a25d",
   "metadata": {},
   "outputs": [],
   "source": [
    "x_0 = [0; 100; 0; -10; deg2rad(0); 0.0; m_wet]\n",
    "x_f = zeros(6)\n",
    "\n",
    "g_ic(x, p) = x-x_0\n",
    "g_tc(x, p) = x[1:6]-x_f;"
   ]
  },
  {
   "cell_type": "markdown",
   "id": "aee2cb63-24de-49d6-a387-8b883cb6d4be",
   "metadata": {},
   "source": [
    "Again, we need to provide the Jacobians of $g_{ic}$ and $g_{tc}$, since in general these may be nonaffine functions.\n",
    "\n",
    "\\begin{align}\n",
    "H_0(x(0), p) &= \\nabla_x g_{ic}(x(0), p), \\\\\n",
    "K_0(x(0), p) &= \\nabla_p g_{ic}(x(0), p), \\\\\n",
    "H_f(x(1), p) &= \\nabla_x g_{tc}(x(1), p), \\\\\n",
    "K_f(x(1), p) &= \\nabla_p g_{tc}(x(1), p).\n",
    "\\end{align}\n",
    "\n",
    "When a Jacobian is not provided, the SCP Toolbox assumes that it is zero."
   ]
  },
  {
   "cell_type": "code",
   "execution_count": 625,
   "id": "61883958-c05a-4ddc-9d6c-04851ebd8204",
   "metadata": {},
   "outputs": [],
   "source": [
    "H_0(x, p) = I(7)\n",
    "H_f(x, p) = collect(hcat(I(6), zeros(6)));"
   ]
  },
  {
   "cell_type": "code",
   "execution_count": 626,
   "id": "47a5ac2e-4a0c-45c1-9f2d-c62090f39fc2",
   "metadata": {},
   "outputs": [],
   "source": [
    "wrap(func) = (x, p, pbm) -> func(x, p)\n",
    "problem_set_bc!(pbm, :ic, wrap(g_ic), wrap(H_0))\n",
    "problem_set_bc!(pbm, :tc, wrap(g_tc), wrap(H_f))"
   ]
  },
  {
   "cell_type": "markdown",
   "id": "33769bb9-7e23-43b8-a1a3-0c3a7c18ccce",
   "metadata": {},
   "source": [
    "## State constraints"
   ]
  },
  {
   "cell_type": "code",
   "execution_count": 627,
   "id": "a80d539f-ef99-4279-a48e-38c565f3d3fd",
   "metadata": {},
   "outputs": [],
   "source": [
    "tf_min = 0.5 # [s] Minimum time of flight\n",
    "# nonnegative_time_of_flight(tf, clp) = @add_constraint(clp, NONPOS, tf -> 19.9-tf);"
   ]
  },
  {
   "cell_type": "code",
   "execution_count": 628,
   "id": "1d1e6b30-3924-4658-b42b-29a31e0e3102",
   "metadata": {},
   "outputs": [],
   "source": [
    "glide_slope(x, clp) = @add_constraint(clp, L1, x -> begin\n",
    "        x, y = x[1:2]\n",
    "        return [y/tan(γ_gs); x]\n",
    "    end);"
   ]
  },
  {
   "cell_type": "code",
   "execution_count": 629,
   "id": "6e2ed4d8-0435-4254-ae28-79daea47494b",
   "metadata": {
    "tags": []
   },
   "outputs": [],
   "source": [
    "problem_set_X!(pbm, (t, k, x, p, pbm, clp) -> begin\n",
    "        tf = p[1]\n",
    "        #nonnegative_time_of_flight(tf, clp)\n",
    "        @add_constraint(clp, NONPOS, x -> -x[2])\n",
    "        @add_constraint(clp, NONPOS, tf -> 20.0-tf);\n",
    "        @add_constraint(clp, NONPOS, tf -> tf-20.0);\n",
    "        # glide_slope(x, clp)\n",
    "    end)"
   ]
  },
  {
   "cell_type": "markdown",
   "id": "f98fcc5c-25c1-4c5e-a5c0-a7f0175a6b69",
   "metadata": {},
   "source": [
    "## Control constraints"
   ]
  },
  {
   "cell_type": "code",
   "execution_count": 630,
   "id": "5637c3aa-ac8a-4310-8a94-53510cfb7676",
   "metadata": {},
   "outputs": [],
   "source": [
    "#thrust_upper_bound(T, clp) = @add_constraint(clp, NONPOS, T -> T-T_max)\n",
    "#thrust_lower_bound(T, clp) = @add_constraint(clp, NONPOS, T -> T_min-T)\n",
    "#gimbal_limit(δ, clp) = @add_constraint(clp, L1, δ -> vcat(δ_max, δ));"
   ]
  },
  {
   "cell_type": "code",
   "execution_count": 631,
   "id": "0af2d741-f212-464b-8f89-d9e418227b20",
   "metadata": {},
   "outputs": [],
   "source": [
    "problem_set_U!(pbm, (t, k, u, p, pbm, clp) -> begin\n",
    "        T = u[1]\n",
    "        δ = u[2]\n",
    "        #thrust_upper_bound(T, clp)\n",
    "        #thrust_lower_bound(T, clp)\n",
    "        #gimbal_limit(δ, clp)\n",
    "        @add_constraint(clp, NONPOS, \"thrust_lb\", u -> 0.9*87500.0-u[1])\n",
    "        @add_constraint(clp, NONPOS, \"thrust_ub\", u -> u[1]-1.1*87500.0)\n",
    "    end)"
   ]
  },
  {
   "cell_type": "markdown",
   "id": "3e219690-64cb-4a61-92ee-55cfa6a3b5ef",
   "metadata": {},
   "source": [
    "## Objective Function"
   ]
  },
  {
   "cell_type": "markdown",
   "id": "2d1b02a1-2ff1-4553-ae7a-78e52b6aeeea",
   "metadata": {},
   "source": [
    "1000.0Borrowing from the standard choice in optimal control literature, the SCP Toolbox works with an objective function in the Bolza form:\n",
    "\n",
    "$$\n",
    "J(x, u, p) = \\phi(x(1), p) + \\int_0^1 \\Gamma(x(t), u(t), p) dt.\n",
    "$$\n",
    "\n",
    "The function $\\phi(\\cdot)\\in\\mathbb R$ defines the terminal cost, while $\\Gamma(\\cdot)\\in\\mathbb R$ defines the running cost. Both have to be convex, at most quadratic, functions.\n",
    "\n",
    "> ℹ️ Any nonconvexity in the cost can in general be off-loaded into the constraints by defining additional state, control, and/or parameter variables."
   ]
  },
  {
   "cell_type": "code",
   "execution_count": 632,
   "id": "cc097b18-1189-43d3-89ec-1fc8d41924fb",
   "metadata": {},
   "outputs": [],
   "source": [
    "# ϕ(x, p) = -x[end];\n",
    "#Γ(x, u, p) = u[1];"
   ]
  },
  {
   "cell_type": "markdown",
   "id": "24f05019-d636-41af-844a-69b8f3444dd1",
   "metadata": {},
   "source": [
    "The SCP Toolbox provides the following API functions for defining the cost:\n",
    "* `problem_set_terminal_cost!`: if not provided, it is assumed that $\\phi\\equiv 0$;\n",
    "* `problem_set_running_cost!`: if not provided, it is assumed that $\\Gamma\\equiv 0$;"
   ]
  },
  {
   "cell_type": "code",
   "execution_count": 633,
   "id": "5136cd9b-c71a-41b4-8abd-36613c5c0dc1",
   "metadata": {},
   "outputs": [],
   "source": [
    "# wrap(func) = (x, p, pbm) -> func(x, p)\n",
    "# problem_set_terminal_cost!(pbm, wrap(ϕ))\n",
    "\n",
    "# wrap(func) = (t, k, x, u, p, pbm) -> func(x, u, p)\n",
    "# problem_set_running_cost!(pbm, :ptr, wrap(Γ))"
   ]
  },
  {
   "cell_type": "code",
   "execution_count": 634,
   "id": "aff02d43-4abf-403e-bf78-bacddcf9315a",
   "metadata": {},
   "outputs": [],
   "source": [
    "Γ(x, u, p) = u[1]*u[1]\n",
    "wrap(func) = (t, k, x, u, p, pbm) -> func(x, u, p)\n",
    "problem_set_running_cost!(pbm, :ptr, wrap(Γ))"
   ]
  },
  {
   "cell_type": "markdown",
   "id": "0f5058b5-ed6c-4e0d-a388-5b88c88c7192",
   "metadata": {},
   "source": [
    "## Initial Trajectory Guess"
   ]
  },
  {
   "cell_type": "markdown",
   "id": "db92d3ba-7800-401e-8bce-76efe3a10d5a",
   "metadata": {},
   "source": [
    "SCP algorithms require an initial guess for the trajectory. This can be very simple, and does not need to be feasible.\n",
    "\n",
    "For Dubin's car, we will use a straight line for the state and zero for the input.\n",
    "\n",
    "Given a time $t\\in [0,1]$, the state initial guess will be:\n",
    "\n",
    "\\begin{align}\n",
    "\\bar x(t) &= (1-t) x_0 + t x_f, \\\\\n",
    "\\bar u(t) &= 0.\n",
    "\\end{align}"
   ]
  },
  {
   "cell_type": "markdown",
   "id": "a3c4ebef-18df-48b2-9386-db09c48e3eef",
   "metadata": {},
   "source": [
    "SCP algorithms work by discretizing the trajectory problem into $N$ temporal nodes.\n",
    "\n",
    "The API provides a function `problem_set_guess!` for defining the initial guess, discretized into $N$ points.\n",
    "\n",
    "For convenience, a function `straightline_interpolate` is available to define a straight line guess."
   ]
  },
  {
   "cell_type": "code",
   "execution_count": 635,
   "id": "d4b1805e-dd7a-4276-b4da-b7fdfa047f3e",
   "metadata": {},
   "outputs": [
    {
     "data": {
      "text/plain": [
       "87500.0"
      ]
     },
     "execution_count": 635,
     "metadata": {},
     "output_type": "execute_result"
    }
   ],
   "source": [
    "_h0, _hf = x_0[2], x_f[2]\n",
    "_v0, _vf = x_0[4], x_f[4]\n",
    "\n",
    "#_acc = 1.0\n",
    "\n",
    "_acc = 0.5*(_vf^2-_v0^2)/(_hf-_h0)\n",
    "_tf = (_vf-_v0)/_acc\n",
    "\n",
    "_T = m_wet*(g+_acc)"
   ]
  },
  {
   "cell_type": "code",
   "execution_count": 636,
   "id": "6f708d2e-0b8e-448f-afcb-3a23277fb587",
   "metadata": {},
   "outputs": [
    {
     "data": {
      "text/plain": [
       "7×20 Matrix{Float64}:\n",
       "     0.0      0.0          0.0      …      0.0           0.0\n",
       "   100.0     89.7507      80.0554          0.277033      4.85663e-13\n",
       "     0.0      0.0          0.0             0.0           0.0\n",
       "   -10.0     -9.47368     -8.94737        -0.526316      5.08482e-14\n",
       "     0.0      0.0          0.0             0.0           0.0\n",
       "     0.0      0.0          0.0      …      0.0           0.0\n",
       " 25000.0  25000.0      25000.0         25000.0       25000.0"
      ]
     },
     "execution_count": 636,
     "metadata": {},
     "output_type": "execute_result"
    }
   ],
   "source": [
    "_t_rk4 = collect(LinRange(0.0, 1.0, 1000))\n",
    "f_init_guess(t, x) = f(t, x, [_T; 0.0], [_tf])\n",
    "guess_traj = rk4((t, x) -> f_init_guess(t, x), x_0, _t_rk4; full = true)\n",
    "x_guess = ContinuousTimeTrajectory(_t_rk4, guess_traj, :linear)\n",
    "x_guess_dt = hcat([sample(x_guess, t) for t in LinRange(0, 1, 20)]...)"
   ]
  },
  {
   "cell_type": "code",
   "execution_count": 637,
   "id": "bd886b6c-48e0-482f-b9ab-2db758c0071a",
   "metadata": {},
   "outputs": [
    {
     "data": {
      "text/plain": [
       "state_guess (generic function with 1 method)"
      ]
     },
     "execution_count": 637,
     "metadata": {},
     "output_type": "execute_result"
    }
   ],
   "source": [
    "# state_guess(N) = straightline_interpolate(x_0, vcat(x_f, 0.9*x_0[end]), N)\n",
    "input_guess(N) = straightline_interpolate([_T; 0.0], [_T; 0.0], N);\n",
    "\n",
    "state_guess(N) = hcat([sample(x_guess, t) for t in LinRange(0, 1, N)]...)"
   ]
  },
  {
   "cell_type": "code",
   "execution_count": 638,
   "id": "88e43289-f9d8-4cea-a6d8-16cb10a24fad",
   "metadata": {},
   "outputs": [
    {
     "data": {
      "image/png": "[encoded data removed]",
      "text/plain": [
       "Figure(PyObject <Figure size 640x480 with 1 Axes>)"
      ]
     },
     "metadata": {},
     "output_type": "display_data"
    },
    {
     "data": {
      "text/plain": [
       "1-element Vector{PyCall.PyObject}:\n",
       " PyObject <matplotlib.lines.Line2D object at 0x7fe51ff42370>"
      ]
     },
     "execution_count": 638,
     "metadata": {},
     "output_type": "execute_result"
    }
   ],
   "source": [
    "fig = plt.figure()\n",
    "plt.clf()\n",
    "ax = fig.add_subplot(111)\n",
    "ax.plot(_t_rk4, guess_traj[2,:])\n",
    "ax.plot(LinRange(0, 1, 20), state_guess(20)[2, :], marker=\"o\", linestyle=\"none\")"
   ]
  },
  {
   "cell_type": "code",
   "execution_count": 639,
   "id": "4bfeac8f-b663-4a01-933f-181304811953",
   "metadata": {},
   "outputs": [
    {
     "data": {
      "image/png": "[encoded data removed]",
      "text/plain": [
       "Figure(PyObject <Figure size 640x480 with 1 Axes>)"
      ]
     },
     "metadata": {},
     "output_type": "display_data"
    },
    {
     "data": {
      "text/plain": [
       "1-element Vector{PyCall.PyObject}:\n",
       " PyObject <matplotlib.lines.Line2D object at 0x7fe57daa25b0>"
      ]
     },
     "execution_count": 639,
     "metadata": {},
     "output_type": "execute_result"
    }
   ],
   "source": [
    "fig = plt.figure()\n",
    "plt.clf()\n",
    "ax = fig.add_subplot(111)\n",
    "ax.plot(LinRange(0, 1, 20), input_guess(20)[1, :], marker=\"o\", linestyle=\"none\")"
   ]
  },
  {
   "cell_type": "code",
   "execution_count": 640,
   "id": "c4ec5bc8-aa57-4ca7-b883-f1f629850e56",
   "metadata": {},
   "outputs": [],
   "source": [
    "problem_set_guess!(pbm, (N, pbm) -> begin\n",
    "    x = state_guess(N)\n",
    "    u = input_guess(N)\n",
    "    p = [_tf]\n",
    "    return x, u, p\n",
    "end)"
   ]
  },
  {
   "cell_type": "markdown",
   "id": "5de47fce-6ab3-498b-aaab-db50e25daa30",
   "metadata": {},
   "source": [
    "## Variable Scaling"
   ]
  },
  {
   "cell_type": "markdown",
   "id": "faaeeb0d-e33f-404b-a50f-1b0657795061",
   "metadata": {},
   "source": [
    "Variable scaling is important when the solution variables are of widely different magnitudes.\n",
    "\n",
    "The SCP Toolbox performs automatic scaling for variables whose magnitudes are naturally constrained by the convex constraints.\n",
    "\n",
    "However, you can also set the variable scaling manually by providing the expected value ranges for each variable.\n",
    "\n",
    "This is done using the SCP Toolbox API function `problem_advise_scale!!`."
   ]
  },
  {
   "cell_type": "code",
   "execution_count": 641,
   "id": "e6501b2d-4c2b-46c7-9647-e36e875870f4",
   "metadata": {},
   "outputs": [],
   "source": [
    "problem_advise_scale!(pbm, :state, 1, (-1.0, 1.0))\n",
    "problem_advise_scale!(pbm, :state, 2, (0, x_0[2]))\n",
    "problem_advise_scale!(pbm, :state, 3, (-1.0, 1.0))\n",
    "problem_advise_scale!(pbm, :state, 4, (x_0[4], 0.0))\n",
    "problem_advise_scale!(pbm, :state, 5, (-deg2rad(1.0), deg2rad(1.0)))\n",
    "problem_advise_scale!(pbm, :state, 6, (-deg2rad(1.0), deg2rad(1.0)))\n",
    "problem_advise_scale!(pbm, :state, 7, (m_wet/2, m_wet))\n",
    "\n",
    "problem_advise_scale!(pbm, :input, 1, (T_min, _T))\n",
    "problem_advise_scale!(pbm, :input, 2, (-δ_max, δ_max))\n",
    "\n",
    "problem_advise_scale!(pbm, :parameter, 1, (19.9, 20.1))"
   ]
  },
  {
   "cell_type": "markdown",
   "id": "f25ccb98-75ed-4e32-9464-abef3795d1cd",
   "metadata": {},
   "source": [
    "## Configuring the SCP Solver"
   ]
  },
  {
   "cell_type": "markdown",
   "id": "359f8d69-5a0c-439d-974a-3e21b738b1ff",
   "metadata": {},
   "source": [
    "The SCP Toolbox provides several SCP algorithm choices: `PTR`, `SCvx`, and `GuSTO`.\n",
    "\n",
    "Each algorithm must be provided with a set of parameters that define its behavior. Most of the parameters are shared, but some are algorithm-specific.\n",
    "\n",
    "SCP algorithm performance depends significantly on a well-chosen set of parameters, and this is problem-dependent.\n",
    "\n",
    "A lot of intuition is documented in our [Control Systems Magazine article](https://arxiv.org/abs/2106.09125)."
   ]
  },
  {
   "cell_type": "code",
   "execution_count": 661,
   "id": "a313c96c-6ad6-4a5e-b458-147d50458c6e",
   "metadata": {},
   "outputs": [],
   "source": [
    "# Parameters\n",
    "N, Nsub = 20, 20\n",
    "iter_max = 30\n",
    "disc_method = FOH\n",
    "#wvc, wtr = 1e4, 1e2\n",
    "wvc, wtr = 1e0, 1e-2\n",
    "feas_tol = 5e-3\n",
    "ε_abs, ε_rel = 1e-5, 1e-3\n",
    "q_tr = 4\n",
    "q_exit = Inf\n",
    "solver, solver_options = ECOS, Dict(\"verbose\"=>1)      \n",
    "\n",
    "pars = PTR.Parameters(N, Nsub, iter_max, disc_method, wvc, wtr, ε_abs,\n",
    "                      ε_rel, feas_tol, q_tr, q_exit, solver, solver_options);"
   ]
  },
  {
   "cell_type": "markdown",
   "id": "644032a6-fa28-4fba-8c9f-4737f60e60de",
   "metadata": {},
   "source": [
    "Alternative convex solver options:"
   ]
  },
  {
   "cell_type": "code",
   "execution_count": 643,
   "id": "efb5dcb2-a340-4d89-97cc-e4ccfcb054b3",
   "metadata": {},
   "outputs": [],
   "source": [
    "# solver, options = Gurobi, Dict(\"OutputFlag\"=>0)  # works\n",
    "# solver, options = OSQP, Dict(\"verbose\"=>0)       # works\n",
    "# solver, options = Mosek, Dict(\"MSK_IPAR_LOG\"=>0)\n",
    "# solver, options = Ipopt, Dict()                  # doesn't work\n",
    "# solver, options = COSMO, Dict()                  # doesn't work\n",
    "# solver, options = SCS, Dict()                    # doesn't work"
   ]
  },
  {
   "cell_type": "markdown",
   "id": "5593c7b3-7941-41c5-a438-5a68ed10640e",
   "metadata": {},
   "source": [
    "## Solving the Trajectory Problem"
   ]
  },
  {
   "cell_type": "markdown",
   "id": "a8bc7cdf-5556-457c-afc0-6f735f44605b",
   "metadata": {},
   "source": [
    "Solving the problem amounts to initializing the SCP solver with its parameters, and providing the problem definition `pbm` from the API."
   ]
  },
  {
   "cell_type": "code",
   "execution_count": 660,
   "id": "e95d6f09-c793-458e-a319-1b30d4919923",
   "metadata": {},
   "outputs": [
    {
     "name": "stdout",
     "output_type": "stream",
     "text": [
      "unsafe solution (ALMOST_INFEASIBLE), exiting\n",
      "\n",
      "ECOS 2.0.5 - (C) embotech GmbH, Zurich Switzerland, 2012-15. Web: www.embotech.com/ECOS\n",
      "\n",
      "It     pcost       dcost      gap   pres   dres    k/t    mu     step   sigma     IR    |   BT\n",
      " 0  +8.499e+08  +7.745e+08  +2e+08  4e-04  7e-01  1e+00  3e+05    ---    ---    1  2  - |  -  - \n",
      " 1  +8.457e+08  +7.717e+08  +1e+08  5e-04  6e-01  6e+04  2e+05  0.3903  5e-01   3  3  2 |  0  0\n",
      " 2  +7.786e+08  +7.618e+08  +3e+07  1e-04  2e-01  4e+04  4e+04  0.8733  1e-01   2  2  2 |  0  0\n",
      " 3  +7.802e+08  +7.620e+08  +3e+07  1e-04  1e-01  5e+04  4e+04  0.1043  8e-01   3  4  3 |  0  0\n",
      " 4  +7.690e+08  +7.614e+08  +8e+06  8e-05  5e-02  5e+04  1e+04  0.9890  3e-01   3  2  2 |  0  0\n",
      " 5  +7.695e+08  +7.619e+08  +6e+06  1e-04  2e-02  7e+04  1e+04  0.4862  5e-01   3  3  4 |  0  0\n",
      " 6  +7.657e+08  +7.632e+08  +2e+06  4e-05  5e-03  3e+04  3e+03  0.8332  2e-01   3  2  3 |  0  0\n",
      " 7  +7.671e+08  +7.619e+08  +1e+06  2e-04  8e-03  1e+05  2e+03  0.9139  6e-01   4  4  4 |  0  0\n",
      " 8  +7.652e+08  +7.624e+08  +8e+05  1e-04  5e-03  4e+04  1e+03  0.9323  6e-01   5  4  4 |  0  0\n",
      " 9  +7.654e+08  +7.650e+08  +9e+04  2e-05  6e-04  2e+04  2e+02  0.9164  1e-02   4  4  3 |  0  0\n",
      "10  +7.676e+08  +7.673e+08  +2e+04  3e-05  5e-04  3e+04  4e+01  0.8737  2e-01   4  4  4 |  0  0\n",
      "11  +7.690e+08  +7.689e+08  +6e+03  4e-05  4e-04  8e+04  1e+01  0.9408  2e-01   6  5  5 |  0  0\n",
      "12  +7.731e+08  +7.730e+08  +3e+03  2e-05  2e-04  3e+04  5e+00  0.8366  3e-01   4  4  3 |  0  0\n",
      "13  +7.739e+08  +7.738e+08  +1e+03  4e-05  3e-04  1e+05  2e+00  0.9890  3e-01   8  7  7 |  0  0\n",
      "14  +7.848e+08  +7.849e+08  +2e+02  2e-05  7e-05  8e+04  3e-01  0.9581  1e-01   6  5  5 |  0  0\n",
      "15  +7.925e+08  +7.927e+08  +7e+01  3e-05  7e-05  2e+05  1e-01  0.8215  3e-01   6  5  6 |  0  0\n",
      "16  +8.050e+08  +8.050e+08  +3e+01  4e-05  4e-05  9e+04  6e-02  0.7742  3e-01   4  3  4 |  0  0\n",
      "17  +8.020e+08  +8.024e+08  +2e+01  3e-04  7e-05  4e+05  3e-02  0.9453  5e-01   1  2  2 |  0  0\n",
      "18  +8.315e+08  +8.317e+08  +4e+00  1e-04  2e-05  2e+05  7e-03  0.9890  2e-01   8  7  8 |  0  0\n",
      "19  +8.557e+08  +8.559e+08  +2e+00  9e-05  1e-05  1e+05  3e-03  0.7205  2e-01   5  4  4 |  0  0\n",
      "20  +8.604e+08  +8.609e+08  +1e+00  3e-03  2e-05  5e+05  2e-03  0.8848  5e-01   1  2  2 |  0  0\n",
      "21  +9.039e+08  +9.040e+08  +3e-01  8e-04  5e-06  9e+04  6e-04  0.9890  3e-01   2  3  2 |  0  0\n",
      "22  +9.689e+08  +9.691e+08  +9e-02  7e-04  2e-06  1e+05  1e-04  0.8226  6e-02   2  3  3 |  0  0\n",
      "23  +1.005e+09  +1.006e+09  +5e-02  3e+01  2e-06  2e+05  9e-05  0.5641  3e-01   1  1  2 |  0  0\n",
      "Unreliable search direction detected, recovering best iterate (22) and stopping.\n",
      "\n",
      "Close to PRIMAL INFEASIBLE (within feastol=2.2e-08).\n",
      "Runtime: 0.022230 seconds.\n",
      "\n"
     ]
    }
   ],
   "source": [
    "ptr_pbm = PTR.create(pars, pbm)\n",
    "sol, history = PTR.solve(ptr_pbm);"
   ]
  },
  {
   "cell_type": "markdown",
   "id": "2a924f5a-0bd9-4527-a5ac-09f43444e74e",
   "metadata": {},
   "source": [
    "## Trajectory plot"
   ]
  },
  {
   "cell_type": "code",
   "execution_count": 645,
   "id": "e8152020-8001-4536-8dc8-3bbe3a3f3dec",
   "metadata": {},
   "outputs": [
    {
     "data": {
      "text/plain": [
       "1-element Vector{Float64}:\n",
       " 20.0"
      ]
     },
     "execution_count": 645,
     "metadata": {},
     "output_type": "execute_result"
    }
   ],
   "source": [
    "guess = history.subproblems[1].ref\n",
    "\n",
    "guess.p"
   ]
  },
  {
   "cell_type": "code",
   "execution_count": 646,
   "id": "2baa367b-54da-4175-b547-6931c9d25477",
   "metadata": {},
   "outputs": [
    {
     "ename": "LoadError",
     "evalue": "MethodError: no method matching sample(::Missing, ::Float64)\n\u001b[0mClosest candidates are:\n\u001b[0m  sample(\u001b[91m::ContinuousTimeTrajectory\u001b[39m, ::Union{Float64, Int64}) at ~/Nextcloud/personal/research/scp/aas_gnc_workshop/scp_traj_opt/src/utils/trajectory.jl:71",
     "output_type": "error",
     "traceback": [
      "MethodError: no method matching sample(::Missing, ::Float64)\n\u001b[0mClosest candidates are:\n\u001b[0m  sample(\u001b[91m::ContinuousTimeTrajectory\u001b[39m, ::Union{Float64, Int64}) at ~/Nextcloud/personal/research/scp/aas_gnc_workshop/scp_traj_opt/src/utils/trajectory.jl:71",
      "",
      "Stacktrace:",
      " [1] (::var\"#849#850\")(t::Float64)",
      "   @ Main ./none:0",
      " [2] iterate",
      "   @ ./generator.jl:47 [inlined]",
      " [3] collect(itr::Base.Generator{LinRange{Float64, Int64}, var\"#849#850\"})",
      "   @ Base ./array.jl:724",
      " [4] top-level scope",
      "   @ In[646]:17",
      " [5] eval",
      "   @ ./boot.jl:373 [inlined]",
      " [6] include_string(mapexpr::typeof(REPL.softscope), mod::Module, code::String, filename::String)",
      "   @ Base ./loading.jl:1196"
     ]
    }
   ],
   "source": [
    "fig = plt.figure()\n",
    "ax = fig.add_subplot(111)\n",
    "\n",
    "ax.grid()\n",
    "\n",
    "_sol = history.subproblems[end].sol\n",
    "\n",
    "tf = _sol.p[1]\n",
    "xd = _sol.xd\n",
    "ud = _sol.ud\n",
    "vd = _sol.vd\n",
    "p_sol = _sol.p\n",
    "td = sol.td*tf\n",
    "\n",
    "Nc = 100\n",
    "tc = LinRange(0, tf, Nc)\n",
    "xc = hcat([sample(sol.xc, t) for t in LinRange(0, 1, Nc)]...)\n",
    "\n",
    "# ax.plot(td, xd[1, :], marker=\".\", linestyle=\"none\", label=\"x\")\n",
    "\n",
    "# ax.plot(td, xd[2, :], marker=\".\", markersize=10, linestyle=\"none\", label=\"y-dt\", zorder=100)\n",
    "# ax.plot(td, xd[2, :], linestyle=\"-\", label=\"y-ct\")\n",
    "\n",
    "ax.plot(td, xd[2, :], marker=\".\", markersize=10, linestyle=\"none\", label=\"y-dt\", zorder=100)\n",
    "ax.plot(tc, xc[2, :], linestyle=\"-\", label=\"y-ct\")\n",
    "\n",
    "ax.legend()\n",
    "\n",
    "ax.set_xlabel(\"time\")\n",
    ";"
   ]
  },
  {
   "cell_type": "code",
   "execution_count": 647,
   "id": "401ba461-19d2-4c83-993b-087b31927dcf",
   "metadata": {},
   "outputs": [
    {
     "data": {
      "image/png": "[encoded data removed]",
      "text/plain": [
       "Figure(PyObject <Figure size 640x480 with 1 Axes>)"
      ]
     },
     "metadata": {},
     "output_type": "display_data"
    }
   ],
   "source": [
    "fig = plt.figure()\n",
    "ax = fig.add_subplot(111)\n",
    "\n",
    "ax.grid()\n",
    "\n",
    "ax.plot(td, xd[4, :], marker=\".\", markersize=10, linestyle=\"none\", label=\"y-dt\", zorder=100)\n",
    "ax.plot(tc, xc[4, :], linestyle=\"-\", label=\"y-ct\")\n",
    "\n",
    "ax.legend()\n",
    "\n",
    "ax.set_xlabel(\"time\")\n",
    ";"
   ]
  },
  {
   "cell_type": "code",
   "execution_count": 648,
   "id": "2ee37548-d4f5-468d-bd6d-da05584c2c04",
   "metadata": {},
   "outputs": [
    {
     "ename": "LoadError",
     "evalue": "MethodError: no method matching sample(::Missing, ::Float64)\n\u001b[0mClosest candidates are:\n\u001b[0m  sample(\u001b[91m::ContinuousTimeTrajectory\u001b[39m, ::Union{Float64, Int64}) at ~/Nextcloud/personal/research/scp/aas_gnc_workshop/scp_traj_opt/src/utils/trajectory.jl:71",
     "output_type": "error",
     "traceback": [
      "MethodError: no method matching sample(::Missing, ::Float64)\n\u001b[0mClosest candidates are:\n\u001b[0m  sample(\u001b[91m::ContinuousTimeTrajectory\u001b[39m, ::Union{Float64, Int64}) at ~/Nextcloud/personal/research/scp/aas_gnc_workshop/scp_traj_opt/src/utils/trajectory.jl:71",
      "",
      "Stacktrace:",
      " [1] (::var\"#851#852\")(t::Float64)",
      "   @ Main ./none:0",
      " [2] iterate",
      "   @ ./generator.jl:47 [inlined]",
      " [3] collect(itr::Base.Generator{LinRange{Float64, Int64}, var\"#851#852\"})",
      "   @ Base ./array.jl:724",
      " [4] top-level scope",
      "   @ In[648]:4",
      " [5] eval",
      "   @ ./boot.jl:373 [inlined]",
      " [6] include_string(mapexpr::typeof(REPL.softscope), mod::Module, code::String, filename::String)",
      "   @ Base ./loading.jl:1196"
     ]
    }
   ],
   "source": [
    "fig = plt.figure()\n",
    "ax = fig.add_subplot(111)\n",
    "\n",
    "uc = hcat([sample(sol.uc, t) for t in tc]...)\n",
    "\n",
    "ax.plot(td, ud[1, :], marker=\".\", markersize=10, linestyle=\"none\", label=\"T-dt\", zorder=100)\n",
    "ax.plot(tc, uc[1, :], linestyle=\"-\", label=\"T-ct\")\n",
    "\n",
    "ax.legend()\n",
    "\n",
    "ax.set_xlabel(\"time\")"
   ]
  },
  {
   "cell_type": "code",
   "execution_count": 649,
   "id": "eb3795bc-a3ca-44be-8127-029b6a954d0b",
   "metadata": {},
   "outputs": [
    {
     "data": {
      "image/png": "[encoded data removed]",
      "text/plain": [
       "Figure(PyObject <Figure size 1200x900 with 7 Axes>)"
      ]
     },
     "metadata": {},
     "output_type": "display_data"
    }
   ],
   "source": [
    "fig = plt.figure(figsize=(12, 9))\n",
    "for i = 1:7\n",
    "    ax = fig.add_subplot(3, 3, i)\n",
    "    ax.grid()\n",
    "    ax.plot(td[1:end-1], vd[i, :], marker=\".\", markersize=5, linestyle=\"none\", label=\"T-dt\", zorder=100)\n",
    "    ax.set_ylabel(\"vd$i\")\n",
    "    ax.set_xlabel(\"time\")\n",
    "end\n",
    "plt.tight_layout()"
   ]
  },
  {
   "cell_type": "code",
   "execution_count": 650,
   "id": "652a1f8f-012f-463d-85d7-4da3e77c4710",
   "metadata": {},
   "outputs": [
    {
     "data": {
      "image/png": "[encoded data removed]",
      "text/plain": [
       "Figure(PyObject <Figure size 640x480 with 1 Axes>)"
      ]
     },
     "metadata": {},
     "output_type": "display_data"
    },
    {
     "data": {
      "text/plain": [
       "PyObject Text(0.5, 24.0, 'SCP iteration')"
      ]
     },
     "execution_count": 650,
     "metadata": {},
     "output_type": "execute_result"
    }
   ],
   "source": [
    "tf_values = [spbm.sol.p[1] for spbm in history.subproblems]\n",
    "pushfirst!(tf_values, history.subproblems[1].ref.p[1])\n",
    "\n",
    "fig = plt.figure(1)\n",
    "ax = fig.add_subplot(111)\n",
    "ax.plot(tf_values)\n",
    "ax.set_xlabel(\"SCP iteration\")"
   ]
  },
  {
   "cell_type": "code",
   "execution_count": 651,
   "id": "c69ff37a-54df-4d30-80da-db0018827f63",
   "metadata": {},
   "outputs": [
    {
     "data": {
      "text/plain": [
       "missing"
      ]
     },
     "execution_count": 651,
     "metadata": {},
     "output_type": "execute_result"
    }
   ],
   "source": [
    "sol.xc"
   ]
  },
  {
   "cell_type": "code",
   "execution_count": 652,
   "id": "fd7b0612-c4a5-4282-8e05-c70ed3e3093e",
   "metadata": {},
   "outputs": [
    {
     "data": {
      "text/plain": [
       "7×20 Matrix{Float64}:\n",
       "     4.82243e-10      1.50038e-8   …      1.61608e-8       5.46764e-10\n",
       "   119.55          5484.07             2559.22            56.7255\n",
       "     5.19332e-10      1.6742e-8           1.35273e-8       4.99722e-10\n",
       "    -8.22429        575.219            -873.983           -1.72607\n",
       "     4.36794e-11      2.68853e-11         3.02025e-11      4.49661e-11\n",
       "     4.48007e-11      2.64475e-11  …      2.79966e-11      4.45985e-11\n",
       " 25000.0          25000.9             25004.0          25004.0"
      ]
     },
     "execution_count": 652,
     "metadata": {},
     "output_type": "execute_result"
    }
   ],
   "source": [
    "\n",
    "xd"
   ]
  },
  {
   "cell_type": "code",
   "execution_count": 653,
   "id": "c5e0f360-09b7-40d6-9b1e-94669f03e0f9",
   "metadata": {},
   "outputs": [],
   "source": [
    "# function set_fonts()::Nothing\n",
    "#     # Set the figure fonts.\n",
    "#     fig_small_sz = 12\n",
    "#     fig_med_sz = 15\n",
    "#     fig_big_sz = 17\n",
    "#     plt.rc(\"text\", usetex=true)\n",
    "#     plt.rc(\"font\", size=fig_small_sz, family=\"serif\")\n",
    "#     plt.rc(\"axes\", titlesize=fig_small_sz)\n",
    "#     plt.rc(\"axes\", labelsize=fig_med_sz)\n",
    "#     plt.rc(\"xtick\", labelsize=fig_small_sz)\n",
    "#     plt.rc(\"ytick\", labelsize=fig_small_sz)\n",
    "#     plt.rc(\"legend\", fontsize=fig_small_sz)\n",
    "#     plt.rc(\"figure\", titlesize=fig_big_sz)\n",
    "#     plt.rc(\"figure\", dpi=300) \n",
    "#     return nothing\n",
    "# end\n",
    "# ;"
   ]
  },
  {
   "cell_type": "code",
   "execution_count": 654,
   "id": "3408ae45-8e1c-40ca-a2b9-e468e298543a",
   "metadata": {},
   "outputs": [],
   "source": [
    "# # Trajectory plot\n",
    "# ctres, overlap = 1000, 3\n",
    "# N = size(sol.xd, 2)\n",
    "# xct = hcat([sample(sol.xc, t) for t in LinRange(0, 1, ctres)]...)\n",
    "# vct = vcat([sample(sol.uc, t)[1] for t in LinRange(0, 1, ctres)]...)\n",
    "# cmap = generate_colormap(\"inferno\"; minval=minimum(vct), maxval=maximum(vct))\n",
    "\n",
    "# # plot_options = Dict(\"xtick.labelsize\"=>9,\n",
    "# #                     \"ytick.labelsize\"=>9,\n",
    "# #                     \"axes.labelsize\"=>11)\n",
    "# # fig = create_figure((4, 4); options = plot_options)\n",
    "\n",
    "# fig = plt.figure(figsize=(4,4), dpi=300)\n",
    "# plt.clf()\n",
    "# set_fonts()\n",
    "# set_fonts()\n",
    "\n",
    "# ax = setup_axis!(111, xlabel=\"\\$x\\$ [m]\", ylabel=\"\\$y\\$ [m]\",\n",
    "#                  axis=\"equal\", cbar=cmap, clabel=\"Velocity, \\$v\\$ [m/s]\",\n",
    "#                  cbar_aspect=40)\n",
    "# ax.plot(sol.xd[1, :], sol.xd[2, :],\n",
    "#         linestyle=\"none\", marker=\"o\", markerfacecolor=DarkBlue,\n",
    "#         markeredgecolor=\"white\", markeredgewidth=0.2, markersize=3,\n",
    "#         zorder=20)\n",
    "# line_segs = Vector{Matrix}(undef, 0)\n",
    "# line_clrs = Vector{NTuple{4, Real}}(undef, 0)\n",
    "# for k=1:ctres-overlap\n",
    "#     push!(line_segs, xct[1:2, k:k+overlap]')\n",
    "#     push!(line_clrs, cmap.to_rgba(vct[k]))\n",
    "# end\n",
    "# trajectory = PyPlot.matplotlib.collections.LineCollection(\n",
    "#     line_segs, zorder=10, colors = line_clrs, linewidths=3,\n",
    "#     capstyle=\"round\")\n",
    "# ax.add_collection(trajectory)\n",
    "# Rect = PyPlot.matplotlib.patches.Rectangle\n",
    "# car_length = 0.2\n",
    "# for k=1:N\n",
    "#     local xl, xw = [1;1;-1;-1;1]*car_length/2, [1;-1;-1;1;1]*car_width/2\n",
    "#     local yl, yw = [1;1;-1;-1;1]*car_length/2, [-1;1;1;-1;-1]*car_width/2\n",
    "#     local ang = sol.xd[3,k]\n",
    "#     local xc = sol.xd[1,k].+xl.*sin(ang).+xw.*cos(ang)\n",
    "#     local yc = sol.xd[2,k].+yl.*cos(ang).+yw.*sin(ang)\n",
    "#     ax.fill(xc, yc,\n",
    "#             linewidth=1,\n",
    "#             edgecolor=DarkBlue,\n",
    "#             facecolor=rgb2pyplot(parse(RGB, Red), a=0.5),\n",
    "#             zorder=6)\n",
    "# end\n",
    "# ang = LinRange(0, 2*pi, 100)\n",
    "# obs = ([cos.(ang)'; sin.(ang)']*r_0).+c_0\n",
    "# ax.fill(obs[1, :], obs[2, :],\n",
    "#         linewidth=1,\n",
    "#         edgecolor=Blue,\n",
    "#         facecolor=rgb2pyplot(parse(RGB, Green), a=0.5),\n",
    "#         zorder=5)\n",
    "\n",
    "# fig.savefig(\"../media/outputs/dubin_trajectory.png\", dpi=\"figure\", bbox_inches=nothing)\n",
    "\n",
    "# plt.close()"
   ]
  },
  {
   "cell_type": "markdown",
   "id": "4af8ff72-a0e9-47ce-915c-379ca8dbc1ae",
   "metadata": {},
   "source": [
    "## Replace figure\n",
    "\n",
    "<!-- <div style=\"text-align: center\">\n",
    "    <img src=\"../media/outputs/dubin_trajectory.png\"\n",
    "         alt=\"Dubin's car overview\"\n",
    "         style=\"background-color: white; width: 500px; display: block; margin-left: auto; margin-right: auto;\"/>\n",
    "    <br />\n",
    "    <b>Figure.</b> Computed Dubin's car trajectory for minimum-input usage.\n",
    "</div> -->"
   ]
  }
 ],
 "metadata": {
  "kernelspec": {
   "display_name": "Julia 1.7.1",
   "language": "julia",
   "name": "julia-1.7"
  },
  "language_info": {
   "file_extension": ".jl",
   "mimetype": "application/julia",
   "name": "julia",
   "version": "1.7.1"
  }
 },
 "nbformat": 4,
 "nbformat_minor": 5
}
