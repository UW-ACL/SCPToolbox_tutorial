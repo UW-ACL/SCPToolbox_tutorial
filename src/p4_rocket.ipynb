{
 "cells": [
  {
   "cell_type": "markdown",
   "id": "457496e8-f051-491a-a922-e11d4684223d",
   "metadata": {},
   "source": [
    "# SCP Toolbox Workshop\n",
    "\n",
    "___A tutorial on generating dynamically feasible trajectories reliably and efficiently___\n",
    "\n",
    "Monday, February 7, 2022\n",
    "\n",
    "Rocky Mountain AAS GN&C Conference, Breckenridge, CO"
   ]
  },
  {
   "cell_type": "code",
   "execution_count": 1,
   "id": "b046a02d-fcb1-4dd8-8a9d-28d18c7b3a8a",
   "metadata": {
    "slideshow": {
     "slide_type": "skip"
    },
    "tags": []
   },
   "outputs": [
    {
     "name": "stderr",
     "output_type": "stream",
     "text": [
      "\u001b[32m\u001b[1m  Activating\u001b[22m\u001b[39m project at `~/Nextcloud/personal/research/scp/aas_gnc_workshop/tutorial`\n",
      "\u001b[32m\u001b[1m   Resolving\u001b[22m\u001b[39m package versions...\n",
      "\u001b[32m\u001b[1m  No Changes\u001b[22m\u001b[39m to `~/Nextcloud/personal/research/scp/aas_gnc_workshop/tutorial/Project.toml`\n",
      "\u001b[32m\u001b[1m  No Changes\u001b[22m\u001b[39m to `~/Nextcloud/personal/research/scp/aas_gnc_workshop/tutorial/Manifest.toml`\n",
      "┌ Info: Precompiling SCPToolbox [bd2bc758-a5dc-11eb-050f-6b2434548817]\n",
      "└ @ Base loading.jl:1423\n"
     ]
    }
   ],
   "source": [
    "import Pkg\n",
    "Pkg.activate(\"..\")\n",
    "\n",
    "# these lines are required only for local installations\n",
    "Pkg.develop(path=\"../../scp_traj_opt/\")\n",
    "Pkg.precompile()\n",
    "\n",
    "using SCPToolbox\n",
    "using PyPlot, Colors, LinearAlgebra\n",
    "\n",
    "# Import the different possible low-level convex solvers\n",
    "using COSMO\n",
    "using Ipopt\n",
    "using SCS\n",
    "using ECOS\n",
    "using OSQP"
   ]
  },
  {
   "cell_type": "markdown",
   "id": "572810fc-a18f-4040-ae30-965c1f711f0f",
   "metadata": {},
   "source": [
    "# Part 4: Rocket-Landing Guidance"
   ]
  },
  {
   "cell_type": "markdown",
   "id": "407d3e78-d702-4bd4-a356-c9a89de73294",
   "metadata": {},
   "source": [
    "In this part of the tutorial, you will participate in formulating and solving a Lunar rocket landing trajectory optimization problem.\n",
    "\n",
    "The rocket has a 2-dimensional position and a rotation, and a gimbaled rocket engine. The goal is to take the rocket from an airborne state to a soft touchdown on the ground.\n",
    "\n",
    "<center>\n",
    "    <img src=\"media/p4-rocket-landing-overview.png\"\n",
    "         alt=\"Dubin's car overview\"\n",
    "         style=\"background-color: white; width: 300px; display: block; margin-left: auto; margin-right: auto;\"/>\n",
    "    <br />\n",
    "    <b>Figure.</b> Illustration of the rocket soft landing problem.\n",
    "    <br />\n",
    "    <br />\n",
    "</center>"
   ]
  },
  {
   "cell_type": "markdown",
   "id": "796d89f0-6109-4462-b8a4-831ac1c22fe2",
   "metadata": {},
   "source": [
    "Begin by defining a new `TrajectoryProblem` object."
   ]
  },
  {
   "cell_type": "code",
   "execution_count": null,
   "id": "29113eda-edec-4a41-b2a0-174df49cdfa4",
   "metadata": {
    "tags": []
   },
   "outputs": [],
   "source": [
    "pbm = # Enter your code here"
   ]
  },
  {
   "cell_type": "markdown",
   "id": "08abe850-2560-4f6f-a6e8-001f2a95969b",
   "metadata": {},
   "source": [
    "<details>\n",
    "\n",
    "<summary>Answer</summary>\n",
    "\n",
    "\n",
    "\n",
    "```julia\n",
    "pbm = TrajectoryProblem();\n",
    "```\n",
    "</details>"
   ]
  },
  {
   "cell_type": "markdown",
   "id": "9dbde805-aef6-4c32-9dab-41030d13dedc",
   "metadata": {},
   "source": [
    "## Rocket parameters"
   ]
  },
  {
   "cell_type": "markdown",
   "id": "ce8a7627-73b2-4ce6-892e-b89a213b0072",
   "metadata": {},
   "source": [
    "Any trajectory optimization problem begins by defining the constant parameters of the problem. For example, how much does the rocket weigh? How high up does it start?\n",
    "\n",
    "We define these below."
   ]
  },
  {
   "cell_type": "code",
   "execution_count": 27,
   "id": "c499f9b3-115a-49ee-9ef9-92cd11405f06",
   "metadata": {},
   "outputs": [],
   "source": [
    "# Environment parameters\n",
    "g = 1.625 # [m/s^2] Gravitational acceleration of the planet\n",
    "g_E = 9.807; # [m/s^2] Earth gravity"
   ]
  },
  {
   "cell_type": "code",
   "execution_count": 29,
   "id": "98779c4b-14e7-4857-ad00-0cec06cff308",
   "metadata": {},
   "outputs": [],
   "source": [
    "# Mechanical parameters\n",
    "m_wet = 25e3 # [kg] Initial mass\n",
    "L = 5.0 # [m] Thrust lever arm\n",
    "J = 100e3; # [kg*m^2] Moment of inertia"
   ]
  },
  {
   "cell_type": "code",
   "execution_count": 31,
   "id": "c9f1b1ea-e738-451b-9a1a-d5580adf4e9f",
   "metadata": {},
   "outputs": [],
   "source": [
    "# Propulsion parameters\n",
    "Isp = 370 # [s] Specific impulse\n",
    "T_min = 20e3 # [N] Minimum thrust\n",
    "T_max = 80e3 # [N] Maximum thrust\n",
    "α = 1 / (Isp * g_E) # [kg/s/N] Fuel consumption rate coefficient\n",
    "δ_max = deg2rad(5.0); # [rad] Maximum gimbal angle"
   ]
  },
  {
   "cell_type": "code",
   "execution_count": 32,
   "id": "c94e23ec-fd21-4172-bf7f-9681059dd73a",
   "metadata": {},
   "outputs": [],
   "source": [
    "# Trajectory parameters\n",
    "γ_gs = deg2rad(45.0); # [rad] Glideslope angle (measured from the horizon)"
   ]
  },
  {
   "cell_type": "markdown",
   "id": "7a92f244-c651-4686-b93c-6cbb884e232f",
   "metadata": {},
   "source": [
    "## Rocket dynamics"
   ]
  },
  {
   "cell_type": "markdown",
   "id": "73db0e87-afcc-4263-a424-a1331093adcb",
   "metadata": {},
   "source": [
    "The partial rocket dynamics are given by the following ordinary differential equations:\n",
    "\n",
    "\\begin{align}\n",
    "\\dot x &= v_x, \\\\\n",
    "\\dot y &= \\mathrm{\\color{grey}{TODO}}, \\\\\n",
    "\\dot v_x &= -\\frac{T}{m}\\sin(\\theta+\\delta), \\\\\n",
    "\\dot v_y &= \\mathrm{\\color{grey}{TODO}}, \\\\\n",
    "\\dot \\theta &= \\mathrm{\\color{grey}{TODO}}, \\\\\n",
    "\\dot \\omega &= -\\frac{LT}{J}\\sin(\\delta), \\\\\n",
    "\\dot m &= -\\alpha T.\n",
    "\\end{align}"
   ]
  },
  {
   "cell_type": "markdown",
   "id": "424d35ea-7ed4-451a-8833-52f3420c09f7",
   "metadata": {},
   "source": [
    "<details>\n",
    "\n",
    "<summary>Answer</summary>\n",
    "\n",
    "\\begin{align}\n",
    "    \\dot y &= v_y, \\\\\n",
    "    \\dot v_y &= \\frac{T}{m}\\cos(\\theta+\\delta)-g, \\\\\n",
    "    \\dot \\theta &= \\omega.\n",
    "\\end{align}\n",
    "\n",
    "</details>"
   ]
  },
  {
   "cell_type": "markdown",
   "id": "7ad0df62-a6c4-4729-9d6f-3f94739d6e37",
   "metadata": {},
   "source": [
    "Define the state vector $x\\in\\mathbb R^n$, with the elements in the same order as they appear on the left-hand side of the ordinary differential equations above:\n",
    "\n",
    "$$\n",
    "x = \\begin{bmatrix}\n",
    "\\mathrm{\\color{grey}{TODO}}\n",
    "\\end{bmatrix}.\n",
    "$$"
   ]
  },
  {
   "cell_type": "markdown",
   "id": "c98afd6b-97e3-466f-b5b7-45e0be7984e6",
   "metadata": {},
   "source": [
    "<details>\n",
    "\n",
    "<summary>Answer</summary>\n",
    "\n",
    "$$\n",
    "x = \\begin{bmatrix}\n",
    "x \\\\ y \\\\ v_x \\\\ v_y \\\\ \\theta \\\\ \\omega \\\\ m\n",
    "\\end{bmatrix}\n",
    "$$\n",
    "\n",
    "</details>"
   ]
  },
  {
   "cell_type": "markdown",
   "id": "bb8bee1e-208f-4e6c-ab7b-4828244423b1",
   "metadata": {},
   "source": [
    "Define the input vector $u\\in\\mathbb R^m$, with the thrust coming first:\n",
    "\n",
    "$$\n",
    "u = \\begin{bmatrix}\n",
    "\\mathrm{\\color{grey}{TODO}}\n",
    "\\end{bmatrix}.\n",
    "$$"
   ]
  },
  {
   "cell_type": "markdown",
   "id": "f94f99cb-5d5b-47cd-a454-354d8a7def90",
   "metadata": {},
   "source": [
    "<details>\n",
    "\n",
    "<summary>Answer</summary>\n",
    "\n",
    "$$\n",
    "u = \\begin{bmatrix}\n",
    "T \\\\ \\delta\n",
    "\\end{bmatrix}\n",
    "$$\n",
    "\n",
    "</details>"
   ]
  },
  {
   "cell_type": "markdown",
   "id": "cf2c3e77-27d0-4271-baa3-045f5dbe121d",
   "metadata": {},
   "source": [
    "Complete the function below that evaluates the right-hand side of the dynamics ordinary differential equations above. The function signature is:\n",
    "\n",
    "$$\n",
    "\\dot x = f_{rocket}(x, u),\n",
    "$$\n",
    "\n",
    "where the arguments are the state and input and the output is the state time derivative."
   ]
  },
  {
   "cell_type": "code",
   "execution_count": 3270,
   "id": "4473cb08-dcb2-4827-bb51-5ed801d965f8",
   "metadata": {},
   "outputs": [],
   "source": [
    "f_rocket(x, u) = begin\n",
    "    rx, ry, vx, vy, θ, ω, m = x\n",
    "    T, δ = u\n",
    "    # Enter your code here\n",
    "end;"
   ]
  },
  {
   "cell_type": "markdown",
   "id": "f08eb7d3-36e4-45bb-8a4d-63e9a9d7d2f6",
   "metadata": {},
   "source": [
    "<details>\n",
    "\n",
    "<summary>Answer</summary>\n",
    "\n",
    "```julia\n",
    "f_rocket(x, u) = begin\n",
    "    rx, ry, vx, vy, θ, ω, m = x\n",
    "    T, δ = u\n",
    "    return [vx; vy; -(T/m)*sin(θ+δ); (T/m)*cos(θ+δ)-g; ω; -(L*T/J)*sin(δ); -α*T]*tf\n",
    "end;\n",
    "```\n",
    "\n",
    "</details>"
   ]
  },
  {
   "cell_type": "markdown",
   "id": "22984af8-9e54-4a80-acd1-42df3ad57a95",
   "metadata": {},
   "source": [
    "Remember from the Dubin's car example that SCP Toolbox operates on a normalized-time problem where time takes values in $[0,1]$.\n",
    "\n",
    "We are going to solve a free-final time rocket landing problem, and this requires us to introduce a one-element parameter vector that holds the time dilation coefficient:\n",
    "\n",
    "$$\n",
    "p = \\begin{bmatrix}\n",
    "t_f\n",
    "\\end{bmatrix}.\n",
    "$$"
   ]
  },
  {
   "cell_type": "markdown",
   "id": "6572d2ce-51f9-4df8-a868-6448df53aff6",
   "metadata": {},
   "source": [
    "The normalized-time dynamics are given by:\n",
    "\n",
    "$$\n",
    "\\dot x = t_f f_{rocket}(x, u) \\equiv f(x, u, p).\n",
    "$$\n",
    "\n",
    "This allows us to write the normalized-time dynamics in Julia as follows."
   ]
  },
  {
   "cell_type": "code",
   "execution_count": 3271,
   "id": "bb70e8f5-ffe4-4357-b409-b6cb9b6c31da",
   "metadata": {},
   "outputs": [],
   "source": [
    "f(x, u, p) = begin\n",
    "    tf, = p\n",
    "    f_rocket(x, u)*tf\n",
    "end;"
   ]
  },
  {
   "cell_type": "markdown",
   "id": "7ba856f9-d7d1-408f-81c3-007568de97a4",
   "metadata": {},
   "source": [
    "Based on the above definitions of the state ($x$), the input ($u$), and the parameter ($p$), record their dimensions ($n$, $m$, and $d$, respectively)."
   ]
  },
  {
   "cell_type": "code",
   "execution_count": null,
   "id": "6567075f-911e-41c7-b137-50c46697ec44",
   "metadata": {},
   "outputs": [],
   "source": [
    "n = # Enter your code here\n",
    "m = # Enter your code here\n",
    "d = # Enter your code here"
   ]
  },
  {
   "cell_type": "markdown",
   "id": "eb4959b3-7047-445f-b3f9-22688f9270ed",
   "metadata": {},
   "source": [
    "<details>\n",
    "\n",
    "<summary>Answer</summary>\n",
    "\n",
    "```julia\n",
    "n = 7\n",
    "m = 2\n",
    "d = 1\n",
    "```\n",
    "\n",
    "</details>"
   ]
  },
  {
   "cell_type": "markdown",
   "id": "e9e8924e-4387-425c-af8a-f730d33deee5",
   "metadata": {},
   "source": [
    "Use the SCP Toolbox API to define the state, input, and parameter dimensions in the problem."
   ]
  },
  {
   "cell_type": "code",
   "execution_count": 5,
   "id": "32b47290-5d23-475c-9050-5e09e39b4058",
   "metadata": {},
   "outputs": [],
   "source": [
    "# Enter your code here"
   ]
  },
  {
   "cell_type": "markdown",
   "id": "ac4cb108-8d22-4fbe-a0d1-e01cb35100a5",
   "metadata": {},
   "source": [
    "<details>\n",
    "\n",
    "<summary>Answer</summary>\n",
    "\n",
    "```julia\n",
    "problem_set_dims!(pbm, n, m, d)\n",
    "```\n",
    "\n",
    "</details>"
   ]
  },
  {
   "cell_type": "markdown",
   "id": "a7849874-ad56-4c82-ada2-a9a9ef278521",
   "metadata": {},
   "source": [
    "### Jacobians"
   ]
  },
  {
   "cell_type": "markdown",
   "id": "75ccb046-60c5-41f8-bf8a-5b81bc699698",
   "metadata": {},
   "source": [
    "We need to define the Jacobians of the dynamics with respect to the state, input, and parameter vectors.\n",
    "\n",
    "Remember the definition of the Jacobian of a general function $g(z):\\mathbb R^n\\to\\mathbb R^m$:\n",
    "\n",
    "$$\n",
    "\\nabla_z g(z) = \\begin{bmatrix}\n",
    "\\frac{\\partial g(z)}{\\partial z_1} &\n",
    "\\frac{\\partial g(z)}{\\partial z_2} &\n",
    "\\cdots &\n",
    "\\frac{\\partial g(z)}{\\partial z_n}\n",
    "\\end{bmatrix}\\in\\mathbb R^{m\\times n}.\n",
    "$$"
   ]
  },
  {
   "cell_type": "markdown",
   "id": "26263bba-43fe-4d5d-979d-a7010f8c910e",
   "metadata": {},
   "source": [
    "With the above in mind, write down \"in math\" the Jacobian of the dynamics with respect to $x$:\n",
    "\n",
    "$$\n",
    "A(x, u, p) = \\nabla_x f(x, u, p) = \\begin{bmatrix}\n",
    "\\mathrm{\\color{grey}{TODO}}\n",
    "\\end{bmatrix}\\in\\mathbb R^{n\\times n}.\n",
    "$$\n",
    "\n",
    "To help, here is what the column corresponding to the state $x_5\\equiv\\theta$ looks like:\n",
    "\n",
    "$$\n",
    "\\begin{bmatrix}\n",
    "0\\\\0\\\\- \\frac{T t_f \\cos{\\left(\\delta + \\theta \\right)}}{m}\\\\- \\frac{T t_f \\sin{\\left(\\delta + \\theta \\right)}}{m}\\\\0\\\\0\\\\0\\end{bmatrix}.\n",
    "$$"
   ]
  },
  {
   "cell_type": "markdown",
   "id": "0606a1ee-8209-46fc-885e-61c3ecf84864",
   "metadata": {},
   "source": [
    "<details>\n",
    "\n",
    "<summary>Answer</summary>\n",
    "\n",
    "$$\n",
    "A(x, u, p) = \n",
    "\\begin{bmatrix}\n",
    "0 & 0 & t_f & 0 & 0 & 0 & 0\\\\\n",
    "0 & 0 & 0 & t_f & 0 & 0 & 0\\\\\n",
    "0 & 0 & 0 & 0 & - \\frac{T t_f \\cos{\\left(\\delta + \\theta \\right)}}{m} & 0 & \\frac{T t_f \\sin{\\left(\\delta + \\theta \\right)}}{m^{2}}\\\\0 & 0 & 0 & 0 & - \\frac{T t_f \\sin{\\left(\\delta + \\theta \\right)}}{m} & 0 & - \\frac{T t_f \\cos{\\left(\\delta + \\theta \\right)}}{m^{2}}\\\\0 & 0 & 0 & 0 & 0 & t_f & 0\\\\0 & 0 & 0 & 0 & 0 & 0 & 0\\\\0 & 0 & 0 & 0 & 0 & 0 & 0\\end{bmatrix}.\n",
    "$$\n",
    "\n",
    "</details>"
   ]
  },
  {
   "cell_type": "markdown",
   "id": "eb54d88b-bdcf-4a80-b917-9f289befc921",
   "metadata": {},
   "source": [
    "Now implement the function in Julia."
   ]
  },
  {
   "cell_type": "code",
   "execution_count": 7,
   "id": "7f6aaf0e-1a3d-4478-8954-36a2a42b049f",
   "metadata": {},
   "outputs": [],
   "source": [
    "A(x, u, p) = begin\n",
    "    rx, ry, vx, vy, θ, ω, m = x\n",
    "    T, δ = u\n",
    "    tf, = p\n",
    "    # Enter your code here\n",
    "end;"
   ]
  },
  {
   "cell_type": "markdown",
   "id": "a7efa037-85fe-4ef1-ac3d-b64c07ca4907",
   "metadata": {},
   "source": [
    "<details>\n",
    "\n",
    "<summary>Answer</summary>\n",
    "\n",
    "```julia\n",
    "A(x, u, p) = begin\n",
    "    rx, ry, vx, vy, θ, ω, m = x\n",
    "    T, δ = u\n",
    "    tf, = p\n",
    "    return [0 0 1 0       0       0       0\n",
    "            0 0 0 1       0       0       0\n",
    "            0 0 0 0 -T/m*cos(θ+δ) 0 T/m^2*sin(θ+δ)\n",
    "            0 0 0 0 -T/m*sin(θ+δ) 0 -T/m^2*cos(θ+δ)\n",
    "            0 0 0 0       0       1       0\n",
    "            0 0 0 0       0       0       0\n",
    "            0 0 0 0       0       0       0]*tf\n",
    "end\n",
    "```\n",
    "\n",
    "</details>"
   ]
  },
  {
   "cell_type": "markdown",
   "id": "6e20350a-1006-4332-8034-645aabca60e6",
   "metadata": {},
   "source": [
    "Similarly, write down the Jacobian with respect to the input, $u$:\n",
    "\n",
    "$$\n",
    "B(x, u, p) = \\nabla_u f(x, u, p) = \\begin{bmatrix}\n",
    "\\mathrm{\\color{grey}{TODO}}\n",
    "\\end{bmatrix}\\in\\mathbb R^{n\\times m}.\n",
    "$$"
   ]
  },
  {
   "cell_type": "markdown",
   "id": "ef9c6ba5-33bf-498f-acca-a2986a150b5d",
   "metadata": {},
   "source": [
    "<details>\n",
    "\n",
    "<summary>Answer</summary>\n",
    "\n",
    "$$\n",
    "B(x, u, p) = \n",
    "\\begin{bmatrix}\n",
    "0 & 0\\\\0 & 0\\\\- \\frac{t_f \\sin{\\left(\\delta + \\theta \\right)}}{m} & - \\frac{T t_f \\cos{\\left(\\delta + \\theta \\right)}}{m}\\\\\\frac{t_f \\cos{\\left(\\delta + \\theta \\right)}}{m} & - \\frac{T t_f \\sin{\\left(\\delta + \\theta \\right)}}{m}\\\\0 & 0\\\\- \\frac{L t_f \\sin{\\left(\\delta \\right)}}{J} & - \\frac{L T t_f \\cos{\\left(\\delta \\right)}}{J}\\\\- \\alpha t_f & 0\n",
    "\\end{bmatrix}.\n",
    "$$\n",
    "\n",
    "</details>"
   ]
  },
  {
   "cell_type": "markdown",
   "id": "bc50cd3c-da50-4041-850e-98120c9ead7b",
   "metadata": {},
   "source": [
    "Now implement the function in Julia."
   ]
  },
  {
   "cell_type": "code",
   "execution_count": 9,
   "id": "b8d2dcbf-70f4-4109-b18c-cbf9c68fc310",
   "metadata": {},
   "outputs": [],
   "source": [
    "B(x, u, p) = begin\n",
    "    rx, ry, vx, vy, θ, ω, m = x\n",
    "    T, δ = u\n",
    "    tf, = p\n",
    "    # Enter your code here\n",
    "end;"
   ]
  },
  {
   "cell_type": "markdown",
   "id": "c83279b2-92cf-480d-9aae-74f4235da07f",
   "metadata": {},
   "source": [
    "<details>\n",
    "\n",
    "<summary>Answer</summary>\n",
    "\n",
    "```julia\n",
    "B(x, u, p) = begin\n",
    "    rx, ry, vx, vy, θ, ω, m = x\n",
    "    T, δ = u\n",
    "    tf, = p\n",
    "    return [     0            0\n",
    "                 0            0\n",
    "            -sin(θ+δ)/m -T/m*cos(θ+δ)\n",
    "             cos(θ+δ)/m -T/m*sin(θ+δ)\n",
    "                 0            0\n",
    "            -L/J*sin(δ) -L*T/J*cos(δ)\n",
    "                -α            0       ]*tf\n",
    "end\n",
    "```\n",
    "\n",
    "</details>"
   ]
  },
  {
   "cell_type": "markdown",
   "id": "07290144-f8dc-435d-b506-13e41eb5581d",
   "metadata": {},
   "source": [
    "Finally, write down the Jacobian with respect to the parameter vector, $p$:\n",
    "\n",
    "$$\n",
    "F(x, u, p) = \\nabla_p f(x, u, p) = \\begin{bmatrix}\n",
    "\\mathrm{\\color{grey}{TODO}}\n",
    "\\end{bmatrix}\\in\\mathbb R^{n\\times d}.\n",
    "$$"
   ]
  },
  {
   "cell_type": "markdown",
   "id": "d87b6cf3-2eef-4035-936e-86bd1fef87c9",
   "metadata": {},
   "source": [
    "<details>\n",
    "\n",
    "<summary>Answer</summary>\n",
    "\n",
    "$$\n",
    "F(x, u, p) = \n",
    "f_{rocket}(x, u).\n",
    "$$\n",
    "\n",
    "</details>"
   ]
  },
  {
   "cell_type": "markdown",
   "id": "1573e480-1e6c-4f8c-a85d-cabcfc630e42",
   "metadata": {},
   "source": [
    "Now implement the function in Julia."
   ]
  },
  {
   "cell_type": "code",
   "execution_count": 10,
   "id": "02ff3cde-31bf-4841-a8d9-2a89f5739880",
   "metadata": {},
   "outputs": [],
   "source": [
    "F(x, u, p) = begin\n",
    "    rx, ry, vx, vy, θ, ω, m = x\n",
    "    T, δ = u\n",
    "    tf, = p\n",
    "    # Enter your code here\n",
    "end;"
   ]
  },
  {
   "cell_type": "markdown",
   "id": "684b7ca7-8732-4222-b29b-2fafdd2f7e3f",
   "metadata": {},
   "source": [
    "<details>\n",
    "\n",
    "<summary>Answer</summary>\n",
    "\n",
    "```julia\n",
    "F(x, u, p) = begin\n",
    "    rx, ry, vx, vy, θ, ω, m = x\n",
    "    T, δ = u\n",
    "    tf, = p\n",
    "    return reshape(f(t, x, u, p)/tf, 7, 1)\n",
    "end;\n",
    "```\n",
    "\n",
    "</details>"
   ]
  },
  {
   "cell_type": "markdown",
   "id": "68d64c9c-4a72-41a8-afbd-b28001dbe102",
   "metadata": {},
   "source": [
    "The SCP Toolbox API also passes other arguments to the dynamics and its Jacobians:\n",
    "* `t`: the time;\n",
    "* `k`: the discrete time index;\n",
    "* `pbm`: the `TrajectoryProblem` object that we defined at the very beginning.\n",
    "\n",
    "We write a simple wrapper to satisfy the API."
   ]
  },
  {
   "cell_type": "code",
   "execution_count": null,
   "id": "ebb84d52-be11-474f-8a9f-31804307a942",
   "metadata": {},
   "outputs": [],
   "source": [
    "wrap(func) = (t, k, x, u, p, pbm) -> func(t, x, u, p);\n",
    "f_scp = wrap(f)\n",
    "A_scp = wrap(A)\n",
    "B_scp = wrap(B)\n",
    "F_scp = wrap(F)"
   ]
  },
  {
   "cell_type": "markdown",
   "id": "b6782438-ecf1-431e-be5c-b30d3ee6cf83",
   "metadata": {},
   "source": [
    "Use the above functions `f_scp`, `A_scp`, `B_scp`, `F_scp` in order to define the dynamics using the SCP Toolbox API."
   ]
  },
  {
   "cell_type": "code",
   "execution_count": 24,
   "id": "558209e9-f198-4e99-9d36-750051b5d0cc",
   "metadata": {},
   "outputs": [],
   "source": [
    "# Enter your code here"
   ]
  },
  {
   "cell_type": "markdown",
   "id": "a4692e85-e87f-46cd-8b94-c2d3c37e5f79",
   "metadata": {},
   "source": [
    "<details>\n",
    "\n",
    "<summary>Answer</summary>\n",
    "\n",
    "```julia\n",
    "problem_set_dynamics!(pbm, wrap(f), wrap(A), wrap(B), wrap(F))\n",
    "```\n",
    "\n",
    "</details>"
   ]
  },
  {
   "cell_type": "markdown",
   "id": "9bf80e96-53b6-4d9b-802c-841d0af1ba0c",
   "metadata": {},
   "source": [
    "## Boundary Conditions"
   ]
  },
  {
   "cell_type": "markdown",
   "id": "bcba0ed5-eac4-4863-9968-53c5847d39dd",
   "metadata": {},
   "source": [
    "Let's define the boundary conditions on the state as a fixed \"airborne\" point above the landing site at the start, and a point at the landing state at the end of the trajectory. Because the rocket depletes mass, and we do not know by how much ahead of time, the final mass is left unspecified."
   ]
  },
  {
   "cell_type": "code",
   "execution_count": 35,
   "id": "afc3b0ed-5292-42b9-9e4a-0a182d1b6367",
   "metadata": {},
   "outputs": [],
   "source": [
    "km2m(x) = x*1e3 # Conversion from km to m\n",
    "kph2mps(v) = v/3.6 # Conversion from km/h to m/s\n",
    "\n",
    "# Initial state\n",
    "x_0 = [km2m(0.5)\n",
    "       km2m(1.4)\n",
    "       kph2mps(80)\n",
    "       kph2mps(-100)\n",
    "       deg2rad(-30.0)\n",
    "       deg2rad(0.0)\n",
    "       m_wet]\n",
    "\n",
    "# Terminal state (without mass)\n",
    "x_f = zeros(6);"
   ]
  },
  {
   "cell_type": "markdown",
   "id": "37ac6033-0e7a-4be0-a4ca-b871c57708a4",
   "metadata": {},
   "source": [
    "Recall that the boundary conditions are defined as the equality constraints:\n",
    "\n",
    "\\begin{align}\n",
    "g_{ic}(x(0), p) &= 0, \\\\\n",
    "g_{tc}(x(1), p) &= 0.\n",
    "\\end{align}\n",
    "\n",
    "Given the definitions of $x_0$ (`x_0`) and $x_f$ (`x_f`), define the $g_{ic}$ and $g_{tc}$ functions.\n",
    "\n",
    "\\begin{align}\n",
    "g_{ic}(x, p) &= \\mathrm{\\color{grey}{TODO}}, \\\\\n",
    "g_{tc}(x, p) &= \\mathrm{\\color{grey}{TODO}}.\n",
    "\\end{align}"
   ]
  },
  {
   "cell_type": "markdown",
   "id": "fddb68f0-d2d9-49ed-86ca-49b9d63ed0d7",
   "metadata": {},
   "source": [
    "<details>\n",
    "\n",
    "<summary>Answer</summary>\n",
    "\n",
    "\\begin{align}\n",
    "g_{ic}(x, p) &= x-x_0, \\\\\n",
    "g_{tc}(x, p) &= E_{m} x-x_f,\n",
    "\\end{align}\n",
    "where:\n",
    "$$\n",
    "E_{m} = \\begin{bmatrix}\n",
    "I\\in\\mathbb R^{6\\times 6} &\\mid & 0\n",
    "\\end{bmatrix}\\in\\mathbb R^{6\\times 7}.\n",
    "$$\n",
    "\n",
    "</details>"
   ]
  },
  {
   "cell_type": "markdown",
   "id": "f16f66d3-e273-4670-9e39-0428d04e9c3e",
   "metadata": {},
   "source": [
    "Now implement these functions in Julia."
   ]
  },
  {
   "cell_type": "code",
   "execution_count": 37,
   "id": "7a5cce90-fae9-420a-af52-abd8831f3b42",
   "metadata": {},
   "outputs": [],
   "source": [
    "g_ic(x, p) = # Enter your code here\n",
    "g_tc(x, p) = # Enter your code here"
   ]
  },
  {
   "cell_type": "markdown",
   "id": "1448214e-ea66-4389-b344-11067f1db3af",
   "metadata": {},
   "source": [
    "<details>\n",
    "\n",
    "<summary>Answer</summary>\n",
    "\n",
    "```julia\n",
    "g_ic(x, p) = x-x_0\n",
    "g_tc(x, p) = x[1:6]-x_f;\n",
    "```\n",
    "\n",
    "</details>"
   ]
  },
  {
   "cell_type": "markdown",
   "id": "650d6c6d-0939-4ecd-b9a7-ebdc3258a9b8",
   "metadata": {},
   "source": [
    "## State Constraints"
   ]
  },
  {
   "cell_type": "markdown",
   "id": "ad491503-ad9e-4ae6-8800-33e3eacd7fe9",
   "metadata": {},
   "source": [
    "In order to not collide with the ground or any obstacles (such as hills) surrounding the landing site, the rocket's position is constrained to be above a certain glideslope, as illustrated in the figure at the top of this notebook.\n",
    "\n",
    "Write down the glideslope constraint on the position vector $[x;y]$. (Hint: it is a convex inequality and involves $|x|$).\n",
    "\n",
    "$$\n",
    "\\mathrm{\\color{grey}{TODO}}\\le 0.\n",
    "$$"
   ]
  },
  {
   "cell_type": "markdown",
   "id": "18ac65fc-ddef-4bb8-99c9-a6f71e8d67bc",
   "metadata": {},
   "source": [
    "<details>\n",
    "\n",
    "<summary>Answer</summary>\n",
    "\n",
    "$$\n",
    "|x|-\\frac{y}{\\tan(\\gamma_{gs})}\\le 0.\n",
    "$$\n",
    "\n",
    "</details>"
   ]
  },
  {
   "cell_type": "markdown",
   "id": "16530448-cb56-438e-a283-17214417fb23",
   "metadata": {},
   "source": [
    "What kind of convex cone can represent this constraint?\n",
    "\n",
    "Enter your answer in term of the Julia variable that is used to by the SCP Toolbox to denote the cone (recall the table from the Part 1 notebook): `TODO`."
   ]
  },
  {
   "cell_type": "markdown",
   "id": "a8b6d915-ffc9-4f86-a25a-c1e8307b6af8",
   "metadata": {},
   "source": [
    "<details>\n",
    "\n",
    "<summary>Answer</summary>\n",
    "\n",
    "`L1`\n",
    "\n",
    "</details>"
   ]
  },
  {
   "cell_type": "markdown",
   "id": "ad2e019e-9e62-4f9b-9e13-eae614c12aee",
   "metadata": {},
   "source": [
    "Now use the SCP Toolbox's `@add_constraint` macro (which you learned about in Part 1) in order to define the glideslope constraint. Assume that the function receives `x` (the full state vector) and `clp` (the `ConicProgram` object)."
   ]
  },
  {
   "cell_type": "code",
   "execution_count": null,
   "id": "940644a0-9a4b-4dd1-b804-99ea8110e7e0",
   "metadata": {},
   "outputs": [],
   "source": [
    "glideslope(x, clp) = # Enter your code here"
   ]
  },
  {
   "cell_type": "markdown",
   "id": "a128ac41-69a8-421b-960d-3e0fe9ea45df",
   "metadata": {},
   "source": [
    "<details>\n",
    "\n",
    "<summary>Answer</summary>\n",
    "\n",
    "```julia\n",
    "glideslope(x, clp) = @add_constraint(clp, L1, x -> begin\n",
    "        x, y = x[1], x[2]\n",
    "        return [y/tan(γ_gs); x]\n",
    "    end);\n",
    "```\n",
    "    \n",
    "</details>"
   ]
  },
  {
   "cell_type": "markdown",
   "id": "a1df56d0-bac4-4d42-babd-678fc0dc492f",
   "metadata": {},
   "source": [
    "Let's associate this constraint with the trajectory problem using the SCP Toolbox API for convex state constraints."
   ]
  },
  {
   "cell_type": "code",
   "execution_count": null,
   "id": "76e363e5-3155-44a9-a3c9-27380262e1d9",
   "metadata": {},
   "outputs": [],
   "source": [
    "problem_set_X!(pbm, (t, k, x, p, pbm, clp) -> glideslope(x, clp))"
   ]
  },
  {
   "cell_type": "markdown",
   "id": "98d5dc75-28a8-4332-8e63-2d4e7b23d788",
   "metadata": {},
   "source": [
    "## Control Constraints"
   ]
  },
  {
   "cell_type": "markdown",
   "id": "3f6d22fd-b478-4c94-8e49-326ba2bd195c",
   "metadata": {},
   "source": [
    "The control constraints ensure that the rocket's propulsion system can actually reproduce the inputs that are computed by the optimal trajectory.\n",
    "\n",
    "For this problem, we will constraint the thrust to $T\\in [T_\\min, T_\\max]$ and the gimbal angle $\\delta\\in [-\\delta_\\max,\\delta_\\max]$.\n",
    "\n",
    "Write these control constraints as cones. Write the constraints separately for thrust lower bound, upper bound, and gimbal angle (thus you should end up with 3 cones). Only use the cones that are supported by the SCP Toolbox (refer to Part 1)."
   ]
  },
  {
   "cell_type": "markdown",
   "id": "95d45849-72e6-42dd-8d78-dc5b377bf376",
   "metadata": {},
   "source": [
    "<details>\n",
    "\n",
    "<summary>Answer</summary>\n",
    "\n",
    "\\begin{align*}\n",
    "T_{\\min}-T &\\in \\mathbb K_{\\le 0}, \\\\\n",
    "T-T_{\\max} &\\in \\mathbb K_{\\le 0}, \\\\\n",
    "\\begin{bmatrix}\n",
    "\\delta_{\\max} \\\\ \\delta\n",
    "\\end{bmatrix} &\\in \\mathbb K_{1}.\n",
    "\\end{align*}\n",
    "    \n",
    "</details>"
   ]
  },
  {
   "cell_type": "markdown",
   "id": "6c2e504e-743e-4b63-b8f7-c4374da56237",
   "metadata": {},
   "source": [
    "Now implement each constraint in Julia using `@add_constraint`."
   ]
  },
  {
   "cell_type": "code",
   "execution_count": null,
   "id": "b4f9c270-9981-4315-8ea8-4581feb9cc7c",
   "metadata": {},
   "outputs": [],
   "source": [
    "thrust_upper_bound(T, clp) = # Enter your code here\n",
    "thrust_lower_bound(T, clp) = # Enter your code here\n",
    "gimbal_limit(δ, clp) = # Enter your code here"
   ]
  },
  {
   "cell_type": "markdown",
   "id": "73d399bd-43f2-4aa1-9106-99de2ab080e9",
   "metadata": {},
   "source": [
    "<details>\n",
    "\n",
    "<summary>Answer</summary>\n",
    "\n",
    "```julia\n",
    "thrust_upper_bound(T, clp) = @add_constraint(clp, NONPOS, T -> T-T_max)\n",
    "thrust_lower_bound(T, clp) = @add_constraint(clp, NONPOS, T -> T_min-T)\n",
    "gimbal_limit(δ, clp) = @add_constraint(clp, L1, δ -> vcat(δ_max, δ));\n",
    "```\n",
    "    \n",
    "</details>"
   ]
  },
  {
   "cell_type": "markdown",
   "id": "c450bb32-7cdb-4117-b94e-7979f8e258dc",
   "metadata": {},
   "source": [
    "Now call the SCP Toolbox API function `problem_set_U!` in order to associate the convex input constraints with the trajectory problem."
   ]
  },
  {
   "cell_type": "code",
   "execution_count": null,
   "id": "ba4deee7-b488-4501-8a0d-9c1a3a10a42b",
   "metadata": {},
   "outputs": [],
   "source": [
    "problem_set_U!(pbm, (t, k, u, p, pbm, clp) -> begin\n",
    "        # Enter your code here\n",
    "    end)"
   ]
  },
  {
   "cell_type": "markdown",
   "id": "5af715cc-fbc1-4ea4-b53e-5964732506e0",
   "metadata": {
    "deletable": false,
    "editable": false,
    "tags": []
   },
   "source": [
    "<details>\n",
    "\n",
    "<summary>Answer</summary>\n",
    "\n",
    "```julia\n",
    "problem_set_U!(pbm, (t, k, u, p, pbm, clp) -> begin\n",
    "        T, δ = u\n",
    "        thrust_upper_bound(T, clp)\n",
    "        thrust_lower_bound(T, clp)\n",
    "        gimbal_limit(δ, clp)\n",
    "    end)\n",
    "```\n",
    "    \n",
    "</details>"
   ]
  },
  {
   "cell_type": "markdown",
   "id": "9fd3d3c8-29b1-4227-96a4-e5de000e3391",
   "metadata": {},
   "source": [
    "## Objective Function"
   ]
  },
  {
   "cell_type": "code",
   "execution_count": null,
   "id": "97e71abb-7c8b-4e51-b50c-c2fbdcdecd53",
   "metadata": {},
   "outputs": [],
   "source": []
  },
  {
   "cell_type": "markdown",
   "id": "f6da290e-b14c-4a44-b5be-e6ad01f2738e",
   "metadata": {},
   "source": [
    "## Initial Trajectory Guess"
   ]
  },
  {
   "cell_type": "code",
   "execution_count": null,
   "id": "3deeafcc-cf47-4cd8-b716-1f097316b7b9",
   "metadata": {},
   "outputs": [],
   "source": []
  },
  {
   "cell_type": "markdown",
   "id": "79b0ed94-5c13-4ef3-839f-5462f2d415f5",
   "metadata": {},
   "source": [
    "## Variable Scaling"
   ]
  },
  {
   "cell_type": "code",
   "execution_count": null,
   "id": "2cf3ad7f-0275-4eae-b27d-abaa812042a5",
   "metadata": {},
   "outputs": [],
   "source": []
  },
  {
   "cell_type": "markdown",
   "id": "6cfcca4c-721b-4e59-b42f-4b064c32ee70",
   "metadata": {},
   "source": [
    "## Solve the Problem Using PTR"
   ]
  },
  {
   "cell_type": "code",
   "execution_count": 25,
   "id": "bf7d0ccf-e9df-4c31-8a6e-2b6815b9e4ad",
   "metadata": {},
   "outputs": [],
   "source": [
    "# Parameters\n",
    "N, Nsub = 20, 20\n",
    "iter_max = 30\n",
    "disc_method = FOH\n",
    "wvc, wtr = 1e1, 1e-1\n",
    "feas_tol = 5e-3\n",
    "ε_abs, ε_rel = 1e-5, 1e-4\n",
    "q_tr = Inf\n",
    "q_exit = Inf\n",
    "solver, solver_options = ECOS, Dict(\"verbose\"=>0)      \n",
    "\n",
    "pars = PTR.Parameters(N, Nsub, iter_max, disc_method, wvc, wtr, ε_abs,\n",
    "                      ε_rel, feas_tol, q_tr, q_exit, solver, solver_options);"
   ]
  },
  {
   "cell_type": "code",
   "execution_count": null,
   "id": "56da5ec8-4e64-4b59-b838-98a7d2c36fc1",
   "metadata": {},
   "outputs": [],
   "source": []
  },
  {
   "cell_type": "markdown",
   "id": "a4b502e7-a626-4761-9022-7fc68d55c6db",
   "metadata": {},
   "source": [
    "## Plots"
   ]
  },
  {
   "cell_type": "code",
   "execution_count": null,
   "id": "1a89c83d-0cf0-410f-8f51-b542f237001f",
   "metadata": {},
   "outputs": [],
   "source": []
  },
  {
   "cell_type": "markdown",
   "id": "33f42a74-b012-4276-8d81-28c341d4e8c9",
   "metadata": {},
   "source": [
    "-----------------"
   ]
  },
  {
   "cell_type": "code",
   "execution_count": null,
   "id": "a2841ea2-3b66-4370-a3b8-c31a6a9c5198",
   "metadata": {},
   "outputs": [],
   "source": [
    "wrap(func) = (t, k, x, u, p, pbm) -> func(t, x, u, p)\n",
    "problem_set_dynamics!(pbm, wrap(f), wrap(A), wrap(B), wrap(F))"
   ]
  },
  {
   "cell_type": "markdown",
   "id": "3956c4b2-8493-4311-ad5b-621de2ddafef",
   "metadata": {},
   "source": [
    "## Boundary Conditions"
   ]
  },
  {
   "cell_type": "markdown",
   "id": "6f0b62c9-8ffe-420d-ac6e-bbddfd03c717",
   "metadata": {},
   "source": [
    "The initial and terminal boundary conditions on the trajectory are set by the following two constraints:\n",
    "\n",
    "\\begin{align}\n",
    "g_{ic}(x(0), p) &= 0, \\\\\n",
    "g_{tc}(x(1), p) &= 0.\n",
    "\\end{align}"
   ]
  },
  {
   "cell_type": "code",
   "execution_count": null,
   "id": "3018bd4f-95e5-4681-882d-53162c60a25d",
   "metadata": {},
   "outputs": [],
   "source": [
    "km2m(x) = x*1e3 # Conversion from km to m\n",
    "kph2mps(v) = v/3.6 # Conversion from km/h to m/s\n",
    "\n",
    "x_0 = [km2m(0.5); km2m(1.4); kph2mps(80); kph2mps(-100); deg2rad(-30.0); deg2rad(0.0); m_wet]\n",
    "x_f = zeros(6)\n",
    "\n",
    "g_ic(x, p) = x-x_0\n",
    "g_tc(x, p) = x[1:6]-x_f;"
   ]
  },
  {
   "cell_type": "markdown",
   "id": "aee2cb63-24de-49d6-a387-8b883cb6d4be",
   "metadata": {},
   "source": [
    "Again, we need to provide the Jacobians of $g_{ic}$ and $g_{tc}$, since in general these may be nonaffine functions.\n",
    "\n",
    "\\begin{align}\n",
    "H_0(x(0), p) &= \\nabla_x g_{ic}(x(0), p), \\\\\n",
    "K_0(x(0), p) &= \\nabla_p g_{ic}(x(0), p), \\\\\n",
    "H_f(x(1), p) &= \\nabla_x g_{tc}(x(1), p), \\\\\n",
    "K_f(x(1), p) &= \\nabla_p g_{tc}(x(1), p).\n",
    "\\end{align}\n",
    "\n",
    "When a Jacobian is not provided, the SCP Toolbox assumes that it is zero."
   ]
  },
  {
   "cell_type": "code",
   "execution_count": null,
   "id": "61883958-c05a-4ddc-9d6c-04851ebd8204",
   "metadata": {},
   "outputs": [],
   "source": [
    "H_0(x, p) = I(7)\n",
    "H_f(x, p) = collect(hcat(I(6), zeros(6)));"
   ]
  },
  {
   "cell_type": "code",
   "execution_count": null,
   "id": "47a5ac2e-4a0c-45c1-9f2d-c62090f39fc2",
   "metadata": {},
   "outputs": [],
   "source": [
    "wrap(func) = (x, p, pbm) -> func(x, p)\n",
    "problem_set_bc!(pbm, :ic, wrap(g_ic), wrap(H_0))\n",
    "problem_set_bc!(pbm, :tc, wrap(g_tc), wrap(H_f))"
   ]
  },
  {
   "cell_type": "markdown",
   "id": "33769bb9-7e23-43b8-a1a3-0c3a7c18ccce",
   "metadata": {},
   "source": [
    "## State constraints"
   ]
  },
  {
   "cell_type": "code",
   "execution_count": null,
   "id": "a80d539f-ef99-4279-a48e-38c565f3d3fd",
   "metadata": {},
   "outputs": [],
   "source": [
    "tf_min = 40.0 # [s] Minimum time of flight\n",
    "nonnegative_time_of_flight(tf, clp) = @add_constraint(clp, NONPOS, tf -> tf_min-tf);"
   ]
  },
  {
   "cell_type": "code",
   "execution_count": null,
   "id": "1d1e6b30-3924-4658-b42b-29a31e0e3102",
   "metadata": {},
   "outputs": [],
   "source": [
    "glide_slope(x, clp) = @add_constraint(clp, L1, x -> begin\n",
    "        x, y = x[1], x[2]\n",
    "        return [y/tan(γ_gs); x]\n",
    "    end);"
   ]
  },
  {
   "cell_type": "code",
   "execution_count": null,
   "id": "6e2ed4d8-0435-4254-ae28-79daea47494b",
   "metadata": {
    "tags": []
   },
   "outputs": [],
   "source": [
    "problem_set_X!(pbm, (t, k, x, p, pbm, clp) -> begin\n",
    "        tf = p[1]\n",
    "        nonnegative_time_of_flight(tf, clp)\n",
    "        glide_slope(x, clp)\n",
    "    end)"
   ]
  },
  {
   "cell_type": "markdown",
   "id": "f98fcc5c-25c1-4c5e-a5c0-a7f0175a6b69",
   "metadata": {},
   "source": [
    "## Control constraints"
   ]
  },
  {
   "cell_type": "code",
   "execution_count": null,
   "id": "5637c3aa-ac8a-4310-8a94-53510cfb7676",
   "metadata": {},
   "outputs": [],
   "source": [
    "thrust_upper_bound(T, clp) = @add_constraint(clp, NONPOS, T -> T-T_max)\n",
    "thrust_lower_bound(T, clp) = @add_constraint(clp, NONPOS, T -> T_min-T)\n",
    "gimbal_limit(δ, clp) = @add_constraint(clp, L1, δ -> vcat(δ_max, δ));"
   ]
  },
  {
   "cell_type": "code",
   "execution_count": null,
   "id": "0af2d741-f212-464b-8f89-d9e418227b20",
   "metadata": {},
   "outputs": [],
   "source": [
    "problem_set_U!(pbm, (t, k, u, p, pbm, clp) -> begin\n",
    "        T, δ = u[1], u[2]\n",
    "        thrust_upper_bound(T, clp)\n",
    "        thrust_lower_bound(T, clp)\n",
    "        gimbal_limit(δ, clp)\n",
    "    end)"
   ]
  },
  {
   "cell_type": "markdown",
   "id": "3e219690-64cb-4a61-92ee-55cfa6a3b5ef",
   "metadata": {},
   "source": [
    "## Objective Function"
   ]
  },
  {
   "cell_type": "markdown",
   "id": "2d1b02a1-2ff1-4553-ae7a-78e52b6aeeea",
   "metadata": {},
   "source": [
    "1000.0Borrowing from the standard choice in optimal control literature, the SCP Toolbox works with an objective function in the Bolza form:\n",
    "\n",
    "$$\n",
    "J(x, u, p) = \\phi(x(1), p) + \\int_0^1 \\Gamma(x(t), u(t), p) dt.\n",
    "$$\n",
    "\n",
    "The function $\\phi(\\cdot)\\in\\mathbb R$ defines the terminal cost, while $\\Gamma(\\cdot)\\in\\mathbb R$ defines the running cost. Both have to be convex, at most quadratic, functions.\n",
    "\n",
    "> ℹ️ Any nonconvexity in the cost can in general be off-loaded into the constraints by defining additional state, control, and/or parameter variables."
   ]
  },
  {
   "cell_type": "code",
   "execution_count": null,
   "id": "cc097b18-1189-43d3-89ec-1fc8d41924fb",
   "metadata": {},
   "outputs": [],
   "source": [
    "ϕ(x, p) = -x[end]/m_wet;"
   ]
  },
  {
   "cell_type": "markdown",
   "id": "24f05019-d636-41af-844a-69b8f3444dd1",
   "metadata": {},
   "source": [
    "The SCP Toolbox provides the following API functions for defining the cost:\n",
    "* `problem_set_terminal_cost!`: if not provided, it is assumed that $\\phi\\equiv 0$;\n",
    "* `problem_set_running_cost!`: if not provided, it is assumed that $\\Gamma\\equiv 0$;"
   ]
  },
  {
   "cell_type": "code",
   "execution_count": null,
   "id": "1603a17a-944e-4a63-b019-72fef096d4a8",
   "metadata": {},
   "outputs": [],
   "source": [
    "wrap(func) = (x, p, pbm) -> func(x, p)\n",
    "problem_set_terminal_cost!(pbm, wrap(ϕ))"
   ]
  },
  {
   "cell_type": "code",
   "execution_count": null,
   "id": "2a5921cd-80bb-4126-86f7-b4e0d2c04fb3",
   "metadata": {},
   "outputs": [],
   "source": [
    "# Γ(x, u, p) = ( u[1]/T_max )^2\n",
    "# wrap(func) = (t, k, x, u, p, pbm) -> func(x, u, p)\n",
    "# problem_set_running_cost!(pbm, :ptr, wrap(Γ))"
   ]
  },
  {
   "cell_type": "markdown",
   "id": "0f5058b5-ed6c-4e0d-a388-5b88c88c7192",
   "metadata": {},
   "source": [
    "## Initial Trajectory Guess"
   ]
  },
  {
   "cell_type": "markdown",
   "id": "db92d3ba-7800-401e-8bce-76efe3a10d5a",
   "metadata": {},
   "source": [
    "SCP algorithms require an initial guess for the trajectory. This can be very simple, and does not need to be feasible.\n",
    "\n",
    "For Dubin's car, we will use a straight line for the state and zero for the input.\n",
    "\n",
    "Given a time $t\\in [0,1]$, the state initial guess will be:\n",
    "\n",
    "\\begin{align}\n",
    "\\bar x(t) &= (1-t) x_0 + t x_f, \\\\\n",
    "\\bar u(t) &= 0.\n",
    "\\end{align}"
   ]
  },
  {
   "cell_type": "markdown",
   "id": "a3c4ebef-18df-48b2-9386-db09c48e3eef",
   "metadata": {},
   "source": [
    "SCP algorithms work by discretizing the trajectory problem into $N$ temporal nodes.\n",
    "\n",
    "The API provides a function `problem_set_guess!` for defining the initial guess, discretized into $N$ points.\n",
    "\n",
    "For convenience, a function `straightline_interpolate` is available to define a straight line guess."
   ]
  },
  {
   "cell_type": "code",
   "execution_count": null,
   "id": "214a06c9-c5cc-4128-9c26-607da7d8e9b5",
   "metadata": {},
   "outputs": [],
   "source": [
    "T_guess = T_min+0.5*(T_max-T_min) # [N] Initial thrust guess\n",
    "v_0, v_f = x_0[3:4], x_f[3:4]\n",
    "tf_guess = norm(v_f-v_0, 2)/(T_guess/m_wet-g)\n",
    "Δm_guess = -α*T_guess*tf_guess\n",
    "m_dry_guess = x_0[end]+Δm_guess\n",
    "\n",
    "state_guess(N) = straightline_interpolate(x_0, vcat(x_f, m_dry_guess), N)\n",
    "input_guess(N) = straightline_interpolate([T_guess; 0.0], [T_guess; 0.0], N);"
   ]
  },
  {
   "cell_type": "code",
   "execution_count": null,
   "id": "c4ec5bc8-aa57-4ca7-b883-f1f629850e56",
   "metadata": {},
   "outputs": [],
   "source": [
    "problem_set_guess!(pbm, (N, pbm) -> begin\n",
    "    x = state_guess(N)\n",
    "    u = input_guess(N)\n",
    "    p = [tf_guess]\n",
    "    return x, u, p\n",
    "end)"
   ]
  },
  {
   "cell_type": "markdown",
   "id": "5de47fce-6ab3-498b-aaab-db50e25daa30",
   "metadata": {},
   "source": [
    "## Variable Scaling"
   ]
  },
  {
   "cell_type": "markdown",
   "id": "faaeeb0d-e33f-404b-a50f-1b0657795061",
   "metadata": {},
   "source": [
    "Variable scaling is important when the solution variables are of widely different magnitudes.\n",
    "\n",
    "The SCP Toolbox performs automatic scaling for variables whose magnitudes are naturally constrained by the convex constraints.\n",
    "\n",
    "However, you can also set the variable scaling manually by providing the expected value ranges for each variable.\n",
    "\n",
    "This is done using the SCP Toolbox API function `problem_advise_scale!!`."
   ]
  },
  {
   "cell_type": "code",
   "execution_count": null,
   "id": "e6501b2d-4c2b-46c7-9647-e36e875870f4",
   "metadata": {},
   "outputs": [],
   "source": [
    "rx_range_box = max(x_0[1], 1.0)\n",
    "ry_range_box = max(x_0[2], 1.0)\n",
    "vx_range_box = max(abs(x_0[3]), 1.0)\n",
    "vy_range_box = min(x_0[4], -1.0)\n",
    "θ_range_box = deg2rad(20.0)\n",
    "ω_range_box = max(abs(x_0[6]), deg2rad(5.0))\n",
    "m_range_box = m_wet\n",
    "\n",
    "problem_advise_scale!(pbm, :state, 1, (-rx_range_box, rx_range_box))\n",
    "problem_advise_scale!(pbm, :state, 2, (0, ry_range_box))\n",
    "problem_advise_scale!(pbm, :state, 3, (-vx_range_box, vx_range_box))\n",
    "problem_advise_scale!(pbm, :state, 4, (vy_range_box, 0.0))\n",
    "problem_advise_scale!(pbm, :state, 5, (-θ_range_box, θ_range_box))\n",
    "problem_advise_scale!(pbm, :state, 6, (-ω_range_box, ω_range_box))\n",
    "problem_advise_scale!(pbm, :state, 7, (m_wet+Δm_guess, m_wet))\n",
    "\n",
    "δ_range_box = deg2rad(1.0)\n",
    "\n",
    "problem_advise_scale!(pbm, :input, 1, (T_min, T_max))\n",
    "problem_advise_scale!(pbm, :input, 2, (-δ_range_box, δ_range_box))\n",
    "\n",
    "problem_advise_scale!(pbm, :parameter, 1, (0.1*tf_guess, tf_guess))"
   ]
  },
  {
   "cell_type": "markdown",
   "id": "f25ccb98-75ed-4e32-9464-abef3795d1cd",
   "metadata": {},
   "source": [
    "## Configuring the SCP Solver"
   ]
  },
  {
   "cell_type": "markdown",
   "id": "359f8d69-5a0c-439d-974a-3e21b738b1ff",
   "metadata": {},
   "source": [
    "The SCP Toolbox provides several SCP algorithm choices: `PTR`, `SCvx`, and `GuSTO`.\n",
    "\n",
    "Each algorithm must be provided with a set of parameters that define its behavior. Most of the parameters are shared, but some are algorithm-specific.\n",
    "\n",
    "SCP algorithm performance depends significantly on a well-chosen set of parameters, and this is problem-dependent.\n",
    "\n",
    "A lot of intuition is documented in our [Control Systems Magazine article](https://arxiv.org/abs/2106.09125)."
   ]
  },
  {
   "cell_type": "code",
   "execution_count": null,
   "id": "a313c96c-6ad6-4a5e-b458-147d50458c6e",
   "metadata": {},
   "outputs": [],
   "source": [
    "# Parameters\n",
    "N, Nsub = 20, 20\n",
    "iter_max = 30\n",
    "disc_method = FOH\n",
    "wvc, wtr = 1e1, 1e-1\n",
    "feas_tol = 5e-3\n",
    "ε_abs, ε_rel = 1e-5, 1e-4\n",
    "q_tr = Inf\n",
    "q_exit = Inf\n",
    "solver, solver_options = ECOS, Dict(\"verbose\"=>0)      \n",
    "\n",
    "pars = PTR.Parameters(N, Nsub, iter_max, disc_method, wvc, wtr, ε_abs,\n",
    "                      ε_rel, feas_tol, q_tr, q_exit, solver, solver_options);"
   ]
  },
  {
   "cell_type": "markdown",
   "id": "644032a6-fa28-4fba-8c9f-4737f60e60de",
   "metadata": {},
   "source": [
    "Alternative convex solver options:"
   ]
  },
  {
   "cell_type": "code",
   "execution_count": null,
   "id": "efb5dcb2-a340-4d89-97cc-e4ccfcb054b3",
   "metadata": {},
   "outputs": [],
   "source": [
    "# solver, options = Gurobi, Dict(\"OutputFlag\"=>0)  # works\n",
    "# solver, options = OSQP, Dict(\"verbose\"=>0)       # works\n",
    "# solver, options = Mosek, Dict(\"MSK_IPAR_LOG\"=>0)\n",
    "# solver, options = Ipopt, Dict()                  # doesn't work\n",
    "# solver, options = COSMO, Dict()                  # doesn't work\n",
    "# solver, options = SCS, Dict()                    # doesn't work"
   ]
  },
  {
   "cell_type": "markdown",
   "id": "5593c7b3-7941-41c5-a438-5a68ed10640e",
   "metadata": {},
   "source": [
    "## Solving the Trajectory Problem"
   ]
  },
  {
   "cell_type": "markdown",
   "id": "a8bc7cdf-5556-457c-afc0-6f735f44605b",
   "metadata": {},
   "source": [
    "Solving the problem amounts to initializing the SCP solver with its parameters, and providing the problem definition `pbm` from the API."
   ]
  },
  {
   "cell_type": "code",
   "execution_count": null,
   "id": "e95d6f09-c793-458e-a319-1b30d4919923",
   "metadata": {},
   "outputs": [],
   "source": [
    "ptr_pbm = PTR.create(pars, pbm)\n",
    "sol, history = PTR.solve(ptr_pbm);"
   ]
  },
  {
   "cell_type": "markdown",
   "id": "2a924f5a-0bd9-4527-a5ac-09f43444e74e",
   "metadata": {},
   "source": [
    "## Trajectory plot"
   ]
  },
  {
   "cell_type": "code",
   "execution_count": null,
   "id": "2baa367b-54da-4175-b547-6931c9d25477",
   "metadata": {},
   "outputs": [],
   "source": [
    "fig = plt.figure()\n",
    "ax = fig.add_subplot(111)\n",
    "\n",
    "ax.grid()\n",
    "\n",
    "_sol = history.subproblems[end].sol\n",
    "\n",
    "tf = _sol.p[1]\n",
    "xd = _sol.xd\n",
    "ud = _sol.ud\n",
    "vd = _sol.vd\n",
    "p_sol = _sol.p\n",
    "td = sol.td*tf\n",
    "\n",
    "Nc = 100\n",
    "tc = LinRange(0, tf, Nc)\n",
    "xc = hcat([sample(sol.xc, t) for t in LinRange(0, 1, Nc)]...)\n",
    "\n",
    "# ax.plot(td, xd[1, :], marker=\".\", linestyle=\"none\", label=\"x\")\n",
    "\n",
    "# ax.plot(td, xd[2, :], marker=\".\", markersize=10, linestyle=\"none\", label=\"y-dt\", zorder=100)\n",
    "# ax.plot(td, xd[2, :], linestyle=\"-\", label=\"y-ct\")\n",
    "\n",
    "ax.plot(td, xd[2, :], marker=\".\", markersize=10, linestyle=\"none\", label=\"y-dt\", zorder=100)\n",
    "ax.plot(tc, xc[2, :], linestyle=\"-\", label=\"y-ct\")\n",
    "\n",
    "ax.legend()\n",
    "\n",
    "ax.set_xlabel(\"time\")\n",
    ";"
   ]
  },
  {
   "cell_type": "code",
   "execution_count": null,
   "id": "6e02a6b2-2847-42a0-a06b-18f31abdf722",
   "metadata": {},
   "outputs": [],
   "source": [
    "fig = plt.figure()\n",
    "ax = fig.add_subplot(111)\n",
    "\n",
    "ax.grid()\n",
    "ax.axis(\"equal\")\n",
    "\n",
    "ax.plot(xd[1, :], xd[2, :], marker=\".\", markersize=10, linestyle=\"none\", label=\"pos dt\", zorder=100)\n",
    "ax.plot(xc[1, :], xc[2, :], linestyle=\"-\", label=\"pos ct\")\n",
    "\n",
    "span_gs = max(100, 2*abs(x_0[1]))\n",
    "x_cone = [-span_gs; 0; span_gs]\n",
    "ax.plot(x_cone, tan(γ_gs).*abs.(x_cone), linestyle=\"--\", color=\"red\", label=\"gs\")\n",
    "\n",
    "ax.legend()\n",
    "\n",
    "ax.set_xlabel(\"x pos\")\n",
    "ax.set_xlabel(\"y pos\")\n",
    ";"
   ]
  },
  {
   "cell_type": "code",
   "execution_count": null,
   "id": "401ba461-19d2-4c83-993b-087b31927dcf",
   "metadata": {},
   "outputs": [],
   "source": [
    "fig = plt.figure()\n",
    "ax = fig.add_subplot(111)\n",
    "\n",
    "ax.grid()\n",
    "\n",
    "ax.plot(td, xd[4, :], marker=\".\", markersize=10, linestyle=\"none\", label=\"vy-dt\", zorder=100)\n",
    "ax.plot(tc, xc[4, :], linestyle=\"-\", label=\"v-ct\")\n",
    "\n",
    "ax.legend()\n",
    "\n",
    "ax.set_xlabel(\"time\")\n",
    ";"
   ]
  },
  {
   "cell_type": "code",
   "execution_count": null,
   "id": "b1a4aded-2a98-4cb8-9451-e78be099823f",
   "metadata": {},
   "outputs": [],
   "source": [
    "fig = plt.figure()\n",
    "ax = fig.add_subplot(111)\n",
    "\n",
    "ax.grid()\n",
    "\n",
    "ax.plot(td, xd[7, :], marker=\".\", markersize=10, linestyle=\"none\", label=\"mass-dt\", zorder=100)\n",
    "ax.plot(tc, xc[7, :], linestyle=\"-\", label=\"mass-ct\")\n",
    "\n",
    "ax.legend()\n",
    "\n",
    "ax.set_xlabel(\"time\")\n",
    ";"
   ]
  },
  {
   "cell_type": "code",
   "execution_count": null,
   "id": "25d8bde8-5907-46c5-abd8-b024a1de2033",
   "metadata": {},
   "outputs": [],
   "source": [
    "fig = plt.figure(figsize=(6, 8))\n",
    "ax = fig.add_subplot(211)\n",
    "\n",
    "ax.grid()\n",
    "\n",
    "ax.plot(td, rad2deg.(xd[5, :]), marker=\".\", markersize=10, linestyle=\"none\", label=\"y-dt\", zorder=100)\n",
    "ax.plot(tc, rad2deg.(xc[5, :]), linestyle=\"-\", label=\"y-ct\")\n",
    "\n",
    "ax.legend()\n",
    "\n",
    "ax.set_xlabel(\"time\")\n",
    "ax.set_ylabel(\"angle\")\n",
    "\n",
    "ax = fig.add_subplot(212)\n",
    "\n",
    "ax.grid()\n",
    "\n",
    "ax.plot(td, rad2deg.(xd[6, :]), marker=\".\", markersize=10, linestyle=\"none\", label=\"y-dt\", zorder=100)\n",
    "ax.plot(tc, rad2deg.(xc[6, :]), linestyle=\"-\", label=\"y-ct\")\n",
    "\n",
    "ax.legend()\n",
    "\n",
    "ax.set_xlabel(\"time\")\n",
    "ax.set_ylabel(\"angular rate\")\n",
    ";"
   ]
  },
  {
   "cell_type": "code",
   "execution_count": null,
   "id": "2ee37548-d4f5-468d-bd6d-da05584c2c04",
   "metadata": {},
   "outputs": [],
   "source": [
    "fig = plt.figure()\n",
    "ax = fig.add_subplot(111)\n",
    "\n",
    "ax.grid()\n",
    "\n",
    "uc = hcat([sample(sol.uc, t) for t in LinRange(0, 1, Nc)]...)\n",
    "\n",
    "ax.plot(td, ud[1, :], marker=\".\", markersize=10, linestyle=\"none\", label=\"T-dt\", zorder=100)\n",
    "ax.plot(tc, uc[1, :], linestyle=\"-\", label=\"T-ct\")\n",
    "\n",
    "ax.axhline(y=T_min, color=\"red\", linestyle=\"--\")\n",
    "ax.axhline(y=T_max, color=\"red\", linestyle=\"--\")\n",
    "\n",
    "ax.legend()\n",
    "tc\n",
    "ax.set_xlabel(\"time\")"
   ]
  },
  {
   "cell_type": "code",
   "execution_count": null,
   "id": "c5a0f4e5-ef83-4b5e-adb3-f26e0eb3c150",
   "metadata": {},
   "outputs": [],
   "source": [
    "fig = plt.figure()\n",
    "ax = fig.add_subplot(111)\n",
    "\n",
    "ax.grid()\n",
    "\n",
    "ax.plot(td, rad2deg.(ud[2, :]), marker=\".\", markersize=10, linestyle=\"none\", label=\"δ-dt\", zorder=100)\n",
    "ax.plot(tc, rad2deg.(uc[2, :]), linestyle=\"-\", label=\"δ-ct\")\n",
    "\n",
    "ax.axhline(y=rad2deg(-δ_max), color=\"red\", linestyle=\"--\")\n",
    "ax.axhline(y=rad2deg(δ_max), color=\"red\", linestyle=\"--\")\n",
    "\n",
    "ax.legend()\n",
    "tc\n",
    "ax.set_xlabel(\"time\")"
   ]
  },
  {
   "cell_type": "code",
   "execution_count": null,
   "id": "652a1f8f-012f-463d-85d7-4da3e77c4710",
   "metadata": {},
   "outputs": [],
   "source": [
    "tf_values = [spbm.sol.p[1] for spbm in history.subproblems]\n",
    "pushfirst!(tf_values, history.subproblems[1].ref.p[1])\n",
    "\n",
    "fig = plt.figure(1)\n",
    "ax = fig.add_subplot(111)\n",
    "ax.grid()\n",
    "ax.plot(tf_values)\n",
    "ax.set_xlabel(\"SCP iteration\")\n",
    "ax.set_ylabel(\"time dilation\")\n",
    ";"
   ]
  },
  {
   "cell_type": "code",
   "execution_count": null,
   "id": "eb3795bc-a3ca-44be-8127-029b6a954d0b",
   "metadata": {},
   "outputs": [],
   "source": [
    "fig = plt.figure(figsize=(12, 9))\n",
    "for i = 1:7\n",
    "    ax = fig.add_subplot(3, 3, i)\n",
    "    ax.grid()\n",
    "    ax.plot(td[1:end-1], vd[i, :], marker=\".\", markersize=5, linestyle=\"none\", label=\"T-dt\", zorder=100)\n",
    "    ax.set_ylabel(\"vd$i\")\n",
    "    ax.set_xlabel(\"time\")\n",
    "end\n",
    "plt.tight_layout()"
   ]
  },
  {
   "cell_type": "code",
   "execution_count": null,
   "id": "c5e0f360-09b7-40d6-9b1e-94669f03e0f9",
   "metadata": {},
   "outputs": [],
   "source": [
    "# function set_fonts()::Nothing\n",
    "#     # Set the figure fonts.\n",
    "#     fig_small_sz = 12\n",
    "#     fig_med_sz = 15\n",
    "#     fig_big_sz = 17\n",
    "#     plt.rc(\"text\", usetex=true)\n",
    "#     plt.rc(\"font\", size=fig_small_sz, family=\"serif\")\n",
    "#     plt.rc(\"axes\", titlesize=fig_small_sz)\n",
    "#     plt.rc(\"axes\", labelsize=fig_med_sz)\n",
    "#     plt.rc(\"xtick\", labelsize=fig_small_sz)\n",
    "#     plt.rc(\"ytick\", labelsize=fig_small_sz)\n",
    "#     plt.rc(\"legend\", fontsize=fig_small_sz)\n",
    "#     plt.rc(\"figure\", titlesize=fig_big_sz)\n",
    "#     plt.rc(\"figure\", dpi=300) \n",
    "#     return nothing\n",
    "# end\n",
    "# ;"
   ]
  },
  {
   "cell_type": "code",
   "execution_count": null,
   "id": "3408ae45-8e1c-40ca-a2b9-e468e298543a",
   "metadata": {},
   "outputs": [],
   "source": [
    "# # Trajectory plot\n",
    "# ctres, overlap = 1000, 3\n",
    "# N = size(sol.xd, 2)\n",
    "# xct = hcat([sample(sol.xc, t) for t in LinRange(0, 1, ctres)]...)\n",
    "# vct = vcat([sample(sol.uc, t)[1] for t in LinRange(0, 1, ctres)]...)\n",
    "# cmap = generate_colormap(\"inferno\"; minval=minimum(vct), maxval=maximum(vct))\n",
    "\n",
    "# # plot_options = Dict(\"xtick.labelsize\"=>9,\n",
    "# #                     \"ytick.labelsize\"=>9,\n",
    "# #                     \"axes.labelsize\"=>11)\n",
    "# # fig = create_figure((4, 4); options = plot_options)\n",
    "\n",
    "# fig = plt.figure(figsize=(4,4), dpi=300)\n",
    "# plt.clf()\n",
    "# set_fonts()\n",
    "# set_fonts()\n",
    "\n",
    "# ax = setup_axis!(111, xlabel=\"\\$x\\$ [m]\", ylabel=\"\\$y\\$ [m]\",\n",
    "#                  axis=\"equal\", cbar=cmap, clabel=\"Velocity, \\$v\\$ [m/s]\",\n",
    "#                  cbar_aspect=40)\n",
    "# ax.plot(sol.xd[1, :], sol.xd[2, :],\n",
    "#         linestyle=\"none\", marker=\"o\", markerfacecolor=DarkBlue,\n",
    "#         markeredgecolor=\"white\", markeredgewidth=0.2, markersize=3,\n",
    "#         zorder=20)\n",
    "# line_segs = Vector{Matrix}(undef, 0)\n",
    "# line_clrs = Vector{NTuple{4, Real}}(undef, 0)\n",
    "# for k=1:ctres-overlap\n",
    "#     push!(line_segs, xct[1:2, k:k+overlap]')\n",
    "#     push!(line_clrs, cmap.to_rgba(vct[k]))\n",
    "# end\n",
    "# trajectory = PyPlot.matplotlib.collections.LineCollection(\n",
    "#     line_segs, zorder=10, colors = line_clrs, linewidths=3,\n",
    "#     capstyle=\"round\")\n",
    "# ax.add_collection(trajectory)\n",
    "# Rect = PyPlot.matplotlib.patches.Rectangle\n",
    "# car_length = 0.2\n",
    "# for k=1:N\n",
    "#     local xl, xw = [1;1;-1;-1;1]*car_length/2, [1;-1;-1;1;1]*car_width/2\n",
    "#     local yl, yw = [1;1;-1;-1;1]*car_length/2, [-1;1;1;-1;-1]*car_width/2\n",
    "#     local ang = sol.xd[3,k]\n",
    "#     local xc = sol.xd[1,k].+xl.*sin(ang).+xw.*cos(ang)\n",
    "#     local yc = sol.xd[2,k].+yl.*cos(ang).+yw.*sin(ang)\n",
    "#     ax.fill(xc, yc,\n",
    "#             linewidth=1,\n",
    "#             edgecolor=DarkBlue,\n",
    "#             facecolor=rgb2pyplot(parse(RGB, Red), a=0.5),\n",
    "#             zorder=6)\n",
    "# end\n",
    "# ang = LinRange(0, 2*pi, 100)\n",
    "# obs = ([cos.(ang)'; sin.(ang)']*r_0).+c_0\n",
    "# ax.fill(obs[1, :], obs[2, :],\n",
    "#         linewidth=1,\n",
    "#         edgecolor=Blue,\n",
    "#         facecolor=rgb2pyplot(parse(RGB, Green), a=0.5),\n",
    "#         zorder=5)\n",
    "\n",
    "# fig.savefig(\"../media/outputs/dubin_trajectory.png\", dpi=\"figure\", bbox_inches=nothing)\n",
    "\n",
    "# plt.close()"
   ]
  },
  {
   "cell_type": "markdown",
   "id": "4af8ff72-a0e9-47ce-915c-379ca8dbc1ae",
   "metadata": {},
   "source": [
    "## Replace figure\n",
    "\n",
    "<!-- <div style=\"text-align: center\">\n",
    "    <img src=\"../media/outputs/dubin_trajectory.png\"\n",
    "         alt=\"Dubin's car overview\"\n",
    "         style=\"background-color: white; width: 500px; display: block; margin-left: auto; margin-right: auto;\"/>\n",
    "    <br />\n",
    "    <b>Figure.</b> Computed Dubin's car trajectory for minimum-input usage.\n",
    "</div> -->"
   ]
  }
 ],
 "metadata": {
  "kernelspec": {
   "display_name": "Julia 1.7.1",
   "language": "julia",
   "name": "julia-1.7"
  },
  "language_info": {
   "file_extension": ".jl",
   "mimetype": "application/julia",
   "name": "julia",
   "version": "1.7.1"
  }
 },
 "nbformat": 4,
 "nbformat_minor": 5
}
