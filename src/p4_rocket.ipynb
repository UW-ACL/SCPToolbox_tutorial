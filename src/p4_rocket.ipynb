{
 "cells": [
  {
   "cell_type": "markdown",
   "id": "457496e8-f051-491a-a922-e11d4684223d",
   "metadata": {},
   "source": [
    "# SCP Toolbox Workshop\n",
    "\n",
    "___A tutorial on generating dynamically feasible trajectories reliably and efficiently___\n",
    "\n",
    "Monday, February 7, 2022\n",
    "\n",
    "Rocky Mountain AAS GN&C Conference, Breckenridge, CO"
   ]
  },
  {
   "cell_type": "code",
   "execution_count": null,
   "id": "b046a02d-fcb1-4dd8-8a9d-28d18c7b3a8a",
   "metadata": {
    "slideshow": {
     "slide_type": "skip"
    },
    "tags": []
   },
   "outputs": [],
   "source": [
    "import Pkg\n",
    "Pkg.activate(\"..\")\n",
    "\n",
    "# these lines are required only for local installations\n",
    "# Pkg.develop(path=\"../../SCPToolbox.jl/\")\n",
    "# Pkg.precompile()\n",
    "\n",
    "using SCPToolbox\n",
    "using PyCall, PyPlot, Colors, LinearAlgebra\n",
    "\n",
    "# Import the different possible low-level convex solvers\n",
    "using ECOS\n",
    "# using Ipopt\n",
    "# using SCS\n",
    "# using OSQP"
   ]
  },
  {
   "cell_type": "markdown",
   "id": "572810fc-a18f-4040-ae30-965c1f711f0f",
   "metadata": {},
   "source": [
    "# Part 4: Rocket-Landing Guidance"
   ]
  },
  {
   "cell_type": "markdown",
   "id": "407d3e78-d702-4bd4-a356-c9a89de73294",
   "metadata": {},
   "source": [
    "In this part of the tutorial, you will participate in formulating and solving a Lunar rocket landing trajectory optimization problem.\n",
    "\n",
    "The rocket has a 2-dimensional position and a rotation, and a gimbaled rocket engine. The goal is to take the rocket from an airborne state to a soft touchdown on the ground.\n",
    "\n",
    "<center>\n",
    "    <img src=\"media/p4-rocket-landing-overview.png\"\n",
    "         alt=\"rocket-landing\"\n",
    "         style=\"background-color: white; width: 300px; display: block; margin-left: auto; margin-right: auto;\"/>\n",
    "    <br />\n",
    "    <b>Figure.</b> Illustration of the rocket soft landing problem.\n",
    "    <br />\n",
    "    <br />\n",
    "</center>"
   ]
  },
  {
   "cell_type": "markdown",
   "id": "796d89f0-6109-4462-b8a4-831ac1c22fe2",
   "metadata": {},
   "source": [
    "Begin by defining a new `TrajectoryProblem` object."
   ]
  },
  {
   "cell_type": "code",
   "execution_count": null,
   "id": "29113eda-edec-4a41-b2a0-174df49cdfa4",
   "metadata": {
    "tags": []
   },
   "outputs": [],
   "source": [
    "pbm = # Enter your code here"
   ]
  },
  {
   "cell_type": "markdown",
   "id": "08abe850-2560-4f6f-a6e8-001f2a95969b",
   "metadata": {},
   "source": [
    "<details>\n",
    "\n",
    "<summary>Answer</summary>\n",
    "\n",
    "\n",
    "\n",
    "```julia\n",
    "pbm = TrajectoryProblem();\n",
    "```\n",
    "</details>"
   ]
  },
  {
   "cell_type": "markdown",
   "id": "9dbde805-aef6-4c32-9dab-41030d13dedc",
   "metadata": {},
   "source": [
    "## Rocket parameters"
   ]
  },
  {
   "cell_type": "markdown",
   "id": "ce8a7627-73b2-4ce6-892e-b89a213b0072",
   "metadata": {},
   "source": [
    "Any trajectory optimization problem begins by defining the constant parameters of the problem. For example, how much does the rocket weigh? How high up does it start?\n",
    "\n",
    "We define these below."
   ]
  },
  {
   "cell_type": "code",
   "execution_count": null,
   "id": "c499f9b3-115a-49ee-9ef9-92cd11405f06",
   "metadata": {},
   "outputs": [],
   "source": [
    "# Environment parameters\n",
    "g = 1.625 # [m/s^2] Gravitational acceleration of the planet\n",
    "g_E = 9.807; # [m/s^2] Earth gravity"
   ]
  },
  {
   "cell_type": "code",
   "execution_count": null,
   "id": "98779c4b-14e7-4857-ad00-0cec06cff308",
   "metadata": {},
   "outputs": [],
   "source": [
    "# Mechanical parameters\n",
    "m_wet = 25e3 # [kg] Initial mass\n",
    "L = 0.5 # [m] Thrust lever arm\n",
    "J = 100e3; # [kg*m^2] Moment of inertia"
   ]
  },
  {
   "cell_type": "code",
   "execution_count": null,
   "id": "c9f1b1ea-e738-451b-9a1a-d5580adf4e9f",
   "metadata": {},
   "outputs": [],
   "source": [
    "# Propulsion parameters\n",
    "Isp = 370 # [s] Specific impulse\n",
    "T_min = 20e3 # [N] Minimum thrust\n",
    "T_max = 80e3 # [N] Maximum thrust\n",
    "α = 1 / (Isp * g_E) # [kg/s/N] Fuel consumption rate coefficient\n",
    "δ_max = deg2rad(10.0); # [rad] Maximum gimbal angle"
   ]
  },
  {
   "cell_type": "code",
   "execution_count": null,
   "id": "c94e23ec-fd21-4172-bf7f-9681059dd73a",
   "metadata": {},
   "outputs": [],
   "source": [
    "# Trajectory parameters\n",
    "γ_gs = deg2rad(45.0); # [rad] Glideslope angle (measured from the horizon)"
   ]
  },
  {
   "cell_type": "markdown",
   "id": "7a92f244-c651-4686-b93c-6cbb884e232f",
   "metadata": {},
   "source": [
    "## Rocket dynamics"
   ]
  },
  {
   "cell_type": "markdown",
   "id": "73db0e87-afcc-4263-a424-a1331093adcb",
   "metadata": {},
   "source": [
    "The partial rocket dynamics are given by the following ordinary differential equations:\n",
    "\n",
    "\\begin{align}\n",
    "\\dot x &= v_x, \\\\\n",
    "\\dot y &= \\mathrm{\\color{grey}{TODO}}, \\\\\n",
    "\\dot v_x &= -\\frac{T}{m}\\sin(\\theta+\\delta), \\\\\n",
    "\\dot v_y &= \\mathrm{\\color{grey}{TODO}}, \\\\\n",
    "\\dot \\theta &= \\mathrm{\\color{grey}{TODO}}, \\\\\n",
    "\\dot \\omega &= -\\frac{LT}{J}\\sin(\\delta), \\\\\n",
    "\\dot m &= -\\alpha T.\n",
    "\\end{align}"
   ]
  },
  {
   "cell_type": "markdown",
   "id": "424d35ea-7ed4-451a-8833-52f3420c09f7",
   "metadata": {},
   "source": [
    "<details>\n",
    "\n",
    "<summary>Answer</summary>\n",
    "\n",
    "\\begin{align}\n",
    "    \\dot y &= v_y, \\\\\n",
    "    \\dot v_y &= \\frac{T}{m}\\cos(\\theta+\\delta)-g, \\\\\n",
    "    \\dot \\theta &= \\omega.\n",
    "\\end{align}\n",
    "\n",
    "</details>"
   ]
  },
  {
   "cell_type": "markdown",
   "id": "7ad0df62-a6c4-4729-9d6f-3f94739d6e37",
   "metadata": {},
   "source": [
    "Define the state vector $x\\in\\mathbb R^n$, with the elements in the same order as they appear on the left-hand side of the ordinary differential equations above:\n",
    "\n",
    "$$\n",
    "x = \\begin{bmatrix}\n",
    "\\mathrm{\\color{grey}{TODO}}\n",
    "\\end{bmatrix}.\n",
    "$$"
   ]
  },
  {
   "cell_type": "markdown",
   "id": "c98afd6b-97e3-466f-b5b7-45e0be7984e6",
   "metadata": {},
   "source": [
    "<details>\n",
    "\n",
    "<summary>Answer</summary>\n",
    "\n",
    "$$\n",
    "x = \\begin{bmatrix}\n",
    "x \\\\ y \\\\ v_x \\\\ v_y \\\\ \\theta \\\\ \\omega \\\\ m\n",
    "\\end{bmatrix}\n",
    "$$\n",
    "\n",
    "</details>"
   ]
  },
  {
   "cell_type": "markdown",
   "id": "bb8bee1e-208f-4e6c-ab7b-4828244423b1",
   "metadata": {},
   "source": [
    "Define the input vector $u\\in\\mathbb R^m$, with the thrust coming first:\n",
    "\n",
    "$$\n",
    "u = \\begin{bmatrix}\n",
    "\\mathrm{\\color{grey}{TODO}}\n",
    "\\end{bmatrix}.\n",
    "$$"
   ]
  },
  {
   "cell_type": "markdown",
   "id": "f94f99cb-5d5b-47cd-a454-354d8a7def90",
   "metadata": {},
   "source": [
    "<details>\n",
    "\n",
    "<summary>Answer</summary>\n",
    "\n",
    "$$\n",
    "u = \\begin{bmatrix}\n",
    "T \\\\ \\delta\n",
    "\\end{bmatrix}\n",
    "$$\n",
    "\n",
    "</details>"
   ]
  },
  {
   "cell_type": "markdown",
   "id": "cf2c3e77-27d0-4271-baa3-045f5dbe121d",
   "metadata": {},
   "source": [
    "Complete the function below that evaluates the right-hand side of the dynamics ordinary differential equations above. The function signature is:\n",
    "\n",
    "$$\n",
    "\\dot x = f_{rocket}(x, u),\n",
    "$$\n",
    "\n",
    "where the arguments are the state and input and the output is the state time derivative."
   ]
  },
  {
   "cell_type": "code",
   "execution_count": null,
   "id": "4473cb08-dcb2-4827-bb51-5ed801d965f8",
   "metadata": {},
   "outputs": [],
   "source": [
    "f_rocket(x, u) = begin\n",
    "    rx, ry, vx, vy, θ, ω, m = x\n",
    "    T, δ = u\n",
    "    # Enter your code here\n",
    "end;"
   ]
  },
  {
   "cell_type": "markdown",
   "id": "f08eb7d3-36e4-45bb-8a4d-63e9a9d7d2f6",
   "metadata": {},
   "source": [
    "<details>\n",
    "\n",
    "<summary>Answer</summary>\n",
    "\n",
    "```julia\n",
    "f_rocket(x, u) = begin\n",
    "    rx, ry, vx, vy, θ, ω, m = x\n",
    "    T, δ = u\n",
    "    return [vx; vy; -(T/m)*sin(θ+δ); (T/m)*cos(θ+δ)-g; ω; -(L*T/J)*sin(δ); -α*T]\n",
    "end;\n",
    "```\n",
    "\n",
    "</details>"
   ]
  },
  {
   "cell_type": "markdown",
   "id": "22984af8-9e54-4a80-acd1-42df3ad57a95",
   "metadata": {},
   "source": [
    "Remember from the Dubin's car example that SCP Toolbox operates on a normalized-time problem where time takes values in $[0,1]$.\n",
    "\n",
    "We are going to solve a free-final time rocket landing problem, and this requires us to introduce a one-element parameter vector that holds the time dilation coefficient:\n",
    "\n",
    "$$\n",
    "p = \\begin{bmatrix}\n",
    "t_f\n",
    "\\end{bmatrix}.\n",
    "$$"
   ]
  },
  {
   "cell_type": "markdown",
   "id": "6572d2ce-51f9-4df8-a868-6448df53aff6",
   "metadata": {},
   "source": [
    "The normalized-time dynamics are given by:\n",
    "\n",
    "$$\n",
    "\\dot x = t_f f_{rocket}(x, u) \\equiv f(x, u, p).\n",
    "$$\n",
    "\n",
    "This allows us to write the normalized-time dynamics in Julia as follows."
   ]
  },
  {
   "cell_type": "code",
   "execution_count": null,
   "id": "bb70e8f5-ffe4-4357-b409-b6cb9b6c31da",
   "metadata": {},
   "outputs": [],
   "source": [
    "f(x, u, p) = begin\n",
    "    tf, = p\n",
    "    f_rocket(x, u)*tf\n",
    "end;"
   ]
  },
  {
   "cell_type": "markdown",
   "id": "7ba856f9-d7d1-408f-81c3-007568de97a4",
   "metadata": {},
   "source": [
    "Based on the above definitions of the state ($x$), the input ($u$), and the parameter ($p$), record their dimensions ($n$, $m$, and $d$, respectively)."
   ]
  },
  {
   "cell_type": "code",
   "execution_count": null,
   "id": "6567075f-911e-41c7-b137-50c46697ec44",
   "metadata": {},
   "outputs": [],
   "source": [
    "n = # Enter your code here\n",
    "m = # Enter your code here\n",
    "d = # Enter your code here"
   ]
  },
  {
   "cell_type": "markdown",
   "id": "eb4959b3-7047-445f-b3f9-22688f9270ed",
   "metadata": {},
   "source": [
    "<details>\n",
    "\n",
    "<summary>Answer</summary>\n",
    "\n",
    "```julia\n",
    "n = 7\n",
    "m = 2\n",
    "d = 1\n",
    "```\n",
    "\n",
    "</details>"
   ]
  },
  {
   "cell_type": "markdown",
   "id": "e9e8924e-4387-425c-af8a-f730d33deee5",
   "metadata": {},
   "source": [
    "Use the SCP Toolbox API to define the state, input, and parameter dimensions in the problem."
   ]
  },
  {
   "cell_type": "code",
   "execution_count": null,
   "id": "32b47290-5d23-475c-9050-5e09e39b4058",
   "metadata": {},
   "outputs": [],
   "source": [
    "# Enter your code here"
   ]
  },
  {
   "cell_type": "markdown",
   "id": "ac4cb108-8d22-4fbe-a0d1-e01cb35100a5",
   "metadata": {},
   "source": [
    "<details>\n",
    "\n",
    "<summary>Answer</summary>\n",
    "\n",
    "```julia\n",
    "problem_set_dims!(pbm, n, m, d)\n",
    "```\n",
    "\n",
    "</details>"
   ]
  },
  {
   "cell_type": "markdown",
   "id": "a7849874-ad56-4c82-ada2-a9a9ef278521",
   "metadata": {},
   "source": [
    "### Jacobians"
   ]
  },
  {
   "cell_type": "markdown",
   "id": "75ccb046-60c5-41f8-bf8a-5b81bc699698",
   "metadata": {},
   "source": [
    "We need to define the Jacobians of the dynamics with respect to the state, input, and parameter vectors.\n",
    "\n",
    "Remember the definition of the Jacobian of a general function $g(z):\\mathbb R^n\\to\\mathbb R^m$:\n",
    "\n",
    "$$\n",
    "\\nabla_z g(z) = \\begin{bmatrix}\n",
    "\\frac{\\partial g(z)}{\\partial z_1} &\n",
    "\\frac{\\partial g(z)}{\\partial z_2} &\n",
    "\\cdots &\n",
    "\\frac{\\partial g(z)}{\\partial z_n}\n",
    "\\end{bmatrix}\\in\\mathbb R^{m\\times n}.\n",
    "$$"
   ]
  },
  {
   "cell_type": "markdown",
   "id": "26263bba-43fe-4d5d-979d-a7010f8c910e",
   "metadata": {},
   "source": [
    "With the above in mind, write down \"in math\" the Jacobian of the dynamics with respect to $x$:\n",
    "\n",
    "$$\n",
    "A(x, u, p) = \\nabla_x f(x, u, p) = \\begin{bmatrix}\n",
    "\\mathrm{\\color{grey}{TODO}}\n",
    "\\end{bmatrix}\\in\\mathbb R^{n\\times n}.\n",
    "$$\n",
    "\n",
    "To help, here is what the column corresponding to the state $x_5\\equiv\\theta$ looks like:\n",
    "\n",
    "$$\n",
    "\\begin{bmatrix}\n",
    "0\\\\0\\\\- \\frac{T t_f \\cos{\\left(\\delta + \\theta \\right)}}{m}\\\\- \\frac{T t_f \\sin{\\left(\\delta + \\theta \\right)}}{m}\\\\0\\\\0\\\\0\\end{bmatrix}.\n",
    "$$"
   ]
  },
  {
   "cell_type": "markdown",
   "id": "0606a1ee-8209-46fc-885e-61c3ecf84864",
   "metadata": {},
   "source": [
    "<details>\n",
    "\n",
    "<summary>Answer</summary>\n",
    "\n",
    "$$\n",
    "A(x, u, p) = \n",
    "\\begin{bmatrix}\n",
    "0 & 0 & t_f & 0 & 0 & 0 & 0\\\\\n",
    "0 & 0 & 0 & t_f & 0 & 0 & 0\\\\\n",
    "0 & 0 & 0 & 0 & - \\frac{T t_f \\cos{\\left(\\delta + \\theta \\right)}}{m} & 0 & \\frac{T t_f \\sin{\\left(\\delta + \\theta \\right)}}{m^{2}}\\\\0 & 0 & 0 & 0 & - \\frac{T t_f \\sin{\\left(\\delta + \\theta \\right)}}{m} & 0 & - \\frac{T t_f \\cos{\\left(\\delta + \\theta \\right)}}{m^{2}}\\\\0 & 0 & 0 & 0 & 0 & t_f & 0\\\\0 & 0 & 0 & 0 & 0 & 0 & 0\\\\0 & 0 & 0 & 0 & 0 & 0 & 0\\end{bmatrix}.\n",
    "$$\n",
    "\n",
    "</details>"
   ]
  },
  {
   "cell_type": "markdown",
   "id": "eb54d88b-bdcf-4a80-b917-9f289befc921",
   "metadata": {},
   "source": [
    "Now implement the function in Julia."
   ]
  },
  {
   "cell_type": "code",
   "execution_count": null,
   "id": "7f6aaf0e-1a3d-4478-8954-36a2a42b049f",
   "metadata": {},
   "outputs": [],
   "source": [
    "A(x, u, p) = begin\n",
    "    rx, ry, vx, vy, θ, ω, m = x\n",
    "    T, δ = u\n",
    "    tf, = p\n",
    "    # Enter your code here\n",
    "end;"
   ]
  },
  {
   "cell_type": "markdown",
   "id": "a7efa037-85fe-4ef1-ac3d-b64c07ca4907",
   "metadata": {},
   "source": [
    "<details>\n",
    "\n",
    "<summary>Answer</summary>\n",
    "\n",
    "```julia\n",
    "A(x, u, p) = begin\n",
    "    rx, ry, vx, vy, θ, ω, m = x\n",
    "    T, δ = u\n",
    "    tf, = p\n",
    "    return [0 0 1 0       0       0       0\n",
    "            0 0 0 1       0       0       0\n",
    "            0 0 0 0 -T/m*cos(θ+δ) 0 T/m^2*sin(θ+δ)\n",
    "            0 0 0 0 -T/m*sin(θ+δ) 0 -T/m^2*cos(θ+δ)\n",
    "            0 0 0 0       0       1       0\n",
    "            0 0 0 0       0       0       0\n",
    "            0 0 0 0       0       0       0]*tf\n",
    "end\n",
    "```\n",
    "\n",
    "</details>"
   ]
  },
  {
   "cell_type": "markdown",
   "id": "6e20350a-1006-4332-8034-645aabca60e6",
   "metadata": {},
   "source": [
    "Similarly, write down the Jacobian with respect to the input, $u$:\n",
    "\n",
    "$$\n",
    "B(x, u, p) = \\nabla_u f(x, u, p) = \\begin{bmatrix}\n",
    "\\mathrm{\\color{grey}{TODO}}\n",
    "\\end{bmatrix}\\in\\mathbb R^{n\\times m}.\n",
    "$$"
   ]
  },
  {
   "cell_type": "markdown",
   "id": "ef9c6ba5-33bf-498f-acca-a2986a150b5d",
   "metadata": {},
   "source": [
    "<details>\n",
    "\n",
    "<summary>Answer</summary>\n",
    "\n",
    "$$\n",
    "B(x, u, p) = \n",
    "\\begin{bmatrix}\n",
    "0 & 0\\\\0 & 0\\\\- \\frac{t_f \\sin{\\left(\\delta + \\theta \\right)}}{m} & - \\frac{T t_f \\cos{\\left(\\delta + \\theta \\right)}}{m}\\\\\\frac{t_f \\cos{\\left(\\delta + \\theta \\right)}}{m} & - \\frac{T t_f \\sin{\\left(\\delta + \\theta \\right)}}{m}\\\\0 & 0\\\\- \\frac{L t_f \\sin{\\left(\\delta \\right)}}{J} & - \\frac{L T t_f \\cos{\\left(\\delta \\right)}}{J}\\\\- \\alpha t_f & 0\n",
    "\\end{bmatrix}.\n",
    "$$\n",
    "\n",
    "</details>"
   ]
  },
  {
   "cell_type": "markdown",
   "id": "bc50cd3c-da50-4041-850e-98120c9ead7b",
   "metadata": {},
   "source": [
    "Now implement the function in Julia."
   ]
  },
  {
   "cell_type": "code",
   "execution_count": null,
   "id": "b8d2dcbf-70f4-4109-b18c-cbf9c68fc310",
   "metadata": {},
   "outputs": [],
   "source": [
    "B(x, u, p) = begin\n",
    "    rx, ry, vx, vy, θ, ω, m = x\n",
    "    T, δ = u\n",
    "    tf, = p\n",
    "    # Enter your code here\n",
    "end;"
   ]
  },
  {
   "cell_type": "markdown",
   "id": "c83279b2-92cf-480d-9aae-74f4235da07f",
   "metadata": {},
   "source": [
    "<details>\n",
    "\n",
    "<summary>Answer</summary>\n",
    "\n",
    "```julia\n",
    "B(x, u, p) = begin\n",
    "    rx, ry, vx, vy, θ, ω, m = x\n",
    "    T, δ = u\n",
    "    tf, = p\n",
    "    return [     0            0\n",
    "                 0            0\n",
    "            -sin(θ+δ)/m -T/m*cos(θ+δ)\n",
    "             cos(θ+δ)/m -T/m*sin(θ+δ)\n",
    "                 0            0\n",
    "            -L/J*sin(δ) -L*T/J*cos(δ)\n",
    "                -α            0       ]*tf\n",
    "end\n",
    "```\n",
    "\n",
    "</details>"
   ]
  },
  {
   "cell_type": "markdown",
   "id": "07290144-f8dc-435d-b506-13e41eb5581d",
   "metadata": {},
   "source": [
    "Finally, write down the Jacobian with respect to the parameter vector, $p$:\n",
    "\n",
    "$$\n",
    "F(x, u, p) = \\nabla_p f(x, u, p) = \\begin{bmatrix}\n",
    "\\mathrm{\\color{grey}{TODO}}\n",
    "\\end{bmatrix}\\in\\mathbb R^{n\\times d}.\n",
    "$$"
   ]
  },
  {
   "cell_type": "markdown",
   "id": "d87b6cf3-2eef-4035-936e-86bd1fef87c9",
   "metadata": {},
   "source": [
    "<details>\n",
    "\n",
    "<summary>Answer</summary>\n",
    "\n",
    "$$\n",
    "F(x, u, p) = \n",
    "f_{rocket}(x, u).\n",
    "$$\n",
    "\n",
    "</details>"
   ]
  },
  {
   "cell_type": "markdown",
   "id": "1573e480-1e6c-4f8c-a85d-cabcfc630e42",
   "metadata": {},
   "source": [
    "Now implement the function in Julia."
   ]
  },
  {
   "cell_type": "code",
   "execution_count": null,
   "id": "02ff3cde-31bf-4841-a8d9-2a89f5739880",
   "metadata": {},
   "outputs": [],
   "source": [
    "F(x, u, p) = begin\n",
    "    rx, ry, vx, vy, θ, ω, m = x\n",
    "    T, δ = u\n",
    "    tf, = p\n",
    "    # Enter your code here\n",
    "end;"
   ]
  },
  {
   "cell_type": "markdown",
   "id": "684b7ca7-8732-4222-b29b-2fafdd2f7e3f",
   "metadata": {},
   "source": [
    "<details>\n",
    "\n",
    "<summary>Answer</summary>\n",
    "\n",
    "```julia\n",
    "F(x, u, p) = begin\n",
    "    rx, ry, vx, vy, θ, ω, m = x\n",
    "    T, δ = u\n",
    "    tf, = p\n",
    "    return reshape(f(x, u, p)/tf, 7, 1)\n",
    "end;\n",
    "```\n",
    "\n",
    "</details>"
   ]
  },
  {
   "cell_type": "markdown",
   "id": "68d64c9c-4a72-41a8-afbd-b28001dbe102",
   "metadata": {},
   "source": [
    "The SCP Toolbox API also passes other arguments to the dynamics and its Jacobians:\n",
    "* `t`: the time;\n",
    "* `k`: the discrete time index;\n",
    "* `pbm`: the `TrajectoryProblem` object that we defined at the very beginning.\n",
    "\n",
    "We write a simple wrapper to satisfy the API."
   ]
  },
  {
   "cell_type": "code",
   "execution_count": null,
   "id": "ebb84d52-be11-474f-8a9f-31804307a942",
   "metadata": {},
   "outputs": [],
   "source": [
    "wrap(func) = (t, k, x, u, p, pbm) -> func(x, u, p);\n",
    "f_scp = wrap(f)\n",
    "A_scp = wrap(A)\n",
    "B_scp = wrap(B)\n",
    "F_scp = wrap(F)"
   ]
  },
  {
   "cell_type": "markdown",
   "id": "b6782438-ecf1-431e-be5c-b30d3ee6cf83",
   "metadata": {},
   "source": [
    "Use the above functions `f_scp`, `A_scp`, `B_scp`, `F_scp` in order to define the dynamics using the SCP Toolbox API."
   ]
  },
  {
   "cell_type": "code",
   "execution_count": null,
   "id": "558209e9-f198-4e99-9d36-750051b5d0cc",
   "metadata": {},
   "outputs": [],
   "source": [
    "# Enter your code here"
   ]
  },
  {
   "cell_type": "markdown",
   "id": "a4692e85-e87f-46cd-8b94-c2d3c37e5f79",
   "metadata": {},
   "source": [
    "<details>\n",
    "\n",
    "<summary>Answer</summary>\n",
    "\n",
    "```julia\n",
    "problem_set_dynamics!(pbm, f_scp, A_scp, B_scp, F_scp)\n",
    "```\n",
    "\n",
    "</details>"
   ]
  },
  {
   "cell_type": "markdown",
   "id": "9bf80e96-53b6-4d9b-802c-841d0af1ba0c",
   "metadata": {},
   "source": [
    "## Boundary Conditions"
   ]
  },
  {
   "cell_type": "markdown",
   "id": "bcba0ed5-eac4-4863-9968-53c5847d39dd",
   "metadata": {},
   "source": [
    "Let's define the boundary conditions on the state as a fixed \"airborne\" point above the landing site at the start, and a point at the landing state at the end of the trajectory. Because the rocket depletes mass, and we do not know by how much ahead of time, the final mass is left unspecified."
   ]
  },
  {
   "cell_type": "code",
   "execution_count": null,
   "id": "afc3b0ed-5292-42b9-9e4a-0a182d1b6367",
   "metadata": {},
   "outputs": [],
   "source": [
    "km2m(x) = x*1e3 # Conversion from km to m\n",
    "kph2mps(v) = v/3.6 # Conversion from km/h to m/s\n",
    "\n",
    "# Initial state\n",
    "x_0 = [km2m(0.5)\n",
    "       km2m(1.4)\n",
    "       kph2mps(80)\n",
    "       kph2mps(-100)\n",
    "       deg2rad(-30.0)\n",
    "       deg2rad(0.0)\n",
    "       m_wet]\n",
    "\n",
    "# Terminal state (without mass)\n",
    "x_f = zeros(6);"
   ]
  },
  {
   "cell_type": "markdown",
   "id": "37ac6033-0e7a-4be0-a4ca-b871c57708a4",
   "metadata": {},
   "source": [
    "Recall that the boundary conditions are defined as the equality constraints:\n",
    "\n",
    "\\begin{align}\n",
    "g_{ic}(x(0), p) &= 0, \\\\\n",
    "g_{tc}(x(1), p) &= 0.\n",
    "\\end{align}\n",
    "\n",
    "Given the definitions of $x_0$ (`x_0`) and $x_f$ (`x_f`), define the $g_{ic}$ and $g_{tc}$ functions.\n",
    "\n",
    "\\begin{align}\n",
    "g_{ic}(x, p) &= \\mathrm{\\color{grey}{TODO}}, \\\\\n",
    "g_{tc}(x, p) &= \\mathrm{\\color{grey}{TODO}}.\n",
    "\\end{align}"
   ]
  },
  {
   "cell_type": "markdown",
   "id": "fddb68f0-d2d9-49ed-86ca-49b9d63ed0d7",
   "metadata": {},
   "source": [
    "<details>\n",
    "\n",
    "<summary>Answer</summary>\n",
    "\n",
    "\\begin{align}\n",
    "g_{ic}(x, p) &= x-x_0, \\\\\n",
    "g_{tc}(x, p) &= E_{m} x-x_f,\n",
    "\\end{align}\n",
    "where:\n",
    "$$\n",
    "E_{m} = \\begin{bmatrix}\n",
    "I\\in\\mathbb R^{6\\times 6} &\\mid & 0\n",
    "\\end{bmatrix}\\in\\mathbb R^{6\\times 7}.\n",
    "$$\n",
    "\n",
    "</details>"
   ]
  },
  {
   "cell_type": "markdown",
   "id": "f16f66d3-e273-4670-9e39-0428d04e9c3e",
   "metadata": {},
   "source": [
    "Now implement these functions in Julia."
   ]
  },
  {
   "cell_type": "code",
   "execution_count": null,
   "id": "7a5cce90-fae9-420a-af52-abd8831f3b42",
   "metadata": {},
   "outputs": [],
   "source": [
    "g_ic(x, p) = # Enter your code here\n",
    "g_tc(x, p) = # Enter your code here"
   ]
  },
  {
   "cell_type": "markdown",
   "id": "1448214e-ea66-4389-b344-11067f1db3af",
   "metadata": {},
   "source": [
    "<details>\n",
    "\n",
    "<summary>Answer</summary>\n",
    "\n",
    "```julia\n",
    "g_ic(x, p) = x-x_0\n",
    "g_tc(x, p) = x[1:6]-x_f;\n",
    "```\n",
    "\n",
    "</details>"
   ]
  },
  {
   "cell_type": "markdown",
   "id": "5f783597-44f2-4c75-94e8-ab33badb96a0",
   "metadata": {},
   "source": [
    "Again, we need to provide the Jacobians of $g_{ic}$ and $g_{tc}$ for the SCP algorithm to work with. This is needed because, in general, these may be nonaffine functions. Define the following Jacobians:\n",
    "\n",
    "\\begin{align}\n",
    "H_0(x(0), p) &= \\nabla_x g_{ic}(x(0), p), \\\\\n",
    "K_0(x(0), p) &= \\nabla_p g_{ic}(x(0), p), \\\\\n",
    "H_f(x(1), p) &= \\nabla_x g_{tc}(x(1), p), \\\\\n",
    "K_f(x(1), p) &= \\nabla_p g_{tc}(x(1), p).\n",
    "\\end{align}\n",
    "\n",
    "When a Jacobian is not provided, the SCP Toolbox assumes that it is zero. Write down the non-zero Jacobians for $g_{ic}$ and $g_{tc}$ (omit those that are zero).\n",
    "\n",
    "\\begin{align}\n",
    "H_0(x(0), p) &= \\mathrm{\\color{grey}{TODO}}, \\\\\n",
    "K_0(x(0), p) &= \\mathrm{\\color{grey}{TODO}}, \\\\\n",
    "H_f(x(1), p) &= \\mathrm{\\color{grey}{TODO}}, \\\\\n",
    "K_f(x(1), p) &= \\mathrm{\\color{grey}{TODO}}.\n",
    "\\end{align}"
   ]
  },
  {
   "cell_type": "markdown",
   "id": "b4fb82ff-ffee-45f1-bb36-ea7d3aa36c11",
   "metadata": {},
   "source": [
    "<details>\n",
    "\n",
    "<summary>Answer</summary>\n",
    "\\begin{align}\n",
    "H_0(x(0), p) &= I\\in\\mathbb R^{7\\times 7}, \\\\\n",
    "H_f(x(1), p) &= \\begin{bmatrix} I\\in\\mathbb R^{6\\times 6} & 0\\end{bmatrix}\\in\\mathbb R^{6\\times 7}.\n",
    "\\end{align}\n",
    "\n",
    "</details>"
   ]
  },
  {
   "cell_type": "markdown",
   "id": "5a5c0668-2a09-4928-8348-b49d64d8e8ce",
   "metadata": {},
   "source": [
    "Now implement the non-zero Jacobians in Julia. You can delete the lines for the zero Jacobians."
   ]
  },
  {
   "cell_type": "code",
   "execution_count": null,
   "id": "5685e4f5-ecda-4b76-a664-c2ae6333aad1",
   "metadata": {},
   "outputs": [],
   "source": [
    "H_0(x, p) = # Enter your code here\n",
    "H_f(x, p) = # Enter your code here"
   ]
  },
  {
   "cell_type": "markdown",
   "id": "f5170437-83e9-4835-9672-4b65583a21bc",
   "metadata": {},
   "source": [
    "<details>\n",
    "\n",
    "<summary>Answer</summary>\n",
    "\n",
    "```julia\n",
    "H_0(x, p) = I(7)\n",
    "H_f(x, p) = collect(hcat(I(6), zeros(6)));\n",
    "```\n",
    "\n",
    "</details>"
   ]
  },
  {
   "cell_type": "markdown",
   "id": "4d2cc2c9-8af3-4a50-81fc-752f5cc7af8a",
   "metadata": {},
   "source": [
    "We now use the SCP Toolbox API in order to associate the boundary conditions with the trajectory optimization problem. The code below configures the above functions to accept the arguments that the toolbox will provide them with. The API function `problem_set_bc!` is then used to link the boundary conditions to the trajectory problem.\n",
    "\n",
    "Your job is to uncomment the `problem_set_bc!` calls, and remove the zero Jacobians from each call."
   ]
  },
  {
   "cell_type": "code",
   "execution_count": null,
   "id": "cefa3b19-6a1f-451a-80f8-3b9c621675b1",
   "metadata": {},
   "outputs": [],
   "source": [
    "wrap(func) = (x, p, pbm) -> func(x, p)\n",
    "# problem_set_bc!(pbm, :ic, wrap(g_ic), wrap(H_0), wrap(K_0))\n",
    "# problem_set_bc!(pbm, :tc, wrap(g_tc), wrap(H_f), wrap(K_f));"
   ]
  },
  {
   "cell_type": "markdown",
   "id": "296715d5-62ee-437a-b184-c576bdfdf629",
   "metadata": {},
   "source": [
    "<details>\n",
    "\n",
    "<summary>Answer</summary>\n",
    "\n",
    "```julia\n",
    "problem_set_bc!(pbm, :ic, wrap(g_ic), wrap(H_0))\n",
    "problem_set_bc!(pbm, :tc, wrap(g_tc), wrap(H_f));\n",
    "```\n",
    "\n",
    "</details>"
   ]
  },
  {
   "cell_type": "markdown",
   "id": "650d6c6d-0939-4ecd-b9a7-ebdc3258a9b8",
   "metadata": {},
   "source": [
    "## State Constraints"
   ]
  },
  {
   "cell_type": "markdown",
   "id": "ad491503-ad9e-4ae6-8800-33e3eacd7fe9",
   "metadata": {},
   "source": [
    "In order to not collide with the ground or any obstacles (such as hills) surrounding the landing site, the rocket's position is constrained to be above a certain glideslope, as illustrated in the figure at the top of this notebook.\n",
    "\n",
    "Write down the glideslope constraint on the position vector $[x;y]$. (Hint: it is a convex inequality and involves $|x|$).\n",
    "\n",
    "$$\n",
    "\\mathrm{\\color{grey}{TODO}}\\le 0.\n",
    "$$"
   ]
  },
  {
   "cell_type": "markdown",
   "id": "18ac65fc-ddef-4bb8-99c9-a6f71e8d67bc",
   "metadata": {},
   "source": [
    "<details>\n",
    "\n",
    "<summary>Answer</summary>\n",
    "\n",
    "$$\n",
    "|x|-\\frac{y}{\\tan(\\gamma_{gs})}\\le 0.\n",
    "$$\n",
    "\n",
    "</details>"
   ]
  },
  {
   "cell_type": "markdown",
   "id": "16530448-cb56-438e-a283-17214417fb23",
   "metadata": {},
   "source": [
    "What kind of convex cone can represent this constraint?\n",
    "\n",
    "Enter your answer in term of the Julia variable that is used to by the SCP Toolbox to denote the cone (recall the table from the Part 1 notebook): `TODO`."
   ]
  },
  {
   "cell_type": "markdown",
   "id": "a8b6d915-ffc9-4f86-a25a-c1e8307b6af8",
   "metadata": {},
   "source": [
    "<details>\n",
    "\n",
    "<summary>Answer</summary>\n",
    "\n",
    "`L1`\n",
    "\n",
    "</details>"
   ]
  },
  {
   "cell_type": "markdown",
   "id": "ad2e019e-9e62-4f9b-9e13-eae614c12aee",
   "metadata": {},
   "source": [
    "Now use the SCP Toolbox's `@add_constraint` macro (which you learned about in Part 1) in order to define the glideslope constraint. Assume that the function receives `x` (the full state vector) and `clp` (the `ConicProgram` object)."
   ]
  },
  {
   "cell_type": "code",
   "execution_count": null,
   "id": "940644a0-9a4b-4dd1-b804-99ea8110e7e0",
   "metadata": {},
   "outputs": [],
   "source": [
    "glideslope(x, clp) = # Enter your code here"
   ]
  },
  {
   "cell_type": "markdown",
   "id": "a128ac41-69a8-421b-960d-3e0fe9ea45df",
   "metadata": {},
   "source": [
    "<details>\n",
    "\n",
    "<summary>Answer</summary>\n",
    "\n",
    "```julia\n",
    "glideslope(x, clp) = @add_constraint(clp, L1, x -> begin\n",
    "        x, y = x[1], x[2]\n",
    "        return [y/tan(γ_gs); x]\n",
    "    end);\n",
    "```\n",
    "    \n",
    "</details>"
   ]
  },
  {
   "cell_type": "markdown",
   "id": "a1df56d0-bac4-4d42-babd-678fc0dc492f",
   "metadata": {},
   "source": [
    "Let's associate this constraint with the trajectory problem using the SCP Toolbox API for convex state constraints."
   ]
  },
  {
   "cell_type": "code",
   "execution_count": null,
   "id": "76e363e5-3155-44a9-a3c9-27380262e1d9",
   "metadata": {},
   "outputs": [],
   "source": [
    "problem_set_X!(pbm, (t, k, x, p, pbm, clp) -> glideslope(x, clp))"
   ]
  },
  {
   "cell_type": "markdown",
   "id": "98d5dc75-28a8-4332-8e63-2d4e7b23d788",
   "metadata": {},
   "source": [
    "## Control Constraints"
   ]
  },
  {
   "cell_type": "markdown",
   "id": "3f6d22fd-b478-4c94-8e49-326ba2bd195c",
   "metadata": {},
   "source": [
    "The control constraints ensure that the rocket's propulsion system can actually reproduce the inputs that are computed by the optimal trajectory.\n",
    "\n",
    "For this problem, we will constraint the thrust to $T\\in [T_{\\min}, T_{\\max}]$ and the gimbal angle $\\delta\\in [-\\delta_{\\max},\\delta_{\\max}]$.\n",
    "\n",
    "Write these control constraints as cones. Write the constraints separately for thrust lower bound, upper bound, and gimbal angle (thus you should end up with 3 cones). Only use the cones that are supported by the SCP Toolbox (refer to Part 1)."
   ]
  },
  {
   "cell_type": "markdown",
   "id": "95d45849-72e6-42dd-8d78-dc5b377bf376",
   "metadata": {},
   "source": [
    "<details>\n",
    "\n",
    "<summary>Answer</summary>\n",
    "\n",
    "\\begin{align*}\n",
    "T_{\\min}-T &\\in \\mathbb K_{\\le 0}, \\\\\n",
    "T-T_{\\max} &\\in \\mathbb K_{\\le 0}, \\\\\n",
    "\\begin{bmatrix}\n",
    "\\delta_{\\max} \\\\ \\delta\n",
    "\\end{bmatrix} &\\in \\mathbb K_{1}.\n",
    "\\end{align*}\n",
    "    \n",
    "</details>"
   ]
  },
  {
   "cell_type": "markdown",
   "id": "6c2e504e-743e-4b63-b8f7-c4374da56237",
   "metadata": {},
   "source": [
    "Now implement each constraint in Julia using `@add_constraint`."
   ]
  },
  {
   "cell_type": "code",
   "execution_count": null,
   "id": "b4f9c270-9981-4315-8ea8-4581feb9cc7c",
   "metadata": {},
   "outputs": [],
   "source": [
    "thrust_upper_bound(T, clp) = # Enter your code here\n",
    "thrust_lower_bound(T, clp) = # Enter your code here\n",
    "gimbal_limit(δ, clp) = # Enter your code here"
   ]
  },
  {
   "cell_type": "markdown",
   "id": "73d399bd-43f2-4aa1-9106-99de2ab080e9",
   "metadata": {},
   "source": [
    "<details>\n",
    "\n",
    "<summary>Answer</summary>\n",
    "\n",
    "```julia\n",
    "thrust_upper_bound(T, clp) = @add_constraint(clp, NONPOS, T -> T-T_max)\n",
    "thrust_lower_bound(T, clp) = @add_constraint(clp, NONPOS, T -> T_min-T)\n",
    "gimbal_limit(δ, clp) = @add_constraint(clp, L1, δ -> vcat(δ_max, δ));\n",
    "```\n",
    "    \n",
    "</details>"
   ]
  },
  {
   "cell_type": "markdown",
   "id": "c450bb32-7cdb-4117-b94e-7979f8e258dc",
   "metadata": {},
   "source": [
    "Now call the SCP Toolbox API function `problem_set_U!` in order to associate the convex input constraints with the trajectory problem."
   ]
  },
  {
   "cell_type": "code",
   "execution_count": null,
   "id": "ba4deee7-b488-4501-8a0d-9c1a3a10a42b",
   "metadata": {},
   "outputs": [],
   "source": [
    "problem_set_U!(pbm, (t, k, u, p, pbm, clp) -> begin\n",
    "        # Enter your code here\n",
    "    end)"
   ]
  },
  {
   "cell_type": "markdown",
   "id": "5af715cc-fbc1-4ea4-b53e-5964732506e0",
   "metadata": {
    "deletable": false,
    "editable": false,
    "tags": []
   },
   "source": [
    "<details>\n",
    "\n",
    "<summary>Answer</summary>\n",
    "\n",
    "```julia\n",
    "problem_set_U!(pbm, (t, k, u, p, pbm, clp) -> begin\n",
    "        T, δ = u[1], u[2]\n",
    "        thrust_upper_bound(T, clp)\n",
    "        thrust_lower_bound(T, clp)\n",
    "        gimbal_limit(δ, clp)\n",
    "    end)\n",
    "```\n",
    "    \n",
    "</details>"
   ]
  },
  {
   "cell_type": "markdown",
   "id": "9fd3d3c8-29b1-4227-96a4-e5de000e3391",
   "metadata": {},
   "source": [
    "## Objective Function"
   ]
  },
  {
   "cell_type": "markdown",
   "id": "62945fa0-3eb5-4b08-b406-74bcad65d863",
   "metadata": {},
   "source": [
    "A common objective for rocket landing guidance is to compute a trajectory that uses the least amount of fuel. This results in a lighter vehicle design that can carry more useful scientific payload, and other beneficial tradeoffs.\n",
    "\n",
    "Minimizing fuel use is equivalent to maxizing the final mass of the rocket (since the least amount of fuel will have then been depleted). The SCP Toolbox seeks to __minimize__ the following objective function:\n",
    "\n",
    "$$\n",
    "J(x, u, p) = \\phi(x(1), p) + \\int_0^1 \\Gamma(x(t), u(t), p) dt.\n",
    "$$\n",
    "\n",
    "Define $\\phi$ and $\\Gamma$ for maximizing the final mass:\n",
    "\n",
    "\\begin{align*}\n",
    "\\phi(x(1), p) &= \\mathrm{\\color{grey}{TODO}}, \\\\\n",
    "\\Gamma(x(t), u(t), p) &= \\mathrm{\\color{grey}{TODO}}.\n",
    "\\end{align*}\n",
    "\n",
    "Be sure to _normalize_ the functions, meaning that you should multiply them by a constant coefficient such that along any reasonable trajectory the following (approximately) hold: $\\phi(\\cdot)\\in [0,1]$ and $\\Gamma(\\cdot)\\in [0,1]$.\n",
    "\n",
    "(Hint: one of the functions may have to be zero!)"
   ]
  },
  {
   "cell_type": "markdown",
   "id": "d6af507a-96a2-48f8-85e9-c116c0b20376",
   "metadata": {},
   "source": [
    "<details>\n",
    "\n",
    "<summary>Answer</summary>\n",
    "\n",
    "\\begin{align*}\n",
    "\\phi(x(1), p) &= -\\frac{ m(1) }{ m_{wet} }, \\\\\n",
    "\\Gamma(x(t), u(t), p) &= 0.\n",
    "\\end{align*}\n",
    "    \n",
    "</details>"
   ]
  },
  {
   "cell_type": "markdown",
   "id": "56e96b0d-125c-47d0-8e3c-4038ada3a4c1",
   "metadata": {},
   "source": [
    "Now implement the functions in Julia. (Hint: you can delete any function that is zero)."
   ]
  },
  {
   "cell_type": "code",
   "execution_count": null,
   "id": "bf1f2cc1-38eb-4418-91cd-9e475a97487a",
   "metadata": {},
   "outputs": [],
   "source": [
    "ϕ(x, p) = # Enter your code here\n",
    "Γ(x, u, p) = # Enter your code here"
   ]
  },
  {
   "cell_type": "markdown",
   "id": "8f14bf71-e554-44e4-ae87-b625db0f38e5",
   "metadata": {},
   "source": [
    "<details>\n",
    "\n",
    "<summary>Answer</summary>\n",
    "\n",
    "```julia\n",
    "ϕ(x, p) = -x[end]/m_wet;\n",
    "```\n",
    "    \n",
    "</details>"
   ]
  },
  {
   "cell_type": "markdown",
   "id": "c5eff2ec-6e4f-4da2-9e7f-46a1800604a3",
   "metadata": {},
   "source": [
    "We now have to pass the above functions to the objective function definition of the trajectory problem. The SCP Toolbox allows us to do this via the API functions `problem_set_terminal_cost!` and `problem_set_running_cost!`. If either one is missing, you can omit the call and it will be assumed that the corresponding part of the objective is zero.\n",
    "\n",
    "In the cell below, uncomment the lines corresponding to the non-zero components of the cost."
   ]
  },
  {
   "cell_type": "code",
   "execution_count": null,
   "id": "c28ab8ba-37ae-4516-8e4a-1120e04db2ca",
   "metadata": {},
   "outputs": [],
   "source": [
    "# problem_set_terminal_cost!(pbm, (x, p, pbm) -> ϕ(x, p))\n",
    "# problem_set_running_cost!(pbm, (t, k, x, u, p, pbm) -> Γ(x, u, p))"
   ]
  },
  {
   "cell_type": "markdown",
   "id": "5a84b453-dc4f-45e3-ac12-b85ae5c1acea",
   "metadata": {},
   "source": [
    "<details>\n",
    "\n",
    "<summary>Answer</summary>\n",
    "\n",
    "```julia\n",
    "problem_set_terminal_cost!(pbm, (x, p, pbm) -> ϕ(x, p));\n",
    "```\n",
    "    \n",
    "</details>"
   ]
  },
  {
   "cell_type": "markdown",
   "id": "f6da290e-b14c-4a44-b5be-e6ad01f2738e",
   "metadata": {},
   "source": [
    "## Initial Trajectory Guess"
   ]
  },
  {
   "cell_type": "markdown",
   "id": "6543f0a6-9990-4a47-ba25-81846120bd7f",
   "metadata": {},
   "source": [
    "The initial trajectory guess is required to get an SCP algorithm started. This guess can be quite coarse, and does not need to be feasible with respect to the dynamics and nonconvex constraints. Some SCP algorithms require the guess to be feasible with respect to the convex constraints, which is usually easy to do (in fact, it can be done automatically via a convex projection).\n",
    "\n",
    "A straight-line guess is sufficient for the rocket landing problem. The following code interpolates from the initial to the final condition. The duration is set to the time it would take an average thrust to slow the rocket down to a hover. The angular rate is set to a constant value that rotates the rocket from its initial tilt to the final upright orientation."
   ]
  },
  {
   "cell_type": "code",
   "execution_count": null,
   "id": "227db77b-4023-4375-aaf6-8d6bf3383b68",
   "metadata": {},
   "outputs": [],
   "source": [
    "T_guess = T_min+0.5*(T_max-T_min) # [N] Initial thrust guess\n",
    "v_0, v_f = x_0[3:4], x_f[3:4]\n",
    "tf_guess = norm(v_f-v_0, 2)/(T_guess/m_wet-g)\n",
    "Δm_guess = -α*T_guess*tf_guess\n",
    "m_dry_guess = x_0[end]+Δm_guess\n",
    "\n",
    "state_guess(N) = begin\n",
    "    x_guess = straightline_interpolate(x_0, vcat(x_f, m_dry_guess), N)\n",
    "    x_guess[6, :] .= (x_f[5]-x_0[5])/tf_guess\n",
    "    return x_guess\n",
    "end;"
   ]
  },
  {
   "cell_type": "markdown",
   "id": "f137d81c-1ba7-46c9-92a1-07c939ebcf35",
   "metadata": {},
   "source": [
    "Let's guess the input to be a constant thrust of `T_guess` amount, and zero gimbal angle. Complete the following function using `straightline_interpolate`."
   ]
  },
  {
   "cell_type": "code",
   "execution_count": null,
   "id": "81f9b276-ba1c-426f-abaf-e3290f214423",
   "metadata": {},
   "outputs": [],
   "source": [
    "input_guess(N) = # Enter your code here"
   ]
  },
  {
   "cell_type": "markdown",
   "id": "59518514-9e32-4e17-91a0-2782c2e337c6",
   "metadata": {},
   "source": [
    "<details>\n",
    "\n",
    "<summary>Answer</summary>\n",
    "\n",
    "```julia\n",
    "input_guess(N) = straightline_interpolate([T_guess; 0.0], [T_guess; 0.0], N);\n",
    "```\n",
    "    \n",
    "</details>"
   ]
  },
  {
   "cell_type": "markdown",
   "id": "841cdc18-286d-48f5-8a6c-8e7eedd8d1d7",
   "metadata": {},
   "source": [
    "The following call the `problem_set_guess!` lets the SCP Toolbox know to use these initial guesses for the SCP solution."
   ]
  },
  {
   "cell_type": "code",
   "execution_count": null,
   "id": "8cb4fa7f-f4bb-4325-9581-1f1b93f3f831",
   "metadata": {},
   "outputs": [],
   "source": [
    "problem_set_guess!(pbm, (N, pbm) -> begin\n",
    "    x = state_guess(N)\n",
    "    u = input_guess(N)\n",
    "    p = [tf_guess]\n",
    "    return x, u, p\n",
    "end)"
   ]
  },
  {
   "cell_type": "markdown",
   "id": "79b0ed94-5c13-4ef3-839f-5462f2d415f5",
   "metadata": {},
   "source": [
    "## Variable Scaling"
   ]
  },
  {
   "cell_type": "markdown",
   "id": "2372f330-f06d-463d-a43f-2d9c7da4bf7b",
   "metadata": {},
   "source": [
    "Variable scaling is important when the solution variables are of widely different magnitudes. This is definitely the case for the rocket landing problem. For example, the gimbal angle varies in the $[-\\delta_{\\max}, \\delta_{\\max}]$ (which is on the order of $0.1$) while thrust can be as high as 100 kilonewtons and mass can be as high as several thousan kilograms.\n",
    "\n",
    "The SCP Toolbox performs automatic scaling for variables whose magnitudes are naturally constrained by the convex constraints. However, you can also set the variable scaling manually by providing the expected value ranges for each variable. This is done using the SCP Toolbox API function `problem_advise_scale!!`.\n",
    "\n",
    "The function accepts the element index in the state, input, or parameter vector, and a tuple `(min, max)` range for the expected values of the corresponding variable. The bounds don't have to be exact, but a well-chosen set of tight bounds will do better.\n",
    "\n",
    "In the cell directly below, define the ranges (as `(min, max)` tuples) for the mass and thrust."
   ]
  },
  {
   "cell_type": "code",
   "execution_count": null,
   "id": "b09fead4-adb8-4057-830e-7af3a0ad1fa8",
   "metadata": {},
   "outputs": [],
   "source": [
    "mass_range = # Enter your code here\n",
    "thrust_range = # Enter your code here"
   ]
  },
  {
   "cell_type": "markdown",
   "id": "5d3f841a-df20-4d34-9076-ab9920c727c0",
   "metadata": {},
   "source": [
    "<details>\n",
    "\n",
    "<summary>Answer</summary>\n",
    "\n",
    "```julia\n",
    "mass_range = (m_wet+Δm_guess, m_wet)\n",
    "thrust_range = (T_min, T_max)\n",
    "```\n",
    "    \n",
    "</details>"
   ]
  },
  {
   "cell_type": "code",
   "execution_count": null,
   "id": "1a77a594-8660-4d5d-aef6-91816e64f8ae",
   "metadata": {},
   "outputs": [],
   "source": [
    "rx_range_box = max(x_0[1], 1.0)\n",
    "ry_range_box = max(x_0[2], 1.0)\n",
    "vx_range_box = max(abs(x_0[3]), 1.0)\n",
    "vy_range_box = min(x_0[4], -1.0)\n",
    "θ_range_box = deg2rad(20.0)\n",
    "ω_range_box = max(abs(x_0[6]), deg2rad(5.0))\n",
    "δ_range_box = deg2rad(1.0)\n",
    "\n",
    "problem_advise_scale!(pbm, :state, 1, (-rx_range_box, rx_range_box))\n",
    "problem_advise_scale!(pbm, :state, 2, (0, ry_range_box))\n",
    "problem_advise_scale!(pbm, :state, 3, (-vx_range_box, vx_range_box))\n",
    "problem_advise_scale!(pbm, :state, 4, (vy_range_box, 0.0))\n",
    "problem_advise_scale!(pbm, :state, 5, (-θ_range_box, θ_range_box))\n",
    "problem_advise_scale!(pbm, :state, 6, (-ω_range_box, ω_range_box))\n",
    "problem_advise_scale!(pbm, :state, 7, mass_range)\n",
    "\n",
    "problem_advise_scale!(pbm, :input, 1, thrust_range)\n",
    "problem_advise_scale!(pbm, :input, 2, (-δ_range_box, δ_range_box))\n",
    "\n",
    "problem_advise_scale!(pbm, :parameter, 1, (0.5*tf_guess, tf_guess));"
   ]
  },
  {
   "cell_type": "markdown",
   "id": "6cfcca4c-721b-4e59-b42f-4b064c32ee70",
   "metadata": {},
   "source": [
    "## Solve the Problem Using PTR"
   ]
  },
  {
   "cell_type": "markdown",
   "id": "e9932fdf-b254-4c76-9ca1-d35bf14eac26",
   "metadata": {},
   "source": [
    "With the trajectory problem fully defined, it's time to select an SCP algorithm to solve it. This comes down to selecting the set of parameters that guide the algorithm's behavior.\n",
    "\n",
    "The toolbox currently provides three algorithsm: `PTR`, `SCvx`, and `GuSTO`. The latter two are discussed in detail in the [IEEE Control Systems Magazine tutorial paper](https://arxiv.org/abs/2106.09125). The first algorithm (which goes by the full name of \"Penalized Trust Region\") is described in several papers, most notably an [AIAA Journal of Guidance, Control, and Dynamics paper on rocket landing](https://arxiv.org/abs/1811.10803).\n",
    "\n",
    "This time we will use PTR to solve the trajectory problem. The parameters below were found to work well. SCP algorithms do not have a generic set of parameters that work well for every problem. Generally, some tuning is required, but afterwards the same set of parameters applies to a wide range of perturbations of the original problem (such as in initial condition, mass, inertia, thrust magnitudes, etc.)."
   ]
  },
  {
   "cell_type": "code",
   "execution_count": null,
   "id": "bf7d0ccf-e9df-4c31-8a6e-2b6815b9e4ad",
   "metadata": {},
   "outputs": [],
   "source": [
    "# Parameters\n",
    "N, Nsub = 20, 20\n",
    "iter_max = 30\n",
    "disc_method = FOH\n",
    "wvc, wtr = 1e1, 1e-1\n",
    "feas_tol = 5e-3\n",
    "ε_abs, ε_rel = 1e-5, 1e-4\n",
    "q_tr = Inf\n",
    "q_exit = Inf\n",
    "solver, solver_options = ECOS, Dict(\"verbose\"=>0)      \n",
    "\n",
    "pars = PTR.Parameters(N, Nsub, iter_max, disc_method, wvc, wtr, ε_abs,\n",
    "                      ε_rel, feas_tol, q_tr, q_exit, solver, solver_options);"
   ]
  },
  {
   "cell_type": "markdown",
   "id": "850767fe-9957-4771-9663-b96bdf9677b1",
   "metadata": {},
   "source": [
    "We can then simply \"create\" the SCP problem, which is a combination of the trajectory problem and the algorithm that solves it.\n",
    "\n",
    "We subsequently call the `solve` method. This prints a progress table at each iteration of the SCP algorithm."
   ]
  },
  {
   "cell_type": "code",
   "execution_count": null,
   "id": "56da5ec8-4e64-4b59-b838-98a7d2c36fc1",
   "metadata": {},
   "outputs": [],
   "source": [
    "ptr_pbm = PTR.create(pars, pbm)\n",
    "sol, history = PTR.solve(ptr_pbm);"
   ]
  },
  {
   "cell_type": "markdown",
   "id": "a4b502e7-a626-4761-9022-7fc68d55c6db",
   "metadata": {},
   "source": [
    "## Plots"
   ]
  },
  {
   "cell_type": "code",
   "execution_count": null,
   "id": "1a89c83d-0cf0-410f-8f51-b542f237001f",
   "metadata": {},
   "outputs": [],
   "source": [
    "_sol = history.subproblems[end].sol\n",
    "\n",
    "tf = _sol.p[1]\n",
    "xd = _sol.xd\n",
    "ud = _sol.ud\n",
    "vd = _sol.vd\n",
    "p_sol = _sol.p\n",
    "td = sol.td*tf\n",
    "\n",
    "Nc = 100\n",
    "tc = LinRange(0, tf, Nc)\n",
    "xc = hcat([sample(sol.xc, t) for t in LinRange(0, 1, Nc)]...)\n",
    "uc = hcat([sample(sol.uc, t) for t in LinRange(0, 1, Nc)]...)\n",
    "\n",
    "tf_values = [spbm.sol.p[1] for spbm in history.subproblems]\n",
    "pushfirst!(tf_values, history.subproblems[1].ref.p[1]);"
   ]
  },
  {
   "cell_type": "code",
   "execution_count": null,
   "id": "0d3a5d7d-1b63-4833-97ab-c6dcf5ac02a8",
   "metadata": {},
   "outputs": [],
   "source": [
    "include(\"utils/p4_rocket_graphics.jl\");"
   ]
  },
  {
   "cell_type": "code",
   "execution_count": null,
   "id": "80e16c85-98ba-44ca-ac93-713051873030",
   "metadata": {},
   "outputs": [],
   "source": [
    "visualize_trajectory();"
   ]
  },
  {
   "cell_type": "code",
   "execution_count": null,
   "id": "d65d56bd-cce9-4701-9e46-107d8156ac3e",
   "metadata": {},
   "outputs": [],
   "source": [
    "plot_trajectory();"
   ]
  },
  {
   "cell_type": "code",
   "execution_count": null,
   "id": "df6a31be-3fe0-4cb3-85e2-516886b0df17",
   "metadata": {},
   "outputs": [],
   "source": [
    "plot_states();"
   ]
  },
  {
   "cell_type": "code",
   "execution_count": null,
   "id": "f07fbcd7-cd6d-4cd1-bec9-64726af55490",
   "metadata": {},
   "outputs": [],
   "source": [
    "plot_mass();"
   ]
  },
  {
   "cell_type": "code",
   "execution_count": null,
   "id": "906e8e65-e4a1-45c6-b57e-e2043c75cb5d",
   "metadata": {},
   "outputs": [],
   "source": [
    "plot_controls();"
   ]
  },
  {
   "cell_type": "code",
   "execution_count": null,
   "id": "19e88202-caa2-4604-aec5-c98fc4e338e1",
   "metadata": {},
   "outputs": [],
   "source": [
    "plot_ToF();"
   ]
  }
 ],
 "metadata": {
  "kernelspec": {
   "display_name": "Julia 1.7.1",
   "language": "julia",
   "name": "julia-1.7"
  },
  "language_info": {
   "file_extension": ".jl",
   "mimetype": "application/julia",
   "name": "julia",
   "version": "1.7.1"
  }
 },
 "nbformat": 4,
 "nbformat_minor": 5
}
