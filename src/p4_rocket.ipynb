{
 "cells": [
  {
   "cell_type": "markdown",
   "id": "457496e8-f051-491a-a922-e11d4684223d",
   "metadata": {},
   "source": [
    "# SCP Toolbox Workshop\n",
    "\n",
    "___A tutorial on generating dynamically feasible trajectories reliably and efficiently___\n",
    "\n",
    "Monday, February 7, 2022\n",
    "\n",
    "Rocky Mountain AAS GN&C Conference, Breckenridge, CO"
   ]
  },
  {
   "cell_type": "code",
   "execution_count": 842,
   "id": "b046a02d-fcb1-4dd8-8a9d-28d18c7b3a8a",
   "metadata": {
    "slideshow": {
     "slide_type": "skip"
    },
    "tags": []
   },
   "outputs": [
    {
     "name": "stderr",
     "output_type": "stream",
     "text": [
      "\u001b[32m\u001b[1m  Activating\u001b[22m\u001b[39m project at `~/Nextcloud/personal/research/scp/aas_gnc_workshop/tutorial`\n",
      "\u001b[32m\u001b[1m   Resolving\u001b[22m\u001b[39m package versions...\n",
      "\u001b[32m\u001b[1m  No Changes\u001b[22m\u001b[39m to `~/Nextcloud/personal/research/scp/aas_gnc_workshop/tutorial/Project.toml`\n",
      "\u001b[32m\u001b[1m  No Changes\u001b[22m\u001b[39m to `~/Nextcloud/personal/research/scp/aas_gnc_workshop/tutorial/Manifest.toml`\n"
     ]
    }
   ],
   "source": [
    "import Pkg\n",
    "Pkg.activate(\"..\")\n",
    "\n",
    "# these lines are required only for local installations\n",
    "Pkg.develop(path=\"../../scp_traj_opt/\")\n",
    "Pkg.precompile()\n",
    "\n",
    "using SCPToolbox\n",
    "using PyPlot, Colors, LinearAlgebra\n",
    "\n",
    "# Import the different possible low-level convex solvers\n",
    "using COSMO\n",
    "using Ipopt\n",
    "using SCS\n",
    "using ECOS\n",
    "using OSQP"
   ]
  },
  {
   "cell_type": "markdown",
   "id": "572810fc-a18f-4040-ae30-965c1f711f0f",
   "metadata": {},
   "source": [
    "# Part 4: Rocket-Landing Guidance"
   ]
  },
  {
   "cell_type": "code",
   "execution_count": 843,
   "id": "29113eda-edec-4a41-b2a0-174df49cdfa4",
   "metadata": {},
   "outputs": [],
   "source": [
    "pbm = TrajectoryProblem();"
   ]
  },
  {
   "cell_type": "markdown",
   "id": "7a92f244-c651-4686-b93c-6cbb884e232f",
   "metadata": {},
   "source": [
    "## Rocket dynamics"
   ]
  },
  {
   "cell_type": "markdown",
   "id": "75a78b56-43ed-4fd8-8a2b-05c9835a7051",
   "metadata": {},
   "source": [
    "In general, the dynamics of any nonlinear system are given by:\n",
    "\n",
    "$$\n",
    "\\dot x(t) = f( t, x(t), u(t), p )\n",
    "$$\n",
    "\n",
    "* $t\\in \\mathbb R$: time;\n",
    "* $x(t)\\in \\mathbb R^n$: state vector;\n",
    "* $u(t)\\in \\mathbb R^m$: input vector (the things that we can decide on);\n",
    "* $p(t)\\in \\mathbb R^d$: \"parameter\" vector (problem specific);"
   ]
  },
  {
   "cell_type": "code",
   "execution_count": 844,
   "id": "1a1d6355-0af3-4aff-80ab-5139ddacc56f",
   "metadata": {},
   "outputs": [],
   "source": [
    "n, m, d = 7, 2, 1\n",
    "problem_set_dims!(pbm, n, m, d)"
   ]
  },
  {
   "cell_type": "markdown",
   "id": "afc2a171-1871-4d08-a5cb-dbccf36bd897",
   "metadata": {},
   "source": [
    "## Rocket parameters"
   ]
  },
  {
   "cell_type": "code",
   "execution_count": 845,
   "id": "3481a900-6a1b-4228-833f-d5c57f569d7d",
   "metadata": {},
   "outputs": [],
   "source": [
    "# Environment parameters\n",
    "g = 3.0 #1.625 # [m/s^2] Gravitational acceleration of the planet\n",
    "g_E = 9.807; # [m/s^2] Earth gravity"
   ]
  },
  {
   "cell_type": "code",
   "execution_count": 846,
   "id": "4a756afd-362e-4bd7-8218-9d7a286c0133",
   "metadata": {},
   "outputs": [],
   "source": [
    "# Mechanical parameters\n",
    "m_wet = 25e3\n",
    "L = 5.0 # Thrust lever arm\n",
    "J = 100e3; # [kg*m^2] Moment of inertia"
   ]
  },
  {
   "cell_type": "code",
   "execution_count": 847,
   "id": "3f5420cb-e2b9-4b01-a697-241b8c2b149a",
   "metadata": {},
   "outputs": [],
   "source": [
    "# Propulsion parameters\n",
    "Isp = 370 # [s] Specific impulse\n",
    "T_min = 5e3 # [N] Minimum thrust\n",
    "T_max = 66e3 # [N] Maximum thrust\n",
    "α = 1 / (Isp * g_E)\n",
    "δ_max = deg2rad(10.0);"
   ]
  },
  {
   "cell_type": "code",
   "execution_count": 848,
   "id": "71583209-844b-4f58-a81f-137dfa1b47c4",
   "metadata": {},
   "outputs": [],
   "source": [
    "# Trajectory parameters\n",
    "γ_gs = deg2rad(10.0); # [rad] Glideslope angle (measured from the horizon)"
   ]
  },
  {
   "cell_type": "code",
   "execution_count": 849,
   "id": "b409571d-a6c5-4ed9-9bf6-535d96fe89f1",
   "metadata": {},
   "outputs": [],
   "source": [
    "f(t, x, u, p) = begin\n",
    "    rx, ry, vx, vy, θ, ω, m = x\n",
    "    T, δ = u\n",
    "    tf, = p\n",
    "    if t <0.01\n",
    "        # println(\"f: final time tf = \", tf)\n",
    "    end\n",
    "    return [vx; vy; -(T/m)*sin(θ+δ); (T/m)*cos(θ+δ)-g; ω; -(L*T/J)*sin(δ); -α*T]*tf\n",
    "end;"
   ]
  },
  {
   "cell_type": "markdown",
   "id": "8bdc3e1a-3d97-4a1b-a0fd-420f36eb6438",
   "metadata": {},
   "source": [
    "SCP algorithms work by iteratively linearizing nonconvex elements of the problem. This means that we have to provide the algorithm with the Jacobians of $f$.\n",
    "\n",
    "\\begin{align}\n",
    "A(t, x, u, p) &= \\nabla_x f(t, x, u, p), \\\\\n",
    "B(t, x, u, p) &= \\nabla_u f(t, x, u, p), \\\\\n",
    "F(t, x, u, p) &= \\nabla_p f(t, x, u, p).\n",
    "\\end{align}"
   ]
  },
  {
   "cell_type": "code",
   "execution_count": 850,
   "id": "e45793ab-85d4-4268-86a2-1f27037ecf58",
   "metadata": {},
   "outputs": [],
   "source": [
    "A(t, x, u, p) = begin\n",
    "    rx, ry, vx, vy, θ, ω, m = x\n",
    "    T, δ = u\n",
    "    tf, = p\n",
    "    if t <0.01\n",
    "        #println(\"A: final time tf = \", tf)\n",
    "    end\n",
    "    return [0 0 1 0       0       0       0\n",
    "            0 0 0 1       0       0       0\n",
    "            0 0 0 0 -T/m*cos(θ+δ) 0 T/m^2*sin(θ+δ)\n",
    "            0 0 0 0 -T/m*sin(θ+δ) 0 -T/m^2*cos(θ+δ)\n",
    "            0 0 0 0       0       1       0\n",
    "            0 0 0 0       0       0       0\n",
    "            0 0 0 0       0       0       0]*tf\n",
    "end\n",
    "\n",
    "B(t, x, u, p) = begin\n",
    "    rx, ry, vx, vy, θ, ω, m = x\n",
    "    T, δ = u\n",
    "    tf, = p\n",
    "    if t <0.01\n",
    "        #println(\"B: final time tf = \", tf)\n",
    "    end\n",
    "    return [     0            0\n",
    "                 0            0\n",
    "            -sin(θ+δ)/m -T/m*cos(θ+δ)\n",
    "             cos(θ+δ)/m -T/m*sin(θ+δ)\n",
    "                 0            0\n",
    "            -L/J*sin(δ) -L*T/J*cos(δ)\n",
    "                -α            0       ]*tf\n",
    "end\n",
    "\n",
    "F(t, x, u, p) = begin\n",
    "    rx, ry, vx, vy, θ, ω, m = x\n",
    "    T, δ = u\n",
    "    tf, = p\n",
    "    if t <0.01\n",
    "        #println(\"F: final time tf = \", tf)\n",
    "    end\n",
    "    return reshape(f(t, x, u, p)/tf, 7, 1)\n",
    "end;"
   ]
  },
  {
   "cell_type": "code",
   "execution_count": 851,
   "id": "a2841ea2-3b66-4370-a3b8-c31a6a9c5198",
   "metadata": {},
   "outputs": [],
   "source": [
    "wrap(func) = (t, k, x, u, p, pbm) -> func(t, x, u, p)\n",
    "problem_set_dynamics!(pbm, wrap(f), wrap(A), wrap(B), wrap(F))"
   ]
  },
  {
   "cell_type": "markdown",
   "id": "3956c4b2-8493-4311-ad5b-621de2ddafef",
   "metadata": {},
   "source": [
    "## Boundary Conditions"
   ]
  },
  {
   "cell_type": "markdown",
   "id": "6f0b62c9-8ffe-420d-ac6e-bbddfd03c717",
   "metadata": {},
   "source": [
    "The initial and terminal boundary conditions on the trajectory are set by the following two constraints:\n",
    "\n",
    "\\begin{align}\n",
    "g_{ic}(x(0), p) &= 0, \\\\\n",
    "g_{tc}(x(1), p) &= 0.\n",
    "\\end{align}"
   ]
  },
  {
   "cell_type": "code",
   "execution_count": 852,
   "id": "3018bd4f-95e5-4681-882d-53162c60a25d",
   "metadata": {},
   "outputs": [],
   "source": [
    "x_0 = [0; 100; 0; 0; deg2rad(0); 0.0; m_wet]\n",
    "x_f = zeros(6)\n",
    "\n",
    "g_ic(x, p) = x-x_0\n",
    "g_tc(x, p) = x[1:6]-x_f;"
   ]
  },
  {
   "cell_type": "markdown",
   "id": "aee2cb63-24de-49d6-a387-8b883cb6d4be",
   "metadata": {},
   "source": [
    "Again, we need to provide the Jacobians of $g_{ic}$ and $g_{tc}$, since in general these may be nonaffine functions.\n",
    "\n",
    "\\begin{align}\n",
    "H_0(x(0), p) &= \\nabla_x g_{ic}(x(0), p), \\\\\n",
    "K_0(x(0), p) &= \\nabla_p g_{ic}(x(0), p), \\\\\n",
    "H_f(x(1), p) &= \\nabla_x g_{tc}(x(1), p), \\\\\n",
    "K_f(x(1), p) &= \\nabla_p g_{tc}(x(1), p).\n",
    "\\end{align}\n",
    "\n",
    "When a Jacobian is not provided, the SCP Toolbox assumes that it is zero."
   ]
  },
  {
   "cell_type": "code",
   "execution_count": 853,
   "id": "1e7e7657-d9bd-4cac-921a-7aec0d3319ed",
   "metadata": {},
   "outputs": [
    {
     "data": {
      "text/plain": [
       "6×7 Matrix{Float64}:\n",
       " 1.0  0.0  0.0  0.0  0.0  0.0  0.0\n",
       " 0.0  1.0  0.0  0.0  0.0  0.0  0.0\n",
       " 0.0  0.0  1.0  0.0  0.0  0.0  0.0\n",
       " 0.0  0.0  0.0  1.0  0.0  0.0  0.0\n",
       " 0.0  0.0  0.0  0.0  1.0  0.0  0.0\n",
       " 0.0  0.0  0.0  0.0  0.0  1.0  0.0"
      ]
     },
     "execution_count": 853,
     "metadata": {},
     "output_type": "execute_result"
    }
   ],
   "source": [
    "collect(hcat(I(6), zeros(6)))"
   ]
  },
  {
   "cell_type": "code",
   "execution_count": 854,
   "id": "61883958-c05a-4ddc-9d6c-04851ebd8204",
   "metadata": {},
   "outputs": [],
   "source": [
    "H_0(x, p) = I(7)\n",
    "H_f(x, p) = collect(hcat(I(6), zeros(6)));"
   ]
  },
  {
   "cell_type": "code",
   "execution_count": 855,
   "id": "47a5ac2e-4a0c-45c1-9f2d-c62090f39fc2",
   "metadata": {},
   "outputs": [],
   "source": [
    "wrap(func) = (x, p, pbm) -> func(x, p)\n",
    "problem_set_bc!(pbm, :ic, wrap(g_ic), wrap(H_0))\n",
    "problem_set_bc!(pbm, :tc, wrap(g_tc), wrap(H_f))"
   ]
  },
  {
   "cell_type": "markdown",
   "id": "33769bb9-7e23-43b8-a1a3-0c3a7c18ccce",
   "metadata": {},
   "source": [
    "## State constraints"
   ]
  },
  {
   "cell_type": "code",
   "execution_count": 856,
   "id": "a80d539f-ef99-4279-a48e-38c565f3d3fd",
   "metadata": {},
   "outputs": [],
   "source": [
    "tf_min = 0.5 # [s] Minimum time of flight\n",
    "nonnegative_time_of_flight(tf, clp) = @add_constraint(clp, NONPOS, tf -> tf_min-tf);"
   ]
  },
  {
   "cell_type": "code",
   "execution_count": 857,
   "id": "1d1e6b30-3924-4658-b42b-29a31e0e3102",
   "metadata": {},
   "outputs": [],
   "source": [
    "glide_slope(x, clp) = @add_constraint(clp, L1, x -> begin\n",
    "        x, y = x[1:2]\n",
    "        return [y/tan(γ_gs); x]\n",
    "    end);"
   ]
  },
  {
   "cell_type": "code",
   "execution_count": 858,
   "id": "6e2ed4d8-0435-4254-ae28-79daea47494b",
   "metadata": {
    "tags": []
   },
   "outputs": [],
   "source": [
    "problem_set_X!(pbm, (t, k, x, p, pbm, clp) -> begin\n",
    "        tf = p[1]\n",
    "        nonnegative_time_of_flight(tf, clp)\n",
    "        @add_constraint(clp, NONPOS, x -> -x[2])\n",
    "        # glide_slope(x, clp)\n",
    "    end)"
   ]
  },
  {
   "cell_type": "markdown",
   "id": "f98fcc5c-25c1-4c5e-a5c0-a7f0175a6b69",
   "metadata": {},
   "source": [
    "## Control constraints"
   ]
  },
  {
   "cell_type": "code",
   "execution_count": 859,
   "id": "5637c3aa-ac8a-4310-8a94-53510cfb7676",
   "metadata": {},
   "outputs": [],
   "source": [
    "#thrust_upper_bound(T, clp) = @add_constraint(clp, NONPOS, T -> T-T_max)\n",
    "#thrust_lower_bound(T, clp) = @add_constraint(clp, NONPOS, T -> T_min-T)\n",
    "#gimbal_limit(δ, clp) = @add_constraint(clp, L1, δ -> vcat(δ_max, δ));"
   ]
  },
  {
   "cell_type": "code",
   "execution_count": 860,
   "id": "0af2d741-f212-464b-8f89-d9e418227b20",
   "metadata": {},
   "outputs": [],
   "source": [
    "problem_set_U!(pbm, (t, k, u, p, pbm, clp) -> begin\n",
    "        T = u[1]\n",
    "        δ = u[2]\n",
    "        #thrust_upper_bound(T, clp)\n",
    "        #thrust_lower_bound(T, clp)\n",
    "        #gimbal_limit(δ, clp)\n",
    "        @add_constraint(clp, NONPOS, \"thrust_lb\", u -> -u[1])\n",
    "    end)"
   ]
  },
  {
   "cell_type": "markdown",
   "id": "3e219690-64cb-4a61-92ee-55cfa6a3b5ef",
   "metadata": {},
   "source": [
    "## Objective Function"
   ]
  },
  {
   "cell_type": "markdown",
   "id": "2d1b02a1-2ff1-4553-ae7a-78e52b6aeeea",
   "metadata": {},
   "source": [
    "1000.0Borrowing from the standard choice in optimal control literature, the SCP Toolbox works with an objective function in the Bolza form:\n",
    "\n",
    "$$\n",
    "J(x, u, p) = \\phi(x(1), p) + \\int_0^1 \\Gamma(x(t), u(t), p) dt.\n",
    "$$\n",
    "\n",
    "The function $\\phi(\\cdot)\\in\\mathbb R$ defines the terminal cost, while $\\Gamma(\\cdot)\\in\\mathbb R$ defines the running cost. Both have to be convex, at most quadratic, functions.\n",
    "\n",
    "> ℹ️ Any nonconvexity in the cost can in general be off-loaded into the constraints by defining additional state, control, and/or parameter variables."
   ]
  },
  {
   "cell_type": "code",
   "execution_count": 861,
   "id": "cc097b18-1189-43d3-89ec-1fc8d41924fb",
   "metadata": {},
   "outputs": [],
   "source": [
    "# ϕ(x, p) = -x[end];\n",
    "Γ(x, u, p) = u[1];"
   ]
  },
  {
   "cell_type": "markdown",
   "id": "24f05019-d636-41af-844a-69b8f3444dd1",
   "metadata": {},
   "source": [
    "The SCP Toolbox provides the following API functions for defining the cost:\n",
    "* `problem_set_terminal_cost!`: if not provided, it is assumed that $\\phi\\equiv 0$;\n",
    "* `problem_set_running_cost!`: if not provided, it is assumed that $\\Gamma\\equiv 0$;"
   ]
  },
  {
   "cell_type": "code",
   "execution_count": 862,
   "id": "5136cd9b-c71a-41b4-8abd-36613c5c0dc1",
   "metadata": {},
   "outputs": [],
   "source": [
    "# wrap(func) = (x, p, pbm) -> func(x, p)\n",
    "# problem_set_terminal_cost!(pbm, wrap(ϕ))\n",
    "\n",
    "wrap(func) = (t, k, x, u, p, pbm) -> func(x, u, p)\n",
    "problem_set_running_cost!(pbm, :ptr, wrap(Γ))"
   ]
  },
  {
   "cell_type": "markdown",
   "id": "0f5058b5-ed6c-4e0d-a388-5b88c88c7192",
   "metadata": {},
   "source": [
    "## Initial Trajectory Guess"
   ]
  },
  {
   "cell_type": "markdown",
   "id": "db92d3ba-7800-401e-8bce-76efe3a10d5a",
   "metadata": {},
   "source": [
    "SCP algorithms require an initial guess for the trajectory. This can be very simple, and does not need to be feasible.\n",
    "\n",
    "For Dubin's car, we will use a straight line for the state and zero for the input.\n",
    "\n",
    "Given a time $t\\in [0,1]$, the state initial guess will be:\n",
    "\n",
    "\\begin{align}\n",
    "\\bar x(t) &= (1-t) x_0 + t x_f, \\\\\n",
    "\\bar u(t) &= 0.\n",
    "\\end{align}"
   ]
  },
  {
   "cell_type": "markdown",
   "id": "a3c4ebef-18df-48b2-9386-db09c48e3eef",
   "metadata": {},
   "source": [
    "SCP algorithms work by discretizing the trajectory problem into $N$ temporal nodes.\n",
    "\n",
    "The API provides a function `problem_set_guess!` for defining the initial guess, discretized into $N$ points.\n",
    "\n",
    "For convenience, a function `straightline_interpolate` is available to define a straight line guess."
   ]
  },
  {
   "cell_type": "code",
   "execution_count": 863,
   "id": "bd886b6c-48e0-482f-b9ab-2db758c0071a",
   "metadata": {},
   "outputs": [],
   "source": [
    "state_guess(N) = straightline_interpolate(x_0, vcat(x_f, 0.9*x_0[end]), N)\n",
    "input_guess(N) = straightline_interpolate([T_min; 0.0], [T_min; 0.0], N);"
   ]
  },
  {
   "cell_type": "code",
   "execution_count": 864,
   "id": "c4ec5bc8-aa57-4ca7-b883-f1f629850e56",
   "metadata": {},
   "outputs": [],
   "source": [
    "problem_set_guess!(pbm, (N, pbm) -> begin\n",
    "    x = state_guess(N)\n",
    "    u = input_guess(N)\n",
    "    p = [10.0]\n",
    "    return x, u, p\n",
    "end)"
   ]
  },
  {
   "cell_type": "markdown",
   "id": "5de47fce-6ab3-498b-aaab-db50e25daa30",
   "metadata": {},
   "source": [
    "## Variable Scaling"
   ]
  },
  {
   "cell_type": "markdown",
   "id": "faaeeb0d-e33f-404b-a50f-1b0657795061",
   "metadata": {},
   "source": [
    "Variable scaling is important when the solution variables are of widely different magnitudes.\n",
    "\n",
    "The SCP Toolbox performs automatic scaling for variables whose magnitudes are naturally constrained by the convex constraints.\n",
    "\n",
    "However, you can also set the variable scaling manually by providing the expected value ranges for each variable.\n",
    "\n",
    "This is done using the SCP Toolbox API function `problem_advise_scale!!`."
   ]
  },
  {
   "cell_type": "code",
   "execution_count": 865,
   "id": "e6501b2d-4c2b-46c7-9647-e36e875870f4",
   "metadata": {},
   "outputs": [],
   "source": [
    "problem_advise_scale!(pbm, :state, 1, (-10.0, 10.0))\n",
    "problem_advise_scale!(pbm, :state, 2, (0, x_0[2]))\n",
    "problem_advise_scale!(pbm, :state, 3, (-10.0, 10.0))\n",
    "problem_advise_scale!(pbm, :state, 4, (-100.0, 0.0))\n",
    "problem_advise_scale!(pbm, :state, 5, (-deg2rad(30.0), deg2rad(30.0)))\n",
    "problem_advise_scale!(pbm, :state, 6, (-deg2rad(50.0), deg2rad(50.0)))\n",
    "problem_advise_scale!(pbm, :state, 7, (m_wet/2, m_wet))\n",
    "\n",
    "problem_advise_scale!(pbm, :input, 1, (T_min, T_max))\n",
    "problem_advise_scale!(pbm, :input, 2, (-δ_max, δ_max))\n",
    "\n",
    "problem_advise_scale!(pbm, :parameter, 1, (0, 10.0))"
   ]
  },
  {
   "cell_type": "markdown",
   "id": "f25ccb98-75ed-4e32-9464-abef3795d1cd",
   "metadata": {},
   "source": [
    "## Configuring the SCP Solver"
   ]
  },
  {
   "cell_type": "markdown",
   "id": "359f8d69-5a0c-439d-974a-3e21b738b1ff",
   "metadata": {},
   "source": [
    "The SCP Toolbox provides several SCP algorithm choices: `PTR`, `SCvx`, and `GuSTO`.\n",
    "\n",
    "Each algorithm must be provided with a set of parameters that define its behavior. Most of the parameters are shared, but some are algorithm-specific.\n",
    "\n",
    "SCP algorithm performance depends significantly on a well-chosen set of parameters, and this is problem-dependent.\n",
    "\n",
    "A lot of intuition is documented in our [Control Systems Magazine article](https://arxiv.org/abs/2106.09125)."
   ]
  },
  {
   "cell_type": "code",
   "execution_count": 866,
   "id": "a313c96c-6ad6-4a5e-b458-147d50458c6e",
   "metadata": {},
   "outputs": [],
   "source": [
    "# Parameters\n",
    "N, Nsub = 20, 20\n",
    "iter_max = 30\n",
    "disc_method = FOH\n",
    "wvc, wtr = 1e4, 1e-3\n",
    "feas_tol = 5e-3\n",
    "ε_abs, ε_rel = 1e-5, 1e-3\n",
    "q_tr = Inf\n",
    "q_exit = Inf\n",
    "solver, solver_options = ECOS, Dict(\"verbose\"=>0)      \n",
    "\n",
    "pars = PTR.Parameters(N, Nsub, iter_max, disc_method, wvc, wtr, ε_abs,\n",
    "                      ε_rel, feas_tol, q_tr, q_exit, solver, solver_options);"
   ]
  },
  {
   "cell_type": "markdown",
   "id": "644032a6-fa28-4fba-8c9f-4737f60e60de",
   "metadata": {},
   "source": [
    "Alternative convex solver options:"
   ]
  },
  {
   "cell_type": "code",
   "execution_count": 867,
   "id": "efb5dcb2-a340-4d89-97cc-e4ccfcb054b3",
   "metadata": {},
   "outputs": [],
   "source": [
    "# solver, options = Gurobi, Dict(\"OutputFlag\"=>0)  # works\n",
    "# solver, options = OSQP, Dict(\"verbose\"=>0)       # works\n",
    "# solver, options = Mosek, Dict(\"MSK_IPAR_LOG\"=>0)\n",
    "# solver, options = Ipopt, Dict()                  # doesn't work\n",
    "# solver, options = COSMO, Dict()                  # doesn't work\n",
    "# solver, options = SCS, Dict()                    # doesn't work"
   ]
  },
  {
   "cell_type": "markdown",
   "id": "5593c7b3-7941-41c5-a438-5a68ed10640e",
   "metadata": {},
   "source": [
    "## Solving the Trajectory Problem"
   ]
  },
  {
   "cell_type": "markdown",
   "id": "a8bc7cdf-5556-457c-afc0-6f735f44605b",
   "metadata": {},
   "source": [
    "Solving the problem amounts to initializing the SCP solver with its parameters, and providing the problem definition `pbm` from the API."
   ]
  },
  {
   "cell_type": "code",
   "execution_count": 868,
   "id": "e95d6f09-c793-458e-a319-1b30d4919923",
   "metadata": {},
   "outputs": [
    {
     "name": "stdout",
     "output_type": "stream",
     "text": [
      "k  | status   | vd    | vs    | vbc   | J         | ΔJ %      | Δx    | Δu    | Δp    | δ     | dyn | ηx    | ηu    | ηp   \n",
      "---+----------+-------+-------+-------+-----------+-----------+-------+-------+-------+-------+-----+-------+-------+------\n",
      "1  | OPTIMAL  | 2e+02 | 0e+00 | 2e-12 | 9.34e+03  |           | 2e-01 | 8e-02 | 9e-01 | 1e+00 | F   | 0.20  | 0.08  | 0.95 \n",
      "2  | OPTIMAL  | 6e+02 | 0e+00 | 1e-09 | 8.34e+03  | 10.73     | 4e-01 | 6e-05 | 1e+00 | 1e+00 | F   | 0.40  | 0.03  | 1.01 \n",
      "3  | OPTIMAL  | 1e+02 | 0e+00 | 3e-10 | 1.39e+03  | 83.39     | 3e-01 | 1e-09 | 9e-01 | 1e+00 | F   | 0.31  | 0.00  | 0.88 \n",
      "4  | OPTIMAL  | 2e+03 | 0e+00 | 2e-08 | 2.60e+04  | -1775.92  | 1e+00 | 7e-02 | 1e-01 | 1e+00 | F   | 1732.96 | 144.27 | 0.13 \n",
      "5  | OPTIMAL  | 2e+03 | 0e+00 | 8e-09 | 2.69e+04  | -3.49     | 4e-02 | 8e-02 | 5e-09 | 4e-02 | F   | 980.52 | 9.07  | 0.00 \n",
      "6  | OPTIMAL  | 2e+03 | 0e+00 | 1e-08 | 2.69e+04  | -0.00     | 2e-04 | 6e-02 | 3e-09 | 2e-04 | F   | 888.99 | 782.90 | 0.00 \n",
      "7  | OPTIMAL  | 2e+03 | 0e+00 | 1e-08 | 2.69e+04  | 0.00      | 5e-08 | 5e-02 | 3e-13 | 5e-08 | F   | 888.97 | 782.87 | 0.00 \n",
      "8  | OPTIMAL  | 2e+03 | 0e+00 | 1e-08 | 2.69e+04  | 0.00      | 2e-07 | 4e-02 | 6e-13 | 2e-07 | F   | 888.88 | 782.77 | 0.00 \n",
      "9  | OPTIMAL  | 2e+03 | 0e+00 | 1e-08 | 2.69e+04  | 0.00      | 2e-07 | 3e-02 | 8e-13 | 2e-07 | F   | 888.75 | 782.63 | 0.00 \n",
      "10 | OPTIMAL  | 2e+03 | 0e+00 | 1e-08 | 2.69e+04  | 0.00      | 3e-07 | 3e-02 | 1e-12 | 3e-07 | F   | 888.56 | 782.44 | 0.00 \n",
      "11 | OPTIMAL  | 2e+03 | 0e+00 | 1e-08 | 2.69e+04  | 0.00      | 4e-07 | 3e-02 | 1e-12 | 4e-07 | F   | 888.31 | 782.18 | 0.00 \n",
      "12 | OPTIMAL  | 2e+03 | 0e+00 | 1e-08 | 2.69e+04  | 0.00      | 5e-07 | 4e-02 | 2e-12 | 5e-07 | F   | 888.00 | 781.85 | 0.00 \n",
      "13 | OPTIMAL  | 2e+03 | 0e+00 | 1e-08 | 2.69e+04  | 0.00      | 7e-07 | 4e-02 | 2e-12 | 7e-07 | F   | 887.59 | 781.43 | 0.00 \n",
      "14 | OPTIMAL  | 2e+03 | 0e+00 | 1e-08 | 2.69e+04  | 0.00      | 8e-07 | 4e-02 | 2e-12 | 8e-07 | F   | 887.08 | 780.91 | 0.00 \n",
      "15 | OPTIMAL  | 2e+03 | 0e+00 | 1e-08 | 2.69e+04  | 0.00      | 1e-06 | 4e-02 | 3e-12 | 1e-06 | F   | 886.46 | 780.27 | 0.00 \n",
      "16 | OPTIMAL  | 2e+03 | 0e+00 | 1e-08 | 2.69e+04  | 0.00      | 2e-07 | 4e-02 | 2e-12 | 2e-07 | F   | 886.08 | 779.87 | 0.00 \n",
      "17 | OPTIMAL  | 2e+03 | 0e+00 | 1e-08 | 2.69e+04  | 0.00      | 9e-08 | 5e-02 | 2e-12 | 9e-08 | F   | 885.72 | 779.49 | 0.00 \n",
      "18 | OPTIMAL  | 2e+03 | 0e+00 | 1e-08 | 2.69e+04  | 0.00      | 1e-07 | 5e-02 | 2e-12 | 1e-07 | F   | 885.28 | 779.03 | 0.00 \n",
      "19 | OPTIMAL  | 2e+03 | 0e+00 | 1e-08 | 2.69e+04  | 0.00      | 1e-07 | 5e-02 | 2e-12 | 1e-07 | F   | 884.75 | 778.48 | 0.00 \n",
      "20 | OPTIMAL  | 2e+03 | 0e+00 | 1e-08 | 2.69e+04  | 0.00      | 2e-07 | 5e-02 | 3e-12 | 2e-07 | F   | 884.12 | 777.83 | 0.00 \n",
      "21 | OPTIMAL  | 2e+03 | 0e+00 | 1e-08 | 2.69e+04  | 0.00      | 2e-07 | 6e-02 | 3e-12 | 2e-07 | F   | 883.36 | 777.05 | 0.00 \n",
      "22 | OPTIMAL  | 2e+03 | 0e+00 | 1e-08 | 2.69e+04  | 0.00      | 3e-07 | 6e-02 | 4e-12 | 3e-07 | F   | 882.48 | 776.14 | 0.00 \n",
      "23 | OPTIMAL  | 2e+03 | 0e+00 | 1e-08 | 2.69e+04  | 0.00      | 4e-07 | 6e-02 | 4e-12 | 4e-07 | F   | 881.45 | 775.08 | 0.00 \n",
      "24 | OPTIMAL  | 2e+03 | 0e+00 | 1e-08 | 2.69e+04  | 0.00      | 2e-07 | 6e-02 | 1e-11 | 2e-07 | F   | 879.17 | 772.77 | 0.00 \n",
      "25 | OPTIMAL  | 2e+03 | 0e+00 | 1e-08 | 2.69e+04  | -0.00     | 6e-06 | 4e-02 | 5e-11 | 6e-06 | F   | 868.03 | 761.61 | 0.00 \n",
      "26 | OPTIMAL  | 2e+03 | 0e+00 | 1e-08 | 2.69e+04  | -0.00     | 3e-06 | 4e-02 | 3e-11 | 3e-06 | F   | 860.48 | 754.04 | 0.00 \n",
      "27 | OPTIMAL  | 2e+03 | 0e+00 | 1e-08 | 2.69e+04  | -0.00     | 2e-06 | 3e-02 | 3e-11 | 2e-06 | F   | 854.59 | 748.13 | 0.00 \n",
      "28 | OPTIMAL  | 2e+03 | 0e+00 | 1e-08 | 2.69e+04  | -0.00     | 1e-06 | 3e-02 | 2e-11 | 1e-06 | F   | 849.78 | 743.30 | 0.00 \n",
      "29 | OPTIMAL  | 2e+03 | 0e+00 | 1e-08 | 2.69e+04  | -0.00     | 1e-06 | 2e-02 | 2e-11 | 1e-06 | F   | 845.74 | 739.25 | 0.00 \n",
      "30 | OPTIMAL  | 2e+03 | 0e+00 | 1e-08 | 2.69e+04  | -0.00     | 8e-07 | 2e-02 | 2e-11 | 8e-07 | F   | 842.27 | 735.76 | 0.00 \n"
     ]
    }
   ],
   "source": [
    "ptr_pbm = PTR.create(pars, pbm)\n",
    "sol, history = PTR.solve(ptr_pbm);"
   ]
  },
  {
   "cell_type": "markdown",
   "id": "2a924f5a-0bd9-4527-a5ac-09f43444e74e",
   "metadata": {},
   "source": [
    "## Trajectory plot"
   ]
  },
  {
   "cell_type": "code",
   "execution_count": 893,
   "id": "2baa367b-54da-4175-b547-6931c9d25477",
   "metadata": {},
   "outputs": [
    {
     "data": {
      "image/png": "[encoded data removed]",
      "text/plain": [
       "Figure(PyObject <Figure size 640x480 with 1 Axes>)"
      ]
     },
     "metadata": {},
     "output_type": "display_data"
    }
   ],
   "source": [
    "fig = plt.figure()\n",
    "ax = fig.add_subplot(111)\n",
    "\n",
    "ax.grid()\n",
    "\n",
    "_sol = history.subproblems[end].sol\n",
    "\n",
    "tf = _sol.p[1]\n",
    "xd = _sol.xd\n",
    "ud = _sol.ud\n",
    "vd = _sol.vd\n",
    "p_sol = _sol.p\n",
    "td = sol.td*tf\n",
    "\n",
    "Nc = 100\n",
    "tc = LinRange(0, tf, Nc)\n",
    "xc = hcat([sample(sol.xc, t) for t in LinRange(0, 1, Nc)]...)\n",
    "\n",
    "# ax.plot(td, xd[1, :], marker=\".\", linestyle=\"none\", label=\"x\")\n",
    "\n",
    "# ax.plot(td, xd[2, :], marker=\".\", markersize=10, linestyle=\"none\", label=\"y-dt\", zorder=100)\n",
    "# ax.plot(td, xd[2, :], linestyle=\"-\", label=\"y-ct\")\n",
    "\n",
    "ax.plot(td, xd[2, :], marker=\".\", markersize=10, linestyle=\"none\", label=\"y-dt\", zorder=100)\n",
    "ax.plot(tc, xc[2, :], linestyle=\"-\", label=\"y-ct\")\n",
    "\n",
    "ax.legend()\n",
    "\n",
    "ax.set_xlabel(\"time\")\n",
    ";"
   ]
  },
  {
   "cell_type": "code",
   "execution_count": 900,
   "id": "3531a696-7abd-44ce-b543-bc8af9b56c23",
   "metadata": {},
   "outputs": [
    {
     "data": {
      "text/plain": [
       "7-element Vector{Float64}:\n",
       "     1.0580921960645668e-13\n",
       "    99.6249994059635\n",
       "     4.684483763782397e-13\n",
       "    -1.4999986643687697\n",
       "     1.3520361544017553e-13\n",
       "     5.878919388244513e-13\n",
       " 25000.0"
      ]
     },
     "execution_count": 900,
     "metadata": {},
     "output_type": "execute_result"
    }
   ],
   "source": [
    "sample(sol.xc, 1)"
   ]
  },
  {
   "cell_type": "code",
   "execution_count": 895,
   "id": "46afb8e6-b1d3-4ad4-92d1-e2c566907698",
   "metadata": {},
   "outputs": [
    {
     "data": {
      "text/plain": [
       "-0.3749993321840748"
      ]
     },
     "metadata": {},
     "output_type": "display_data"
    },
    {
     "data": {
      "text/plain": [
       "99.99999873814757"
      ]
     },
     "metadata": {},
     "output_type": "display_data"
    },
    {
     "data": {
      "text/plain": [
       "99.6249994059635"
      ]
     },
     "metadata": {},
     "output_type": "display_data"
    }
   ],
   "source": [
    "display(xc[2, end]-xc[2, 1])\n",
    "display(xc[2, 1])\n",
    "display(xc[2, end])"
   ]
  },
  {
   "cell_type": "code",
   "execution_count": 896,
   "id": "f5354b8a-9d23-4048-a10c-1af352242546",
   "metadata": {},
   "outputs": [
    {
     "data": {
      "text/plain": [
       "0.4999999643381946"
      ]
     },
     "execution_count": 896,
     "metadata": {},
     "output_type": "execute_result"
    }
   ],
   "source": [
    "tf"
   ]
  },
  {
   "cell_type": "code",
   "execution_count": 897,
   "id": "457c1a72-51d3-4b0e-920a-b64b6e836cb3",
   "metadata": {},
   "outputs": [
    {
     "data": {
      "text/plain": [
       "-0.37499994650729385"
      ]
     },
     "execution_count": 897,
     "metadata": {},
     "output_type": "execute_result"
    }
   ],
   "source": [
    "-0.5*g*(tf)^2"
   ]
  },
  {
   "cell_type": "code",
   "execution_count": 901,
   "id": "3eafdccb-0e76-4c0d-9be7-eeb4996d88b7",
   "metadata": {},
   "outputs": [
    {
     "data": {
      "text/plain": [
       "1.2286471644529229e-6"
      ]
     },
     "metadata": {},
     "output_type": "display_data"
    },
    {
     "data": {
      "text/plain": [
       "-1.4999986643687697"
      ]
     },
     "metadata": {},
     "output_type": "display_data"
    }
   ],
   "source": [
    "display(xc[4, 1])\n",
    "display(xc[4, end])"
   ]
  },
  {
   "cell_type": "code",
   "execution_count": 899,
   "id": "4e243f65-7e8e-4924-ba70-8e94b5dde154",
   "metadata": {},
   "outputs": [
    {
     "data": {
      "text/plain": [
       "-1.499999893014584"
      ]
     },
     "execution_count": 899,
     "metadata": {},
     "output_type": "execute_result"
    }
   ],
   "source": [
    "-g*tf"
   ]
  },
  {
   "cell_type": "code",
   "execution_count": 874,
   "id": "2ee37548-d4f5-468d-bd6d-da05584c2c04",
   "metadata": {},
   "outputs": [
    {
     "data": {
      "image/png": "[encoded data removed]",
      "text/plain": [
       "Figure(PyObject <Figure size 640x480 with 1 Axes>)"
      ]
     },
     "metadata": {},
     "output_type": "display_data"
    },
    {
     "data": {
      "text/plain": [
       "PyObject Text(0.5, 24.0, 'time')"
      ]
     },
     "execution_count": 874,
     "metadata": {},
     "output_type": "execute_result"
    }
   ],
   "source": [
    "fig = plt.figure()\n",
    "ax = fig.add_subplot(111)\n",
    "\n",
    "uc = hcat([sample(sol.uc, t) for t in tc]...)\n",
    "\n",
    "ax.plot(td, ud[1, :], marker=\".\", markersize=10, linestyle=\"none\", label=\"T-dt\", zorder=100)\n",
    "ax.plot(tc, uc[1, :], linestyle=\"-\", label=\"T-ct\")\n",
    "\n",
    "ax.legend()\n",
    "\n",
    "ax.set_xlabel(\"time\")"
   ]
  },
  {
   "cell_type": "code",
   "execution_count": 875,
   "id": "eb3795bc-a3ca-44be-8127-029b6a954d0b",
   "metadata": {},
   "outputs": [
    {
     "data": {
      "image/png": "[encoded data removed]",
      "text/plain": [
       "Figure(PyObject <Figure size 1200x900 with 7 Axes>)"
      ]
     },
     "metadata": {},
     "output_type": "display_data"
    }
   ],
   "source": [
    "fig = plt.figure(figsize=(12, 9))\n",
    "for i = 1:7\n",
    "    ax = fig.add_subplot(3, 3, i)\n",
    "    ax.grid()\n",
    "    ax.plot(td[1:end-1], vd[i, :], marker=\".\", markersize=5, linestyle=\"none\", label=\"T-dt\", zorder=100)\n",
    "    ax.set_ylabel(\"vd$i\")\n",
    "    ax.set_xlabel(\"time\")\n",
    "end\n",
    "plt.tight_layout()"
   ]
  },
  {
   "cell_type": "code",
   "execution_count": 888,
   "id": "652a1f8f-012f-463d-85d7-4da3e77c4710",
   "metadata": {},
   "outputs": [
    {
     "data": {
      "text/plain": [
       "30-element Vector{Tuple{Vector{Float64}, Vector{Float64}}}:\n",
       " ([10.0], [0.5000000005594798])\n",
       " ([0.5000000005594798], [10.56272924038074])\n",
       " ([10.56272924038074], [1.7543498562302489])\n",
       " ([1.7543498562302489], [0.49999994290619776])\n",
       " ([0.49999994290619776], [0.4999999912803216])\n",
       " ([0.4999999912803216], [0.4999999622775837])\n",
       " ([0.4999999622775837], [0.4999999622805248])\n",
       " ([0.4999999622805248], [0.49999996228629073])\n",
       " ([0.49999996228629073], [0.49999996229394394])\n",
       " ([0.49999996229394394], [0.499999962303888])\n",
       " ([0.499999962303888], [0.4999999623164669])\n",
       " ([0.4999999623164669], [0.4999999623321821])\n",
       " ([0.4999999623321821], [0.49999996235158245])\n",
       " ⋮\n",
       " ([0.49999996245961514], [0.49999996248373757])\n",
       " ([0.49999996248373757], [0.4999999625120908])\n",
       " ([0.4999999625120908], [0.4999999625452564])\n",
       " ([0.4999999625452564], [0.4999999625839323])\n",
       " ([0.4999999625839323], [0.4999999626287837])\n",
       " ([0.4999999626287837], [0.49999996272706676])\n",
       " ([0.49999996272706676], [0.4999999632086816])\n",
       " ([0.4999999632086816], [0.4999999635375775])\n",
       " ([0.4999999635375775], [0.49999996379551])\n",
       " ([0.49999996379551], [0.49999996400700847])\n",
       " ([0.49999996400700847], [0.49999996418481474])\n",
       " ([0.49999996418481474], [0.4999999643381946])"
      ]
     },
     "execution_count": 888,
     "metadata": {},
     "output_type": "execute_result"
    }
   ],
   "source": [
    "[(spbm.ref.p, spbm.sol.p) for spbm in history.subproblems]"
   ]
  },
  {
   "cell_type": "code",
   "execution_count": 876,
   "id": "c69ff37a-54df-4d30-80da-db0018827f63",
   "metadata": {},
   "outputs": [
    {
     "data": {
      "text/plain": [
       "ContinuousTimeTrajectory([0.0, 0.0013175230566534915, 0.002635046113306983, 0.003952569169960474, 0.005270092226613966, 0.006587615283267457, 0.007905138339920948, 0.00922266139657444, 0.010540184453227932, 0.011857707509881422  …  0.9881422924901185, 0.9894598155467721, 0.9907773386034255, 0.9920948616600791, 0.9934123847167325, 0.994729907773386, 0.9960474308300395, 0.997364953886693, 0.9986824769433466, 1.0], [-1.7763568394002505e-15 -1.802004489891571e-15 … 1.0550072202185253e-13 1.0580921960645668e-13; 99.99999873814757 99.99999808800692 … 99.62598689635561 99.6249994059635; … ; -4.651834473179406e-14 -4.615959790077789e-14 … 5.875275295114055e-13 5.878919388244513e-13; 25000.0 25000.0 … 25000.0 25000.0], :linear)"
      ]
     },
     "execution_count": 876,
     "metadata": {},
     "output_type": "execute_result"
    }
   ],
   "source": [
    "sol.xc"
   ]
  },
  {
   "cell_type": "code",
   "execution_count": 877,
   "id": "fd7b0612-c4a5-4282-8e05-c70ed3e3093e",
   "metadata": {},
   "outputs": [
    {
     "data": {
      "text/plain": [
       "7×20 Matrix{Float64}:\n",
       "    -1.77636e-15     -5.32907e-15  …      1.77636e-15      1.77636e-15\n",
       "   100.0             -1.25594e-6          0.023786         1.26053e-6\n",
       "    -3.90799e-14     -2.13163e-14         6.03961e-14      3.73035e-14\n",
       "     1.22865e-6       1.42102             0.0789424       -2.45737e-6\n",
       "    -4.44089e-16     -3.10862e-15        -2.22045e-16      6.66134e-16\n",
       "    -4.65183e-14     -2.25375e-14  …      6.73905e-14      4.59632e-14\n",
       " 25000.0          25000.0             25000.0          25000.0"
      ]
     },
     "execution_count": 877,
     "metadata": {},
     "output_type": "execute_result"
    }
   ],
   "source": [
    "\n",
    "xd"
   ]
  },
  {
   "cell_type": "code",
   "execution_count": 878,
   "id": "c5e0f360-09b7-40d6-9b1e-94669f03e0f9",
   "metadata": {},
   "outputs": [],
   "source": [
    "# function set_fonts()::Nothing\n",
    "#     # Set the figure fonts.\n",
    "#     fig_small_sz = 12\n",
    "#     fig_med_sz = 15\n",
    "#     fig_big_sz = 17\n",
    "#     plt.rc(\"text\", usetex=true)\n",
    "#     plt.rc(\"font\", size=fig_small_sz, family=\"serif\")\n",
    "#     plt.rc(\"axes\", titlesize=fig_small_sz)\n",
    "#     plt.rc(\"axes\", labelsize=fig_med_sz)\n",
    "#     plt.rc(\"xtick\", labelsize=fig_small_sz)\n",
    "#     plt.rc(\"ytick\", labelsize=fig_small_sz)\n",
    "#     plt.rc(\"legend\", fontsize=fig_small_sz)\n",
    "#     plt.rc(\"figure\", titlesize=fig_big_sz)\n",
    "#     plt.rc(\"figure\", dpi=300) \n",
    "#     return nothing\n",
    "# end\n",
    "# ;"
   ]
  },
  {
   "cell_type": "code",
   "execution_count": 879,
   "id": "3408ae45-8e1c-40ca-a2b9-e468e298543a",
   "metadata": {},
   "outputs": [],
   "source": [
    "# # Trajectory plot\n",
    "# ctres, overlap = 1000, 3\n",
    "# N = size(sol.xd, 2)\n",
    "# xct = hcat([sample(sol.xc, t) for t in LinRange(0, 1, ctres)]...)\n",
    "# vct = vcat([sample(sol.uc, t)[1] for t in LinRange(0, 1, ctres)]...)\n",
    "# cmap = generate_colormap(\"inferno\"; minval=minimum(vct), maxval=maximum(vct))\n",
    "\n",
    "# # plot_options = Dict(\"xtick.labelsize\"=>9,\n",
    "# #                     \"ytick.labelsize\"=>9,\n",
    "# #                     \"axes.labelsize\"=>11)\n",
    "# # fig = create_figure((4, 4); options = plot_options)\n",
    "\n",
    "# fig = plt.figure(figsize=(4,4), dpi=300)\n",
    "# plt.clf()\n",
    "# set_fonts()\n",
    "# set_fonts()\n",
    "\n",
    "# ax = setup_axis!(111, xlabel=\"\\$x\\$ [m]\", ylabel=\"\\$y\\$ [m]\",\n",
    "#                  axis=\"equal\", cbar=cmap, clabel=\"Velocity, \\$v\\$ [m/s]\",\n",
    "#                  cbar_aspect=40)\n",
    "# ax.plot(sol.xd[1, :], sol.xd[2, :],\n",
    "#         linestyle=\"none\", marker=\"o\", markerfacecolor=DarkBlue,\n",
    "#         markeredgecolor=\"white\", markeredgewidth=0.2, markersize=3,\n",
    "#         zorder=20)\n",
    "# line_segs = Vector{Matrix}(undef, 0)\n",
    "# line_clrs = Vector{NTuple{4, Real}}(undef, 0)\n",
    "# for k=1:ctres-overlap\n",
    "#     push!(line_segs, xct[1:2, k:k+overlap]')\n",
    "#     push!(line_clrs, cmap.to_rgba(vct[k]))\n",
    "# end\n",
    "# trajectory = PyPlot.matplotlib.collections.LineCollection(\n",
    "#     line_segs, zorder=10, colors = line_clrs, linewidths=3,\n",
    "#     capstyle=\"round\")\n",
    "# ax.add_collection(trajectory)\n",
    "# Rect = PyPlot.matplotlib.patches.Rectangle\n",
    "# car_length = 0.2\n",
    "# for k=1:N\n",
    "#     local xl, xw = [1;1;-1;-1;1]*car_length/2, [1;-1;-1;1;1]*car_width/2\n",
    "#     local yl, yw = [1;1;-1;-1;1]*car_length/2, [-1;1;1;-1;-1]*car_width/2\n",
    "#     local ang = sol.xd[3,k]\n",
    "#     local xc = sol.xd[1,k].+xl.*sin(ang).+xw.*cos(ang)\n",
    "#     local yc = sol.xd[2,k].+yl.*cos(ang).+yw.*sin(ang)\n",
    "#     ax.fill(xc, yc,\n",
    "#             linewidth=1,\n",
    "#             edgecolor=DarkBlue,\n",
    "#             facecolor=rgb2pyplot(parse(RGB, Red), a=0.5),\n",
    "#             zorder=6)\n",
    "# end\n",
    "# ang = LinRange(0, 2*pi, 100)\n",
    "# obs = ([cos.(ang)'; sin.(ang)']*r_0).+c_0\n",
    "# ax.fill(obs[1, :], obs[2, :],\n",
    "#         linewidth=1,\n",
    "#         edgecolor=Blue,\n",
    "#         facecolor=rgb2pyplot(parse(RGB, Green), a=0.5),\n",
    "#         zorder=5)\n",
    "\n",
    "# fig.savefig(\"../media/outputs/dubin_trajectory.png\", dpi=\"figure\", bbox_inches=nothing)\n",
    "\n",
    "# plt.close()"
   ]
  },
  {
   "cell_type": "markdown",
   "id": "4af8ff72-a0e9-47ce-915c-379ca8dbc1ae",
   "metadata": {},
   "source": [
    "## Replace figure\n",
    "\n",
    "<!-- <div style=\"text-align: center\">\n",
    "    <img src=\"../media/outputs/dubin_trajectory.png\"\n",
    "         alt=\"Dubin's car overview\"\n",
    "         style=\"background-color: white; width: 500px; display: block; margin-left: auto; margin-right: auto;\"/>\n",
    "    <br />\n",
    "    <b>Figure.</b> Computed Dubin's car trajectory for minimum-input usage.\n",
    "</div> -->"
   ]
  }
 ],
 "metadata": {
  "kernelspec": {
   "display_name": "Julia 1.7.1",
   "language": "julia",
   "name": "julia-1.7"
  },
  "language_info": {
   "file_extension": ".jl",
   "mimetype": "application/julia",
   "name": "julia",
   "version": "1.7.1"
  }
 },
 "nbformat": 4,
 "nbformat_minor": 5
}
