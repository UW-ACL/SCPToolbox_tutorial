{
 "cells": [
  {
   "cell_type": "markdown",
   "id": "457496e8-f051-491a-a922-e11d4684223d",
   "metadata": {},
   "source": [
    "# SCP Toolbox Workshop\n",
    "\n",
    "___A tutorial on generating dynamically feasible trajectories reliably and efficiently___\n",
    "\n",
    "Monday, February 7, 2022\n",
    "\n",
    "Rocky Mountain AAS GN&C Conference, Breckenridge, CO"
   ]
  },
  {
   "cell_type": "code",
   "execution_count": 1,
   "id": "b046a02d-fcb1-4dd8-8a9d-28d18c7b3a8a",
   "metadata": {
    "slideshow": {
     "slide_type": "skip"
    },
    "tags": []
   },
   "outputs": [
    {
     "name": "stderr",
     "output_type": "stream",
     "text": [
      "\u001b[32m\u001b[1m  Activating\u001b[22m\u001b[39m project at `~/GitHub/SCPToolbox_tutorial`\n",
      "\u001b[32m\u001b[1m   Resolving\u001b[22m\u001b[39m package versions...\n",
      "\u001b[32m\u001b[1m  No Changes\u001b[22m\u001b[39m to `~/GitHub/SCPToolbox_tutorial/Project.toml`\n",
      "\u001b[32m\u001b[1m  No Changes\u001b[22m\u001b[39m to `~/GitHub/SCPToolbox_tutorial/Manifest.toml`\n"
     ]
    }
   ],
   "source": [
    "import Pkg\n",
    "Pkg.activate(\"..\")\n",
    "\n",
    "# these lines are required only for local installations\n",
    "Pkg.develop(path=\"../../scp_traj_opt/\")\n",
    "Pkg.precompile()\n",
    "\n",
    "using SCPToolbox\n",
    "using PyPlot, Colors, LinearAlgebra\n",
    "\n",
    "# Import the different possible low-level convex solvers\n",
    "using COSMO\n",
    "using Ipopt\n",
    "using SCS\n",
    "using ECOS\n",
    "using OSQP"
   ]
  },
  {
   "cell_type": "markdown",
   "id": "572810fc-a18f-4040-ae30-965c1f711f0f",
   "metadata": {},
   "source": [
    "# Part 4: Rocket-Landing Guidance"
   ]
  },
  {
   "cell_type": "code",
   "execution_count": 2,
   "id": "29113eda-edec-4a41-b2a0-174df49cdfa4",
   "metadata": {},
   "outputs": [],
   "source": [
    "pbm = TrajectoryProblem();"
   ]
  },
  {
   "cell_type": "markdown",
   "id": "7a92f244-c651-4686-b93c-6cbb884e232f",
   "metadata": {},
   "source": [
    "## Rocket dynamics"
   ]
  },
  {
   "cell_type": "markdown",
   "id": "75a78b56-43ed-4fd8-8a2b-05c9835a7051",
   "metadata": {},
   "source": [
    "In general, the dynamics of any nonlinear system are given by:\n",
    "\n",
    "$$\n",
    "\\dot x(t) = f( t, x(t), u(t), p )\n",
    "$$\n",
    "\n",
    "* $t\\in \\mathbb R$: time;\n",
    "* $x(t)\\in \\mathbb R^n$: state vector;\n",
    "* $u(t)\\in \\mathbb R^m$: input vector (the things that we can decide on);\n",
    "* $p(t)\\in \\mathbb R^d$: \"parameter\" vector (problem specific);"
   ]
  },
  {
   "cell_type": "code",
   "execution_count": 3,
   "id": "1a1d6355-0af3-4aff-80ab-5139ddacc56f",
   "metadata": {},
   "outputs": [],
   "source": [
    "n, m, p = 7, 2, 1\n",
    "problem_set_dims!(pbm, n, m, p)"
   ]
  },
  {
   "cell_type": "markdown",
   "id": "afc2a171-1871-4d08-a5cb-dbccf36bd897",
   "metadata": {},
   "source": [
    "## Rocket parameters"
   ]
  },
  {
   "cell_type": "code",
   "execution_count": 4,
   "id": "3481a900-6a1b-4228-833f-d5c57f569d7d",
   "metadata": {},
   "outputs": [
    {
     "data": {
      "text/plain": [
       "9.81"
      ]
     },
     "execution_count": 4,
     "metadata": {},
     "output_type": "execute_result"
    }
   ],
   "source": [
    "g = 9.81 # [m/s^2] Gravitational acceleration"
   ]
  },
  {
   "cell_type": "code",
   "execution_count": 5,
   "id": "4a756afd-362e-4bd7-8218-9d7a286c0133",
   "metadata": {},
   "outputs": [],
   "source": [
    "# Mechanical parameters\n",
    "rs = 4.5 # [m] Fuselage radius\n",
    "ls = 50.0 # [m] Fuselage height\n",
    "m_wet = 120e3\n",
    "L = 0.4 * ls\n",
    "# lcp = 0.45 * ls\n",
    "J = 1 / 12 * m_wet * (6 * rs^2 + ls^2);"
   ]
  },
  {
   "cell_type": "code",
   "execution_count": 6,
   "id": "3f5420cb-e2b9-4b01-a697-241b8c2b149a",
   "metadata": {},
   "outputs": [],
   "source": [
    "# Propulsion parameters\n",
    "Isp = 330 # [s] Specific impulse\n",
    "T_min1 = 880e3 # [N] One engine min thrust\n",
    "T_max1 = 2210e3 # [N] One engine max thrust\n",
    "T_min = 3 * T_min1\n",
    "T_max = 3 * T_max1\n",
    "α = 1 / (Isp * g)\n",
    "δ_max = deg2rad(10.0);"
   ]
  },
  {
   "cell_type": "code",
   "execution_count": 7,
   "id": "b409571d-a6c5-4ed9-9bf6-535d96fe89f1",
   "metadata": {},
   "outputs": [],
   "source": [
    "f(t, x, u, p) = begin\n",
    "    rx, ry, vx, vy, θ, ω, m = x\n",
    "    T, δ = u\n",
    "    tf, = p\n",
    "    return [vx; vy; ω; -(T/m)*sin(θ+δ); (T/m)*cos(θ+δ)-g; -(L*T/J)*sin(δ); -α*T]*tf\n",
    "end;"
   ]
  },
  {
   "cell_type": "markdown",
   "id": "8bdc3e1a-3d97-4a1b-a0fd-420f36eb6438",
   "metadata": {},
   "source": [
    "SCP algorithms work by iteratively linearizing nonconvex elements of the problem. This means that we have to provide the algorithm with the Jacobians of $f$.\n",
    "\n",
    "\\begin{align}\n",
    "A(t, x, u, p) &= \\nabla_x f(t, x, u, p), \\\\\n",
    "B(t, x, u, p) &= \\nabla_u f(t, x, u, p), \\\\\n",
    "F(t, x, u, p) &= \\nabla_p f(t, x, u, p).\n",
    "\\end{align}"
   ]
  },
  {
   "cell_type": "code",
   "execution_count": 8,
   "id": "e45793ab-85d4-4268-86a2-1f27037ecf58",
   "metadata": {},
   "outputs": [],
   "source": [
    "A(t, x, u, p) = begin\n",
    "    rx, ry, vx, vy, θ, ω, m = x\n",
    "    T, δ = u\n",
    "    tf, = p\n",
    "    return [0 0        0      1 0 0        0;\n",
    "            0 0        0      0 1 0        0;\n",
    "            0 0        0      0 0 1        0;\n",
    "            0 0 -T*cos(θ+δ)/m 0 0 0  T*sin(θ+δ)/m^2;\n",
    "            0 0 -T*sin(θ+δ)/m 0 0 0 -T*cos(θ+δ)/m^2;\n",
    "            0 0        0      0 0 0        0;\n",
    "            0 0        0      0 0 0        0        ]*tf\n",
    "end\n",
    "\n",
    "B(t, x, u, p) = begin\n",
    "    rx, ry, vx, vy, θ, ω, m = x\n",
    "    T, δ = u\n",
    "    tf, = p\n",
    "    return [     0            0;\n",
    "                 0            0;\n",
    "                 0            0;\n",
    "            -sin(θ+δ)/m -T*cos(θ+δ)/m;\n",
    "             cos(θ+δ)/m -T*sin(θ+δ)/m;\n",
    "            -L*sin(δ)/J -L*T*cos(δ)/J;\n",
    "                -α            0       ]*tf\n",
    "end\n",
    "\n",
    "F(t, x, u, p) = begin\n",
    "    rx, ry, vx, vy, θ, ω, m = x\n",
    "    T, δ = u\n",
    "    return [vx; vy; ω; -(T/m)*sin(θ+δ); (T/m)*cos(θ+δ)-g; -(L*T/J)*sin(δ); -α*T]\n",
    "end;"
   ]
  },
  {
   "cell_type": "code",
   "execution_count": 9,
   "id": "a2841ea2-3b66-4370-a3b8-c31a6a9c5198",
   "metadata": {},
   "outputs": [],
   "source": [
    "wrap(func) = (t, k, x, u, p, pbm) -> func(t, x, u, p)\n",
    "problem_set_dynamics!(pbm, wrap(f), wrap(A), wrap(B), wrap(F))"
   ]
  },
  {
   "cell_type": "markdown",
   "id": "3956c4b2-8493-4311-ad5b-621de2ddafef",
   "metadata": {},
   "source": [
    "## Boundary Conditions"
   ]
  },
  {
   "cell_type": "markdown",
   "id": "6f0b62c9-8ffe-420d-ac6e-bbddfd03c717",
   "metadata": {},
   "source": [
    "The initial and terminal boundary conditions on the trajectory are set by the following two constraints:\n",
    "\n",
    "\\begin{align}\n",
    "g_{ic}(x(0), p) &= 0, \\\\\n",
    "g_{tc}(x(1), p) &= 0.\n",
    "\\end{align}"
   ]
  },
  {
   "cell_type": "code",
   "execution_count": 10,
   "id": "3018bd4f-95e5-4681-882d-53162c60a25d",
   "metadata": {},
   "outputs": [],
   "source": [
    "x_0 = [-100; 100; 10; -1; deg2rad(60); 0.0; m_wet]\n",
    "x_f = zeros(6)\n",
    "\n",
    "g_ic(x, p) = x-x_0\n",
    "g_tc(x, p) = x[1:6]-x_f;"
   ]
  },
  {
   "cell_type": "markdown",
   "id": "aee2cb63-24de-49d6-a387-8b883cb6d4be",
   "metadata": {},
   "source": [
    "Again, we need to provide the Jacobians of $g_{ic}$ and $g_{tc}$, since in general these may be nonaffine functions.\n",
    "\n",
    "\\begin{align}\n",
    "H_0(x(0), p) &= \\nabla_x g_{ic}(x(0), p), \\\\\n",
    "K_0(x(0), p) &= \\nabla_p g_{ic}(x(0), p), \\\\\n",
    "H_f(x(1), p) &= \\nabla_x g_{tc}(x(1), p), \\\\\n",
    "K_f(x(1), p) &= \\nabla_p g_{tc}(x(1), p).\n",
    "\\end{align}\n",
    "\n",
    "When a Jacobian is not provided, the SCP Toolbox assumes that it is zero."
   ]
  },
  {
   "cell_type": "code",
   "execution_count": 11,
   "id": "61883958-c05a-4ddc-9d6c-04851ebd8204",
   "metadata": {},
   "outputs": [],
   "source": [
    "H_0(x, p) = I(7)\n",
    "H_f(x, p) = hcat(I(6), zeros(6));"
   ]
  },
  {
   "cell_type": "code",
   "execution_count": 12,
   "id": "47a5ac2e-4a0c-45c1-9f2d-c62090f39fc2",
   "metadata": {},
   "outputs": [],
   "source": [
    "wrap(func) = (x, p, pbm) -> func(x, p)\n",
    "problem_set_bc!(pbm, :ic, wrap(g_ic), wrap(H_0))\n",
    "problem_set_bc!(pbm, :tc, wrap(g_tc), wrap(H_f))"
   ]
  },
  {
   "cell_type": "markdown",
   "id": "33769bb9-7e23-43b8-a1a3-0c3a7c18ccce",
   "metadata": {},
   "source": [
    "## State constraints"
   ]
  },
  {
   "cell_type": "code",
   "execution_count": 13,
   "id": "6e2ed4d8-0435-4254-ae28-79daea47494b",
   "metadata": {
    "tags": []
   },
   "outputs": [],
   "source": [
    "# tf_min = 10\n",
    "# tf_max = 1000\n",
    "\n",
    "# time_upper(t, x, p) = begin\n",
    "#     tf, = p\n",
    "#     return [tf - tf_max]\n",
    "# end\n",
    "\n",
    "# time_lower(t, x, p) = begin\n",
    "#     tf, = p\n",
    "#     return [tf_min - tf]\n",
    "# end\n",
    "\n",
    "# wrap(func) = (ocp, t, k, x, p) -> func(t, x, p)\n",
    "# problem_set_X!(pbm, wrap(time_upper))\n",
    "# problem_set_X!(pbm, wrap(time_lower))\n",
    "\n",
    "# # Convex path constraints on the state\n",
    "# tf_min = 20\n",
    "# tf_max = 100\n",
    "# problem_set_X!(\n",
    "#     pbm, (t, k, x, p, pbm, ocp) -> begin\n",
    "        \n",
    "#         tf, = p\n",
    "        \n",
    "#         @add_constraint(\n",
    "#             ocp, NONPOS, \"max_time\", (tf,), begin\n",
    "#                 local tf = arg\n",
    "#                 tf-tf_max\n",
    "#             end)\n",
    "\n",
    "#         @add_constraint(\n",
    "#             ocp, NONPOS, \"min_time\", (tf,), begin\n",
    "#                 local tf = arg\n",
    "#                 tf_min-tf\n",
    "#             end)\n",
    "#     end)"
   ]
  },
  {
   "cell_type": "markdown",
   "id": "f98fcc5c-25c1-4c5e-a5c0-a7f0175a6b69",
   "metadata": {},
   "source": [
    "## Control constraints"
   ]
  },
  {
   "cell_type": "code",
   "execution_count": 14,
   "id": "0af2d741-f212-464b-8f89-d9e418227b20",
   "metadata": {},
   "outputs": [],
   "source": [
    "# thrust_upper(t, u, p) = begin\n",
    "#     T, δ = u\n",
    "#     return [T - T_max]\n",
    "# end\n",
    "\n",
    "# thrust_lower(t, u, p) = begin\n",
    "#     T, δ = u\n",
    "#     return [T_min - T]\n",
    "# end\n",
    "\n",
    "# gimbal_upper(t, u, p) = begin\n",
    "#     T, δ = u\n",
    "#     return [δ - δ_max]\n",
    "# end\n",
    "\n",
    "# wrap(func) = (t, k, u, p, pbm, ocp) -> func(t, u, p)\n",
    "# problem_set_U!(pbm, wrap(thrust_upper))\n",
    "# problem_set_U!(pbm, wrap(thrust_lower))\n",
    "# problem_set_U!(pbm, wrap(gimbal_upper))\n",
    "\n",
    "# # Convex path constraints on the input\n",
    "# problem_set_U!(\n",
    "#     pbm, (t, k, u, p, pbm, ocp) -> begin\n",
    "        \n",
    "#         T, δ = u\n",
    "\n",
    "#         @add_constraint(\n",
    "#             ocp, NONPOS, \"max_thrust\", (T,), begin\n",
    "#                 local T = arg[1]\n",
    "#                 T[1]-T_max\n",
    "#             end)\n",
    "\n",
    "#         @add_constraint(\n",
    "#             ocp, NONPOS, \"min_thrust\", (T,), begin\n",
    "#                 local T = arg[1]\n",
    "#                 T_min-T[1]\n",
    "#             end)\n",
    "\n",
    "#         @add_constraint(\n",
    "#             ocp, L1, \"gimbal\", (δ,), begin\n",
    "#                 local δ = arg[1]\n",
    "#                 vcat(δ_max, δ)\n",
    "#             end)\n",
    "#     end)"
   ]
  },
  {
   "cell_type": "markdown",
   "id": "3e219690-64cb-4a61-92ee-55cfa6a3b5ef",
   "metadata": {},
   "source": [
    "## Objective Function"
   ]
  },
  {
   "cell_type": "markdown",
   "id": "2d1b02a1-2ff1-4553-ae7a-78e52b6aeeea",
   "metadata": {},
   "source": [
    "Borrowing from the standard choice in optimal control literature, the SCP Toolbox works with an objective function in the Bolza form:\n",
    "\n",
    "$$\n",
    "J(x, u, p) = \\phi(x(1), p) + \\int_0^1 \\Gamma(x(t), u(t), p) dt.\n",
    "$$\n",
    "\n",
    "The function $\\phi(\\cdot)\\in\\mathbb R$ defines the terminal cost, while $\\Gamma(\\cdot)\\in\\mathbb R$ defines the running cost. Both have to be convex, at most quadratic, functions.\n",
    "\n",
    "> ℹ️ Any nonconvexity in the cost can in general be off-loaded into the constraints by defining additional state, control, and/or parameter variables."
   ]
  },
  {
   "cell_type": "code",
   "execution_count": 15,
   "id": "cc097b18-1189-43d3-89ec-1fc8d41924fb",
   "metadata": {},
   "outputs": [],
   "source": [
    "ϕ(x, p) = -x[end];"
   ]
  },
  {
   "cell_type": "markdown",
   "id": "24f05019-d636-41af-844a-69b8f3444dd1",
   "metadata": {},
   "source": [
    "The SCP Toolbox provides the following API functions for defining the cost:\n",
    "* `problem_set_terminal_cost!`: if not provided, it is assumed that $\\phi\\equiv 0$;\n",
    "* `problem_set_running_cost!`: if not provided, it is assumed that $\\Gamma\\equiv 0$;"
   ]
  },
  {
   "cell_type": "code",
   "execution_count": 16,
   "id": "5136cd9b-c71a-41b4-8abd-36613c5c0dc1",
   "metadata": {},
   "outputs": [],
   "source": [
    "wrap(func) = (x, p, pbm) -> func(x, p)\n",
    "problem_set_terminal_cost!(pbm, wrap(ϕ))"
   ]
  },
  {
   "cell_type": "markdown",
   "id": "0f5058b5-ed6c-4e0d-a388-5b88c88c7192",
   "metadata": {},
   "source": [
    "## Initial Trajectory Guess"
   ]
  },
  {
   "cell_type": "markdown",
   "id": "db92d3ba-7800-401e-8bce-76efe3a10d5a",
   "metadata": {},
   "source": [
    "SCP algorithms require an initial guess for the trajectory. This can be very simple, and does not need to be feasible.\n",
    "\n",
    "For Dubin's car, we will use a straight line for the state and zero for the input.\n",
    "\n",
    "Given a time $t\\in [0,1]$, the state initial guess will be:\n",
    "\n",
    "\\begin{align}\n",
    "\\bar x(t) &= (1-t) x_0 + t x_f, \\\\\n",
    "\\bar u(t) &= 0.\n",
    "\\end{align}"
   ]
  },
  {
   "cell_type": "markdown",
   "id": "a3c4ebef-18df-48b2-9386-db09c48e3eef",
   "metadata": {},
   "source": [
    "SCP algorithms work by discretizing the trajectory problem into $N$ temporal nodes.\n",
    "\n",
    "The API provides a function `problem_set_guess!` for defining the initial guess, discretized into $N$ points.\n",
    "\n",
    "For convenience, a function `straightline_interpolate` is available to define a straight line guess."
   ]
  },
  {
   "cell_type": "code",
   "execution_count": 17,
   "id": "bd886b6c-48e0-482f-b9ab-2db758c0071a",
   "metadata": {},
   "outputs": [],
   "source": [
    "state_guess(N) = straightline_interpolate(x_0, vcat(x_f, 100e3), N)\n",
    "input_guess(N) = straightline_interpolate([T_min; 0.0], [T_min; 0.0], N);"
   ]
  },
  {
   "cell_type": "code",
   "execution_count": 18,
   "id": "c4ec5bc8-aa57-4ca7-b883-f1f629850e56",
   "metadata": {},
   "outputs": [],
   "source": [
    "problem_set_guess!(pbm, (N, pbm) -> begin\n",
    "    x = state_guess(N)\n",
    "    u = input_guess(N)\n",
    "    p = [60.0] # zeros(1)\n",
    "    return x, u, p\n",
    "end)"
   ]
  },
  {
   "cell_type": "markdown",
   "id": "f25ccb98-75ed-4e32-9464-abef3795d1cd",
   "metadata": {},
   "source": [
    "## Configuring the SCP Solver"
   ]
  },
  {
   "cell_type": "markdown",
   "id": "359f8d69-5a0c-439d-974a-3e21b738b1ff",
   "metadata": {},
   "source": [
    "The SCP Toolbox provides several SCP algorithm choices: `PTR`, `SCvx`, and `GuSTO`.\n",
    "\n",
    "Each algorithm must be provided with a set of parameters that define its behavior. Most of the parameters are shared, but some are algorithm-specific.\n",
    "\n",
    "SCP algorithm performance depends significantly on a well-chosen set of parameters, and this is problem-dependent.\n",
    "\n",
    "A lot of intuition is documented in our [Control Systems Magazine article](https://arxiv.org/abs/2106.09125)."
   ]
  },
  {
   "cell_type": "code",
   "execution_count": 19,
   "id": "a313c96c-6ad6-4a5e-b458-147d50458c6e",
   "metadata": {},
   "outputs": [],
   "source": [
    "# Parameters\n",
    "N, Nsub = 21, 20\n",
    "iter_max = 30\n",
    "disc_method = FOH\n",
    "wvc, wtr = 1e3, 1e0\n",
    "feas_tol = 5e-3\n",
    "ε_abs, ε_rel = 1e-5, 1e-3\n",
    "q_tr = Inf\n",
    "q_exit = Inf\n",
    "solver, solver_options = ECOS, Dict(\"verbose\"=>1)      \n",
    "\n",
    "pars = PTR.Parameters(N, Nsub, iter_max, disc_method, wvc, wtr, ε_abs,\n",
    "                      ε_rel, feas_tol, q_tr, q_exit, solver, solver_options);"
   ]
  },
  {
   "cell_type": "markdown",
   "id": "644032a6-fa28-4fba-8c9f-4737f60e60de",
   "metadata": {},
   "source": [
    "Alternative convex solver options:"
   ]
  },
  {
   "cell_type": "code",
   "execution_count": 20,
   "id": "efb5dcb2-a340-4d89-97cc-e4ccfcb054b3",
   "metadata": {},
   "outputs": [],
   "source": [
    "# solver, options = Gurobi, Dict(\"OutputFlag\"=>0)  # works\n",
    "# solver, options = OSQP, Dict(\"verbose\"=>0)       # works\n",
    "# solver, options = Mosek, Dict(\"MSK_IPAR_LOG\"=>0)\n",
    "# solver, options = Ipopt, Dict()                  # doesn't work\n",
    "# solver, options = COSMO, Dict()                  # doesn't work\n",
    "# solver, options = SCS, Dict()                    # doesn't work"
   ]
  },
  {
   "cell_type": "markdown",
   "id": "5593c7b3-7941-41c5-a438-5a68ed10640e",
   "metadata": {},
   "source": [
    "## Solving the Trajectory Problem"
   ]
  },
  {
   "cell_type": "markdown",
   "id": "a8bc7cdf-5556-457c-afc0-6f735f44605b",
   "metadata": {},
   "source": [
    "Solving the problem amounts to initializing the SCP solver with its parameters, and providing the problem definition `pbm` from the API."
   ]
  },
  {
   "cell_type": "code",
   "execution_count": 21,
   "id": "e95d6f09-c793-458e-a319-1b30d4919923",
   "metadata": {},
   "outputs": [
    {
     "name": "stdout",
     "output_type": "stream",
     "text": [
      "\n",
      "ECOS 2.0.5 - (C) embotech GmbH, Zurich Switzerland, 2012-15. Web: www.embotech.com/ECOS\n",
      "\n",
      "It     pcost       dcost      gap   pres   dres    k/t    mu     step   sigma     IR    |   BT\n",
      " 0  +0.000e+00  -0.000e+00  +0e+00  0e+00  1e+00  1e+00  1e+00    ---    ---    0  0  - |  -  - \n",
      " 1  -8.918e+01  -0.000e+00  +0e+00  0e+00  1e+00  9e+01  1e-02  0.9890  1e-04   0  0  0 |  0  0\n",
      "\n",
      "UNBOUNDED (within feastol=0.0e+00).\n",
      "Runtime: 0.000104 seconds.\n",
      "\n",
      "\n",
      "ECOS 2.0.5 - (C) embotech GmbH, Zurich Switzerland, 2012-15. Web: www.embotech.com/ECOS\n",
      "\n",
      "It     pcost       dcost      gap   pres   dres    k/t    mu     step   sigma     IR    |   BT\n",
      " 0  +0.000e+00  -0.000e+00  +0e+00  0e+00  1e+00  1e+00  1e+00    ---    ---    0  0  - |  -  - \n",
      " 1  -8.918e+01  -0.000e+00  +0e+00  0e+00  1e+00  9e+01  1e-02  0.9890  1e-04   0  0  0 |  0  0\n",
      "\n",
      "UNBOUNDED (within feastol=0.0e+00).\n",
      "Runtime: 0.000026 seconds.\n",
      "\n",
      "\n",
      "ECOS 2.0.5 - (C) embotech GmbH, Zurich Switzerland, 2012-15. Web: www.embotech.com/ECOS\n",
      "\n",
      "It     pcost       dcost      gap   pres   dres    k/t    mu     step   sigma     IR    |   BT\n",
      " 0  +0.000e+00  -0.000e+00  +0e+00  0e+00  1e+00  1e+00  1e+00    ---    ---    0  0  - |  -  - \n",
      " 1  -8.918e+01  -0.000e+00  +0e+00  0e+00  1e+00  9e+01  1e-02  0.9890  1e-04   0  0  0 |  0  0\n",
      "\n",
      "UNBOUNDED (within feastol=0.0e+00).\n",
      "Runtime: 0.000022 seconds.\n",
      "\n",
      "\n",
      "ECOS 2.0.5 - (C) embotech GmbH, Zurich Switzerland, 2012-15. Web: www.embotech.com/ECOS\n",
      "\n",
      "It     pcost       dcost      gap   pres   dres    k/t    mu     step   sigma     IR    |   BT\n",
      " 0  +0.000e+00  -0.000e+00  +0e+00  0e+00  1e+00  1e+00  1e+00    ---    ---    0  0  - |  -  - \n",
      " 1  -8.918e+01  -0.000e+00  +0e+00  0e+00  1e+00  9e+01  1e-02  0.9890  1e-04   0  0  0 |  0  0\n",
      "\n",
      "UNBOUNDED (within feastol=0.0e+00).\n",
      "Runtime: 0.000022 seconds.\n",
      "\n",
      "\n",
      "ECOS 2.0.5 - (C) embotech GmbH, Zurich Switzerland, 2012-15. Web: www.embotech.com/ECOS\n",
      "\n",
      "It     pcost       dcost      gap   pres   dres    k/t    mu     step   sigma     IR    |   BT\n",
      " 0  +0.000e+00  -0.000e+00  +0e+00  0e+00  1e+00  1e+00  1e+00    ---    ---    0  0  - |  -  - \n",
      " 1  -8.918e+01  -0.000e+00  +0e+00  0e+00  1e+00  9e+01  1e-02  0.9890  1e-04   0  0  0 |  0  0\n",
      "\n",
      "UNBOUNDED (within feastol=0.0e+00).\n",
      "Runtime: 0.000021 seconds.\n",
      "\n",
      "\n",
      "ECOS 2.0.5 - (C) embotech GmbH, Zurich Switzerland, 2012-15. Web: www.embotech.com/ECOS\n",
      "\n",
      "It     pcost       dcost      gap   pres   dres    k/t    mu     step   sigma     IR    |   BT\n",
      " 0  +0.000e+00  -0.000e+00  +0e+00  0e+00  1e+00  1e+00  1e+00    ---    ---    0  0  - |  -  - \n",
      " 1  -8.918e+01  -0.000e+00  +0e+00  0e+00  1e+00  9e+01  1e-02  0.9890  1e-04   0  0  0 |  0  0\n",
      "\n",
      "UNBOUNDED (within feastol=0.0e+00).\n",
      "Runtime: 0.000021 seconds.\n",
      "\n",
      "\n",
      "ECOS 2.0.5 - (C) embotech GmbH, Zurich Switzerland, 2012-15. Web: www.embotech.com/ECOS\n",
      "\n",
      "It     pcost       dcost      gap   pres   dres    k/t    mu     step   sigma     IR    |   BT\n",
      " 0  +0.000e+00  -0.000e+00  +0e+00  0e+00  1e+00  1e+00  1e+00    ---    ---    0  0  - |  -  - \n",
      " 1  -8.918e+01  -0.000e+00  +0e+00  0e+00  1e+00  9e+01  1e-02  0.9890  1e-04   0  0  0 |  0  0\n",
      "\n",
      "UNBOUNDED (within feastol=0.0e+00).\n",
      "Runtime: 0.000021 seconds.\n",
      "\n",
      "\n",
      "ECOS 2.0.5 - (C) embotech GmbH, Zurich Switzerland, 2012-15. Web: www.embotech.com/ECOS\n",
      "\n",
      "It     pcost       dcost      gap   pres   dres    k/t    mu     step   sigma     IR    |   BT\n",
      " 0  +0.000e+00  -0.000e+00  +0e+00  0e+00  1e+00  1e+00  1e+00    ---    ---    0  0  - |  -  - \n",
      " 1  -8.918e+01  -0.000e+00  +0e+00  0e+00  1e+00  9e+01  1e-02  0.9890  1e-04   0  0  0 |  0  0\n",
      "\n",
      "UNBOUNDED (within feastol=0.0e+00).\n",
      "Runtime: 0.000021 seconds.\n",
      "\n",
      "\n",
      "ECOS 2.0.5 - (C) embotech GmbH, Zurich Switzerland, 2012-15. Web: www.embotech.com/ECOS\n",
      "\n",
      "It     pcost       dcost      gap   pres   dres    k/t    mu     step   sigma     IR    |   BT\n",
      " 0  +0.000e+00  -0.000e+00  +0e+00  0e+00  1e+00  1e+00  1e+00    ---    ---    0  0  - |  -  - \n",
      " 1  -8.918e+01  -0.000e+00  +0e+00  0e+00  1e+00  9e+01  1e-02  0.9890  1e-04   0  0  0 |  0  0\n",
      "\n",
      "UNBOUNDED (within feastol=0.0e+00).\n",
      "Runtime: 0.000021 seconds.\n",
      "\n",
      "\n",
      "ECOS 2.0.5 - (C) embotech GmbH, Zurich Switzerland, 2012-15. Web: www.embotech.com/ECOS\n",
      "\n",
      "It     pcost       dcost      gap   pres   dres    k/t    mu     step   sigma     IR    |   BT\n",
      " 0  +0.000e+00  -0.000e+00  +0e+00  0e+00  1e+00  1e+00  1e+00    ---    ---    0  0  - |  -  - \n",
      " 1  -8.918e+01  -0.000e+00  +0e+00  0e+00  1e+00  9e+01  1e-02  0.9890  1e-04   0  0  0 |  0  0\n",
      "\n",
      "UNBOUNDED (within feastol=0.0e+00).\n",
      "Runtime: 0.000021 seconds.\n",
      "\n",
      "\n",
      "ECOS 2.0.5 - (C) embotech GmbH, Zurich Switzerland, 2012-15. Web: www.embotech.com/ECOS\n",
      "\n",
      "It     pcost       dcost      gap   pres   dres    k/t    mu     step   sigma     IR    |   BT\n",
      " 0  +0.000e+00  -0.000e+00  +0e+00  0e+00  1e+00  1e+00  1e+00    ---    ---    0  0  - |  -  - \n",
      " 1  -8.918e+01  -0.000e+00  +0e+00  0e+00  1e+00  9e+01  1e-02  0.9890  1e-04   0  0  0 |  0  0\n",
      "\n",
      "UNBOUNDED (within feastol=0.0e+00).\n",
      "Runtime: 0.000021 seconds.\n",
      "\n",
      "\n",
      "ECOS 2.0.5 - (C) embotech GmbH, Zurich Switzerland, 2012-15. Web: www.embotech.com/ECOS\n",
      "\n",
      "It     pcost       dcost      gap   pres   dres    k/t    mu     step   sigma     IR    |   BT\n",
      " 0  +0.000e+00  -0.000e+00  +0e+00  0e+00  1e+00  1e+00  1e+00    ---    ---    0  0  - |  -  - \n",
      " 1  -8.918e+01  -0.000e+00  +0e+00  0e+00  1e+00  9e+01  1e-02  0.9890  1e-04   0  0  0 |  0  0\n",
      "\n",
      "UNBOUNDED (within feastol=0.0e+00).\n",
      "Runtime: 0.000021 seconds.\n",
      "\n",
      "\n",
      "ECOS 2.0.5 - (C) embotech GmbH, Zurich Switzerland, 2012-15. Web: www.embotech.com/ECOS\n",
      "\n",
      "It     pcost       dcost      gap   pres   dres    k/t    mu     step   sigma     IR    |   BT\n",
      " 0  +0.000e+00  -0.000e+00  +0e+00  0e+00  1e+00  1e+00  1e+00    ---    ---    0  0  - |  -  - \n",
      " 1  -8.918e+01  -0.000e+00  +0e+00  0e+00  1e+00  9e+01  1e-02  0.9890  1e-04   0  0  0 |  0  0\n",
      "\n",
      "UNBOUNDED (within feastol=0.0e+00).\n",
      "Runtime: 0.000020 seconds.\n",
      "\n",
      "\n",
      "ECOS 2.0.5 - (C) embotech GmbH, Zurich Switzerland, 2012-15. Web: www.embotech.com/ECOS\n",
      "\n",
      "It     pcost       dcost      gap   pres   dres    k/t    mu     step   sigma     IR    |   BT\n",
      " 0  +0.000e+00  -0.000e+00  +0e+00  0e+00  1e+00  1e+00  1e+00    ---    ---    0  0  - |  -  - \n",
      " 1  -8.918e+01  -0.000e+00  +0e+00  0e+00  1e+00  9e+01  1e-02  0.9890  1e-04   0  0  0 |  0  0\n",
      "\n",
      "UNBOUNDED (within feastol=0.0e+00).\n",
      "Runtime: 0.000020 seconds.\n",
      "\n",
      "\n",
      "ECOS 2.0.5 - (C) embotech GmbH, Zurich Switzerland, 2012-15. Web: www.embotech.com/ECOS\n",
      "\n",
      "It     pcost       dcost      gap   pres   dres    k/t    mu     step   sigma     IR    |   BT\n",
      " 0  +0.000e+00  -0.000e+00  +0e+00  0e+00  1e+00  1e+00  1e+00    ---    ---    0  0  - |  -  - \n",
      " 1  -8.918e+01  -0.000e+00  +0e+00  0e+00  1e+00  9e+01  1e-02  0.9890  1e-04   0  0  0 |  0  0\n",
      "\n",
      "UNBOUNDED (within feastol=0.0e+00).\n",
      "Runtime: 0.000029 seconds.\n",
      "\n",
      "\n",
      "ECOS 2.0.5 - (C) embotech GmbH, Zurich Switzerland, 2012-15. Web: www.embotech.com/ECOS\n",
      "\n",
      "It     pcost       dcost      gap   pres   dres    k/t    mu     step   sigma     IR    |   BT\n",
      " 0  +0.000e+00  -0.000e+00  +0e+00  0e+00  1e+00  1e+00  1e+00    ---    ---    0  0  - |  -  - \n",
      " 1  -8.918e+01  -0.000e+00  +0e+00  0e+00  1e+00  9e+01  1e-02  0.9890  1e-04   0  0  0 |  0  0\n",
      "\n",
      "UNBOUNDED (within feastol=0.0e+00).\n",
      "Runtime: 0.000021 seconds.\n",
      "\n",
      "\n",
      "ECOS 2.0.5 - (C) embotech GmbH, Zurich Switzerland, 2012-15. Web: www.embotech.com/ECOS\n",
      "\n",
      "It     pcost       dcost      gap   pres   dres    k/t    mu     step   sigma     IR    |   BT\n",
      " 0  +0.000e+00  -0.000e+00  +0e+00  0e+00  1e+00  1e+00  1e+00    ---    ---    0  0  - |  -  - \n",
      " 1  -8.918e+01  -0.000e+00  +0e+00  0e+00  1e+00  9e+01  1e-02  0.9890  1e-04   0  0  0 |  0  0\n",
      "\n",
      "UNBOUNDED (within feastol=0.0e+00).\n",
      "Runtime: 0.000020 seconds.\n",
      "\n",
      "\n",
      "ECOS 2.0.5 - (C) embotech GmbH, Zurich Switzerland, 2012-15. Web: www.embotech.com/ECOS\n",
      "\n",
      "It     pcost       dcost      gap   pres   dres    k/t    mu     step   sigma     IR    |   BT\n",
      " 0  +0.000e+00  -0.000e+00  +0e+00  0e+00  1e+00  1e+00  1e+00    ---    ---    0  0  - |  -  - \n",
      " 1  -8.918e+01  -0.000e+00  +0e+00  0e+00  1e+00  9e+01  1e-02  0.9890  1e-04   0  0  0 |  0  0\n",
      "\n",
      "UNBOUNDED (within feastol=0.0e+00).\n",
      "Runtime: 0.000020 seconds.\n",
      "\n",
      "\n",
      "ECOS 2.0.5 - (C) embotech GmbH, Zurich Switzerland, 2012-15. Web: www.embotech.com/ECOS\n",
      "\n",
      "It     pcost       dcost      gap   pres   dres    k/t    mu     step   sigma     IR    |   BT\n",
      " 0  +0.000e+00  -0.000e+00  +0e+00  0e+00  1e+00  1e+00  1e+00    ---    ---    0  0  - |  -  - \n",
      " 1  -8.918e+01  -0.000e+00  +0e+00  0e+00  1e+00  9e+01  1e-02  0.9890  1e-04   0  0  0 |  0  0\n",
      "\n",
      "UNBOUNDED (within feastol=0.0e+00).\n",
      "Runtime: 0.000028 seconds.\n",
      "\n",
      "\n",
      "ECOS 2.0.5 - (C) embotech GmbH, Zurich Switzerland, 2012-15. Web: www.embotech.com/ECOS\n",
      "\n",
      "It     pcost       dcost      gap   pres   dres    k/t    mu     step   sigma     IR    |   BT\n",
      " 0  +0.000e+00  -0.000e+00  +0e+00  0e+00  1e+00  1e+00  1e+00    ---    ---    0  0  - |  -  - \n",
      " 1  -8.918e+01  -0.000e+00  +0e+00  0e+00  1e+00  9e+01  1e-02  0.9890  1e-04   0  0  0 |  0  0\n",
      "\n",
      "UNBOUNDED (within feastol=0.0e+00).\n",
      "Runtime: 0.000021 seconds.\n",
      "\n",
      "\n",
      "ECOS 2.0.5 - (C) embotech GmbH, Zurich Switzerland, 2012-15. Web: www.embotech.com/ECOS\n",
      "\n",
      "It     pcost       dcost      gap   pres   dres    k/t    mu     step   sigma     IR    |   BT\n",
      " 0  +0.000e+00  -0.000e+00  +0e+00  0e+00  1e+00  1e+00  1e+00    ---    ---    0  0  - |  -  - \n",
      " 1  -8.918e+01  -0.000e+00  +0e+00  0e+00  1e+00  9e+01  1e-02  0.9890  1e-04   0  0  0 |  0  0\n",
      "\n",
      "UNBOUNDED (within feastol=0.0e+00).\n",
      "Runtime: 0.000030 seconds.\n",
      "\n",
      "\n",
      "ECOS 2.0.5 - (C) embotech GmbH, Zurich Switzerland, 2012-15. Web: www.embotech.com/ECOS\n",
      "\n",
      "It     pcost       dcost      gap   pres   dres    k/t    mu     step   sigma     IR    |   BT\n",
      " 0  +0.000e+00  -0.000e+00  +0e+00  0e+00  1e+00  1e+00  1e+00    ---    ---    0  0  - |  -  - \n",
      " 1  -8.918e+01  -0.000e+00  +0e+00  0e+00  1e+00  9e+01  1e-02  0.9890  1e-04   0  0  0 |  0  0\n",
      "\n",
      "UNBOUNDED (within feastol=0.0e+00).\n",
      "Runtime: 0.000022 seconds.\n",
      "\n"
     ]
    },
    {
     "ename": "LoadError",
     "evalue": "MethodError: no method matching *(::Vector{Float64}, ::Vector{Float64})\n\u001b[0mClosest candidates are:\n\u001b[0m  *(::Any, ::Any, \u001b[91m::Any\u001b[39m, \u001b[91m::Any...\u001b[39m) at /Applications/Julia-1.7.app/Contents/Resources/julia/share/julia/base/operators.jl:655\n\u001b[0m  *(\u001b[91m::StridedMatrix{T}\u001b[39m, ::StridedVector{S}) where {T<:Union{Float32, Float64, ComplexF32, ComplexF64}, S<:Real} at /Applications/Julia-1.7.app/Contents/Resources/julia/share/julia/stdlib/v1.7/LinearAlgebra/src/matmul.jl:44\n\u001b[0m  *(::StridedVecOrMat, \u001b[91m::Adjoint{<:Any, <:LinearAlgebra.LQPackedQ}\u001b[39m) at /Applications/Julia-1.7.app/Contents/Resources/julia/share/julia/stdlib/v1.7/LinearAlgebra/src/lq.jl:266\n\u001b[0m  ...",
     "output_type": "error",
     "traceback": [
      "MethodError: no method matching *(::Vector{Float64}, ::Vector{Float64})\n\u001b[0mClosest candidates are:\n\u001b[0m  *(::Any, ::Any, \u001b[91m::Any\u001b[39m, \u001b[91m::Any...\u001b[39m) at /Applications/Julia-1.7.app/Contents/Resources/julia/share/julia/base/operators.jl:655\n\u001b[0m  *(\u001b[91m::StridedMatrix{T}\u001b[39m, ::StridedVector{S}) where {T<:Union{Float32, Float64, ComplexF32, ComplexF64}, S<:Real} at /Applications/Julia-1.7.app/Contents/Resources/julia/share/julia/stdlib/v1.7/LinearAlgebra/src/matmul.jl:44\n\u001b[0m  *(::StridedVecOrMat, \u001b[91m::Adjoint{<:Any, <:LinearAlgebra.LQPackedQ}\u001b[39m) at /Applications/Julia-1.7.app/Contents/Resources/julia/share/julia/stdlib/v1.7/LinearAlgebra/src/lq.jl:266\n\u001b[0m  ...",
      "",
      "Stacktrace:",
      "  [1] derivs_foh(t::Float64, V::Vector{Float64}, k::Int64, pbm::SCPToolbox.Solvers.SCPProblem{SCPToolbox.Solvers.PTR.Parameters}, ref::SCPToolbox.Solvers.PTR.SubproblemSolution)",
      "    @ SCPToolbox.Solvers ~/GitHub/scp_traj_opt/src/solvers/discretization.jl:262",
      "  [2] #1",
      "    @ ~/GitHub/scp_traj_opt/src/solvers/discretization.jl:196 [inlined]",
      "  [3] rk4_core_step(f::SCPToolbox.Solvers.var\"#1#2\"{SCPToolbox.Solvers.PTR.SubproblemSolution, SCPToolbox.Solvers.SCPProblem{SCPToolbox.Solvers.PTR.Parameters}, typeof(SCPToolbox.Solvers.derivs_foh), Int64}, x::Vector{Float64}, t::Float64, tp::Float64)",
      "    @ SCPToolbox.Utils ~/GitHub/scp_traj_opt/src/utils/helper.jl:417",
      "  [4] rk4_generic(f::SCPToolbox.Solvers.var\"#1#2\"{SCPToolbox.Solvers.PTR.SubproblemSolution, SCPToolbox.Solvers.SCPProblem{SCPToolbox.Solvers.PTR.Parameters}, typeof(SCPToolbox.Solvers.derivs_foh), Int64}, x0::Vector{Float64}; tspan::Vector{Float64}, h::Nothing, full::Bool, actions::Vector{Tuple{Union{Colon, UnitRange{Int64}, Int64}, Function}})",
      "    @ SCPToolbox.Utils ~/GitHub/scp_traj_opt/src/utils/helper.jl:492",
      "  [5] #rk4#2",
      "    @ ~/GitHub/scp_traj_opt/src/utils/helper.jl:357 [inlined]",
      "  [6] discretize!(ref::SCPToolbox.Solvers.PTR.SubproblemSolution, pbm::SCPToolbox.Solvers.SCPProblem{SCPToolbox.Solvers.PTR.Parameters})",
      "    @ SCPToolbox.Solvers ~/GitHub/scp_traj_opt/src/solvers/discretization.jl:198",
      "  [7] SCPToolbox.Solvers.PTR.SubproblemSolution(x::Matrix{Float64}, u::Matrix{Float64}, p::Vector{Float64}, iter::Int64, pbm::SCPToolbox.Solvers.SCPProblem{SCPToolbox.Solvers.PTR.Parameters})",
      "    @ SCPToolbox.Solvers.PTR ~/GitHub/scp_traj_opt/src/solvers/ptr.jl:380",
      "  [8] generate_initial_guess(pbm::SCPToolbox.Solvers.SCPProblem{SCPToolbox.Solvers.PTR.Parameters})",
      "    @ SCPToolbox.Solvers.PTR ~/GitHub/scp_traj_opt/src/solvers/ptr.jl:552",
      "  [9] solve(pbm::SCPToolbox.Solvers.SCPProblem{SCPToolbox.Solvers.PTR.Parameters}, warm::Nothing)",
      "    @ SCPToolbox.Solvers.PTR ~/GitHub/scp_traj_opt/src/solvers/ptr.jl:455",
      " [10] solve(pbm::SCPToolbox.Solvers.SCPProblem{SCPToolbox.Solvers.PTR.Parameters})",
      "    @ SCPToolbox.Solvers.PTR ~/GitHub/scp_traj_opt/src/solvers/ptr.jl:454",
      " [11] top-level scope",
      "    @ In[21]:2",
      " [12] eval",
      "    @ ./boot.jl:373 [inlined]",
      " [13] include_string(mapexpr::typeof(REPL.softscope), mod::Module, code::String, filename::String)",
      "    @ Base ./loading.jl:1196"
     ]
    }
   ],
   "source": [
    "ptr_pbm = PTR.create(pars, pbm)\n",
    "sol, history = PTR.solve(ptr_pbm);"
   ]
  },
  {
   "cell_type": "markdown",
   "id": "2a924f5a-0bd9-4527-a5ac-09f43444e74e",
   "metadata": {},
   "source": [
    "## Trajectory plot"
   ]
  },
  {
   "cell_type": "code",
   "execution_count": 22,
   "id": "c5e0f360-09b7-40d6-9b1e-94669f03e0f9",
   "metadata": {},
   "outputs": [],
   "source": [
    "# function set_fonts()::Nothing\n",
    "#     # Set the figure fonts.\n",
    "#     fig_small_sz = 12\n",
    "#     fig_med_sz = 15\n",
    "#     fig_big_sz = 17\n",
    "#     plt.rc(\"text\", usetex=true)\n",
    "#     plt.rc(\"font\", size=fig_small_sz, family=\"serif\")\n",
    "#     plt.rc(\"axes\", titlesize=fig_small_sz)\n",
    "#     plt.rc(\"axes\", labelsize=fig_med_sz)\n",
    "#     plt.rc(\"xtick\", labelsize=fig_small_sz)\n",
    "#     plt.rc(\"ytick\", labelsize=fig_small_sz)\n",
    "#     plt.rc(\"legend\", fontsize=fig_small_sz)\n",
    "#     plt.rc(\"figure\", titlesize=fig_big_sz)\n",
    "#     plt.rc(\"figure\", dpi=300) \n",
    "#     return nothing\n",
    "# end\n",
    "# ;"
   ]
  },
  {
   "cell_type": "code",
   "execution_count": 23,
   "id": "3408ae45-8e1c-40ca-a2b9-e468e298543a",
   "metadata": {},
   "outputs": [],
   "source": [
    "# # Trajectory plot\n",
    "# ctres, overlap = 1000, 3\n",
    "# N = size(sol.xd, 2)\n",
    "# xct = hcat([sample(sol.xc, t) for t in LinRange(0, 1, ctres)]...)\n",
    "# vct = vcat([sample(sol.uc, t)[1] for t in LinRange(0, 1, ctres)]...)\n",
    "# cmap = generate_colormap(\"inferno\"; minval=minimum(vct), maxval=maximum(vct))\n",
    "\n",
    "# # plot_options = Dict(\"xtick.labelsize\"=>9,\n",
    "# #                     \"ytick.labelsize\"=>9,\n",
    "# #                     \"axes.labelsize\"=>11)\n",
    "# # fig = create_figure((4, 4); options = plot_options)\n",
    "\n",
    "# fig = plt.figure(figsize=(4,4), dpi=300)\n",
    "# plt.clf()\n",
    "# set_fonts()\n",
    "# set_fonts()\n",
    "\n",
    "# ax = setup_axis!(111, xlabel=\"\\$x\\$ [m]\", ylabel=\"\\$y\\$ [m]\",\n",
    "#                  axis=\"equal\", cbar=cmap, clabel=\"Velocity, \\$v\\$ [m/s]\",\n",
    "#                  cbar_aspect=40)\n",
    "# ax.plot(sol.xd[1, :], sol.xd[2, :],\n",
    "#         linestyle=\"none\", marker=\"o\", markerfacecolor=DarkBlue,\n",
    "#         markeredgecolor=\"white\", markeredgewidth=0.2, markersize=3,\n",
    "#         zorder=20)\n",
    "# line_segs = Vector{Matrix}(undef, 0)\n",
    "# line_clrs = Vector{NTuple{4, Real}}(undef, 0)\n",
    "# for k=1:ctres-overlap\n",
    "#     push!(line_segs, xct[1:2, k:k+overlap]')\n",
    "#     push!(line_clrs, cmap.to_rgba(vct[k]))\n",
    "# end\n",
    "# trajectory = PyPlot.matplotlib.collections.LineCollection(\n",
    "#     line_segs, zorder=10, colors = line_clrs, linewidths=3,\n",
    "#     capstyle=\"round\")\n",
    "# ax.add_collection(trajectory)\n",
    "# Rect = PyPlot.matplotlib.patches.Rectangle\n",
    "# car_length = 0.2\n",
    "# for k=1:N\n",
    "#     local xl, xw = [1;1;-1;-1;1]*car_length/2, [1;-1;-1;1;1]*car_width/2\n",
    "#     local yl, yw = [1;1;-1;-1;1]*car_length/2, [-1;1;1;-1;-1]*car_width/2\n",
    "#     local ang = sol.xd[3,k]\n",
    "#     local xc = sol.xd[1,k].+xl.*sin(ang).+xw.*cos(ang)\n",
    "#     local yc = sol.xd[2,k].+yl.*cos(ang).+yw.*sin(ang)\n",
    "#     ax.fill(xc, yc,\n",
    "#             linewidth=1,\n",
    "#             edgecolor=DarkBlue,\n",
    "#             facecolor=rgb2pyplot(parse(RGB, Red), a=0.5),\n",
    "#             zorder=6)\n",
    "# end\n",
    "# ang = LinRange(0, 2*pi, 100)\n",
    "# obs = ([cos.(ang)'; sin.(ang)']*r_0).+c_0\n",
    "# ax.fill(obs[1, :], obs[2, :],\n",
    "#         linewidth=1,\n",
    "#         edgecolor=Blue,\n",
    "#         facecolor=rgb2pyplot(parse(RGB, Green), a=0.5),\n",
    "#         zorder=5)\n",
    "\n",
    "# fig.savefig(\"../media/outputs/dubin_trajectory.png\", dpi=\"figure\", bbox_inches=nothing)\n",
    "\n",
    "# plt.close()"
   ]
  },
  {
   "cell_type": "markdown",
   "id": "4af8ff72-a0e9-47ce-915c-379ca8dbc1ae",
   "metadata": {},
   "source": [
    "## Replace figure\n",
    "\n",
    "<!-- <div style=\"text-align: center\">\n",
    "    <img src=\"../media/outputs/dubin_trajectory.png\"\n",
    "         alt=\"Dubin's car overview\"\n",
    "         style=\"background-color: white; width: 500px; display: block; margin-left: auto; margin-right: auto;\"/>\n",
    "    <br />\n",
    "    <b>Figure.</b> Computed Dubin's car trajectory for minimum-input usage.\n",
    "</div> -->"
   ]
  }
 ],
 "metadata": {
  "kernelspec": {
   "display_name": "Julia 1.7.1",
   "language": "julia",
   "name": "julia-1.7"
  },
  "language_info": {
   "file_extension": ".jl",
   "mimetype": "application/julia",
   "name": "julia",
   "version": "1.7.1"
  }
 },
 "nbformat": 4,
 "nbformat_minor": 5
}
