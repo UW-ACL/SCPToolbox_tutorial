{
 "cells": [
  {
   "cell_type": "markdown",
   "metadata": {},
   "source": [
    "# SCP Toolbox Workshop\n",
    "\n",
    "___A tutorial on generating dynamically feasible trajectories reliably and efficiently___\n",
    "\n",
    "Monday, February 7, 2022\n",
    "\n",
    "Rocky Mountain AAS GN&C Conference, Breckenridge, CO"
   ]
  },
  {
   "cell_type": "code",
   "execution_count": 1,
   "metadata": {
    "slideshow": {
     "slide_type": "skip"
    },
    "tags": []
   },
   "outputs": [
    {
     "name": "stderr",
     "output_type": "stream",
     "text": [
      "\u001b[32m\u001b[1m  Activating\u001b[22m\u001b[39m project at `~/ACL/AAS/SCPToolbox_tutorial`\n",
      "\u001b[32m\u001b[1m   Resolving\u001b[22m\u001b[39m package versions...\n",
      "\u001b[32m\u001b[1m  No Changes\u001b[22m\u001b[39m to `~/ACL/AAS/SCPToolbox_tutorial/Project.toml`\n",
      "\u001b[32m\u001b[1m  No Changes\u001b[22m\u001b[39m to `~/ACL/AAS/SCPToolbox_tutorial/Manifest.toml`\n",
      "\u001b[32m\u001b[1m    Updating\u001b[22m\u001b[39m registry at `~/.julia/registries/General.toml`\n",
      "\u001b[32m\u001b[1m   Resolving\u001b[22m\u001b[39m package versions...\n",
      "\u001b[32m\u001b[1m    Updating\u001b[22m\u001b[39m `~/ACL/AAS/SCPToolbox_tutorial/Project.toml`\n",
      " \u001b[90m [4076af6c] \u001b[39m\u001b[92m+ JuMP v0.21.5\u001b[39m\n",
      "\u001b[32m\u001b[1m  No Changes\u001b[22m\u001b[39m to `~/ACL/AAS/SCPToolbox_tutorial/Manifest.toml`\n"
     ]
    }
   ],
   "source": [
    "import Pkg\n",
    "Pkg.activate(\"..\")\n",
    "\n",
    "# these lines are required only for local installations\n",
    "Pkg.develop(path=\"../../scp_traj_opt/\")\n",
    "Pkg.precompile()\n",
    "\n",
    "Pkg.add(\"JuMP\")\n",
    "Pkg.build(\"JuMP\")\n",
    "\n",
    "using SCPToolbox\n",
    "using JuMP\n",
    "using ECOS\n",
    "using SCS\n",
    "using Ipopt\n",
    "using Printf"
   ]
  },
  {
   "cell_type": "markdown",
   "metadata": {},
   "source": [
    "# Part 2: Simple Conic Linear Program Example"
   ]
  },
  {
   "cell_type": "markdown",
   "metadata": {},
   "source": [
    "Solve the following nonconvex optimization problem as a simple conic linear program subproblem:\n",
    "\n",
    "\\begin{align}\n",
    "\\underset{z}{\\text{minimize}} &\\quad z_2 \\\\\n",
    "\\text{subject to} &\\quad z_2 - z_1^2\\\\\n",
    " &\\quad z_2 + 0.1 z_1 = 0.6\\\\\n",
    " &\\quad z_1 \\leq 0.85\n",
    "\\end{align}\n",
    "\n",
    "<center>\n",
    "    <img src=\"media/crawling.png\" width=\"450\"/>\n",
    "    <br />\n",
    "    <b>Figure.</b>  A two-dimensional nonconvex toy problem that exemplifies a convex subproblem obtained during an SCP iteration.\n",
    "    <br />\n",
    "    <br />\n",
    "</center>\n",
    "\n",
    "In this case, the cost function $L(z) = z_2$ and level curves of the cost are shown as gray dashed lines. The blue curve represents a nonconvex equality constraint, and its linearization is shown as the blue dash-dot line. Another convex equality constraint is shown in green, and a convex inequality constraint is shown as the vertical red dashed line. The trust region is the red circle centered at the linearization point $\\bar{z}$, and has radius $\\eta$. The optimal solution of the original (non-approximated) problem is shown as the black square. The convex subproblem is artificially infeasible. Without the trust region and the green constraint, it would also be artifically unbounded.  "
   ]
  },
  {
   "cell_type": "markdown",
   "metadata": {},
   "source": [
    "To convert this problem into a CLP subproblem, we first generate (convex, linear) hyperplane\n",
    "approximation of the nonconvex constraint. We also include virtual buffers $\\nu$ to avoid artificial infeasibility, and a trust region upper bound $\\eta$ to avoid artificial unboundedness.\n",
    "\n",
    "Penalties for these terms are augmented to the cost function. Virtual control magnitude is penalized to incentivize convergence to zero once feasibility of the subproblem is obtained. In fact, the virtual control penalty has a higher weight in the augmented objective. Trust region radius is penalized to incentivize the optimal solution of the subproblem at the current iteration to stay close to the linearization point, where the approximation of the nonconvex constraint is valid. Furthermore, the trust region constraint precludes artificial unboundedness that may arise from the feasible set becoming unbounded due to the linearized constraint.\n",
    "\n",
    "\\begin{align}\n",
    "\\underset{z}{\\text{minimize}} &\\quad z_2 + w_{\\text{tr}}\\eta + w_{\\text{vb}}\\|\\nu\\|_2 \\\\\n",
    "\\text{subject to} &\\quad  (-2\\bar{z}_1)z_1 + z_2 + \\bar{z}_1^2 + \\nu = 0  \\\\\n",
    " &\\quad z_2 + 0.1 z_1 = 0.6\\\\\n",
    " &\\quad z_1 \\leq 0.85 \\\\\n",
    " &\\quad \\| z - \\bar{z} \\|_2 \\leq \\eta\n",
    "\\end{align}\n",
    "\n",
    "The subproblem described above is still not a CLP since the objective function is not linear. The virtual buffer penalty is converted to a conic constraint via the epigraph form by introducing a slack variable $\\mu$.\n",
    "\n",
    "\\begin{align}\n",
    "\\underset{z}{\\text{minimize}} &\\quad z_2 + w_{\\text{tr}}\\eta + w_{\\text{vb}}\\mu\\\\\n",
    "\\text{subject to} &\\quad  (-2\\bar{z}_1)z_1 + z_2 + \\bar{z}_1^2 + \\nu = 0  \\\\\n",
    " &\\quad z_2 + 0.1 z_1 = 0.6\\\\\n",
    " &\\quad z_1 \\leq 0.85 \\\\\n",
    " &\\quad \\| z - \\bar{z} \\|_2 \\leq \\eta \\\\\n",
    " &\\quad \\|\\nu\\|_2 \\leq \\mu\n",
    "\\end{align}"
   ]
  },
  {
   "cell_type": "markdown",
   "metadata": {},
   "source": [
    "## Subproblem construction"
   ]
  },
  {
   "cell_type": "code",
   "execution_count": 2,
   "metadata": {},
   "outputs": [],
   "source": [
    "# ..:: Construct Subproblem ::..\n",
    "function construct_subpbm(params)\n",
    "    \n",
    "    # Construct the subproblem\n",
    "    pbm = ConicProgram(params;solver = params[\"solver\"],solver_options = params[\"opts\"])\n",
    "    \n",
    "    # Create variables\n",
    "    z = @new_variable(pbm, 2, \"z\")\n",
    "    ν = @new_variable(pbm, \"ν\")\n",
    "    η = @new_variable(pbm,\"η\")\n",
    "    μ = @new_variable(pbm,\"μ\")  \n",
    "    \n",
    "    ### (Point out usage of dictionary pars inside constraint constructor)\n",
    "    \n",
    "    # Linearized nonconvex constraint\n",
    "    @add_constraint(\n",
    "        pbm, ZERO, \"my-ncvx\", (z,ν),\n",
    "        begin\n",
    "            local z,ν = arg\n",
    "            cst[\"A1\"]*z .+ cst[\"b1\"] .+ ν\n",
    "        end)\n",
    "    \n",
    "    # Hyperplane constraint\n",
    "    @add_constraint(\n",
    "        pbm, ZERO, \"my-hypln\", (z,),\n",
    "        begin\n",
    "            local z, = arg\n",
    "            cst[\"A2\"]*z .+ cst[\"b2\"]\n",
    "        end)\n",
    "    \n",
    "    # Halfspace constraint\n",
    "    @add_constraint(\n",
    "        pbm, NONPOS, \"my-hlfspace\", (z,),\n",
    "        begin\n",
    "            local z, = arg\n",
    "            cst[\"A3\"]*z .+ cst[\"b3\"]\n",
    "        end)\n",
    "        \n",
    "    # Trust-region penalty constraint\n",
    "    @add_constraint(\n",
    "       pbm, SOC, \"my-soc\", (z,η),\n",
    "        begin\n",
    "            local z,η = arg\n",
    "            vcat(η,z .- cst[\"z̄\"])\n",
    "        end\n",
    "    )\n",
    "    \n",
    "    # Virtual buffer penalty constraint\n",
    "    @add_constraint(\n",
    "       pbm, SOC, \"my-soc2\", (ν,μ),\n",
    "        begin\n",
    "            local ν,μ = arg\n",
    "            vcat(μ,ν)\n",
    "        end\n",
    "    )\n",
    "    \n",
    "    \n",
    "    # Cost function\n",
    "    @add_cost(pbm, (η,μ,z),\n",
    "        begin\n",
    "            local η,μ,z = arg\n",
    "            z[2] .+ cst[\"wtr\"]*η .+ cst[\"wvb\"]*μ\n",
    "        end\n",
    "    )\n",
    "    \n",
    "    return pbm,z,η,μ\n",
    "    \n",
    "end\n",
    "\n",
    ";"
   ]
  },
  {
   "cell_type": "markdown",
   "metadata": {},
   "source": [
    "## SCP configuration"
   ]
  },
  {
   "cell_type": "code",
   "execution_count": 3,
   "metadata": {},
   "outputs": [],
   "source": [
    "# Construct problem parameters\n",
    "params = Dict()\n",
    "params[\"solver\"] = ECOS\n",
    "params[\"opts\"]   = Dict(\"verbose\"=>0,\"abstol\"=>1e-8)\n",
    "# params[\"opts\"] = Dict(\"print_level\"=>0)\n",
    "# params[\"opts\"] = Dict(\"verbose\"=>0)\n",
    "\n",
    "# Initial reference and constraint data\n",
    "params[\"z̄\"] = zeros(2);\n",
    "params[\"A1\"] = Matrix(transpose([-2*params[\"z̄\"][1];1.0]))\n",
    "params[\"b1\"] = params[\"z̄\"][1]^2\n",
    "params[\"A2\"] = Matrix(transpose([0.1;1]))\n",
    "params[\"b2\"] = -0.6\n",
    "params[\"A3\"] = Matrix(transpose([1.0;0.0]))\n",
    "params[\"b3\"] = -0.85\n",
    "\n",
    "iter_max = 30; iter_conv = copy(iter_max)\n",
    "ϵ_conv = 1e-8\n",
    "params[\"wtr\"] = 10.0\n",
    "params[\"wvb\"] = 10000.0\n",
    "z_hist = [zeros(2) for k = 1:iter_max]\n",
    "μ_hist = zeros(iter_max)\n",
    "η_hist = zeros(iter_max)\n",
    "cost_hist = zeros(iter_max)\n",
    ";"
   ]
  },
  {
   "cell_type": "markdown",
   "metadata": {},
   "source": [
    "## SCP solve step"
   ]
  },
  {
   "cell_type": "code",
   "execution_count": 4,
   "metadata": {},
   "outputs": [
    {
     "name": "stdout",
     "output_type": "stream",
     "text": [
      "Iteration: 1 | OPTIMAL | Trust region: 9.9e-01 | Virtual buffer: 5.1e-01 | Cost: 0.515 |\n",
      "Iteration: 2 | OPTIMAL | Trust region: 1.2e-01 | Virtual buffer: 6.2e-14 | Cost: 0.527 |\n",
      "Iteration: 3 | OPTIMAL | Trust region: 8.5e-03 | Virtual buffer: 1.9e-14 | Cost: 0.527 |\n",
      "Iteration: 4 | OPTIMAL | Trust region: 4.6e-05 | Virtual buffer: 1.0e-12 | Cost: 0.527 |\n",
      "Iteration: 5 | OPTIMAL | Trust region: 6.5e-13 | Virtual buffer: 2.4e-14 | Cost: 0.527 |\n"
     ]
    }
   ],
   "source": [
    "# Iteration counter\n",
    "k = 1\n",
    "while true\n",
    "    \n",
    "    # Construct subproblem\n",
    "    pbm,z,η,μ = construct_subpbm(params)\n",
    "    \n",
    "    # Solve subproblem\n",
    "    exit_flag = solve!(pbm)\n",
    "   \n",
    "    # Save history of the subproblem\n",
    "    z_hist[k] .= value(z)    \n",
    "    η_hist[k] = value(η)[1]\n",
    "    μ_hist[k] = value(μ)[1]\n",
    "    cost_hist[k] = z_hist[k][2] \n",
    "\n",
    "    # Check stopping criterion\n",
    "    bool_conv = max(η_hist[k],μ_hist[k]) <= ϵ_conv\n",
    "    \n",
    "    @printf(\"Iteration: %d | %s | Trust region: %7.1e | Virtual buffer: %7.1e | Cost: %.3f |\\n\",k,string(exit_flag),η_hist[k],abs(μ_hist[k]),cost_hist[k])\n",
    "        \n",
    "    # Stop at maximum iterations\n",
    "    if (k == iter_max) || bool_conv\n",
    "        iter_conv = k        \n",
    "        break\n",
    "    else\n",
    "    \n",
    "        # Update next reference trajectory as solution\n",
    "        params[\"z̄\"] = z_hist[k]\n",
    "\n",
    "        # Create linearized constraint values\n",
    "        params[\"A1\"] = Matrix(transpose([-2*params[\"z̄\"][1];1.0]))\n",
    "        params[\"b1\"] = params[\"z̄\"][1]^2    \n",
    "        \n",
    "        k += 1\n",
    "    end\n",
    "end\n"
   ]
  },
  {
   "cell_type": "code",
   "execution_count": 5,
   "metadata": {},
   "outputs": [
    {
     "name": "stdout",
     "output_type": "stream",
     "text": [
      "\n",
      "\n",
      "Optimal solution: [0.7262087349048842, 0.5273791267502363]"
     ]
    }
   ],
   "source": [
    "print(\"\\n\\nOptimal solution: $(z_hist[iter_conv])\")\n",
    ";"
   ]
  },
  {
   "cell_type": "markdown",
   "metadata": {},
   "source": [
    "# Validating SCP solution via JuMP"
   ]
  },
  {
   "cell_type": "code",
   "execution_count": 6,
   "metadata": {},
   "outputs": [
    {
     "name": "stdout",
     "output_type": "stream",
     "text": [
      "\n",
      "******************************************************************************\n",
      "This program contains Ipopt, a library for large-scale nonlinear optimization.\n",
      " Ipopt is released as open source code under the Eclipse Public License (EPL).\n",
      "         For more information visit https://github.com/coin-or/Ipopt\n",
      "******************************************************************************\n",
      "\n",
      "This is Ipopt version 3.13.4, running with linear solver mumps.\n",
      "NOTE: Other linear solvers might be more efficient (see Ipopt documentation).\n",
      "\n",
      "Number of nonzeros in equality constraint Jacobian...:        4\n",
      "Number of nonzeros in inequality constraint Jacobian.:        1\n",
      "Number of nonzeros in Lagrangian Hessian.............:        1\n",
      "\n",
      "Total number of variables............................:        2\n",
      "                     variables with only lower bounds:        0\n",
      "                variables with lower and upper bounds:        0\n",
      "                     variables with only upper bounds:        0\n",
      "Total number of equality constraints.................:        2\n",
      "Total number of inequality constraints...............:        1\n",
      "        inequality constraints with only lower bounds:        0\n",
      "   inequality constraints with lower and upper bounds:        0\n",
      "        inequality constraints with only upper bounds:        1\n",
      "\n",
      "iter    objective    inf_pr   inf_du lg(mu)  ||d||  lg(rg) alpha_du alpha_pr  ls\n",
      "   0  1.0000000e+00 5.00e-01 1.00e+00  -1.0 0.00e+00    -  0.00e+00 0.00e+00   0\n",
      "   1  5.2380952e-01 5.67e-02 5.82e+00  -1.7 4.76e-01    -  1.45e-01 1.00e+00h  1\n",
      "   2  5.2730066e-01 1.22e-03 1.93e-01  -1.7 3.49e-02    -  1.00e+00 1.00e+00h  1\n",
      "   3  5.2737909e-01 6.15e-07 8.31e-06  -2.5 7.84e-04    -  1.00e+00 1.00e+00h  1\n",
      "   4  5.2737913e-01 1.57e-13 1.04e-08  -3.8 3.96e-07    -  1.00e+00 1.00e+00h  1\n",
      "\n",
      "Number of Iterations....: 4\n",
      "\n",
      "                                   (scaled)                 (unscaled)\n",
      "Objective...............:   5.2737912651868968e-01    5.2737912651868968e-01\n",
      "Dual infeasibility......:   2.3150223648364207e-16    2.3150223648364207e-16\n",
      "Constraint violation....:   1.5698553568199713e-13    1.5698553568199713e-13\n",
      "Complementarity.........:   0.0000000000000000e+00    0.0000000000000000e+00\n",
      "Overall NLP error.......:   1.5698553568199713e-13    1.5698553568199713e-13\n",
      "\n",
      "\n",
      "Number of objective function evaluations             = 5\n",
      "Number of objective gradient evaluations             = 5\n",
      "Number of equality constraint evaluations            = 5\n",
      "Number of inequality constraint evaluations          = 5\n",
      "Number of equality constraint Jacobian evaluations   = 5\n",
      "Number of inequality constraint Jacobian evaluations = 5\n",
      "Number of Lagrangian Hessian evaluations             = 4\n",
      "Total CPU secs in IPOPT (w/o function evaluations)   =      1.258\n",
      "Total CPU secs in NLP function evaluations           =      1.248\n",
      "\n",
      "EXIT: Optimal Solution Found.\n",
      "\n",
      "\n",
      "Optimal solution: [0.7262087348131022, 0.5273791265186897]"
     ]
    }
   ],
   "source": [
    "# define JuMP model and NLP solver\n",
    "model = Model(Ipopt.Optimizer)\n",
    "\n",
    "# declare variables\n",
    "@variable(model,z[1:2])\n",
    "\n",
    "# nonconvex quadratic equality constraint\n",
    "@NLconstraint(model,z[2]-z[1]^2 == 0)\n",
    "\n",
    "# convex constraints\n",
    "@constraint(model,params[\"A2\"]*z .+ params[\"b2\"] .== 0)\n",
    "@constraint(model,params[\"A3\"]*z .+ params[\"b3\"] .≤ 0)\n",
    "@objective(model,Min,z[2])\n",
    "\n",
    "# initial guess to NLP solver\n",
    "set_start_value.(all_variables(model),ones(2))\n",
    "\n",
    "# parse and call to solver\n",
    "optimize!(model)\n",
    "\n",
    "print(\"\\n\\nOptimal solution: $(JuMP.value.(z))\")\n",
    ";"
   ]
  }
 ],
 "metadata": {
  "kernelspec": {
   "display_name": "Julia 1.7.1",
   "language": "julia",
   "name": "julia-1.7"
  },
  "language_info": {
   "file_extension": ".jl",
   "mimetype": "application/julia",
   "name": "julia",
   "version": "1.7.1"
  }
 },
 "nbformat": 4,
 "nbformat_minor": 4
}
