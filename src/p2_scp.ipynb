{
 "cells": [
  {
   "cell_type": "markdown",
   "metadata": {
    "slideshow": {
     "slide_type": "slide"
    },
    "tags": []
   },
   "source": [
    "# SCP Toolbox Workshop\n",
    "\n",
    "___A tutorial on generating dynamically feasible trajectories reliably and efficiently___\n",
    "\n",
    "Monday, February 7, 2022\n",
    "\n",
    "Rocky Mountain AAS GN&C Conference, Breckenridge, CO\n",
    "\n",
    "<h2 style=\"color: black;\">\n",
    "    <span style=\"background-color: #ECBE7B; padding: 1px;\">&ensp;Part 2: Simple Sequential Convex Programming Example&ensp;</span>\n",
    "</h2>"
   ]
  },
  {
   "cell_type": "code",
   "execution_count": 1,
   "metadata": {
    "slideshow": {
     "slide_type": "skip"
    },
    "tags": []
   },
   "outputs": [
    {
     "name": "stderr",
     "output_type": "stream",
     "text": [
      "\u001b[32m\u001b[1m  Activating\u001b[22m\u001b[39m project at `~/GitHub/SCPToolbox_tutorial`\n",
      "\u001b[32m\u001b[1m    Updating\u001b[22m\u001b[39m registry at `~/.julia/registries/General.toml`\n",
      "\u001b[32m\u001b[1m   Resolving\u001b[22m\u001b[39m package versions...\n",
      "\u001b[32m\u001b[1m  No Changes\u001b[22m\u001b[39m to `~/GitHub/SCPToolbox_tutorial/Project.toml`\n",
      "\u001b[32m\u001b[1m  No Changes\u001b[22m\u001b[39m to `~/GitHub/SCPToolbox_tutorial/Manifest.toml`\n"
     ]
    }
   ],
   "source": [
    "import Pkg\n",
    "Pkg.activate(\"..\")\n",
    "\n",
    "## these lines are required for local installations\n",
    "# Pkg.develop(path=\"../../SCPToolbox.jl/\")\n",
    "# Pkg.precompile()\n",
    "\n",
    "Pkg.add(\"JuMP\")\n",
    "Pkg.build(\"JuMP\")\n",
    "\n",
    "using SCPToolbox\n",
    "using JuMP\n",
    "using ECOS\n",
    "using Ipopt\n",
    "# using SCS\n",
    "# using OSQP\n",
    "using Printf"
   ]
  },
  {
   "cell_type": "markdown",
   "metadata": {
    "slideshow": {
     "slide_type": "slide"
    },
    "tags": []
   },
   "source": [
    "Solve the following nonconvex optimization problem as a simple conic linear program subproblem:\n",
    "\n",
    "\\begin{align}\n",
    "\\underset{z}{\\text{minimize}} &\\quad L(z) \\triangleq z_2 \\\\\n",
    "\\text{subject to} &\\quad \\color{#000080}{z_2 - z_1^2 = 0}\\\\\n",
    " &\\quad \\color{#008000}{z_2 + 0.1 z_1 = 0.6}\\\\\n",
    " &\\quad \\color{#FF00FF}{z_1 \\leq 0.85}\n",
    "\\end{align}"
   ]
  },
  {
   "cell_type": "markdown",
   "metadata": {
    "slideshow": {
     "slide_type": "slide"
    },
    "tags": []
   },
   "source": [
    "<center>\n",
    "    <br />\n",
    "    <img src=\"media/p2-crawling.png\" width=\"450\"/>\n",
    "    <br />\n",
    "    <b>Figure.</b>  A two-dimensional nonconvex toy problem that exemplifies a convex subproblem obtained during an SCP iteration.\n",
    "    <br />\n",
    "</center>"
   ]
  },
  {
   "cell_type": "markdown",
   "metadata": {
    "slideshow": {
     "slide_type": "skip"
    },
    "tags": []
   },
   "source": [
    "In this case, the cost function $L(z) = z_2$ and level curves of the cost are shown as gray dashed lines. The blue curve represents a nonconvex equality constraint, and its linearization is shown as the blue dash-dot line. Another convex equality constraint is shown in green, and a convex inequality constraint is shown as the vertical red dashed line. The trust region is the red circle centered at the linearization point $\\bar{z}$, and has radius $\\eta$. The optimal solution of the original (non-approximated) problem is shown as the black square. The convex subproblem is artificially infeasible. Without the trust region and the green constraint, it would also be artifically unbounded.  "
   ]
  },
  {
   "cell_type": "markdown",
   "metadata": {
    "slideshow": {
     "slide_type": "skip"
    },
    "tags": []
   },
   "source": [
    "To convert this problem into a CLP subproblem, we first generate (convex, linear) hyperplane\n",
    "approximation of the nonconvex constraint. We also include virtual buffers $\\nu$ to avoid artificial infeasibility, and a trust region upper bound $\\eta$ to avoid artificial unboundedness.\n",
    "\n",
    "Penalties for these terms are augmented to the cost function. Virtual control magnitude is penalized to incentivize convergence to zero once feasibility of the subproblem is obtained. In fact, the virtual control penalty has a higher weight in the augmented objective. Trust region radius is penalized to incentivize the optimal solution of the subproblem at the current iteration to stay close to the linearization point, where the approximation of the nonconvex constraint is valid. Furthermore, the trust region constraint precludes artificial unboundedness that may arise from the feasible set becoming unbounded due to the linearized constraint."
   ]
  },
  {
   "cell_type": "markdown",
   "metadata": {
    "slideshow": {
     "slide_type": "slide"
    },
    "tags": []
   },
   "source": [
    "\\begin{align}\n",
    "\\underset{z}{\\text{minimize}} &\\quad z_2 + w_{\\text{tr}}\\color{#FF0000}{\\eta} + w_{\\text{vb}}\\color{#000080}{|\\nu|} \\\\\n",
    "\\text{subject to} &\\quad  \\color{#000080}{(-2\\bar{z}_1)z_1 + z_2 + \\bar{z}_1^2 + \\nu = 0}  \\\\\n",
    " &\\quad \\color{#008000}{z_2 + 0.1 z_1 = 0.6}\\\\\n",
    " &\\quad \\color{#FF00FF}{z_1 \\leq 0.85} \\\\\n",
    " &\\quad \\color{#FF0000 }{\\| z - \\bar{z} \\|_2 \\leq \\eta}\n",
    "\\end{align}\n",
    "\n",
    "The subproblem described above is still not a CLP since the objective function is not linear. The virtual buffer penalty is converted to a conic constraint via the epigraph form by introducing a slack variable $\\mu$."
   ]
  },
  {
   "cell_type": "markdown",
   "metadata": {
    "slideshow": {
     "slide_type": "slide"
    },
    "tags": []
   },
   "source": [
    "\\begin{align}\n",
    "\\underset{z}{\\text{minimize}} &\\quad z_2 + w_{\\text{tr}}\\color{#FF0000}{\\eta} + w_{\\text{vb}}\\color{#000080}{\\mu}\\\\\n",
    "\\text{subject to} &\\quad  \\color{#000080}{(-2\\bar{z}_1)z_1 + z_2 + \\bar{z}_1^2 + \\nu = 0}  \\\\\n",
    " &\\quad \\color{#008000}{z_2 + 0.1 z_1 = 0.6}\\\\\n",
    " &\\quad \\color{#FF00FF}{z_1 \\leq 0.85} \\\\\n",
    " &\\quad \\color{#FF0000 }{\\| z - \\bar{z} \\|_2 \\leq \\eta} \\\\\n",
    " &\\quad \\color{#000080}{|\\nu| \\leq \\mu}\n",
    "\\end{align}"
   ]
  },
  {
   "cell_type": "markdown",
   "metadata": {
    "slideshow": {
     "slide_type": "slide"
    },
    "tags": []
   },
   "source": [
    "## Constraints"
   ]
  },
  {
   "cell_type": "code",
   "execution_count": 2,
   "metadata": {
    "slideshow": {
     "slide_type": "fragment"
    },
    "tags": []
   },
   "outputs": [],
   "source": [
    "# Linearized nonconvex constraint\n",
    "lin_ncvx(z, ν, pbm) = @add_constraint(pbm, ZERO, (z, ν) -> (-2*cst[\"z̄\"][1])*z[1] .+ z[2] .+ cst[\"z̄\"][1]^2 .+ ν);"
   ]
  },
  {
   "cell_type": "code",
   "execution_count": 3,
   "metadata": {
    "slideshow": {
     "slide_type": "fragment"
    },
    "tags": []
   },
   "outputs": [],
   "source": [
    "# Hyperplane constraint\n",
    "hypln(z, pbm) = @add_constraint(pbm, ZERO, z -> z[2] + 0.1*z[1] - 0.6);"
   ]
  },
  {
   "cell_type": "code",
   "execution_count": 4,
   "metadata": {
    "slideshow": {
     "slide_type": "fragment"
    },
    "tags": []
   },
   "outputs": [],
   "source": [
    "# Halfspace constraint\n",
    "hlfsp(z, pbm) = @add_constraint(pbm, NONPOS, z -> z[1] - 0.85);"
   ]
  },
  {
   "cell_type": "code",
   "execution_count": 5,
   "metadata": {
    "slideshow": {
     "slide_type": "fragment"
    },
    "tags": []
   },
   "outputs": [],
   "source": [
    "# Trust-region penalty constraint\n",
    "tr_cnstr(z, η, pbm) = @add_constraint(pbm, SOC, (z, η) -> vcat(η, z .- cst[\"z̄\"]));"
   ]
  },
  {
   "cell_type": "code",
   "execution_count": 6,
   "metadata": {
    "slideshow": {
     "slide_type": "fragment"
    },
    "tags": []
   },
   "outputs": [],
   "source": [
    "# Virtual buffer penalty constraint\n",
    "vb_cnstr(ν, μ, pbm) = @add_constraint(pbm, L1, (ν, μ) -> vcat(μ, ν));"
   ]
  },
  {
   "cell_type": "markdown",
   "metadata": {
    "slideshow": {
     "slide_type": "slide"
    },
    "tags": []
   },
   "source": [
    "## Cost function"
   ]
  },
  {
   "cell_type": "code",
   "execution_count": 7,
   "metadata": {
    "slideshow": {
     "slide_type": "fragment"
    },
    "tags": []
   },
   "outputs": [],
   "source": [
    "cost_fun(η, μ, z, pbm) = @add_cost(pbm, (η, μ, z) -> z[2] .+ cst[\"wtr\"]*η .+ cst[\"wvb\"]*μ);"
   ]
  },
  {
   "cell_type": "markdown",
   "metadata": {
    "slideshow": {
     "slide_type": "slide"
    },
    "tags": []
   },
   "source": [
    "## SCP subproblem"
   ]
  },
  {
   "cell_type": "code",
   "execution_count": 8,
   "metadata": {
    "slideshow": {
     "slide_type": "fragment"
    },
    "tags": []
   },
   "outputs": [],
   "source": [
    "function construct_subpbm(params)\n",
    "    \n",
    "    # Construct the subproblem\n",
    "    pbm = ConicProgram(params;solver = params[\"solver\"],solver_options = params[\"opts\"])\n",
    "    \n",
    "    # Create variables\n",
    "    z = @new_variable(pbm, 2, \"z\")\n",
    "    ν = @new_variable(pbm, \"ν\")\n",
    "    η = @new_variable(pbm, \"η\")\n",
    "    μ = @new_variable(pbm, \"μ\")  \n",
    "        \n",
    "    # Linearized nonconvex constraint\n",
    "    lin_ncvx(z, ν, pbm)\n",
    "    \n",
    "    # Hyperplane constraint\n",
    "    hypln(z, pbm)\n",
    "    \n",
    "    # Halfspace constraint\n",
    "    hlfsp(z, pbm)\n",
    "        \n",
    "    # Trust-region penalty constraint\n",
    "    tr_cnstr(z, η, pbm)\n",
    "    \n",
    "    # Virtual buffer penalty constraint\n",
    "    vb_cnstr(ν, μ, pbm)\n",
    "    \n",
    "    # Cost function\n",
    "    cost_fun(η, μ, z, pbm)\n",
    "    \n",
    "    return pbm, z, η, μ\n",
    "    \n",
    "end;"
   ]
  },
  {
   "cell_type": "markdown",
   "metadata": {
    "slideshow": {
     "slide_type": "slide"
    },
    "tags": []
   },
   "source": [
    "## SCP configuration"
   ]
  },
  {
   "cell_type": "code",
   "execution_count": 9,
   "metadata": {
    "slideshow": {
     "slide_type": "fragment"
    },
    "tags": []
   },
   "outputs": [],
   "source": [
    "# Construct problem parameters\n",
    "params = Dict()\n",
    "params[\"solver\"] = ECOS\n",
    "params[\"opts\"]   = Dict(\"verbose\"=>0,\"abstol\"=>1e-8)\n",
    "params[\"scp-verbose\"] = true\n",
    "\n",
    "# Initial reference and constraint data\n",
    "params[\"z̄\"] = zeros(2);\n",
    "\n",
    "iter_max = 30\n",
    "ϵ_conv = 1e-6\n",
    "params[\"wtr\"] = 10.0\n",
    "params[\"wvb\"] = 10000.0;"
   ]
  },
  {
   "cell_type": "code",
   "execution_count": 10,
   "metadata": {
    "slideshow": {
     "slide_type": "skip"
    },
    "tags": []
   },
   "outputs": [],
   "source": [
    "z_hist = [zeros(2) for k = 1:iter_max]\n",
    "μ_hist = zeros(iter_max)\n",
    "η_hist = zeros(iter_max)\n",
    "cost_hist = zeros(iter_max);"
   ]
  },
  {
   "cell_type": "markdown",
   "metadata": {
    "slideshow": {
     "slide_type": "slide"
    },
    "tags": []
   },
   "source": [
    "## SCP solve step"
   ]
  },
  {
   "cell_type": "code",
   "execution_count": 11,
   "metadata": {
    "slideshow": {
     "slide_type": "fragment"
    },
    "tags": []
   },
   "outputs": [],
   "source": [
    "function solve_pbm!(params, z_hist, η_hist, μ_hist)\n",
    "    k = 1   \n",
    "    iter_conv = 0.0\n",
    "    while true\n",
    "        pbm, z, η, μ = construct_subpbm(params)                                # Construct subproblem    \n",
    "        \n",
    "        exit_flag = solve!(pbm)                                                # Solve subproblem\n",
    "\n",
    "        z_hist[k], η_hist[k], μ_hist[k] = value(z), value(η)[1], value(μ)[1]   # Save subproblem solution\n",
    "        cost_hist[k] = z_hist[k][2]\n",
    "\n",
    "        bool_conv = max(η_hist[k],μ_hist[k]) <= ϵ_conv                         # Check stopping criterion\n",
    "\n",
    "        if params[\"scp-verbose\"]\n",
    "            # @printf(\"Iteration %d | %s | Trust region: %7.1e | Virtual buffer: %7.1e \n",
    "            # | Cost: %.2f |\\n\",k,string(exit_flag),η_hist[k],abs(μ_hist[k]),cost_hist[k])\n",
    "        end\n",
    "\n",
    "        if (k == iter_max) || bool_conv                                        # Stop at maximum iterations\n",
    "            iter_conv = k        \n",
    "            break\n",
    "        else\n",
    "            params[\"z̄\"] .= z_hist[k]                                           # Update reference trajectory\n",
    "            k += 1\n",
    "        end\n",
    "    end\n",
    "    return iter_conv\n",
    "end;"
   ]
  },
  {
   "cell_type": "code",
   "execution_count": 12,
   "metadata": {
    "slideshow": {
     "slide_type": "slide"
    },
    "tags": []
   },
   "outputs": [],
   "source": [
    "iter_conv = solve_pbm!(params, z_hist, η_hist, μ_hist);"
   ]
  },
  {
   "cell_type": "markdown",
   "metadata": {
    "slideshow": {
     "slide_type": "fragment"
    },
    "tags": []
   },
   "source": [
    "<center>\n",
    "    <br />\n",
    "    <img src=\"media/p2_output.png\" width=\"750\"/>\n",
    "    <br />\n",
    "</center>"
   ]
  },
  {
   "cell_type": "markdown",
   "metadata": {
    "slideshow": {
     "slide_type": "slide"
    },
    "tags": []
   },
   "source": [
    "## Validating SCP solution via JuMP"
   ]
  },
  {
   "cell_type": "code",
   "execution_count": 13,
   "metadata": {
    "slideshow": {
     "slide_type": "fragment"
    },
    "tags": []
   },
   "outputs": [],
   "source": [
    "function solve_JuMP()\n",
    "    model = Model(                                       # Define JuMP model and NLP solver\n",
    "        optimizer_with_attributes(\n",
    "            Ipopt.Optimizer, \"print_level\" => 0\n",
    "        )\n",
    "    )\n",
    "\n",
    "    @variable(model, z[1:2])                             # Declare variables\n",
    "\n",
    "    @NLconstraint(model, z[2] - z[1]^2 == 0)             # Nonconvex quadratic equality constraint\n",
    "\n",
    "    @constraint(model, Matrix([0.1 1])*z .- 0.6 .== 0)   # Convex constraints\n",
    "    @constraint(model, Matrix([1 0])*z .- 0.85 .≤ 0)\n",
    "    @objective(model, Min, z[2])\n",
    "\n",
    "    set_start_value.(all_variables(model),ones(2))       # Initial guess to NLP solver\n",
    "\n",
    "    optimize!(model)                                     # Parse and call to solver \n",
    "    return JuMP.value.(z), model\n",
    "end;"
   ]
  },
  {
   "cell_type": "code",
   "execution_count": 14,
   "metadata": {
    "slideshow": {
     "slide_type": "skip"
    },
    "tags": []
   },
   "outputs": [
    {
     "name": "stdout",
     "output_type": "stream",
     "text": [
      "\n",
      "******************************************************************************\n",
      "This program contains Ipopt, a library for large-scale nonlinear optimization.\n",
      " Ipopt is released as open source code under the Eclipse Public License (EPL).\n",
      "         For more information visit https://github.com/coin-or/Ipopt\n",
      "******************************************************************************\n",
      "\n"
     ]
    }
   ],
   "source": [
    "z_verify,model = solve_JuMP();"
   ]
  },
  {
   "cell_type": "markdown",
   "metadata": {
    "slideshow": {
     "slide_type": "slide"
    },
    "tags": []
   },
   "source": [
    "### Optimal Solutions"
   ]
  },
  {
   "cell_type": "markdown",
   "metadata": {
    "slideshow": {
     "slide_type": "fragment"
    },
    "tags": []
   },
   "source": [
    "<br><br/>\n",
    "__Solution using `SCPToolbox.jl`__:"
   ]
  },
  {
   "cell_type": "code",
   "execution_count": 15,
   "metadata": {
    "slideshow": {
     "slide_type": "fragment"
    },
    "tags": [
     "hide-input"
    ]
   },
   "outputs": [
    {
     "name": "stdout",
     "output_type": "stream",
     "text": [
      "\n",
      "SCPToolbox.jl: [0.7262087350647175, 0.5273791266363734]"
     ]
    }
   ],
   "source": [
    "print(\"\\nSCPToolbox.jl: $(z_hist[iter_conv])\");"
   ]
  },
  {
   "cell_type": "markdown",
   "metadata": {
    "slideshow": {
     "slide_type": "fragment"
    },
    "tags": []
   },
   "source": [
    "<br><br/>\n",
    "__Verification using `JuMP` and `Ipopt`__:"
   ]
  },
  {
   "cell_type": "code",
   "execution_count": 16,
   "metadata": {
    "slideshow": {
     "slide_type": "fragment"
    },
    "tags": [
     "hide-input"
    ]
   },
   "outputs": [
    {
     "name": "stdout",
     "output_type": "stream",
     "text": [
      "\n",
      "JuMP and Ipopt: [0.7262087348131022, 0.5273791265186897]"
     ]
    }
   ],
   "source": [
    "print(\"\\nJuMP and Ipopt: $(z_verify)\");"
   ]
  },
  {
   "cell_type": "markdown",
   "metadata": {
    "slideshow": {
     "slide_type": "slide"
    },
    "tags": []
   },
   "source": [
    "## `SCPToolbox.jl` Cheat Sheet"
   ]
  },
  {
   "cell_type": "markdown",
   "metadata": {
    "slideshow": {
     "slide_type": "fragment"
    },
    "tags": []
   },
   "source": [
    "| Task                    | Code                                                       |\n",
    "|-------------------------|------------------------------------------------------------|\n",
    "| Create problem          | `pbm = ConicProgram(solver = ECOS, solver_options = opts)` |\n",
    "| Create scalar variable  | `x = @new_variable(pbm, \"x\")`                              |\n",
    "|                         | `x = @new_variable(pbm, 1, \"x\"`                            |\n",
    "| Create vector variable  | `x = @new_variable(pbm, 3, \"x\")`                           |\n",
    "|                         | `x = @new_variable(pbm, (2, 5), \"x\")`                      |\n",
    "| Index vector variable   | `x[:, 1]`                                                  |\n",
    "| Scale variable          | `@scale(x,5,1)`                                            |\n",
    "| Variable value          | `value(x)`                                                 |\n",
    "| Query problem           | `pbm`                                                      |\n",
    "| Query problem variables | `variables(pbm)`                                           |\n",
    "| Box constraint          | `@add_constraint(pbm, NONPOS, \"my-box\", x -> A*x .+ b)`    |\n",
    "| Ball constraint         | `@add_constraint(pbm, SOC, \"my-ball\", x -> A*x .+ b)`      |\n",
    "| Hyperplane constraint   | `@add_constraint(pbm, ZERO, \"my-hypln\", x -> A*x .+ b)`    |\n",
    "| Halfspace constraint    | `@add_constraint(pbm, NONPOS, \"my-hlfspc\", x -> A*x .+ b)` |\n",
    "| Add to cost funtion     | `@add_cost(pbm, t -> cst[\"a\"]*t)`                          |\n",
    "| Solve problem           | `exit_status = solve!(pbm)`                                |"
   ]
  },
  {
   "cell_type": "markdown",
   "metadata": {
    "slideshow": {
     "slide_type": "slide"
    },
    "tags": []
   },
   "source": [
    "## SCP for Trajectory Optimization"
   ]
  },
  {
   "cell_type": "markdown",
   "metadata": {
    "slideshow": {
     "slide_type": "skip"
    },
    "tags": []
   },
   "source": [
    "The optimal solution to the simple CLP example presented above is a single point. However, when extending the SCP algorithm to optimal control problems in general, the solution is instead represented as a trajectory. This trajectory solution can be viewed as a sequence of points, each with an associated time, to construct a time history of states. The time history of states will also have a corresponding time history of control inputs. In these problems, the total time horizon may be either fixed as a user-defined quantity, or left free as an additional optimization variable. In the latter case, the original free-final-time non-convex may be linearized about a reference time at each iteration when constructing the local fixed-final-time convex subproblem.\n",
    "\n",
    "In order to extend the SCP algorithm to trajectory optimization, system dynamics that govern the physical evolution of the vehicle trajectory must be introduced. These dynamics are represented as a differential equation, given by $\\dot{x}(t)=f(t, x(t), u(t), p)$, which governs the state derivative $\\dot{x}$ as a function of time $t$, the instantaneous state $x$ and control $u$, and possibly some vehicle parameters $p$. The resulting optimal control problem is presented below."
   ]
  },
  {
   "cell_type": "markdown",
   "metadata": {
    "slideshow": {
     "slide_type": "fragment"
    },
    "tags": []
   },
   "source": [
    "\\begin{array}{ll}\n",
    "\\underset{u,\\ p}{\\text{minimize}} & J(x, u, p) \\\\\n",
    "\\text{subject to} & \\dot{x}(t)=f(t, x(t), u(t), p), \\\\\n",
    "& (x(t), p) \\in \\mathcal{X}(t), \\\\\n",
    "& (u(t), p) \\in \\mathcal{U}(t), \\\\\n",
    "& s(t, x(t), u(t), p) \\leq 0, \\\\\n",
    "& g_{\\text {ic}}(x(0), p)=0, \\\\\n",
    "& g_{\\text {tc}}(x(1), p)=0\n",
    "\\end{array}"
   ]
  }
 ],
 "metadata": {
  "kernelspec": {
   "display_name": "Julia 1.7.1",
   "language": "julia",
   "name": "julia-1.7"
  },
  "language_info": {
   "file_extension": ".jl",
   "mimetype": "application/julia",
   "name": "julia",
   "version": "1.7.1"
  }
 },
 "nbformat": 4,
 "nbformat_minor": 4
}
