{
 "cells": [
  {
   "cell_type": "code",
   "execution_count": 1,
   "metadata": {
    "slideshow": {
     "slide_type": "skip"
    },
    "tags": []
   },
   "outputs": [
    {
     "name": "stderr",
     "output_type": "stream",
     "text": [
      "\u001b[32m\u001b[1m  Activating\u001b[22m\u001b[39m project at `~/ACL/AAS/SCPToolbox_tutorial`\n",
      "\u001b[32m\u001b[1m   Resolving\u001b[22m\u001b[39m package versions...\n",
      "\u001b[32m\u001b[1m  No Changes\u001b[22m\u001b[39m to `~/ACL/AAS/SCPToolbox_tutorial/Project.toml`\n",
      "\u001b[32m\u001b[1m  No Changes\u001b[22m\u001b[39m to `~/ACL/AAS/SCPToolbox_tutorial/Manifest.toml`\n"
     ]
    }
   ],
   "source": [
    "import Pkg\n",
    "Pkg.activate(\"..\")\n",
    "\n",
    "# these lines are required only for local installations\n",
    "Pkg.develop(path=\"../../scp_traj_opt/\")\n",
    "Pkg.precompile()\n",
    "\n",
    "using SCPToolbox\n",
    "using ECOS\n",
    "using OSQP\n",
    "using SCS\n",
    "using Ipopt"
   ]
  },
  {
   "cell_type": "code",
   "execution_count": 2,
   "metadata": {
    "slideshow": {
     "slide_type": "slide"
    },
    "tags": []
   },
   "outputs": [
    {
     "data": {
      "text/plain": [
       "Conic linear program\n",
       "\n",
       "  Feasibility problem\n",
       "  0 variables (0 blocks)\n",
       "  0 parameters (0 blocks)\n",
       "  0 constraints\n",
       "\n",
       "  Variable argument\n",
       "    0 elements\n",
       "    0 blocks\n",
       "\n",
       "\n",
       "  Parameter argument\n",
       "    0 elements\n",
       "    0 blocks\n"
      ]
     },
     "execution_count": 2,
     "metadata": {},
     "output_type": "execute_result"
    }
   ],
   "source": [
    "opts = Dict(\"verbose\" => 0)\n",
    "pbm = ConicProgram(solver = ECOS.Optimizer, solver_options = opts)"
   ]
  },
  {
   "cell_type": "code",
   "execution_count": 3,
   "metadata": {
    "slideshow": {
     "slide_type": "fragment"
    },
    "tags": []
   },
   "outputs": [
    {
     "data": {
      "text/plain": [
       "Vector variable\n",
       "  2 elements\n",
       "  (2,) shape\n",
       "  Name: z\n",
       "  Block index in stack: 1\n",
       "  Indices in stack: 1:2\n",
       "  Type: Vector{JuMP.AffExpr}\n",
       "  No scaling (x=xh)\n",
       "  Any perturbation allowed\n",
       "  Value =\n",
       "     z[1]\n",
       "     z[2]"
      ]
     },
     "execution_count": 3,
     "metadata": {},
     "output_type": "execute_result"
    }
   ],
   "source": [
    "v = @new_variable(pbm, 2, \"z\")"
   ]
  },
  {
   "cell_type": "code",
   "execution_count": 4,
   "metadata": {},
   "outputs": [
    {
     "data": {
      "text/plain": [
       "Vector variable\n",
       "  1 elements\n",
       "  (1,) shape\n",
       "  Name: eta\n",
       "  Block index in stack: 2\n",
       "  Indices in stack: 3\n",
       "  Type: Vector{JuMP.AffExpr}\n",
       "  No scaling (x=xh)\n",
       "  Any perturbation allowed\n",
       "  Value =\n",
       "     eta"
      ]
     },
     "execution_count": 4,
     "metadata": {},
     "output_type": "execute_result"
    }
   ],
   "source": [
    "eta = @new_variable(pbm,1,\"eta\")"
   ]
  },
  {
   "cell_type": "code",
   "execution_count": null,
   "metadata": {},
   "outputs": [],
   "source": [
    "# ..:: Initialize ::..\n",
    "ref = [0;0];\n",
    "\n",
    "history = SCPHistory()\n",
    "\n",
    "callback_fun! = pbm.traj.callback!\n",
    "user_callback = !isnothing(callback_fun!)\n",
    "\n",
    "# ..:: Iterate ::..\n",
    "iter_max = 30\n",
    "k = 1 # Iteration counter\n",
    "while true\n",
    "    # Construct the subproblem\n",
    "    # spbm = Subproblem(pbm, k, ref)\n",
    "\n",
    "    # Linearized nonconvex constraint\n",
    "    # TODO\n",
    "    \n",
    "    # Hyperplane constraint\n",
    "    # TODO\n",
    "    \n",
    "    # Halfspace constraint\n",
    "    # TODO\n",
    "    \n",
    "    # Trust region\n",
    "    # TODO\n",
    "    \n",
    "    # Buffer constraints\n",
    "    # TODO\n",
    "    \n",
    "    # Cost function\n",
    "    # TODO\n",
    "\n",
    "    # Save history of the subproblem\n",
    "    # TODO\n",
    "\n",
    "    # Solve the subproblem\n",
    "    # TODO\n",
    "\n",
    "\n",
    "    # Check stopping criterion\n",
    "    # z - ref <= eps_conv\n",
    "\n",
    "    # Update reference trajectory\n",
    "    # set reference to solution\n",
    "   \n",
    "    # Print iteration info\n",
    "    # TODO - print_info(spbm)\n",
    "\n",
    "    # Stop at maximum iterations\n",
    "    k += 1\n",
    "    if k > iter_max\n",
    "        break\n",
    "    end\n",
    "end\n"
   ]
  },
  {
   "cell_type": "code",
   "execution_count": 23,
   "metadata": {
    "slideshow": {
     "slide_type": "slide"
    },
    "tags": []
   },
   "outputs": [
    {
     "name": "stdout",
     "output_type": "stream",
     "text": [
      "A = [1.1 3.2]\n"
     ]
    },
    {
     "data": {
      "text/plain": [
       "Name: my-hypln\n",
       "Cone f(x,p)∈K, where:\n",
       "K is a zero cone, {z : z=0}\n",
       "f(x,p) = \n",
       "  1.1 x[1] + 3.2 x[2] - 9\n",
       "Affine function\n",
       "Arguments:\n",
       "  x (block 1) : 1:2\n"
      ]
     },
     "execution_count": 23,
     "metadata": {},
     "output_type": "execute_result"
    }
   ],
   "source": [
    "# Convexified nonconvex constraint\n",
    "\n",
    "\n",
    "a_ncvx = [-2*ref[1];1.0];\n",
    "b_ncvx = -ref[1]^2;\n",
    "params = Dict(\"n\" => 2, \"a\" => a_ncvx, \"b\" => b_ncvx)\n",
    "A = Matrix(transpose(params[\"a\"]))\n",
    "b = -params[\"b\"]\n",
    "\n",
    "@show A\n",
    "\n",
    "pbm = ConicProgram(params)\n",
    "\n",
    "x = @new_variable(pbm, params[\"n\"],\"x\")\n",
    "\n",
    "# Define the constraint\n",
    "cstr = @add_constraint(\n",
    "    pbm, ZERO, \"my-hypln\", (x,),\n",
    "    begin\n",
    "        local x, = arg\n",
    "        A*x .+ b\n",
    "    end)"
   ]
  },
  {
   "cell_type": "code",
   "execution_count": 23,
   "metadata": {
    "slideshow": {
     "slide_type": "slide"
    },
    "tags": []
   },
   "outputs": [
    {
     "name": "stdout",
     "output_type": "stream",
     "text": [
      "A = [1.1 3.2]\n"
     ]
    },
    {
     "data": {
      "text/plain": [
       "Name: my-hypln\n",
       "Cone f(x,p)∈K, where:\n",
       "K is a zero cone, {z : z=0}\n",
       "f(x,p) = \n",
       "  1.1 x[1] + 3.2 x[2] - 9\n",
       "Affine function\n",
       "Arguments:\n",
       "  x (block 1) : 1:2\n"
      ]
     },
     "execution_count": 23,
     "metadata": {},
     "output_type": "execute_result"
    }
   ],
   "source": [
    "# Convex hyperplane constraint\n",
    "\n",
    "params = Dict(\"n\" => 2, \"a\" => [0.1;1], \"b\" => 0.6)\n",
    "A = Matrix(transpose(params[\"a\"]))\n",
    "b = -params[\"b\"]\n",
    "\n",
    "@show A\n",
    "\n",
    "pbm = ConicProgram(params)\n",
    "\n",
    "x = @new_variable(pbm, params[\"n\"],\"x\")\n",
    "\n",
    "# Define the constraint\n",
    "cstr = @add_constraint(\n",
    "    pbm, ZERO, \"my-hypln\", (x,),\n",
    "    begin\n",
    "        local x, = arg\n",
    "        A*x .+ b\n",
    "    end)"
   ]
  },
  {
   "cell_type": "code",
   "execution_count": 24,
   "metadata": {
    "slideshow": {
     "slide_type": "slide"
    },
    "tags": []
   },
   "outputs": [
    {
     "name": "stdout",
     "output_type": "stream",
     "text": [
      "A * [1; 2] = [7.5]\n",
      "(1,)\n"
     ]
    },
    {
     "data": {
      "text/plain": [
       "Name: my-hlfspace\n",
       "Cone f(x,p)∈K, where:\n",
       "K is a nonpositive orthant cone, {z : z≤0}\n",
       "f(x,p) = \n",
       "  1.1 x[1] + 3.2 x[2] - 9\n",
       "Affine function\n",
       "Arguments:\n",
       "  x (block 1) : 1:2\n"
      ]
     },
     "execution_count": 24,
     "metadata": {},
     "output_type": "execute_result"
    }
   ],
   "source": [
    "# Halfspace constraint\n",
    "\n",
    "params = Dict(\"n\" => 2, \"a\" => [1.0;0.0], \"b\" => 0.85)\n",
    "A = Matrix(transpose(params[\"a\"]))\n",
    "b = -params[\"b\"]\n",
    "\n",
    "@show A*[1;2]\n",
    "\n",
    "pbm = ConicProgram(params)\n",
    "\n",
    "x = @new_variable(pbm, params[\"n\"],\"x\")\n",
    "\n",
    "# Define the constraint\n",
    "cstr = @add_constraint(\n",
    "    pbm, NONPOS, \"my-hlfspace\", (x,),\n",
    "    begin\n",
    "        local x, = arg\n",
    "        println(size(A*x))\n",
    "        A*x .+ b\n",
    "    end)"
   ]
  }
 ],
 "metadata": {
  "kernelspec": {
   "display_name": "Julia 1.7.1",
   "language": "julia",
   "name": "julia-1.7"
  },
  "language_info": {
   "file_extension": ".jl",
   "mimetype": "application/julia",
   "name": "julia",
   "version": "1.7.1"
  }
 },
 "nbformat": 4,
 "nbformat_minor": 4
}
