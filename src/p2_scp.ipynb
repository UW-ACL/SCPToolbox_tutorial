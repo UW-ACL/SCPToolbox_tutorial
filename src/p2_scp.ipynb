{
 "cells": [
  {
   "cell_type": "code",
   "execution_count": null,
   "metadata": {},
   "outputs": [],
   "source": [
    "# TODO: Fill out annotations"
   ]
  },
  {
   "cell_type": "code",
   "execution_count": 120,
   "metadata": {
    "slideshow": {
     "slide_type": "skip"
    },
    "tags": []
   },
   "outputs": [
    {
     "name": "stderr",
     "output_type": "stream",
     "text": [
      "\u001b[32m\u001b[1m  Activating\u001b[22m\u001b[39m project at `~/ACL/AAS/SCPToolbox_tutorial`\n",
      "\u001b[32m\u001b[1m   Resolving\u001b[22m\u001b[39m package versions...\n",
      "\u001b[32m\u001b[1m  No Changes\u001b[22m\u001b[39m to `~/ACL/AAS/SCPToolbox_tutorial/Project.toml`\n",
      "\u001b[32m\u001b[1m  No Changes\u001b[22m\u001b[39m to `~/ACL/AAS/SCPToolbox_tutorial/Manifest.toml`\n"
     ]
    }
   ],
   "source": [
    "import Pkg\n",
    "Pkg.activate(\"..\")\n",
    "\n",
    "# these lines are required only for local installations\n",
    "Pkg.develop(path=\"../../scp_traj_opt/\")\n",
    "Pkg.precompile()\n",
    "\n",
    "using SCPToolbox\n",
    "using ECOS\n",
    "using SCS\n",
    "using JuMP\n",
    "using Printf"
   ]
  },
  {
   "cell_type": "code",
   "execution_count": 121,
   "metadata": {},
   "outputs": [],
   "source": [
    "# ..:: Construct Subproblem ::..\n",
    "function construct_subpbm(params)\n",
    "    \n",
    "    # Construct the subproblem\n",
    "    pbm = ConicProgram(params;solver = params[\"solver\"],solver_options = params[\"opts\"])\n",
    "    \n",
    "    # Create variables\n",
    "    z = @new_variable(pbm, 2, \"z\")\n",
    "    ν = @new_variable(pbm, \"ν\")\n",
    "    η = @new_variable(pbm,\"η\")\n",
    "    μ = @new_variable(pbm,\"μ\")  \n",
    "    \n",
    "    ### (Point out usage of dictionary pars inside constraint constructor)\n",
    "    \n",
    "    # Linearized nonconvex constraint\n",
    "    @add_constraint(\n",
    "        pbm, ZERO, \"my-ncvx\", (z,ν),\n",
    "        begin\n",
    "            local z,ν = arg\n",
    "            cst[\"A1\"]*z .+ cst[\"b1\"] .+ ν\n",
    "        end)\n",
    "    \n",
    "    # Hyperplane constraint\n",
    "    @add_constraint(\n",
    "        pbm, ZERO, \"my-hypln\", (z,),\n",
    "        begin\n",
    "            local z, = arg\n",
    "            cst[\"A2\"]*z .+ cst[\"b2\"]\n",
    "        end)\n",
    "    \n",
    "    # Halfspace constraint\n",
    "    @add_constraint(\n",
    "        pbm, NONPOS, \"my-hlfspace\", (z,),\n",
    "        begin\n",
    "            local z, = arg\n",
    "            cst[\"A3\"]*z .+ cst[\"b3\"]\n",
    "        end)\n",
    "        \n",
    "    # Trust-region penalty constraint\n",
    "    @add_constraint(\n",
    "       pbm, SOC, \"my-soc\", (z,η),\n",
    "        begin\n",
    "            local z,η = arg\n",
    "            vcat(η,z .- cst[\"z̄\"])\n",
    "        end\n",
    "    )\n",
    "    \n",
    "    # Virtual buffer penalty constraint\n",
    "    @add_constraint(\n",
    "       pbm, SOC, \"my-soc2\", (ν,μ),\n",
    "        begin\n",
    "            local ν,μ = arg\n",
    "            vcat(μ,ν)\n",
    "        end\n",
    "    )\n",
    "    \n",
    "    \n",
    "    # Cost function\n",
    "    @add_cost(pbm, (η,μ,z),\n",
    "        begin\n",
    "            local η,μ,z = arg\n",
    "            z[2] .+ cst[\"wtr\"]*η .+ cst[\"wvb\"]*μ\n",
    "        end\n",
    "    )\n",
    "    \n",
    "    return pbm,z,η,μ\n",
    "    \n",
    "end\n",
    "\n",
    ";"
   ]
  },
  {
   "cell_type": "code",
   "execution_count": 126,
   "metadata": {},
   "outputs": [],
   "source": [
    "# ..:: Initialize ::..\n",
    "\n",
    "# Construct problem parameters\n",
    "params = Dict()\n",
    "params[\"solver\"] = SCS\n",
    "# params[\"opts\"]   = Dict(\"verbose\"=>0,\"abstol\"=>1e-8)\n",
    "# params[\"opts\"] = Dict(\"print_level\"=>0)\n",
    "params[\"opts\"] = Dict(\"verbose\"=>0)\n",
    "\n",
    "# Initial reference and constraint data\n",
    "params[\"z̄\"] = zeros(2);\n",
    "params[\"A1\"] = Matrix(transpose([-2*params[\"z̄\"][1];1.0]))\n",
    "params[\"b1\"] = params[\"z̄\"][1]^2\n",
    "params[\"A2\"] = Matrix(transpose([0.1;1]))\n",
    "params[\"b2\"] = -0.6\n",
    "params[\"A3\"] = Matrix(transpose([1.0;0.0]))\n",
    "params[\"b3\"] = -0.85\n",
    "\n",
    "iter_max = 30; iter_conv = copy(iter_max)\n",
    "ϵ_conv = 1e-4\n",
    "params[\"wtr\"] = 10.0\n",
    "params[\"wvb\"] = 10000.0\n",
    "z_hist = [zeros(2) for k = 1:iter_max]\n",
    "μ_hist = zeros(iter_max)\n",
    "η_hist = zeros(iter_max)\n",
    "cost_hist = zeros(iter_max)\n",
    ";"
   ]
  },
  {
   "cell_type": "code",
   "execution_count": 127,
   "metadata": {},
   "outputs": [
    {
     "name": "stdout",
     "output_type": "stream",
     "text": [
      "Iteration 1 | OPTIMAL | Trust region 9.938e-01 | Virtual control 5.150e-01 | Cost: 0.515 |\n",
      "Iteration 2 | OPTIMAL | Trust region 1.159e-01 | Virtual control 5.900e-11 | Cost: 0.527 |\n",
      "Iteration 3 | OPTIMAL | Trust region 8.510e-03 | Virtual control -9.770e-11 | Cost: 0.527 |\n",
      "Iteration 4 | OPTIMAL | Trust region 4.641e-05 | Virtual control -5.027e-14 | Cost: 0.527 |\n"
     ]
    }
   ],
   "source": [
    "\n",
    "# ..:: Iterate ::..\n",
    "\n",
    "k = 1 # Iteration counter\n",
    "while true\n",
    "    \n",
    "    # Construct subproblem\n",
    "    pbm,z,η,μ = construct_subpbm(params)\n",
    "    \n",
    "    # Solve subproblem\n",
    "    exit_flag = solve!(pbm)\n",
    "   \n",
    "    # Save history of the subproblem\n",
    "    z_hist[k] .= value(z)    \n",
    "    η_hist[k] = value(η)[1]\n",
    "    μ_hist[k] = value(μ)[1]\n",
    "    cost_hist[k] = z_hist[k][2] \n",
    "\n",
    "    # Check stopping criterion\n",
    "    bool_conv = max(η_hist[k],μ_hist[k]) <= ϵ_conv\n",
    "    \n",
    "    @printf(\"Iteration %d | %s | Trust region %.3e | Virtual control %.3e | Cost: %.3f |\\n\",k,string(exit_flag),η_hist[k],μ_hist[k],cost_hist[k])\n",
    "        \n",
    "    # Stop at maximum iterations\n",
    "    if (k == iter_max) || bool_conv\n",
    "        iter_conv = k        \n",
    "        break\n",
    "    else\n",
    "    \n",
    "        # Update next reference trajectory as solution\n",
    "        params[\"z̄\"] = z_hist[k]\n",
    "\n",
    "        # Create linearized constraint values\n",
    "        params[\"A1\"] = Matrix(transpose([-2*params[\"z̄\"][1];1.0]))\n",
    "        params[\"b1\"] = params[\"z̄\"][1]^2    \n",
    "        \n",
    "        k += 1\n",
    "    end\n",
    "end\n"
   ]
  },
  {
   "cell_type": "code",
   "execution_count": 128,
   "metadata": {},
   "outputs": [
    {
     "name": "stdout",
     "output_type": "stream",
     "text": [
      "z_hist[iter_conv] = [0.726208736186539, 0.5273791263813722]\n"
     ]
    },
    {
     "data": {
      "text/plain": [
       "2-element Vector{Float64}:\n",
       " 0.726208736186539\n",
       " 0.5273791263813722"
      ]
     },
     "execution_count": 128,
     "metadata": {},
     "output_type": "execute_result"
    }
   ],
   "source": [
    "@show z_hist[iter_conv]"
   ]
  },
  {
   "cell_type": "code",
   "execution_count": null,
   "metadata": {},
   "outputs": [],
   "source": [
    "# TODO: Fill out JuMP code\n",
    "\n",
    "model = Model(ECOS.Optimizer)\n",
    "@variable(model,z[1:2])\n",
    "@const\n"
   ]
  }
 ],
 "metadata": {
  "kernelspec": {
   "display_name": "Julia 1.7.1",
   "language": "julia",
   "name": "julia-1.7"
  },
  "language_info": {
   "file_extension": ".jl",
   "mimetype": "application/julia",
   "name": "julia",
   "version": "1.7.1"
  }
 },
 "nbformat": 4,
 "nbformat_minor": 4
}
