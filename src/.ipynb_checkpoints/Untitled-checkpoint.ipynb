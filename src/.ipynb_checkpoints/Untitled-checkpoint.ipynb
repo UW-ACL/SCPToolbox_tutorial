{
 "cells": [
  {
   "cell_type": "code",
   "execution_count": 3,
   "id": "7b730534-e2f1-4c3a-b51c-0648350a014f",
   "metadata": {},
   "outputs": [],
   "source": [
    "using Pkg\n",
    "Pkg.activate(\"..\")\n",
    "using SCPToolbox\n",
    "using ECOS"
   ]
  },
  {
   "cell_type": "markdown",
   "id": "ea65405e-4318-404d-b782-00a9d794f472",
   "metadata": {},
   "source": [
    "# Variables\n",
    "\n"
   ]
  },
  {
   "cell_type": "code",
   "execution_count": 7,
   "id": "adb09100-7bfc-4872-b08c-3ec5e50e3b79",
   "metadata": {},
   "outputs": [],
   "source": [
    "opts = Dict(\"verbose\" => 0)\n",
    "pbm = ConicProgram(solver = ECOS.Optimizer, solver_options = opts)\n",
    "\n",
    "x = @new_variable(pbm, 1, \"x\");"
   ]
  },
  {
   "cell_type": "code",
   "execution_count": 8,
   "id": "0b3e9e82-a29b-4561-9c9f-91188a077cf7",
   "metadata": {},
   "outputs": [
    {
     "data": {
      "text/plain": [
       "Conic linear program\n",
       "\n",
       "  Feasibility problem\n",
       "  1 variables (1 blocks)\n",
       "  0 parameters (0 blocks)\n",
       "  0 constraints\n",
       "\n",
       "  Variable argument\n",
       "    1 elements\n",
       "    1 blocks\n",
       "     1) 1 ... x\n",
       "\n",
       "  Parameter argument\n",
       "    0 elements\n",
       "    0 blocks\n"
      ]
     },
     "execution_count": 8,
     "metadata": {},
     "output_type": "execute_result"
    }
   ],
   "source": [
    "pbm"
   ]
  },
  {
   "cell_type": "markdown",
   "id": "3c3009cf-4133-43ae-891f-bb52a2ca9884",
   "metadata": {},
   "source": [
    "# Constraints"
   ]
  },
  {
   "cell_type": "code",
   "execution_count": null,
   "id": "34e750f5-d25b-4948-bc74-45b385586266",
   "metadata": {},
   "outputs": [],
   "source": []
  }
 ],
 "metadata": {
  "kernelspec": {
   "display_name": "Julia 1.6.3",
   "language": "julia",
   "name": "julia-1.6"
  },
  "language_info": {
   "file_extension": ".jl",
   "mimetype": "application/julia",
   "name": "julia",
   "version": "1.6.3"
  }
 },
 "nbformat": 4,
 "nbformat_minor": 5
}
