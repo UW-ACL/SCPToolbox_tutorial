{
 "cells": [
  {
   "cell_type": "markdown",
   "metadata": {},
   "source": [
    "# Rocket-landing"
   ]
  },
  {
   "cell_type": "markdown",
   "metadata": {},
   "source": [
    "$$\n",
    "\\begin{aligned}\n",
    "\\min _{T,\\ \\delta} \\quad & -m_{f}\\\\\n",
    "\\text { s.t. } \\quad & \\dot{r}_{x}=v_{x}\\\\\n",
    "&\\dot{r}_{y}=v_{y}\\\\\n",
    "&\\dot{v}_{x}=-\\tfrac{T}{m} \\sin (\\theta+\\delta)\\\\\n",
    "&\\dot{v}_{y}=\\tfrac{T}{m} \\cos (\\theta+\\delta)-g\\\\\n",
    "&\\dot{\\theta}=\\omega\\\\\n",
    "&\\dot{\\omega}=\\tfrac{-(T \\sin \\delta) L}{J}\\\\\n",
    "&\\dot{m}=-\\alpha T\\\\\n",
    "&r_{y} \\geq\\left|r_{x}\\right| \\tan \\psi\\\\\n",
    "&T_{\\min } \\leq T \\leq T_{\\max }\\\\\n",
    "&-\\delta_{\\max } \\leq \\delta \\leq \\delta_{\\max }\\\\\n",
    "&r_{x_{i}}=r_{x_{\\text {init }}},\\ r_{y_{i}}=r_{y_{\\text {init }}}\\\\\n",
    "&v_{x_{i}}=v_{x_{\\text {init }}},\\ v_{y_{i}}=v_{y_{\\text {init }}}\\\\\n",
    "&\\theta_{i}=\\theta_{\\text {init }}\\\\\n",
    "&\\omega_{i}=\\omega_{\\text {init }}\\\\\n",
    "&r_{x_{f}}=r_{y_{f}}=v_{x_{f}}=v_{y_{f}}=\\theta_{f}=w_{f}=0\n",
    "\\end{aligned}\n",
    "$$"
   ]
  },
  {
   "cell_type": "markdown",
   "metadata": {},
   "source": [
    "## Symbolic computation of Jacobians"
   ]
  },
  {
   "cell_type": "code",
   "execution_count": 1,
   "metadata": {},
   "outputs": [],
   "source": [
    "import sympy as sm\n",
    "import sympy.physics.mechanics as me\n",
    "me.init_vprinting()"
   ]
  },
  {
   "cell_type": "markdown",
   "metadata": {},
   "source": [
    "### Constants"
   ]
  },
  {
   "cell_type": "code",
   "execution_count": 2,
   "metadata": {},
   "outputs": [],
   "source": [
    "L = sm.symbols('L') # lever-arm\n",
    "g = sm.symbols('g') # gravitational acceleration\n",
    "alpha = sm.symbols('alpha') # thrust-specific fuel consumption (TSFC)\n",
    "J = sm.symbols('J') # moment of inertia"
   ]
  },
  {
   "cell_type": "markdown",
   "metadata": {},
   "source": [
    "### Variables"
   ]
  },
  {
   "cell_type": "code",
   "execution_count": 3,
   "metadata": {},
   "outputs": [],
   "source": [
    "t = me.dynamicsymbols._t\n",
    "tf = me.dynamicsymbols('t_f')\n",
    "rx, ry, theta = me.dynamicsymbols('r_x, r_y, theta')\n",
    "m = me.dynamicsymbols('m')\n",
    "vx, vy, omega = me.dynamicsymbols('v_x, v_y, omega')\n",
    "T, delta = me.dynamicsymbols('T, delta')"
   ]
  },
  {
   "cell_type": "code",
   "execution_count": 4,
   "metadata": {},
   "outputs": [],
   "source": [
    "gen_coords = sm.Matrix([rx, ry, theta])\n",
    "ndof = len(gen_coords)\n",
    "gen_speeds = sm.Matrix([vx, vy, omega])\n",
    "m_ = sm.Matrix([m])"
   ]
  },
  {
   "cell_type": "code",
   "execution_count": 5,
   "metadata": {},
   "outputs": [],
   "source": [
    "# states = gen_coords.col_join(gen_speeds).col_join(m_)\n",
    "# states"
   ]
  },
  {
   "cell_type": "code",
   "execution_count": 6,
   "metadata": {},
   "outputs": [
    {
     "data": {
      "image/png": "[encoded data removed]",
      "text/latex": [
       "$\\displaystyle \\left[\\begin{matrix}r_{x}\\\\r_{y}\\\\v_{x}\\\\v_{y}\\\\\\theta\\\\\\omega\\\\m\\end{matrix}\\right]$"
      ],
      "text/plain": [
       "⎡rₓ ⎤\n",
       "⎢   ⎥\n",
       "⎢r_y⎥\n",
       "⎢   ⎥\n",
       "⎢vₓ ⎥\n",
       "⎢   ⎥\n",
       "⎢v_y⎥\n",
       "⎢   ⎥\n",
       "⎢ θ ⎥\n",
       "⎢   ⎥\n",
       "⎢ ω ⎥\n",
       "⎢   ⎥\n",
       "⎣ m ⎦"
      ]
     },
     "execution_count": 6,
     "metadata": {},
     "output_type": "execute_result"
    }
   ],
   "source": [
    "states = sm.Matrix([rx, ry, vx, vy, theta, omega, m])\n",
    "states"
   ]
  },
  {
   "cell_type": "code",
   "execution_count": 7,
   "metadata": {},
   "outputs": [
    {
     "data": {
      "image/png": "[encoded data removed]",
      "text/latex": [
       "$\\displaystyle \\left[\\begin{matrix}T\\\\\\delta\\end{matrix}\\right]$"
      ],
      "text/plain": [
       "⎡T⎤\n",
       "⎢ ⎥\n",
       "⎣δ⎦"
      ]
     },
     "execution_count": 7,
     "metadata": {},
     "output_type": "execute_result"
    }
   ],
   "source": [
    "controls = sm.Matrix([T, delta])\n",
    "controls"
   ]
  },
  {
   "cell_type": "markdown",
   "metadata": {},
   "source": [
    "### Kinematics"
   ]
  },
  {
   "cell_type": "markdown",
   "metadata": {},
   "source": [
    "#### LHS"
   ]
  },
  {
   "cell_type": "code",
   "execution_count": 8,
   "metadata": {},
   "outputs": [
    {
     "data": {
      "image/png": "[encoded data removed]",
      "text/latex": [
       "$\\displaystyle \\left[\\begin{matrix}\\dot{r}_{x}\\\\\\dot{r}_{y}\\\\\\dot{\\theta}\\end{matrix}\\right]$"
      ],
      "text/plain": [
       "⎡rₓ̇ ⎤\n",
       "⎢   ⎥\n",
       "⎢r_̇y⎥\n",
       "⎢   ⎥\n",
       "⎣ θ̇ ⎦"
      ]
     },
     "execution_count": 8,
     "metadata": {},
     "output_type": "execute_result"
    }
   ],
   "source": [
    "gen_coords.diff()"
   ]
  },
  {
   "cell_type": "markdown",
   "metadata": {},
   "source": [
    "#### RHS"
   ]
  },
  {
   "cell_type": "code",
   "execution_count": 9,
   "metadata": {},
   "outputs": [
    {
     "data": {
      "image/png": "[encoded data removed]",
      "text/latex": [
       "$\\displaystyle \\left[\\begin{matrix}v_{x}\\\\v_{y}\\\\\\omega\\end{matrix}\\right]$"
      ],
      "text/plain": [
       "⎡vₓ ⎤\n",
       "⎢   ⎥\n",
       "⎢v_y⎥\n",
       "⎢   ⎥\n",
       "⎣ ω ⎦"
      ]
     },
     "execution_count": 9,
     "metadata": {},
     "output_type": "execute_result"
    }
   ],
   "source": [
    "gen_speeds"
   ]
  },
  {
   "cell_type": "markdown",
   "metadata": {},
   "source": [
    "### Dynamics"
   ]
  },
  {
   "cell_type": "markdown",
   "metadata": {},
   "source": [
    "#### LHS"
   ]
  },
  {
   "cell_type": "code",
   "execution_count": 10,
   "metadata": {},
   "outputs": [
    {
     "data": {
      "image/png": "[encoded data removed]",
      "text/latex": [
       "$\\displaystyle \\left[\\begin{matrix}\\dot{v}_{x}\\\\\\dot{v}_{y}\\\\\\dot{\\omega}\\end{matrix}\\right]$"
      ],
      "text/plain": [
       "⎡vₓ̇ ⎤\n",
       "⎢   ⎥\n",
       "⎢v_̇y⎥\n",
       "⎢   ⎥\n",
       "⎣ ω̇ ⎦"
      ]
     },
     "execution_count": 10,
     "metadata": {},
     "output_type": "execute_result"
    }
   ],
   "source": [
    "gen_speeds.diff()"
   ]
  },
  {
   "cell_type": "markdown",
   "metadata": {},
   "source": [
    "#### RHS"
   ]
  },
  {
   "cell_type": "code",
   "execution_count": 11,
   "metadata": {},
   "outputs": [
    {
     "data": {
      "image/png": "[encoded data removed]",
      "text/latex": [
       "$\\displaystyle \\left[\\begin{matrix}- \\frac{T \\sin{\\left(\\delta + \\theta \\right)}}{m}\\\\- g + \\frac{T \\cos{\\left(\\delta + \\theta \\right)}}{m}\\\\- \\frac{L T \\sin{\\left(\\delta \\right)}}{J}\\end{matrix}\\right]$"
      ],
      "text/plain": [
       "⎡ -T⋅sin(δ + θ)   ⎤\n",
       "⎢ ──────────────  ⎥\n",
       "⎢       m         ⎥\n",
       "⎢                 ⎥\n",
       "⎢     T⋅cos(δ + θ)⎥\n",
       "⎢-g + ────────────⎥\n",
       "⎢          m      ⎥\n",
       "⎢                 ⎥\n",
       "⎢  -L⋅T⋅sin(δ)    ⎥\n",
       "⎢  ────────────   ⎥\n",
       "⎣       J         ⎦"
      ]
     },
     "execution_count": 11,
     "metadata": {},
     "output_type": "execute_result"
    }
   ],
   "source": [
    "vx_dot = -(T/m) * sm.sin(theta + delta)\n",
    "vy_dot = (T/m) * sm.cos(theta + delta) - g\n",
    "omega_dot = -(T * sm.sin(delta) * L)/J\n",
    "f_ = sm.Matrix([vx_dot, vy_dot, omega_dot])\n",
    "f_"
   ]
  },
  {
   "cell_type": "code",
   "execution_count": 12,
   "metadata": {},
   "outputs": [],
   "source": [
    "f_ = sm.Matrix([vx, vy, vx_dot, vy_dot, omega, omega_dot])"
   ]
  },
  {
   "cell_type": "markdown",
   "metadata": {},
   "source": [
    "#### Mass-depletion"
   ]
  },
  {
   "cell_type": "markdown",
   "metadata": {},
   "source": [
    "#### LHS"
   ]
  },
  {
   "cell_type": "code",
   "execution_count": 13,
   "metadata": {},
   "outputs": [
    {
     "data": {
      "image/png": "[encoded data removed]",
      "text/latex": [
       "$\\displaystyle \\dot{m}$"
      ],
      "text/plain": [
       "ṁ"
      ]
     },
     "execution_count": 13,
     "metadata": {},
     "output_type": "execute_result"
    }
   ],
   "source": [
    "m.diff()"
   ]
  },
  {
   "cell_type": "markdown",
   "metadata": {},
   "source": [
    "#### RHS"
   ]
  },
  {
   "cell_type": "code",
   "execution_count": 14,
   "metadata": {},
   "outputs": [
    {
     "data": {
      "image/png": "[encoded data removed]",
      "text/latex": [
       "$\\displaystyle - \\alpha T$"
      ],
      "text/plain": [
       "-α⋅T"
      ]
     },
     "execution_count": 14,
     "metadata": {},
     "output_type": "execute_result"
    }
   ],
   "source": [
    "m_dot = -alpha*T\n",
    "m_dot"
   ]
  },
  {
   "cell_type": "markdown",
   "metadata": {},
   "source": [
    "### ODE RHS"
   ]
  },
  {
   "cell_type": "markdown",
   "metadata": {},
   "source": [
    "$$\\dot{x}(t) = \\color{#009670}{f(t, x, u, p)}$$"
   ]
  },
  {
   "cell_type": "code",
   "execution_count": 19,
   "metadata": {},
   "outputs": [
    {
     "data": {
      "text/plain": [
       "'\\\\left[\\\\begin{matrix}\\\\operatorname{t_{f}}{\\\\left(t \\\\right)} \\\\operatorname{v_{x}}{\\\\left(t \\\\right)}\\\\\\\\\\\\operatorname{t_{f}}{\\\\left(t \\\\right)} \\\\operatorname{v_{y}}{\\\\left(t \\\\right)}\\\\\\\\- \\\\frac{T{\\\\left(t \\\\right)} \\\\operatorname{t_{f}}{\\\\left(t \\\\right)} \\\\sin{\\\\left(\\\\delta{\\\\left(t \\\\right)} + \\\\theta{\\\\left(t \\\\right)} \\\\right)}}{m{\\\\left(t \\\\right)}}\\\\\\\\\\\\left(- g + \\\\frac{T{\\\\left(t \\\\right)} \\\\cos{\\\\left(\\\\delta{\\\\left(t \\\\right)} + \\\\theta{\\\\left(t \\\\right)} \\\\right)}}{m{\\\\left(t \\\\right)}}\\\\right) \\\\operatorname{t_{f}}{\\\\left(t \\\\right)}\\\\\\\\\\\\omega{\\\\left(t \\\\right)} \\\\operatorname{t_{f}}{\\\\left(t \\\\right)}\\\\\\\\- \\\\frac{L T{\\\\left(t \\\\right)} \\\\operatorname{t_{f}}{\\\\left(t \\\\right)} \\\\sin{\\\\left(\\\\delta{\\\\left(t \\\\right)} \\\\right)}}{J}\\\\\\\\- \\\\alpha T{\\\\left(t \\\\right)} \\\\operatorname{t_{f}}{\\\\left(t \\\\right)}\\\\end{matrix}\\\\right]'"
      ]
     },
     "execution_count": 19,
     "metadata": {},
     "output_type": "execute_result"
    }
   ],
   "source": [
    "# f = tf*gen_speeds.col_join(f_).col_join(sm.Matrix([m_dot]))\n",
    "f = tf*f_.col_join(sm.Matrix([m_dot]))\n",
    "sm.latex(f)"
   ]
  },
  {
   "cell_type": "markdown",
   "metadata": {},
   "source": [
    "### Jacobians"
   ]
  },
  {
   "cell_type": "code",
   "execution_count": 20,
   "metadata": {},
   "outputs": [
    {
     "name": "stdout",
     "output_type": "stream",
     "text": [
      "\\left[\\begin{matrix}0 & 0 & \\operatorname{t_{f}}{\\left(t \\right)} & 0 & 0 & 0 & 0\\\\0 & 0 & 0 & \\operatorname{t_{f}}{\\left(t \\right)} & 0 & 0 & 0\\\\0 & 0 & 0 & 0 & - \\frac{T{\\left(t \\right)} \\operatorname{t_{f}}{\\left(t \\right)} \\cos{\\left(\\delta{\\left(t \\right)} + \\theta{\\left(t \\right)} \\right)}}{m{\\left(t \\right)}} & 0 & \\frac{T{\\left(t \\right)} \\operatorname{t_{f}}{\\left(t \\right)} \\sin{\\left(\\delta{\\left(t \\right)} + \\theta{\\left(t \\right)} \\right)}}{m^{2}{\\left(t \\right)}}\\\\0 & 0 & 0 & 0 & - \\frac{T{\\left(t \\right)} \\operatorname{t_{f}}{\\left(t \\right)} \\sin{\\left(\\delta{\\left(t \\right)} + \\theta{\\left(t \\right)} \\right)}}{m{\\left(t \\right)}} & 0 & - \\frac{T{\\left(t \\right)} \\operatorname{t_{f}}{\\left(t \\right)} \\cos{\\left(\\delta{\\left(t \\right)} + \\theta{\\left(t \\right)} \\right)}}{m^{2}{\\left(t \\right)}}\\\\0 & 0 & 0 & 0 & 0 & \\operatorname{t_{f}}{\\left(t \\right)} & 0\\\\0 & 0 & 0 & 0 & 0 & 0 & 0\\\\0 & 0 & 0 & 0 & 0 & 0 & 0\\end{matrix}\\right]\n"
     ]
    }
   ],
   "source": [
    "A = f.jacobian(states)\n",
    "print(sm.latex(A))"
   ]
  },
  {
   "cell_type": "code",
   "execution_count": 17,
   "metadata": {},
   "outputs": [
    {
     "data": {
      "image/png": "[encoded data removed]",
      "text/latex": [
       "$\\displaystyle \\left[\\begin{matrix}0 & 0\\\\0 & 0\\\\- \\frac{t_{f} \\sin{\\left(\\delta + \\theta \\right)}}{m} & - \\frac{T t_{f} \\cos{\\left(\\delta + \\theta \\right)}}{m}\\\\\\frac{t_{f} \\cos{\\left(\\delta + \\theta \\right)}}{m} & - \\frac{T t_{f} \\sin{\\left(\\delta + \\theta \\right)}}{m}\\\\0 & 0\\\\- \\frac{L t_{f} \\sin{\\left(\\delta \\right)}}{J} & - \\frac{L T t_{f} \\cos{\\left(\\delta \\right)}}{J}\\\\- \\alpha t_{f} & 0\\end{matrix}\\right]$"
      ],
      "text/plain": [
       "⎡       0                  0         ⎤\n",
       "⎢                                    ⎥\n",
       "⎢       0                  0         ⎥\n",
       "⎢                                    ⎥\n",
       "⎢-t_f⋅sin(δ + θ)   -T⋅t_f⋅cos(δ + θ) ⎥\n",
       "⎢────────────────  ──────────────────⎥\n",
       "⎢       m                  m         ⎥\n",
       "⎢                                    ⎥\n",
       "⎢ t_f⋅cos(δ + θ)   -T⋅t_f⋅sin(δ + θ) ⎥\n",
       "⎢ ──────────────   ──────────────────⎥\n",
       "⎢       m                  m         ⎥\n",
       "⎢                                    ⎥\n",
       "⎢       0                  0         ⎥\n",
       "⎢                                    ⎥\n",
       "⎢ -L⋅t_f⋅sin(δ)     -L⋅T⋅t_f⋅cos(δ)  ⎥\n",
       "⎢ ──────────────    ──────────────── ⎥\n",
       "⎢       J                  J         ⎥\n",
       "⎢                                    ⎥\n",
       "⎣     -α⋅t_f               0         ⎦"
      ]
     },
     "execution_count": 17,
     "metadata": {},
     "output_type": "execute_result"
    }
   ],
   "source": [
    "B = f.jacobian(controls)\n",
    "B"
   ]
  }
 ],
 "metadata": {
  "kernelspec": {
   "display_name": "research_kernel",
   "language": "python",
   "name": "research_kernel"
  },
  "language_info": {
   "codemirror_mode": {
    "name": "ipython",
    "version": 3
   },
   "file_extension": ".py",
   "mimetype": "text/x-python",
   "name": "python",
   "nbconvert_exporter": "python",
   "pygments_lexer": "ipython3",
   "version": "3.8.5"
  }
 },
 "nbformat": 4,
 "nbformat_minor": 4
}
