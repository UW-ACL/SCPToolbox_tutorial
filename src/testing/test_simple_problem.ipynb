{
 "cells": [
  {
   "cell_type": "code",
   "execution_count": 13,
   "id": "9d39e28c-380c-48b8-ae9a-9f845f533457",
   "metadata": {},
   "outputs": [
    {
     "name": "stderr",
     "output_type": "stream",
     "text": [
      "\u001b[32m\u001b[1m  Activating\u001b[22m\u001b[39m project at `~/Documents/SCPToolbox_tutorial`\n",
      "\u001b[32m\u001b[1m   Resolving\u001b[22m\u001b[39m package versions...\n",
      "\u001b[32m\u001b[1m  No Changes\u001b[22m\u001b[39m to `~/Documents/SCPToolbox_tutorial/Project.toml`\n",
      "\u001b[32m\u001b[1m  No Changes\u001b[22m\u001b[39m to `~/Documents/SCPToolbox_tutorial/Manifest.toml`\n"
     ]
    }
   ],
   "source": [
    "import Pkg\n",
    "Pkg.activate(\"..\")\n",
    "\n",
    "# these lines are required only for local installations\n",
    "Pkg.develop(path=\"../../scp_traj_opt/\")\n",
    "Pkg.precompile()\n",
    "\n",
    "using SCPToolbox\n",
    "using ECOS\n",
    "using OSQP\n",
    "using SCS\n",
    "using Ipopt"
   ]
  },
  {
   "cell_type": "code",
   "execution_count": 15,
   "id": "6221fae1-a418-48dd-b49c-de5ffbfa81ef",
   "metadata": {},
   "outputs": [
    {
     "name": "stdout",
     "output_type": "stream",
     "text": [
      "This is Ipopt version 3.13.4, running with linear solver mumps.\n",
      "NOTE: Other linear solvers might be more efficient (see Ipopt documentation).\n",
      "\n",
      "Number of nonzeros in equality constraint Jacobian...:        0\n",
      "Number of nonzeros in inequality constraint Jacobian.:        0\n",
      "Number of nonzeros in Lagrangian Hessian.............:        3\n",
      "\n",
      "Total number of variables............................:        2\n",
      "                     variables with only lower bounds:        0\n",
      "                variables with lower and upper bounds:        0\n",
      "                     variables with only upper bounds:        0\n",
      "Total number of equality constraints.................:        0\n",
      "Total number of inequality constraints...............:        0\n",
      "        inequality constraints with only lower bounds:        0\n",
      "   inequality constraints with lower and upper bounds:        0\n",
      "        inequality constraints with only upper bounds:        0\n",
      "\n",
      "iter    objective    inf_pr   inf_du lg(mu)  ||d||  lg(rg) alpha_du alpha_pr  ls\n",
      "   0  4.6000000e+01 0.00e+00 1.00e+02  -1.0 0.00e+00    -  0.00e+00 0.00e+00   0\n",
      "   1  1.1776896e+01 0.00e+00 1.09e-14  -1.0 3.88e-01    -  1.00e+00 1.00e+00f  1\n",
      "\n",
      "Number of Iterations....: 1\n",
      "\n",
      "                                   (scaled)                 (unscaled)\n",
      "Objective...............:   4.4984324039943013e+00    1.1776896033657081e+01\n",
      "Dual infeasibility......:   1.0856267926051950e-14    2.8421709430404007e-14\n",
      "Constraint violation....:   0.0000000000000000e+00    0.0000000000000000e+00\n",
      "Complementarity.........:   0.0000000000000000e+00    0.0000000000000000e+00\n",
      "Overall NLP error.......:   1.0856267926051950e-14    2.8421709430404007e-14\n",
      "\n",
      "\n",
      "Number of objective function evaluations             = 2\n",
      "Number of objective gradient evaluations             = 2\n",
      "Number of equality constraint evaluations            = 0\n",
      "Number of inequality constraint evaluations          = 0\n",
      "Number of equality constraint Jacobian evaluations   = 0\n",
      "Number of inequality constraint Jacobian evaluations = 0\n",
      "Number of Lagrangian Hessian evaluations             = 1\n",
      "Total CPU secs in IPOPT (w/o function evaluations)   =      0.001\n",
      "Total CPU secs in NLP function evaluations           =      0.000\n",
      "\n",
      "EXIT: Optimal Solution Found.\n",
      "exit_status = MathOptInterface.LOCALLY_SOLVED\n",
      "value(x) = [-0.3127765906077214, 0.38808451694845036]\n"
     ]
    }
   ],
   "source": [
    "# least squares problem\n",
    "A = [1 3 ; 7 20 ; 8 9.9 ; 3 4.5]\n",
    "b = [4;5;1;2]\n",
    "\n",
    "pbm = ConicProgram(solver = Ipopt.Optimizer)\n",
    "x = @new_variable(pbm,2,\"x\")\n",
    "@add_cost(pbm,(x,),\n",
    "    begin\n",
    "        x, = arg\n",
    "        sum((A*x .- b) .^ 2)\n",
    "    end\n",
    ")\n",
    "exit_status = solve!(pbm)\n",
    "@show exit_status\n",
    "@show value(x)\n",
    ";"
   ]
  },
  {
   "cell_type": "code",
   "execution_count": 17,
   "id": "55526f33-20d3-4d0f-a726-1b7c08d8b4f7",
   "metadata": {},
   "outputs": [
    {
     "name": "stdout",
     "output_type": "stream",
     "text": [
      "This is Ipopt version 3.13.4, running with linear solver mumps.\n",
      "NOTE: Other linear solvers might be more efficient (see Ipopt documentation).\n",
      "\n",
      "Number of nonzeros in equality constraint Jacobian...:        8\n",
      "Number of nonzeros in inequality constraint Jacobian.:        0\n",
      "Number of nonzeros in Lagrangian Hessian.............:        4\n",
      "\n",
      "Total number of variables............................:        4\n",
      "                     variables with only lower bounds:        0\n",
      "                variables with lower and upper bounds:        0\n",
      "                     variables with only upper bounds:        0\n",
      "Total number of equality constraints.................:        2\n",
      "Total number of inequality constraints...............:        0\n",
      "        inequality constraints with only lower bounds:        0\n",
      "   inequality constraints with lower and upper bounds:        0\n",
      "        inequality constraints with only upper bounds:        0\n",
      "\n",
      "iter    objective    inf_pr   inf_du lg(mu)  ||d||  lg(rg) alpha_du alpha_pr  ls\n",
      "   0  0.0000000e+00 5.00e+00 0.00e+00  -1.0 0.00e+00    -  0.00e+00 0.00e+00   0\n",
      "   1  2.2403207e-01 8.88e-16 3.52e-16  -1.0 4.52e-01    -  1.00e+00 1.00e+00h  1\n",
      "\n",
      "Number of Iterations....: 1\n",
      "\n",
      "                                   (scaled)                 (unscaled)\n",
      "Objective...............:   2.2403207402492223e-01    2.2403207402492223e-01\n",
      "Dual infeasibility......:   3.5214886562329184e-16    3.5214886562329184e-16\n",
      "Constraint violation....:   8.8817841970012523e-16    8.8817841970012523e-16\n",
      "Complementarity.........:   0.0000000000000000e+00    0.0000000000000000e+00\n",
      "Overall NLP error.......:   8.8817841970012523e-16    8.8817841970012523e-16\n",
      "\n",
      "\n",
      "Number of objective function evaluations             = 2\n",
      "Number of objective gradient evaluations             = 2\n",
      "Number of equality constraint evaluations            = 2\n",
      "Number of inequality constraint evaluations          = 0\n",
      "Number of equality constraint Jacobian evaluations   = 1\n",
      "Number of inequality constraint Jacobian evaluations = 0\n",
      "Number of Lagrangian Hessian evaluations             = 1\n",
      "Total CPU secs in IPOPT (w/o function evaluations)   =      0.001\n",
      "Total CPU secs in NLP function evaluations           =      0.000\n",
      "\n",
      "EXIT: Optimal Solution Found.\n",
      "exit_status = MathOptInterface.LOCALLY_SOLVED\n",
      "value(x) = [-0.005684793982678869, -0.004540522170803983, 0.45158945162063935, 0.14158427873773052]\n"
     ]
    }
   ],
   "source": [
    "# least norm problem\n",
    "A = transpose([1 3 ; 7 20 ; 8 9.9 ; 3 4.5])\n",
    "b = [4;5]\n",
    "\n",
    "pbm = ConicProgram(solver = Ipopt.Optimizer)\n",
    "x = @new_variable(pbm,4,\"x\")\n",
    "@add_constraint(pbm,ZERO,(x,),(x,) -> A*x.-b)\n",
    "@add_cost(pbm,(x,),\n",
    "    begin\n",
    "        x, = arg\n",
    "        sum(x .^ 2)\n",
    "    end\n",
    ")\n",
    "exit_status = solve!(pbm)\n",
    "@show exit_status\n",
    "@show value(x)\n",
    ";"
   ]
  }
 ],
 "metadata": {
  "kernelspec": {
   "display_name": "Julia 1.7.1",
   "language": "julia",
   "name": "julia-1.7"
  },
  "language_info": {
   "file_extension": ".jl",
   "mimetype": "application/julia",
   "name": "julia",
   "version": "1.7.1"
  }
 },
 "nbformat": 4,
 "nbformat_minor": 5
}
