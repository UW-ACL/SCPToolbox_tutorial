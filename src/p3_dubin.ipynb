{
 "cells": [
  {
   "cell_type": "code",
   "execution_count": 16,
   "id": "d5f2fc15-4ce7-4c45-9dda-dd1aca76f4ae",
   "metadata": {},
   "outputs": [
    {
     "name": "stderr",
     "output_type": "stream",
     "text": [
      "\u001b[32m\u001b[1m  Activating\u001b[22m\u001b[39m project at `~/Documents/SCPToolbox_tutorial`\n",
      "\u001b[32m\u001b[1m   Resolving\u001b[22m\u001b[39m package versions...\n",
      "\u001b[32m\u001b[1m  No Changes\u001b[22m\u001b[39m to `~/Documents/SCPToolbox_tutorial/Project.toml`\n",
      "\u001b[32m\u001b[1m  No Changes\u001b[22m\u001b[39m to `~/Documents/SCPToolbox_tutorial/Manifest.toml`\n"
     ]
    }
   ],
   "source": [
    "import Pkg\n",
    "Pkg.activate(\"..\")\n",
    "\n",
    "# these lines are required only for local installations\n",
    "Pkg.develop(path=\"../../scp_traj_opt/\")\n",
    "Pkg.precompile()\n",
    "\n",
    "using SCPToolbox\n",
    "using LinearAlgebra\n",
    "using COSMO\n",
    "using ECOS"
   ]
  },
  {
   "cell_type": "code",
   "execution_count": 15,
   "id": "e4c73e8f-7ced-4b9e-9db3-fc6621b31b87",
   "metadata": {},
   "outputs": [
    {
     "data": {
      "text/plain": [
       "SCPToolbox.Solvers.PTR"
      ]
     },
     "execution_count": 15,
     "metadata": {},
     "output_type": "execute_result"
    }
   ],
   "source": [
    "PTR"
   ]
  },
  {
   "cell_type": "code",
   "execution_count": 27,
   "id": "8374ff0e-f739-41c4-8ef5-c7a29c9118f2",
   "metadata": {},
   "outputs": [
    {
     "ename": "LoadError",
     "evalue": "UndefVarError: solve not defined",
     "output_type": "error",
     "traceback": [
      "UndefVarError: solve not defined",
      "",
      "Stacktrace:",
      " [1] top-level scope",
      "   @ In[27]:79",
      " [2] eval",
      "   @ ./boot.jl:373 [inlined]",
      " [3] include_string(mapexpr::typeof(REPL.softscope), mod::Module, code::String, filename::String)",
      "   @ Base ./loading.jl:1196"
     ]
    }
   ],
   "source": [
    "_ro = 0.35\n",
    "_co = [-0.1; 1]\n",
    "_carl, _carw = 0.2, 0.1\n",
    "\n",
    "# Define the problem\n",
    "pbm = TrajectoryProblem(nothing)\n",
    "problem_set_dims!(pbm, 3, 2, 1)\n",
    "# Initial guess\n",
    "_x0 = [0; 0; 0] # Initial state\n",
    "_xf = [0; 2; 0] # Terminal state\n",
    "problem_set_guess!(\n",
    "    pbm, (N, pbm) -> begin\n",
    "        x = straightline_interpolate(_x0, _xf, N)\n",
    "        idle = zeros(pbm.nu)\n",
    "        u = straightline_interpolate(idle, idle, N)\n",
    "        p = zeros(pbm.np)\n",
    "        return x, u, p\n",
    "    end)\n",
    "# Cost function\n",
    "problem_set_running_cost!(\n",
    "    pbm, :ptr, (t, k, x, u, p, pbm) -> u'*u)\n",
    "# Dynamics\n",
    "_tf = 3\n",
    "problem_set_dynamics!(\n",
    "    pbm,\n",
    "    # f\n",
    "    (t, k, x, u, p, pbm) ->\n",
    "        [u[1]*sin(x[3]);\n",
    "         u[1]*cos(x[3]);\n",
    "         u[2]]*_tf,\n",
    "    # df/dx\n",
    "    (t, k, x, u, p, pbm) ->\n",
    "        [0 0 u[1]*cos(x[3]);\n",
    "         0 0 -u[1]*sin(x[3]);\n",
    "         0 0 0]*_tf,\n",
    "    # df/du\n",
    "    (t, k, x, u, p, pbm) ->\n",
    "        [sin(x[3]) 0;\n",
    "         cos(x[3]) 0;\n",
    "         0 1]*_tf,\n",
    "    # df/dp\n",
    "    (t, k, x, u, p, pbm) ->\n",
    "        zeros(pbm.nx, pbm.np))\n",
    "# Obstacle constraint\n",
    "problem_set_s!(\n",
    "    pbm, :ptr,\n",
    "    # s\n",
    "    (t, k, x, u, p, pbm) -> [(_ro+_carw/2)^2-(x[1]-_co[1])^2-(x[2]-_co[2])^2],\n",
    "    # ds/dx\n",
    "    (t, k, x, u, p, pbm) -> collect([-2*(x[1]-_co[1]); -2*(x[2]-_co[2]); 0]'),\n",
    "    # ds/du\n",
    "    (t, k, x, u, p, pbm) -> zeros(1, pbm.nu),\n",
    "    # ds/dp\n",
    "    (t, k, x, u, p, pbm) -> zeros(1, pbm.np))\n",
    "# Boundary conditions\n",
    "problem_set_bc!(\n",
    "    pbm, :ic, # Initial condition\n",
    "    (x, p, pbm) -> x-_x0,\n",
    "    (x, p, pbm) -> I(pbm.nx))\n",
    "problem_set_bc!(\n",
    "    pbm, :tc,  # Terminal condition\n",
    "    (x, p, pbm) -> x-_xf,\n",
    "    (x, p, pbm) -> I(pbm.nx))\n",
    "# Define the SCP algorithm parameters\n",
    "N, Nsub = 11, 10\n",
    "iter_max = 30\n",
    "disc_method = FOH\n",
    "wvc, wtr = 1e3, 1e0\n",
    "feas_tol = 5e-3\n",
    "ε_abs, ε_rel = 1e-5, 1e-3\n",
    "q_tr = Inf\n",
    "q_exit = Inf\n",
    "solver, options = ECOS, Dict(\"verbose\"=>0)\n",
    "pars = PTR.Parameters(\n",
    "    N, Nsub, iter_max, disc_method, wvc, wtr, ε_abs,\n",
    "    ε_rel, feas_tol, q_tr, q_exit, solver, options)\n",
    "# Create and solve the problem\n",
    "ptr_pbm = PTR.create(pars, pbm)\n",
    "sol, history = solve(ptr_pbm);"
   ]
  }
 ],
 "metadata": {
  "kernelspec": {
   "display_name": "Julia 1.7.1",
   "language": "julia",
   "name": "julia-1.7"
  },
  "language_info": {
   "file_extension": ".jl",
   "mimetype": "application/julia",
   "name": "julia",
   "version": "1.7.1"
  }
 },
 "nbformat": 4,
 "nbformat_minor": 5
}
