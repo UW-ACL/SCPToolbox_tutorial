{
 "cells": [
  {
   "cell_type": "markdown",
   "id": "70ca10d7",
   "metadata": {
    "slideshow": {
     "slide_type": "slide"
    },
    "tags": []
   },
   "source": [
    "# SCP Toolbox Workshop\n",
    "\n",
    "___A tutorial on generating dynamically feasible trajectories reliably and efficiently___\n",
    "\n",
    "Monday, February 7, 2022\n",
    "\n",
    "Rocky Mountain AAS GN&C Conference, Breckenridge, CO\n",
    "\n",
    "<h2 style=\"color: black;\">\n",
    "    <span style=\"background-color: #ECBE7B; padding: 1px;\">&ensp;Part 3: Dubin's Car Trajectory Optimization&ensp;</span>\n",
    "</h2>"
   ]
  },
  {
   "cell_type": "code",
   "execution_count": 1,
   "id": "ca48f023",
   "metadata": {
    "slideshow": {
     "slide_type": "skip"
    },
    "tags": []
   },
   "outputs": [
    {
     "name": "stderr",
     "output_type": "stream",
     "text": [
      "\u001b[32m\u001b[1m  Activating\u001b[22m\u001b[39m project at `~/GitHub/SCPToolbox_tutorial`\n"
     ]
    }
   ],
   "source": [
    "import Pkg\n",
    "Pkg.activate(\"..\")\n",
    "\n",
    "## these lines are required for local installations\n",
    "# Pkg.develop(path=\"../../SCPToolbox.jl/\")\n",
    "# Pkg.precompile()\n",
    "\n",
    "using SCPToolbox\n",
    "using PyPlot, Colors, LinearAlgebra\n",
    "\n",
    "using ECOS"
   ]
  },
  {
   "cell_type": "markdown",
   "id": "6bd3b143",
   "metadata": {
    "slideshow": {
     "slide_type": "slide"
    },
    "tags": []
   },
   "source": [
    "Solve the following trajectory generation problem:\n",
    "\n",
    "<center>\n",
    "    <img src=\"media/p3-dubin-car-overview.png\" width=\"350px\"/>\n",
    "    <br />\n",
    "    <b>Figure.</b> Setup for Dubin's car trajectory optimization.\n",
    "    <br />\n",
    "    <br />\n",
    "</center>"
   ]
  },
  {
   "cell_type": "markdown",
   "id": "dbabe733",
   "metadata": {
    "slideshow": {
     "slide_type": "skip"
    },
    "tags": []
   },
   "source": [
    "* Begin at an initial state\n",
    "* Travel to the target state\n",
    "* Avoid a circular obstacle in the way of a straight path\n",
    "* Subject to Dubin's car dynamics (aka equations of motion)"
   ]
  },
  {
   "cell_type": "markdown",
   "id": "f6511c24",
   "metadata": {
    "slideshow": {
     "slide_type": "slide"
    },
    "tags": []
   },
   "source": [
    "## SCP Algorithm Overview"
   ]
  },
  {
   "cell_type": "markdown",
   "id": "a9de9a7d",
   "metadata": {
    "slideshow": {
     "slide_type": "fragment"
    },
    "tags": []
   },
   "source": [
    "<center>\n",
    "    <br />\n",
    "    <img src=\"media/p3-scp-diag3.png\" width=\"750\"/>\n",
    "    <br />\n",
    "    <b>Figure.</b> A high-level overview of SCP algorithms for trajectory optimization problems.\n",
    "    <br />\n",
    "</center>"
   ]
  },
  {
   "cell_type": "markdown",
   "id": "c7edbbb1",
   "metadata": {
    "slideshow": {
     "slide_type": "slide"
    },
    "tags": []
   },
   "source": [
    "The toolbox provides an API for passing the dynamics, constraints, and other parameters of a trajectory peoblm into an internal format that SCP algorithms are programmed to operate on.\n",
    "\n",
    "Any trajectory optimization problem using the toolbox begin by initialize a `TrajectoryProblem` object."
   ]
  },
  {
   "cell_type": "code",
   "execution_count": 2,
   "id": "ccaa6e36",
   "metadata": {
    "slideshow": {
     "slide_type": "fragment"
    },
    "tags": []
   },
   "outputs": [],
   "source": [
    "pbm = TrajectoryProblem();"
   ]
  },
  {
   "cell_type": "markdown",
   "id": "63f2b202",
   "metadata": {
    "slideshow": {
     "slide_type": "fragment"
    },
    "tags": []
   },
   "source": [
    "All subsequent toolbox API calls will reference `pbm`, modifying its internals using the particulars of your trajectory problem."
   ]
  },
  {
   "cell_type": "markdown",
   "id": "914e64aa",
   "metadata": {
    "slideshow": {
     "slide_type": "slide"
    },
    "tags": []
   },
   "source": [
    "## Dubin's Car Dynamics"
   ]
  },
  {
   "cell_type": "markdown",
   "id": "05339fbd",
   "metadata": {
    "slideshow": {
     "slide_type": "fragment"
    },
    "tags": []
   },
   "source": [
    "In general, the dynamics of any nonlinear system are given by:\n",
    "\n",
    "$$\n",
    "\\dot x(t) = f( t, x(t), u(t), p )\n",
    "$$\n",
    "\n",
    "* $t\\in \\mathbb R$: time;\n",
    "* $x(t)\\in \\mathbb R^n$: state vector;\n",
    "* $u(t)\\in \\mathbb R^m$: input vector (the things that we can decide on);\n",
    "* $p\\in \\mathbb R^d$: \"parameter\" vector (problem specific);"
   ]
  },
  {
   "cell_type": "markdown",
   "id": "28e3beda",
   "metadata": {
    "slideshow": {
     "slide_type": "slide"
    },
    "tags": []
   },
   "source": [
    "### Normalizing time"
   ]
  },
  {
   "cell_type": "markdown",
   "id": "8a98c121",
   "metadata": {
    "slideshow": {
     "slide_type": "fragment"
    },
    "tags": []
   },
   "source": [
    "The toolbox assumes that time is normalized: $t\\in [0,1]$. Consider a system whose dynamics are:\n",
    "\n",
    "$$\n",
    "\\dot x(\\tau) = \\tilde f( \\tau, x(\\tau), u(\\tau)),\n",
    "$$\n",
    "\n",
    "where $\\tau\\in [0, t_f]$ is our regular \"wall clock\" time. Then:\n",
    "\n",
    "$$\n",
    "\\tau = t_f \\cdot t.\n",
    "$$\n",
    "\n",
    "This transformation lets us re-write the dynamics in normalized time:\n",
    "\n",
    "$$\n",
    "\\frac{dx}{dt} = t_f \\tilde f(t, x, u) \\equiv f(t, x, u, p),\n",
    "$$\n",
    "\n",
    "where $p=t_f$ and $f=p\\cdot\\tilde f$."
   ]
  },
  {
   "cell_type": "markdown",
   "id": "58d70f9e",
   "metadata": {
    "slideshow": {
     "slide_type": "slide"
    },
    "tags": []
   },
   "source": [
    "For Dubin's car:\n",
    "\n",
    "<center>\n",
    "    <img src=\"media/p3-dubin-car-dynamics.png\" width=\"200px\"/>\n",
    "    <br />\n",
    "    <b>Figure.</b> Computed Dubin's car trajectory for minimum-input usage.\n",
    "    <br />\n",
    "    <br />\n",
    "</center>\n",
    " \n",
    "Dynamics in absolute time:\n",
    "\n",
    "\\begin{equation}\n",
    "\\begin{array}{rl}\n",
    "\\dot{x} &= v\\sin(\\theta), \\\\\n",
    "\\dot{y} &= v\\cos(\\theta), \\\\\n",
    "\\dot{\\theta} &= \\omega.\n",
    "\\end{array}\n",
    "\\quad\\Rightarrow\\quad\n",
    "\\begin{bmatrix}\n",
    "\\dot{x} \\\\ \\dot{y} \\\\ \\dot{\\theta}\n",
    "\\end{bmatrix}\n",
    "=\n",
    "\\begin{bmatrix}\n",
    "v\\sin(\\theta) \\\\\n",
    "v\\cos(\\theta) \\\\\n",
    "\\omega\n",
    "\\end{bmatrix} = f(x, u),\n",
    "\\end{equation}\n",
    "\n",
    "where $x=[x;~y;~\\theta]$ and $u=[v;~\\omega]$.\n",
    "\n",
    "In normalized time, we simply write as before $f\\leftarrow p\\cdot f$ where $p$ is the parameter vector holding just one element, the final time."
   ]
  },
  {
   "cell_type": "markdown",
   "id": "c4c50cf4",
   "metadata": {
    "slideshow": {
     "slide_type": "slide"
    },
    "tags": []
   },
   "source": [
    "Now that we know the state and input vector dimensions, we can let the toolbox know about these.\n",
    "\n",
    "We'll solve a fixed-final-time problem, so there are no _variable_ parameters. But the toolbox requires $n,m,d\\ge 1$ so we still need to set $d=1$ at least, even if we end up not using any parameters.\n",
    "\n",
    "The API function for defining the problem dimensions is `problem_set_dims!`."
   ]
  },
  {
   "cell_type": "code",
   "execution_count": 3,
   "id": "68b2ad71",
   "metadata": {
    "slideshow": {
     "slide_type": "fragment"
    },
    "tags": []
   },
   "outputs": [],
   "source": [
    "n, m, d = 3, 2, 1\n",
    "problem_set_dims!(pbm, n, m, d)"
   ]
  },
  {
   "cell_type": "markdown",
   "id": "bcf173bd",
   "metadata": {
    "slideshow": {
     "slide_type": "fragment"
    },
    "tags": []
   },
   "source": [
    "Let's fix the time to $t_f=3$. How would we write the dynamics as a Julia function?"
   ]
  },
  {
   "cell_type": "code",
   "execution_count": 4,
   "id": "5f9a5535",
   "metadata": {
    "slideshow": {
     "slide_type": "fragment"
    },
    "tags": []
   },
   "outputs": [],
   "source": [
    "t_f = 3\n",
    "f(t, x, u, p) = begin\n",
    "    x, y, θ = x\n",
    "    v, ω = u\n",
    "    return [v*sin(θ); v*cos(θ); ω]*t_f\n",
    "end;"
   ]
  },
  {
   "cell_type": "markdown",
   "id": "862ad413",
   "metadata": {
    "slideshow": {
     "slide_type": "slide"
    },
    "tags": []
   },
   "source": [
    "SCP algorithms work by iteratively linearizing nonconvex elements of the problem. This means that we have to provide the algorithm with the Jacobians of $f$.\n",
    "\n",
    "\\begin{align}\n",
    "A(t, x, u, p) &= \\nabla_x f(t, x, u, p), \\\\\n",
    "B(t, x, u, p) &= \\nabla_u f(t, x, u, p), \\\\\n",
    "F(t, x, u, p) &= \\nabla_p f(t, x, u, p).\n",
    "\\end{align}"
   ]
  },
  {
   "cell_type": "code",
   "execution_count": 5,
   "id": "0bc5da52",
   "metadata": {
    "slideshow": {
     "slide_type": "fragment"
    },
    "tags": []
   },
   "outputs": [],
   "source": [
    "A(t, x, u, p) = begin\n",
    "    x, y, θ = x\n",
    "    v, ω = u\n",
    "    return [0 0 v*cos(θ);\n",
    "            0 0 -v*sin(θ);\n",
    "            0 0 0]*t_f\n",
    "end\n",
    "\n",
    "B(t, x, u, p) = begin\n",
    "    x, y, θ = x\n",
    "    v, ω = u\n",
    "    return [sin(θ) 0;\n",
    "            cos(θ) 0;\n",
    "            0 1]*t_f\n",
    "end\n",
    "\n",
    "F(t, x, u, p) = begin\n",
    "    return zeros(3, 1)\n",
    "end;"
   ]
  },
  {
   "cell_type": "markdown",
   "id": "c97bdeb2",
   "metadata": {
    "slideshow": {
     "slide_type": "slide"
    },
    "tags": []
   },
   "source": [
    "The toolbox API function for defining the dynamics is `problem_set_dynamics!`."
   ]
  },
  {
   "cell_type": "code",
   "execution_count": 6,
   "id": "0dd6c080",
   "metadata": {
    "slideshow": {
     "slide_type": "fragment"
    },
    "tags": []
   },
   "outputs": [],
   "source": [
    "wrap(func) = (t, k, x, u, p, pbm) -> func(t, x, u, p)\n",
    "problem_set_dynamics!(pbm, wrap(f), wrap(A), wrap(B), wrap(F))"
   ]
  },
  {
   "cell_type": "markdown",
   "id": "28839943",
   "metadata": {
    "slideshow": {
     "slide_type": "slide"
    },
    "tags": []
   },
   "source": [
    "## Boundary Conditions"
   ]
  },
  {
   "cell_type": "markdown",
   "id": "8f09871f",
   "metadata": {
    "slideshow": {
     "slide_type": "fragment"
    },
    "tags": []
   },
   "source": [
    "The initial and terminal boundary conditions on the trajectory are set by the following two constraints:\n",
    "\n",
    "\\begin{align}\n",
    "g_{ic}(x(0), p) &= 0, \\\\\n",
    "g_{tc}(x(1), p) &= 0.\n",
    "\\end{align}"
   ]
  },
  {
   "cell_type": "markdown",
   "id": "828797c3",
   "metadata": {
    "slideshow": {
     "slide_type": "fragment"
    },
    "tags": []
   },
   "source": [
    "In the case of Dubin's car, let's just set some simple fixed start and end points:\n",
    "\n",
    "\\begin{align}\n",
    "[x(0); y(0); \\theta(0)] = [0;0;0], \\\\\n",
    "[x(t_f); y(t_f); \\theta(t_f)] = [0;2;0].\n",
    "\\end{align}"
   ]
  },
  {
   "cell_type": "code",
   "execution_count": 7,
   "id": "48c41f2a",
   "metadata": {
    "slideshow": {
     "slide_type": "fragment"
    },
    "tags": []
   },
   "outputs": [],
   "source": [
    "## car doesn't reverse\n",
    "x_0 = zeros(3)\n",
    "x_f = [0; 2; 0]\n",
    "\n",
    "## car reverses\n",
    "# x_0 = [0; 0.5; 0]\n",
    "# x_f = [0; 1.5; 0]\n",
    "\n",
    "g_ic(x, p) = x-x_0\n",
    "g_tc(x, p) = x-x_f;"
   ]
  },
  {
   "cell_type": "markdown",
   "id": "f31c4cb3",
   "metadata": {
    "slideshow": {
     "slide_type": "slide"
    },
    "tags": []
   },
   "source": [
    "Again, we need to provide the Jacobians of $g_{ic}$ and $g_{tc}$, since in general these may be nonaffine functions.\n",
    "\n",
    "\\begin{align}\n",
    "H_0(x(0), p) &= \\nabla_x g_{ic}(x(0), p), \\\\\n",
    "K_0(x(0), p) &= \\nabla_p g_{ic}(x(0), p), \\\\\n",
    "H_f(x(1), p) &= \\nabla_x g_{tc}(x(1), p), \\\\\n",
    "K_f(x(1), p) &= \\nabla_p g_{tc}(x(1), p).\n",
    "\\end{align}\n",
    "\n",
    "When a Jacobian is not provided, the toolbox assumes that it is zero."
   ]
  },
  {
   "cell_type": "code",
   "execution_count": 8,
   "id": "4c221593",
   "metadata": {
    "slideshow": {
     "slide_type": "fragment"
    },
    "tags": []
   },
   "outputs": [],
   "source": [
    "H_0(x, p) = I(3)\n",
    "H_f(x, p) = I(3);"
   ]
  },
  {
   "cell_type": "markdown",
   "id": "af8a630a",
   "metadata": {
    "slideshow": {
     "slide_type": "slide"
    },
    "tags": []
   },
   "source": [
    "The toolbox API function for defining the boundary conditions is `problem_set_bc!`."
   ]
  },
  {
   "cell_type": "code",
   "execution_count": 9,
   "id": "68592835",
   "metadata": {
    "slideshow": {
     "slide_type": "fragment"
    },
    "tags": []
   },
   "outputs": [],
   "source": [
    "wrap(func) = (x, p, pbm) -> func(x, p)\n",
    "problem_set_bc!(pbm, :ic, wrap(g_ic), wrap(H_0))\n",
    "problem_set_bc!(pbm, :tc, wrap(g_tc), wrap(H_f))"
   ]
  },
  {
   "cell_type": "markdown",
   "id": "7cb1911d",
   "metadata": {
    "slideshow": {
     "slide_type": "slide"
    },
    "tags": []
   },
   "source": [
    "## Nonconvex Obstacle Constraint\n",
    "\n",
    "Nonconvex obstacle constraints are encoded by the following inequality constraint:\n",
    "\n",
    "$$\n",
    "s(t, x(t), u(t), p) \\le 0,\n",
    "$$\n",
    "\n",
    "where $s(\\cdot)\\in\\mathbb R^{n_s}$ is a continuously differentiable multidimensional function."
   ]
  },
  {
   "cell_type": "markdown",
   "id": "5311dd78",
   "metadata": {
    "slideshow": {
     "slide_type": "slide"
    },
    "tags": []
   },
   "source": [
    "A circular obstacle of radius $r_0$ centered at $c_0$ can be avoided using the following constraint:\n",
    "\n",
    "$$\n",
    "\\|E_{xy} x - c_0\\|_2^2 \\ge r_0^2,\n",
    "$$\n",
    "\n",
    "where the state is the usual $x=[x;y;\\theta]$ and $E_{xy} = \\begin{bmatrix}1 & 0 & 0 \\\\ 0 & 1 & 0\\end{bmatrix}$.\n",
    "\n",
    "This is equivalent to setting $s(t, x, u, p) = r_0^2-\\|E_{xy} x-c_0\\|_2^2$."
   ]
  },
  {
   "cell_type": "markdown",
   "id": "cc073857",
   "metadata": {
    "slideshow": {
     "slide_type": "fragment"
    },
    "tags": []
   },
   "source": [
    "> ⚠️ **Protip**: this constraint definition neglects that a real car is not a point, and has some size itself. To keep the car's body away from the obstactly, we can \"inflate\" the obstacle by some additional keepout factor $\\Delta r_0$:\n",
    "$$\n",
    "s(t, x, u, p) = (r_0+\\Delta r_0)^2-\\|E_{xy} x-c_0\\|_2^2.\n",
    "$$"
   ]
  },
  {
   "cell_type": "code",
   "execution_count": 10,
   "id": "8b1df60d",
   "metadata": {
    "slideshow": {
     "slide_type": "fragment"
    },
    "tags": []
   },
   "outputs": [],
   "source": [
    "c_0 = [-0.1; 1]\n",
    "r_0 = 0.35\n",
    "car_width = 0.1\n",
    "Δr_0 = car_width/2\n",
    "E_xy = [1 0 0;0 1 0]\n",
    "\n",
    "s(t, x, u, p) = [(r_0+Δr_0)^2-(E_xy*x-c_0)'*(E_xy*x-c_0)];"
   ]
  },
  {
   "cell_type": "markdown",
   "id": "af9b600c",
   "metadata": {
    "slideshow": {
     "slide_type": "slide"
    },
    "tags": []
   },
   "source": [
    "Once again, we need to define the Jacobians of $s$. You are probably used to this by now 🤓.\n",
    "\n",
    "\\begin{align}\n",
    "C(t, x, u, p) &= \\nabla_x s(t, x, u, p), \\\\\n",
    "D(t, x, u, p) &= \\nabla_u s(t, x, u, p), \\\\\n",
    "G(t, x, u, p) &= \\nabla_p s(t, x, u, p).\n",
    "\\end{align}\n",
    "\n",
    "Again, the toolbox assumes zero for the Jacobians that are not provided."
   ]
  },
  {
   "cell_type": "code",
   "execution_count": 11,
   "id": "2ef8d013",
   "metadata": {
    "slideshow": {
     "slide_type": "fragment"
    },
    "tags": []
   },
   "outputs": [],
   "source": [
    "C(t, x, u, p) = reshape(2*E_xy'*(c_0-E_xy*x), 1, 3);"
   ]
  },
  {
   "cell_type": "markdown",
   "id": "4fba480d",
   "metadata": {
    "slideshow": {
     "slide_type": "slide"
    },
    "tags": []
   },
   "source": [
    "The toolbox API function for defining the nonconvex constraints is `problem_set_s!`.\n",
    "\n",
    "Because of problem statement differences among SCP algorithms, this function must be provided with a symbol corresponding to the SCP algorithm type.\n",
    "\n",
    "- `:ptr` $\\rightarrow$ Penalized Trust Region (PTR)\n",
    "\n",
    "- `:scvx` $\\rightarrow$ Successive Convexification (SCvx)\n",
    "\n",
    "- `:gusto` $\\rightarrow$ Guaranteed Sequential Trajectory Optimization (GuSTO)\n",
    "\n",
    "In this notebook, PTR and SCvx are demonstrated."
   ]
  },
  {
   "cell_type": "code",
   "execution_count": 12,
   "id": "43fc0a69-a960-466f-8805-6c5e1ed80b25",
   "metadata": {
    "slideshow": {
     "slide_type": "fragment"
    },
    "tags": []
   },
   "outputs": [],
   "source": [
    "# alg = :scvx;\n",
    "alg = :ptr;"
   ]
  },
  {
   "cell_type": "code",
   "execution_count": 13,
   "id": "8769ec1e",
   "metadata": {
    "slideshow": {
     "slide_type": "fragment"
    },
    "tags": []
   },
   "outputs": [],
   "source": [
    "wrap(func) = (t, k, x, u, p, pbm) -> func(t, x, u, p)\n",
    "problem_set_s!(pbm, alg, wrap(s), wrap(C))"
   ]
  },
  {
   "cell_type": "markdown",
   "id": "230ab9a5",
   "metadata": {
    "slideshow": {
     "slide_type": "slide"
    },
    "tags": []
   },
   "source": [
    "## Objective Function"
   ]
  },
  {
   "cell_type": "markdown",
   "id": "db2d94bc",
   "metadata": {
    "slideshow": {
     "slide_type": "fragment"
    },
    "tags": []
   },
   "source": [
    "Borrowing from the standard choice in optimal control literature, the SCP Toolbox works with an objective function in the Bolza form:\n",
    "\n",
    "$$\n",
    "J(x, u, p) = \\phi(x(1), p) + \\int_0^1 \\Gamma(x(t), u(t), p) dt.\\nonumber\n",
    "$$\n",
    "\n",
    "The function $\\phi(\\cdot)\\in\\mathbb R$ defines the terminal cost, while $\\Gamma(\\cdot)\\in\\mathbb R$ defines the running cost. Both have to be convex, at most quadratic, functions.\n",
    "\n",
    "> ℹ️ Any nonconvexity in the cost can in general be off-loaded into the constraints by defining additional state, control, and/or parameter variables."
   ]
  },
  {
   "cell_type": "markdown",
   "id": "8f832c43",
   "metadata": {
    "slideshow": {
     "slide_type": "slide"
    },
    "tags": []
   },
   "source": [
    "For Dubin's car, let's solve a trajectory that minimizes average control usage. For example, we can set:\n",
    "\n",
    "\\begin{align}\n",
    "\\Gamma(x, u, p) &= u^\\top u, \\\\\n",
    "\\phi(x(1), p) &= 0.\n",
    "\\end{align}"
   ]
  },
  {
   "cell_type": "code",
   "execution_count": 14,
   "id": "ba7d6d94",
   "metadata": {
    "slideshow": {
     "slide_type": "fragment"
    },
    "tags": []
   },
   "outputs": [],
   "source": [
    "Γ(x, u, p) = u'*u;"
   ]
  },
  {
   "cell_type": "markdown",
   "id": "06325d41",
   "metadata": {
    "slideshow": {
     "slide_type": "fragment"
    },
    "tags": []
   },
   "source": [
    "The SCP Toolbox provides the following API functions for defining the cost:\n",
    "* `problem_set_terminal_cost!`: if not provided, it is assumed that $\\phi\\equiv 0$;\n",
    "* `problem_set_running_cost!`: if not provided, it is assumed that $\\Gamma\\equiv 0$;"
   ]
  },
  {
   "cell_type": "code",
   "execution_count": 15,
   "id": "4d232092",
   "metadata": {
    "slideshow": {
     "slide_type": "fragment"
    },
    "tags": []
   },
   "outputs": [],
   "source": [
    "wrap(func) = (t, k, x, u, p, pbm) -> func(x, u, p)\n",
    "problem_set_running_cost!(pbm, alg, wrap(Γ))"
   ]
  },
  {
   "cell_type": "markdown",
   "id": "a30767ce",
   "metadata": {
    "slideshow": {
     "slide_type": "slide"
    },
    "tags": []
   },
   "source": [
    "## Initial Trajectory Guess"
   ]
  },
  {
   "cell_type": "markdown",
   "id": "31d07c17",
   "metadata": {
    "slideshow": {
     "slide_type": "fragment"
    },
    "tags": []
   },
   "source": [
    "SCP algorithms require an initial guess for the trajectory. This can be very simple, and does not need to be feasible.\n",
    "\n",
    "For Dubin's car, we will use a straight line for the state and zero for the input.\n",
    "\n",
    "Given a time $t\\in [0,1]$, the state initial guess will be:\n",
    "\n",
    "\\begin{align}\n",
    "\\bar x(t) &= (1-t) x_0 + t x_f, \\\\\n",
    "\\bar u(t) &= 0.\n",
    "\\end{align}"
   ]
  },
  {
   "cell_type": "markdown",
   "id": "15171197",
   "metadata": {
    "slideshow": {
     "slide_type": "slide"
    },
    "tags": []
   },
   "source": [
    "SCP algorithms work by discretizing the trajectory problem into $N$ temporal nodes.\n",
    "\n",
    "The API provides a function `problem_set_guess!` for defining the initial guess, discretized into $N$ points.\n",
    "\n",
    "For convenience, a function `straightline_interpolate` is available to define a straight line guess."
   ]
  },
  {
   "cell_type": "code",
   "execution_count": 16,
   "id": "a42db9e9",
   "metadata": {
    "slideshow": {
     "slide_type": "fragment"
    },
    "tags": []
   },
   "outputs": [],
   "source": [
    "state_guess(N) = straightline_interpolate(x_0, x_f, N)\n",
    "input_guess(N) = straightline_interpolate(zeros(2), zeros(2), N);"
   ]
  },
  {
   "cell_type": "code",
   "execution_count": 17,
   "id": "9f50770c",
   "metadata": {
    "slideshow": {
     "slide_type": "fragment"
    },
    "tags": []
   },
   "outputs": [],
   "source": [
    "problem_set_guess!(pbm, (N, pbm) -> begin\n",
    "    x = state_guess(N)\n",
    "    u = input_guess(N)\n",
    "    p = zeros(1)\n",
    "    return x, u, p\n",
    "end)"
   ]
  },
  {
   "cell_type": "markdown",
   "id": "9f9f94e8",
   "metadata": {
    "slideshow": {
     "slide_type": "slide"
    },
    "tags": []
   },
   "source": [
    "## Configuring the SCP Solver"
   ]
  },
  {
   "cell_type": "markdown",
   "id": "fd18f178",
   "metadata": {
    "slideshow": {
     "slide_type": "fragment"
    },
    "tags": []
   },
   "source": [
    "The SCP Toolbox provides several SCP algorithm choices: `PTR`, `SCvx`, and `GuSTO`.\n",
    "\n",
    "Each algorithm must be provided with a set of parameters that define its behavior. Most of the parameters are shared, but some are algorithm-specific.\n",
    "\n",
    "SCP algorithm performance depends significantly on a well-chosen set of parameters, and this is problem-dependent.\n",
    "\n",
    "A lot of intuition is documented in our [Control Systems Magazine article](https://arxiv.org/abs/2106.09125)."
   ]
  },
  {
   "cell_type": "markdown",
   "id": "6203ab1b",
   "metadata": {
    "slideshow": {
     "slide_type": "slide"
    },
    "tags": []
   },
   "source": [
    "## Solving the Trajectory Problem"
   ]
  },
  {
   "cell_type": "markdown",
   "id": "9114ce78",
   "metadata": {
    "slideshow": {
     "slide_type": "fragment"
    },
    "tags": []
   },
   "source": [
    "Solving the problem amounts to initializing the SCP solver with its parameters, and providing the problem definition `pbm` from the API."
   ]
  },
  {
   "cell_type": "markdown",
   "id": "9464db7f-a454-4f87-a320-68abb6297a89",
   "metadata": {
    "slideshow": {
     "slide_type": "slide"
    },
    "tags": []
   },
   "source": [
    "## PTR"
   ]
  },
  {
   "cell_type": "code",
   "execution_count": 18,
   "id": "f4b03b78",
   "metadata": {
    "slideshow": {
     "slide_type": "fragment"
    },
    "tags": []
   },
   "outputs": [],
   "source": [
    "# PTR Parameters\n",
    "N, Nsub = 11, 10\n",
    "iter_max = 30\n",
    "disc_method = FOH\n",
    "wvc, wtr = 1e3, 1e0\n",
    "feas_tol = 5e-3\n",
    "ε_abs, ε_rel = 1e-5, 1e-3\n",
    "q_tr = Inf\n",
    "q_exit = Inf\n",
    "solver, solver_options = ECOS, Dict(\"verbose\"=>0)\n",
    "\n",
    "pars = PTR.Parameters(N, Nsub, iter_max, disc_method, wvc, wtr, ε_abs,\n",
    "                      ε_rel, feas_tol, q_tr, q_exit, solver, solver_options);"
   ]
  },
  {
   "cell_type": "code",
   "execution_count": 19,
   "id": "f9ea72bc",
   "metadata": {
    "slideshow": {
     "slide_type": "fragment"
    },
    "tags": [
     "hide-output"
    ]
   },
   "outputs": [
    {
     "name": "stdout",
     "output_type": "stream",
     "text": [
      "k  | status   | vd    | vs    | vbc   | J         | ΔJ %      | Δx    | Δu    | Δp    | δ     | dyn | ηx    | ηu    | ηp   \n",
      "---+----------+-------+-------+-------+-----------+-----------+-------+-------+-------+-------+-----+-------+-------+------\n",
      "1  | OPTIMAL  | 3e-11 | 1e-01 | 1e-13 | 1.66e+01  |           | 3e-01 | 2e+00 | 0e+00 | 3e-01 | T   | 0.28  | 2.08  | 0.00 \n",
      "2  | OPTIMAL  | 3e-12 | 2e-12 | 2e-14 | 8.40e+00  | 49.35     | 1e+00 | 5e+00 | 0e+00 | 1e+00 | F   | 1.29  | 5.17  | 0.00 \n",
      "3  | OPTIMAL  | 8e-15 | 4e-16 | 5e-15 | 2.69e+00  | 67.91     | 8e-01 | 4e+00 | 0e+00 | 8e-01 | F   | 0.85  | 4.12  | 0.00 \n",
      "4  | OPTIMAL  | 2e-12 | 3e-13 | 3e-13 | 1.13e+00  | 58.12     | 1e-01 | 3e-01 | 0e+00 | 1e-01 | T   | 0.12  | 0.33  | 0.00 \n",
      "5  | OPTIMAL  | 5e-12 | 5e-13 | 5e-13 | 9.84e-01  | 12.76     | 1e-02 | 5e-02 | 0e+00 | 1e-02 | T   | 0.01  | 0.05  | 0.00 \n",
      "6  | OPTIMAL  | 4e-12 | 1e-12 | 4e-13 | 9.54e-01  | 3.06      | 3e-04 | 2e-03 | 0e+00 | 3e-04 | T   | 0.00  | 0.00  | 0.00 \n",
      "7  | OPTIMAL  | 3e-08 | 9e-09 | 1e-09 | 9.54e-01  | 0.08      | 7e-08 | 6e-08 | 0e+00 | 7e-08 | T   | 0.00  | 0.00  | 0.00 \n"
     ]
    }
   ],
   "source": [
    "if alg == :ptr\n",
    "    ptr_pbm = PTR.create(pars, pbm)\n",
    "    sol, history = PTR.solve(ptr_pbm)\n",
    "end;"
   ]
  },
  {
   "cell_type": "markdown",
   "id": "4ee49025-2d75-432a-af74-7cdb677d7700",
   "metadata": {
    "slideshow": {
     "slide_type": "slide"
    },
    "tags": []
   },
   "source": [
    "## SCvx"
   ]
  },
  {
   "cell_type": "code",
   "execution_count": 20,
   "id": "036e9a4c-c4f8-43bd-b0d6-f767826903df",
   "metadata": {
    "slideshow": {
     "slide_type": "fragment"
    },
    "tags": []
   },
   "outputs": [],
   "source": [
    "# SCvx Parameters\n",
    "N, Nsub = 11, 10\n",
    "iter_max = 30\n",
    "disc_method = FOH\n",
    "λ = 1000.0\n",
    "ρ_0 = 0.0\n",
    "ρ_1 = 0.1\n",
    "ρ_2 = 0.7\n",
    "β_sh = 2.0\n",
    "β_gr = 2.0\n",
    "η_init = 1.0\n",
    "η_lb = 1e-3\n",
    "η_ub = 10.0\n",
    "feas_tol = 5e-3\n",
    "ε_abs, ε_rel = 1e-5, 1e-3\n",
    "q_tr = Inf\n",
    "q_exit = Inf\n",
    "solver, solver_options = ECOS, Dict(\"verbose\"=>0)\n",
    "pars = SCvx.Parameters(N, Nsub, iter_max, disc_method, λ, ρ_0, ρ_1, ρ_2, β_sh, β_gr, η_init, η_lb, η_ub, ε_abs,\n",
    "                       ε_rel, feas_tol, q_tr, q_exit, solver, solver_options);"
   ]
  },
  {
   "cell_type": "code",
   "execution_count": 21,
   "id": "9850ceec-6149-43ed-b7ea-debaf4ed3fe3",
   "metadata": {
    "slideshow": {
     "slide_type": "fragment"
    },
    "tags": [
     "hide-output"
    ]
   },
   "outputs": [],
   "source": [
    "if alg == :scvx\n",
    "    scvx_pbm = SCvx.create(pars, pbm)\n",
    "    sol, history = SCvx.solve(scvx_pbm)\n",
    "end;"
   ]
  },
  {
   "cell_type": "markdown",
   "id": "3d9a6d6d",
   "metadata": {
    "slideshow": {
     "slide_type": "slide"
    },
    "tags": []
   },
   "source": [
    "## Trajectory plots"
   ]
  },
  {
   "cell_type": "code",
   "execution_count": 22,
   "id": "681c4dc8",
   "metadata": {
    "slideshow": {
     "slide_type": "skip"
    },
    "tags": []
   },
   "outputs": [],
   "source": [
    "include(\"utils/p3_dubin_plotting.jl\");"
   ]
  },
  {
   "cell_type": "code",
   "execution_count": 23,
   "id": "60f25fc7-37ec-4a91-ba1b-4fa4c6da2b0c",
   "metadata": {
    "slideshow": {
     "slide_type": "skip"
    },
    "tags": []
   },
   "outputs": [
    {
     "name": "stderr",
     "output_type": "stream",
     "text": [
      "┌ Warning: `vendor()` is deprecated, use `BLAS.get_config()` and inspect the output instead\n",
      "│   caller = npyinitialize() at numpy.jl:67\n",
      "└ @ PyCall /Users/abhi/.julia/packages/PyCall/L0fLP/src/numpy.jl:67\n"
     ]
    }
   ],
   "source": [
    "plot_trajectory();\n",
    "plt.close() # comment out this line"
   ]
  },
  {
   "cell_type": "markdown",
   "id": "94c32b59-c623-47a1-9e5d-8d4319e892c7",
   "metadata": {
    "slideshow": {
     "slide_type": "fragment"
    },
    "tags": []
   },
   "source": [
    "<center>\n",
    "<div class=\"img_container\">\n",
    "\t<img src=\"media/p3_ptr_traj_forward.png\" class=\"img_item\" width=40%>\n",
    "\t<img src=\"media/p3_ptr_traj_reverse.png\" class=\"img_item\" width=40.5%>\n",
    "</div>\n",
    "<b>Figure.</b> PTR solutions\n",
    "</center>"
   ]
  },
  {
   "cell_type": "markdown",
   "id": "5e6c6f2a-1227-48a6-a57c-ce724744cfc5",
   "metadata": {
    "slideshow": {
     "slide_type": "slide"
    },
    "tags": []
   },
   "source": [
    "<center>\n",
    "<div class=\"img_container\">\n",
    "\t<img src=\"media/p3_scvx_traj_forward.png\" class=\"img_item\" width=40%>\n",
    "\t<img src=\"media/p3_scvx_traj_reverse.png\" class=\"img_item\" width=42%>\n",
    "</div>\n",
    "<b>Figure.</b> SCvx solutions\n",
    "</center>"
   ]
  }
 ],
 "metadata": {
  "kernelspec": {
   "display_name": "Julia 1.7.1",
   "language": "julia",
   "name": "julia-1.7"
  },
  "language_info": {
   "file_extension": ".jl",
   "mimetype": "application/julia",
   "name": "julia",
   "version": "1.7.1"
  }
 },
 "nbformat": 4,
 "nbformat_minor": 5
}
