{
 "cells": [
  {
   "cell_type": "markdown",
   "id": "825f2981-fa09-4c4b-9b09-97fcd1c3f326",
   "metadata": {
    "slideshow": {
     "slide_type": "slide"
    },
    "tags": []
   },
   "source": [
    "# SCP Toolbox Workshop\n",
    "\n",
    "___A tutorial on generating dynamically feasible trajectories reliably and efficiently___\n",
    "\n",
    "Monday, February 7, 2022\n",
    "\n",
    "Rocky Mountain AAS GN&C Conference, Breckenridge, CO\n",
    "\n",
    "<h2 style=\"color: black;\">\n",
    "    <span style=\"background-color: #ECBE7B; padding: 1px;\">&ensp;Welcome&ensp;</span>\n",
    "</h2>"
   ]
  },
  {
   "cell_type": "markdown",
   "id": "6d843c76-cdb4-4384-afd2-38e17810ecf7",
   "metadata": {
    "slideshow": {
     "slide_type": "slide"
    },
    "tags": []
   },
   "source": [
    "<center>\n",
    "    <a href=\"https://github.com/UW-ACL/SCPToolbox.jl\"><img src=\"media/scp-toolbox-logo.png\" width=\"350px\"/></a>\n",
    "    <br />\n",
    "    <b>Figure.</b> The <a href=\"https://github.com/UW-ACL/SCPToolbox.jl\">SCP Toolbox</a> quickly solves nonconvex trajectory generation problems using SCP algorithms.\n",
    "    <br />\n",
    "    <br />\n",
    "</center>\n",
    "\n",
    "<center>\n",
    "    <b>Access the tutorial</b>:\n",
    "    <br />\n",
    "    <a href=\"https://mybinder.org/v2/gh/UW-ACL/SCPToolbox_tutorial/master?labpath=tutorial%2Fsrc%2Fp1_clp.ipynb\"><img src=\"https://mybinder.org/badge_logo.svg\" alt=\"Launch Binder\" /></a>\n",
    "    <br />\n",
    "    <br />\n",
    "    <span style=\"background-color: #98be65; color: black; padding: 5px;\">\n",
    "    &ensp;https://github.com/UW-ACL/SCPToolbox.jl&ensp;\n",
    "    </span>\n",
    "</center>"
   ]
  },
  {
   "cell_type": "markdown",
   "id": "3cb23105-d65c-4f56-99bb-0acc117ff27a",
   "metadata": {
    "slideshow": {
     "slide_type": "slide"
    },
    "tags": []
   },
   "source": [
    "- We are going to learn how to use the <a href=\"https://github.com/UW-ACL/SCPToolbox.jl\">SCP Toolbox</a>\n",
    "- This is a nonconvex trajectory optimization tool\n",
    "- Allows to quickly solve difficult nonconvex trajectory generation problems in aerospace, automotive, robotics, and other fields\n",
    "- Provides reference implementations of popular research algorithms (so far PTR, SCvx, GuSTO, and lossless convexification)"
   ]
  },
  {
   "cell_type": "markdown",
   "id": "6c54d68a-a1fa-434a-bdcf-35d2c68253d2",
   "metadata": {
    "slideshow": {
     "slide_type": "slide"
    },
    "tags": []
   },
   "source": [
    "<!-- <center>\n",
    "    <img src=\"media/ieee-csm-front-thumbnail.png\" width=\"250px\"/>\n",
    "    <br />\n",
    "    <br />\n",
    "</center>\n",
    "\n",
    "The SCP Toolbox is the result of the following comprehensive tutorial paper on SCP:\n",
    "\n",
    "```\n",
    "@article{SCPToolboxCSM2022,\n",
    "  year      = {2021},\n",
    "  title     = {Convex Optimization for Trajectory Generation},\n",
    "  author    = {Danylo Malyuta and Taylor P. Reynolds and Michael Szmuk\n",
    "               and Thomas Lew and Riccardo Bonalli and Marco Pavone\n",
    "               and Behcet Acikmese},\n",
    "  journal   = {{IEEE} Control Systems Magazine (accepted)},\n",
    "  publisher = {{IEEE}},\n",
    "  pages     = {arXiv:2106.09125}\n",
    "}\n",
    "```\n",
    "\n",
    "<center>\n",
    "    <span style=\"background-color: #FF6C6B; color: white; padding: 5px;\">\n",
    "    &ensp;arXiv:2106.09125&ensp;\n",
    "    </span>\n",
    "</center> -->"
   ]
  },
  {
   "cell_type": "markdown",
   "id": "cea20ae4-7e18-4801-ad20-bdd763b50ba1",
   "metadata": {},
   "source": [
    "The SCP Toolbox is the result of the following comprehensive tutorial paper on SCP:\n",
    "\n",
    "<table border=\"0\">\n",
    " <tr>\n",
    "    <td><img src=\"media/ieee-csm-front-thumbnail.png\" width=\"350px\"/></td>\n",
    "    <td><pre>\n",
    "@article{SCPToolboxCSM2022,\n",
    "  year      = {2021},\n",
    "  title     = {Convex Optimization for Trajectory Generation},\n",
    "  author    = {Danylo Malyuta and Taylor P. Reynolds and Michael Szmuk\n",
    "               and Thomas Lew and Riccardo Bonalli and Marco Pavone\n",
    "               and Behcet Acikmese},\n",
    "  journal   = {{IEEE} Control Systems Magazine (accepted)},\n",
    "  publisher = {{IEEE}},\n",
    "  pages     = {arXiv:2106.09125}\n",
    "}\n",
    "</pre><center>\n",
    "    <br><br><br>\n",
    "    <span style=\"background-color: #FF6C6B; color: white; padding: 5px;\">\n",
    "    &ensp;arXiv:2106.09125&ensp;\n",
    "    </span>\n",
    "</center></td>\n",
    " </tr>\n",
    "</table>"
   ]
  },
  {
   "cell_type": "markdown",
   "id": "f8e092e7-f486-43fc-bab6-c53d664b0e85",
   "metadata": {
    "slideshow": {
     "slide_type": "slide"
    },
    "tags": []
   },
   "source": [
    "<center>\n",
    "    <img src=\"media/p0-intro.png\" width=\"900px\"/>\n",
    "    <br />\n",
    "    <b>Figure.</b> Illustration of the layers of abstraction involved in trajetory optimization, and how the SCP Toolbox fits in.\n",
    "    <br />\n",
    "    <br />\n",
    "</center>"
   ]
  }
 ],
 "metadata": {
  "kernelspec": {
   "display_name": "Julia 1.7.1",
   "language": "julia",
   "name": "julia-1.7"
  },
  "language_info": {
   "file_extension": ".jl",
   "mimetype": "application/julia",
   "name": "julia",
   "version": "1.7.1"
  }
 },
 "nbformat": 4,
 "nbformat_minor": 5
}
