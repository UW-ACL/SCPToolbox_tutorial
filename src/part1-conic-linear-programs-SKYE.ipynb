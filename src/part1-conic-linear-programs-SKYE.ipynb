{
 "cells": [
  {
   "cell_type": "code",
   "execution_count": 1,
   "id": "7b730534-e2f1-4c3a-b51c-0648350a014f",
   "metadata": {},
   "outputs": [
    {
     "name": "stderr",
     "output_type": "stream",
     "text": [
      "\u001b[32m\u001b[1m  Activating\u001b[22m\u001b[39m project at `~/ACL/AAS/SCPToolbox_tutorial`\n",
      "┌ Info: Precompiling SCPToolbox [bd2bc758-a5dc-11eb-050f-6b2434548817]\n",
      "└ @ Base loading.jl:1423\n"
     ]
    }
   ],
   "source": [
    "import Pkg\n",
    "Pkg.activate(\"..\")\n",
    "\n",
    "using SCPToolbox\n",
    "using ECOS"
   ]
  },
  {
   "cell_type": "markdown",
   "id": "0d412ad5-2b06-4f9e-b8be-1d11df25d64d",
   "metadata": {},
   "source": [
    "# Declare new problem"
   ]
  },
  {
   "cell_type": "code",
   "execution_count": 2,
   "id": "664867d9-f891-4872-a190-3e951045f01e",
   "metadata": {},
   "outputs": [
    {
     "data": {
      "text/plain": [
       "Conic linear program\n",
       "\n",
       "  Feasibility problem\n",
       "  0 variables (0 blocks)\n",
       "  0 parameters (0 blocks)\n",
       "  0 constraints\n",
       "\n",
       "  Variable argument\n",
       "    0 elements\n",
       "    0 blocks\n",
       "\n",
       "\n",
       "  Parameter argument\n",
       "    0 elements\n",
       "    0 blocks\n"
      ]
     },
     "execution_count": 2,
     "metadata": {},
     "output_type": "execute_result"
    }
   ],
   "source": [
    "opts = Dict(\"verbose\" => 0) \n",
    "pbm = ConicProgram(solver = ECOS.Optimizer, solver_options = opts)"
   ]
  },
  {
   "cell_type": "markdown",
   "id": "ea65405e-4318-404d-b782-00a9d794f472",
   "metadata": {},
   "source": [
    "# Variables\n",
    "\n"
   ]
  },
  {
   "cell_type": "markdown",
   "id": "21038bc4-2ea3-498f-8451-83a6eb2ad88a",
   "metadata": {},
   "source": [
    "Variables are the quantities that the SCP Toolbox determines values for upon solution. These variables therefore begin as symbolic values during problem formulation, but are ultimately given numerical values upon convergence to a locally optimal trajectory solution. These variables are generally broken up into three main categories: \n",
    "\n",
    "- **scalars**: variables containing a single element.  *e.g.* $x \\in \\mathbb{R}$.\n",
    "- **vectors**: variables containing a single row or column.  *e.g.* $x \\in \\mathbb{R}^N$.\n",
    "- **matrices**: variables for both rows and columns greater than size two.  *e.g.* $x \\in \\mathbb{R}^{N \\times M}$.\n",
    "\n",
    "\n",
    "## Variable Properties\n",
    "\n",
    "Each variable declared by the user is defined by a set of properties.\n",
    "\n",
    "1. **Elements:** The number of elements in the variable, given as a scalar.\n",
    "2. **Shape:** The tuple defining the dimensions of the variable, given as $(N,M)$ where $N$ is the number of rows and $M$ is the number of columns. This appears as $(1,)$ for a scalar, $(N,)$ for an $N$-dimensional vector, and $(N,M)$ for an $N \\times M$-dimensional matrix. \n",
    "3. **Name:** The name is a colloquial title given by the user. This property not only allows the user to keep track of the origin of the variables of the problem, but can also be queried to search for all variables with names containing a common string.\n",
    "4. **Block index:** The block index keeps track of the order in which each standalone variable is stored in the stack. Though the user defines each variable individually, the parser reformats these variables into a single vector, where the data within each element of the variable is stored in a corresponding block of elements. Vectors and scalars are simply stored in the stack same format, while matrices are vectorized in column-major form.\n",
    "5. **Indices:** The indices of the variable define the explicit elements of the stack where the variable data is stored. The elements in these indices make up the block mentioned above.\n",
    "6. **Type:** The category of the variable.\n",
    "7. **Scaling Type:** The information on whether a variable is scaled, and how scaling is performed if so. Scaling means that the physical quantity for a variable is nondimensionalized with an affine mapping when exposed to the optimizer. This scaling is reversed upon achieving a solution to achieve a meaningful physical quantity.\n",
    "8. **Value Type:** The symbolic or numerical quantity assigned to a given variable.\n"
   ]
  },
  {
   "cell_type": "markdown",
   "id": "5e9ef919-238a-4e7b-8877-bad1e4db9b8e",
   "metadata": {},
   "source": [
    "## Variable Declaration\n",
    "At the high level, each variable declaration is done with the `@new_variable()` function. However, this constructor is overloaded such that variables may be declared with a variety of different input-argument syntaxes. Each call to the constructor takes in the corresponding problem that they are associated with alongside other input arguments."
   ]
  },
  {
   "cell_type": "markdown",
   "id": "3f3798c8-44e3-4580-aef7-b53ad6a74bb2",
   "metadata": {},
   "source": [
    "A scalar variable may be declared via passing the corresponding problem, a dimension of 1, and a variable name as constructor inputs, shown respectively below. The resulting variable properties are shown as well. Here, scaling is not applied."
   ]
  },
  {
   "cell_type": "code",
   "execution_count": 3,
   "id": "adb09100-7bfc-4872-b08c-3ec5e50e3b79",
   "metadata": {},
   "outputs": [
    {
     "data": {
      "text/plain": [
       "Vector variable\n",
       "  1 elements\n",
       "  (1,) shape\n",
       "  Name: x\n",
       "  Block index in stack: 1\n",
       "  Indices in stack: 1\n",
       "  Type: Vector{JuMP.AffExpr}\n",
       "  No scaling (x=xh)\n",
       "  Any perturbation allowed\n",
       "  Value =\n",
       "     x"
      ]
     },
     "execution_count": 3,
     "metadata": {},
     "output_type": "execute_result"
    }
   ],
   "source": [
    "x = @new_variable(pbm, 1, \"x\")"
   ]
  },
  {
   "cell_type": "markdown",
   "id": "5a777fba-39fd-427c-9e1b-3e1afe50bca9",
   "metadata": {},
   "source": [
    "An equivalent scalar variable may also be defined as follows, where the input argument of the variable dimensions are modified. Note that for each new variable definition within a given problem object, the block index increments by 1 and the corresponding stack indices also increase according to the next available element in the stack and the size of the new variable."
   ]
  },
  {
   "cell_type": "code",
   "execution_count": 4,
   "id": "58261ad8-30c8-44c4-80b7-f32400f6d95e",
   "metadata": {},
   "outputs": [
    {
     "data": {
      "text/plain": [
       "Matrix variable\n",
       "  1 elements\n",
       "  (1, 1) shape\n",
       "  Name: x1\n",
       "  Block index in stack: 2\n",
       "  Indices in stack: 2\n",
       "  Type: Matrix{JuMP.AffExpr}\n",
       "  No scaling (x=xh)\n",
       "  Any perturbation allowed\n",
       "  Value =\n",
       "     x1"
      ]
     },
     "execution_count": 4,
     "metadata": {},
     "output_type": "execute_result"
    }
   ],
   "source": [
    "x = @new_variable(pbm, (1,1), \"x\")"
   ]
  },
  {
   "cell_type": "markdown",
   "id": "fe58195b-04b6-4c97-b12f-7b63bba673c2",
   "metadata": {},
   "source": [
    "Finally, a scalar quantity may be simply defined as follows, without specifying a dimension."
   ]
  },
  {
   "cell_type": "code",
   "execution_count": 5,
   "id": "99d558c9-3da8-4f92-8d95-4cd102f3c37a",
   "metadata": {},
   "outputs": [
    {
     "data": {
      "text/plain": [
       "Vector variable\n",
       "  1 elements\n",
       "  (1,) shape\n",
       "  Name: q\n",
       "  Block index in stack: 3\n",
       "  Indices in stack: 3\n",
       "  Type: Vector{JuMP.AffExpr}\n",
       "  No scaling (x=xh)\n",
       "  Any perturbation allowed\n",
       "  Value =\n",
       "     q"
      ]
     },
     "execution_count": 5,
     "metadata": {},
     "output_type": "execute_result"
    }
   ],
   "source": [
    "q = @new_variable(pbm, \"q\")"
   ]
  },
  {
   "cell_type": "markdown",
   "id": "dbcfb83a-5853-486d-8947-11e03a3c5c77",
   "metadata": {},
   "source": [
    "\n",
    "A vector variable is declared by defining a length dimension $>1$. Note the value now has multiple elements."
   ]
  },
  {
   "cell_type": "code",
   "execution_count": 6,
   "id": "2f26eeed-7cbd-4712-bba6-6df473b049ae",
   "metadata": {},
   "outputs": [
    {
     "data": {
      "text/plain": [
       "Vector variable\n",
       "  3 elements\n",
       "  (3,) shape\n",
       "  Name: v\n",
       "  Block index in stack: 4\n",
       "  Indices in stack: 4:6\n",
       "  Type: Vector{JuMP.AffExpr}\n",
       "  No scaling (x=xh)\n",
       "  Any perturbation allowed\n",
       "  Value =\n",
       "     v[1]\n",
       "     v[2]\n",
       "     v[3]"
      ]
     },
     "execution_count": 6,
     "metadata": {},
     "output_type": "execute_result"
    }
   ],
   "source": [
    "v = @new_variable(pbm, 3, \"v\")"
   ]
  },
  {
   "cell_type": "markdown",
   "id": "b7ef5a04-1710-43a6-80e1-220cce4467ca",
   "metadata": {},
   "source": [
    "A matrix variable may be declared by defining dimensions $>1$ for both rows and columns. Note that the value property now has indices that mirror the shape property. A matrix variable may represent a standard matrix, such as those commonly applied to achieve a linear transformations on a vector. A matrix variable may also represent a set of vectors, such as values of the state or control from a dynamic system, sampled at variable discrete timesteps along a trajectory."
   ]
  },
  {
   "cell_type": "code",
   "execution_count": 7,
   "id": "0b3e9e82-a29b-4561-9c9f-91188a077cf7",
   "metadata": {},
   "outputs": [
    {
     "data": {
      "text/plain": [
       "Matrix variable\n",
       "  10 elements\n",
       "  (2, 5) shape\n",
       "  Name: y\n",
       "  Block index in stack: 5\n",
       "  Indices in stack: 7:16\n",
       "  Type: Matrix{JuMP.AffExpr}\n",
       "  No scaling (x=xh)\n",
       "  Any perturbation allowed\n",
       "  Value =\n",
       "     y[1,1]  y[1,2]  y[1,3]  y[1,4]  y[1,5]\n",
       "     y[2,1]  y[2,2]  y[2,3]  y[2,4]  y[2,5]"
      ]
     },
     "execution_count": 7,
     "metadata": {},
     "output_type": "execute_result"
    }
   ],
   "source": [
    "y = @new_variable(pbm, (2, 5), \"y\")"
   ]
  },
  {
   "cell_type": "markdown",
   "id": "46107cb1-90cf-4d04-97ae-2fc97bb512c2",
   "metadata": {},
   "source": [
    "Individual row or column vectors of a matrix may be indexed as follows. Note that these indexed quantities are themselves vector variables."
   ]
  },
  {
   "cell_type": "code",
   "execution_count": 8,
   "id": "a58f5c4c-1899-4d6e-ae62-5ce5cce6dde3",
   "metadata": {},
   "outputs": [
    {
     "data": {
      "text/plain": [
       "Vector variable\n",
       "  2 elements\n",
       "  (2,) shape\n",
       "  Name: y\n",
       "  Block index in stack: 5\n",
       "  Indices in stack: 7:8\n",
       "  Type: SubArray{JuMP.AffExpr, 1, Matrix{JuMP.AffExpr}, Tuple{Base.Slice{Base.OneTo{Int64}}, Int64}, true}\n",
       "  No scaling (x=xh)\n",
       "  Any perturbation allowed\n",
       "  Value =\n",
       "     y[1,1]\n",
       "     y[2,1]"
      ]
     },
     "execution_count": 8,
     "metadata": {},
     "output_type": "execute_result"
    }
   ],
   "source": [
    "y[:, 1]"
   ]
  },
  {
   "cell_type": "markdown",
   "id": "a574d88f-bd82-492c-97be-b7be6f468733",
   "metadata": {},
   "source": [
    "## Variable Operations\n",
    "\n",
    "Once a variable is defined, additional operations may be performed to scale the variable and probe its value. Scaling is an important operation which improves numerical conditioning of the underlying optimization problem by applying an affine mapping to the physical quantity in order to produce a corresponding scaled quantity that lies approximately between 0 and 1. In terms a notation, a physical quantity may be denoted as $x$ while the corresponding scaled quantity may be denoted as $\\hat{x}$.\n",
    "\n",
    "For a scalar, the affine mapping may be approximated as follows. $x = a*\\hat{x} + b$, where $a = (x_{max} - x_{min})$ and $b = -x_{min}$.\n",
    "\n",
    "The utility of the affine mapping becomes clear while defining simple set constraints on the value of the variable. Examples of such constraints are a ball, halfspace, or box, etc. This is discussed in more detail in the Constraints section below."
   ]
  },
  {
   "cell_type": "markdown",
   "id": "579e6e10-b660-4f9c-b095-7679fb483402",
   "metadata": {},
   "source": [
    "The affine mapping for scaling a given physical variable is called via the `@scale()` function. This function is given the vector to be scaled, a vector of entries that will linearly scale each element of the variable, and an affine offset, respectively."
   ]
  },
  {
   "cell_type": "code",
   "execution_count": 9,
   "id": "e1ac051a-f867-449e-8bff-32717c1b9e50",
   "metadata": {},
   "outputs": [
    {
     "data": {
      "text/plain": [
       "Vector variable\n",
       "  1 elements\n",
       "  (1,) shape\n",
       "  Name: qh\n",
       "  Block index in stack: 6\n",
       "  Indices in stack: 17\n",
       "  Type: Vector{JuMP.AffExpr}\n",
       "  No scaling (x=xh)\n",
       "  Any perturbation allowed\n",
       "  Value =\n",
       "     qh"
      ]
     },
     "execution_count": 9,
     "metadata": {},
     "output_type": "execute_result"
    }
   ],
   "source": [
    "qh = @new_variable(pbm, \"qh\")"
   ]
  },
  {
   "cell_type": "code",
   "execution_count": 10,
   "id": "36832448-a579-47e8-93df-2468928ade5e",
   "metadata": {},
   "outputs": [],
   "source": [
    "@scale(qh, [10], 5)"
   ]
  },
  {
   "cell_type": "markdown",
   "id": "1c6c42c7-eabb-46ca-874d-d370060272d9",
   "metadata": {},
   "source": [
    "The value of this new affine mapping can be queried with the `value()` function as follows."
   ]
  },
  {
   "cell_type": "code",
   "execution_count": 11,
   "id": "dc131ae7-58d4-4b4b-8544-49dc9d013e80",
   "metadata": {},
   "outputs": [
    {
     "data": {
      "text/plain": [
       "1-element Vector{JuMP.AffExpr}:\n",
       " 10 qh + 5"
      ]
     },
     "execution_count": 11,
     "metadata": {},
     "output_type": "execute_result"
    }
   ],
   "source": [
    "value(qh)"
   ]
  },
  {
   "cell_type": "markdown",
   "id": "131502cb-3f58-4bbc-b4c2-9b2268c4fe4c",
   "metadata": {},
   "source": [
    "To apply a different scaling to each element of a variable, diagonal entires of a matrix that scales each variable element may be defined. In addition, vector-value affine offsets may also be applied. "
   ]
  },
  {
   "cell_type": "code",
   "execution_count": 12,
   "id": "89c4ddd3-11d4-4440-ad25-bd3da59c6e1c",
   "metadata": {},
   "outputs": [],
   "source": [
    "@scale(y, [2; 4], [3;1])"
   ]
  },
  {
   "cell_type": "code",
   "execution_count": 13,
   "id": "eeecf56b-561f-46b1-83e7-668c302634e3",
   "metadata": {},
   "outputs": [
    {
     "data": {
      "text/plain": [
       "Matrix variable\n",
       "  10 elements\n",
       "  (2, 5) shape\n",
       "  Name: y\n",
       "  Block index in stack: 5\n",
       "  Indices in stack: 7:16\n",
       "  Type: Matrix{JuMP.AffExpr}\n",
       "  Affine scaling x=(S.*xh).+c\n",
       "  Any perturbation allowed\n",
       "  Value =\n",
       "     y[1,1]  y[1,2]  y[1,3]  y[1,4]  y[1,5]\n",
       "     y[2,1]  y[2,2]  y[2,3]  y[2,4]  y[2,5]"
      ]
     },
     "execution_count": 13,
     "metadata": {},
     "output_type": "execute_result"
    }
   ],
   "source": [
    "y"
   ]
  },
  {
   "cell_type": "markdown",
   "id": "c0d02a74-5012-4dcd-86b9-f0c6fe5f7b72",
   "metadata": {},
   "source": [
    "The value of this scaled matrix variable is given below."
   ]
  },
  {
   "cell_type": "code",
   "execution_count": 14,
   "id": "4cc31dfd-a745-404b-8faf-45eee9adfe25",
   "metadata": {},
   "outputs": [
    {
     "data": {
      "text/plain": [
       "2×5 Matrix{JuMP.AffExpr}:\n",
       " 2 y[1,1] + 3  2 y[1,2] + 3  2 y[1,3] + 3  2 y[1,4] + 3  2 y[1,5] + 3\n",
       " 4 y[2,1] + 1  4 y[2,2] + 1  4 y[2,3] + 1  4 y[2,4] + 1  4 y[2,5] + 1"
      ]
     },
     "execution_count": 14,
     "metadata": {},
     "output_type": "execute_result"
    }
   ],
   "source": [
    "value(y)"
   ]
  },
  {
   "cell_type": "markdown",
   "id": "62437e56-3014-4f74-a81f-4f58424b40f2",
   "metadata": {},
   "source": [
    "After defining the variables above, the properties of the corresponding optimization problem may be queried."
   ]
  },
  {
   "cell_type": "code",
   "execution_count": 15,
   "id": "474e51b7-5d5b-4c3e-84b8-e58ccaf8b6c9",
   "metadata": {},
   "outputs": [
    {
     "data": {
      "text/plain": [
       "Conic linear program\n",
       "\n",
       "  Feasibility problem\n",
       "  17 variables (6 blocks)\n",
       "  0 parameters (0 blocks)\n",
       "  0 constraints\n",
       "\n",
       "  Variable argument\n",
       "    17 elements\n",
       "    6 blocks\n",
       "     1) 1    ... x\n",
       "     2) 2    ... x1\n",
       "     3) 3    ... q\n",
       "     4) 4:6  ... v\n",
       "     5) 7:16 ... y\n",
       "     6) 17   ... qh\n",
       "\n",
       "  Parameter argument\n",
       "    0 elements\n",
       "    0 blocks\n"
      ]
     },
     "execution_count": 15,
     "metadata": {},
     "output_type": "execute_result"
    }
   ],
   "source": [
    "pbm"
   ]
  },
  {
   "cell_type": "markdown",
   "id": "4a855090-8c28-48d8-b4a0-804e614d7f37",
   "metadata": {},
   "source": [
    "Finally, the variables of this problem can be queried explicitly."
   ]
  },
  {
   "cell_type": "code",
   "execution_count": 23,
   "id": "9d35eb89-faf8-4560-9a02-d4741cbef28b",
   "metadata": {},
   "outputs": [
    {
     "data": {
      "text/plain": [
       "2-element Vector{SCPToolbox.Parser.ConicLinearProgram.VariableArgumentBlock}:\n",
       " Vector variable\n",
       "  5 elements\n",
       "  (5,) shape\n",
       "  Name: x\n",
       "  Block index in stack: 1\n",
       "  Indices in stack: 1:5\n",
       "  Type: Vector{JuMP.AffExpr}\n",
       "  No scaling (x=xh)\n",
       "  Any perturbation allowed\n",
       "  Value =\n",
       "     x[1]\n",
       "     x[2]\n",
       "     x[3]\n",
       "     x[4]\n",
       "     x[5]\n",
       " Vector variable\n",
       "  1 elements\n",
       "  (1,) shape\n",
       "  Name: t\n",
       "  Block index in stack: 2\n",
       "  Indices in stack: 6\n",
       "  Type: Vector{JuMP.AffExpr}\n",
       "  No scaling (x=xh)\n",
       "  Any perturbation allowed\n",
       "  Value =\n",
       "     t"
      ]
     },
     "execution_count": 23,
     "metadata": {},
     "output_type": "execute_result"
    }
   ],
   "source": [
    "variables(pbm)"
   ]
  },
  {
   "cell_type": "code",
   "execution_count": 16,
   "id": "259e66e2-2562-4f7e-b7e2-fec8c6f75395",
   "metadata": {},
   "outputs": [
    {
     "data": {
      "text/plain": [
       "6-element Vector{SCPToolbox.Parser.ConicLinearProgram.VariableArgumentBlock}:\n",
       " Vector variable\n",
       "  1 elements\n",
       "  (1,) shape\n",
       "  Name: x\n",
       "  Block index in stack: 1\n",
       "  Indices in stack: 1\n",
       "  Type: Vector{JuMP.AffExpr}\n",
       "  No scaling (x=xh)\n",
       "  Any perturbation allowed\n",
       "  Value =\n",
       "     x\n",
       " Matrix variable\n",
       "  1 elements\n",
       "  (1, 1) shape\n",
       "  Name: x1\n",
       "  Block index in stack: 2\n",
       "  Indices in stack: 2\n",
       "  Type: Matrix{JuMP.AffExpr}\n",
       "  No scaling (x=xh)\n",
       "  Any perturbation allowed\n",
       "  Value =\n",
       "     x1\n",
       " Vector variable\n",
       "  1 elements\n",
       "  (1,) shape\n",
       "  Name: q\n",
       "  Block index in stack: 3\n",
       "  Indices in stack: 3\n",
       "  Type: Vector{JuMP.AffExpr}\n",
       "  No scaling (x=xh)\n",
       "  Any perturbation allowed\n",
       "  Value =\n",
       "     q\n",
       " Vector variable\n",
       "  3 elements\n",
       "  (3,) shape\n",
       "  Name: v\n",
       "  Block index in stack: 4\n",
       "  Indices in stack: 4:6\n",
       "  Type: Vector{JuMP.AffExpr}\n",
       "  No scaling (x=xh)\n",
       "  Any perturbation allowed\n",
       "  Value =\n",
       "     v[1]\n",
       "     v[2]\n",
       "     v[3]\n",
       " Matrix variable\n",
       "  10 elements\n",
       "  (2, 5) shape\n",
       "  Name: y\n",
       "  Block index in stack: 5\n",
       "  Indices in stack: 7:16\n",
       "  Type: Matrix{JuMP.AffExpr}\n",
       "  Affine scaling x=(S.*xh).+c\n",
       "  Any perturbation allowed\n",
       "  Value =\n",
       "     y[1,1]  y[1,2]  y[1,3]  y[1,4]  y[1,5]\n",
       "     y[2,1]  y[2,2]  y[2,3]  y[2,4]  y[2,5]\n",
       " Vector variable\n",
       "  1 elements\n",
       "  (1,) shape\n",
       "  Name: qh\n",
       "  Block index in stack: 6\n",
       "  Indices in stack: 17\n",
       "  Type: Vector{JuMP.AffExpr}\n",
       "  Affine scaling x=(S.*xh).+c\n",
       "  Any perturbation allowed\n",
       "  Value =\n",
       "     qh"
      ]
     },
     "metadata": {},
     "output_type": "display_data"
    }
   ],
   "source": [
    "display(variables(pbm))"
   ]
  },
  {
   "cell_type": "markdown",
   "id": "3c3009cf-4133-43ae-891f-bb52a2ca9884",
   "metadata": {},
   "source": [
    "# Constraints"
   ]
  },
  {
   "cell_type": "markdown",
   "id": "ab0192b1-c69d-4045-be4b-f7b0731d6d1c",
   "metadata": {},
   "source": [
    "A conic constraint is of the form `{z : z ∈ K}`, where `K` is a convex cone.\n",
    "\n",
    "The supported cones are:\n",
    "- `UNCONSTRAINED` for unconstrained.\n",
    "- `ZERO` for constraints `z==0`.\n",
    "- `NONPOS` for constraints `z<=0`.\n",
    "- `L1` for constraints `z=(t, x), norm(x, 1)<=t`.\n",
    "- `SOC` for constraints `z=(t, x), norm(x, 2)<=t`.\n",
    "- `LINF` for constraints `z=(t, x), norm(x, ∞)<=t`.\n",
    "- `GEOM` for constraints `z=(t, x), geomean(x)>=t`.\n",
    "- `EXP` for constraints `z=(x, y, w), y*exp(x/y)<=w, y>0`."
   ]
  },
  {
   "cell_type": "markdown",
   "id": "a031da93-a3f3-4d62-8033-bd3316e6e2e6",
   "metadata": {},
   "source": [
    "Let's define a second order cone:\n",
    "$$\n",
    "\\|x\\|_2 \\le t\n",
    "$$\n",
    "\n",
    "where $x\\in\\mathbb R^2$."
   ]
  },
  {
   "cell_type": "code",
   "execution_count": 17,
   "id": "cb541d76-20a5-4a42-841a-8396c0b85264",
   "metadata": {},
   "outputs": [
    {
     "ename": "LoadError",
     "evalue": "UndefVarError: pars not defined",
     "output_type": "error",
     "traceback": [
      "UndefVarError: pars not defined",
      "",
      "Stacktrace:",
      " [1] top-level scope",
      "   @ In[17]:2",
      " [2] eval",
      "   @ ./boot.jl:373 [inlined]",
      " [3] include_string(mapexpr::typeof(REPL.softscope), mod::Module, code::String, filename::String)",
      "   @ Base ./loading.jl:1196"
     ]
    }
   ],
   "source": [
    "opts = Dict(\"verbose\" => 0)\n",
    "pbm = ConicProgram(pars; solver = ECOS.Optimizer, solver_options = opts)\n",
    "\n",
    "x = @new_variable(pbm, 2, \"x\")\n",
    "t = @new_variable(pbm, \"t\")\n",
    "\n",
    "# Define the constraint\n",
    "cstr = @add_constraint(\n",
    "    pbm, SOC, \"my-soc\", (x, t),\n",
    "    begin\n",
    "        local x, t = arg\n",
    "        vcat(t, x)\n",
    "    end)\n",
    "\n",
    "cstr = @add_constraint(\n",
    "    pbm, NONPOS, \"my-nonpos-x\", (x,),\n",
    "    begin\n",
    "        local x, = arg\n",
    "        x\n",
    "    end)\n",
    "\n",
    "cstr = @add_constraint(\n",
    "    pbm, NONPOS, \"nonpos-another\", (x,),\n",
    "    begin\n",
    "        local x, = arg\n",
    "        x\n",
    "    end)\n",
    "\n",
    "display(cstr)\n",
    "display(pbm)\n",
    "constraints(pbm)"
   ]
  },
  {
   "cell_type": "code",
   "execution_count": 18,
   "id": "d098bd1f-6c54-4348-9903-6f311367320d",
   "metadata": {},
   "outputs": [
    {
     "data": {
      "text/plain": [
       "0 constraints"
      ]
     },
     "execution_count": 18,
     "metadata": {},
     "output_type": "execute_result"
    },
    {
     "name": "stdout",
     "output_type": "stream",
     "text": [
      "\n",
      "\n"
     ]
    }
   ],
   "source": [
    "constraints(pbm, \"^nonpos\")"
   ]
  },
  {
   "cell_type": "markdown",
   "id": "d2edd31f-876a-422a-b8a2-23e679de5ae9",
   "metadata": {},
   "source": [
    "# Objective function"
   ]
  },
  {
   "cell_type": "code",
   "execution_count": 19,
   "id": "db4ca78d-194c-4d0c-bbb6-fbc8680718ea",
   "metadata": {},
   "outputs": [
    {
     "data": {
      "text/plain": [
       "Cost function composed of 1 terms\n",
       "\n",
       "Term 1:\n",
       "  Coefficient: 1.00e+00\n",
       "  Quadratic function\n",
       "  Arguments:\n",
       "    t (block 1) : 1\n",
       "  Current value =\n",
       "    5 t²"
      ]
     },
     "execution_count": 19,
     "metadata": {},
     "output_type": "execute_result"
    }
   ],
   "source": [
    "my_pars = Dict(\"a\" => 5)\n",
    "opts = Dict(\"verbose\" => 0)\n",
    "pbm = ConicProgram(my_pars; solver = ECOS.Optimizer, solver_options = opts)\n",
    "\n",
    "t = @new_variable(pbm, \"t\")\n",
    "\n",
    "function tmp()\n",
    "    obj = @add_cost(\n",
    "        pbm, (t,), begin\n",
    "            TEST_P, = arg\n",
    "            pars[\"a\"]*sum(TEST_P.^2)\n",
    "        end)\n",
    "    #display(TEST_P)\n",
    "end\n",
    "\n",
    "obj = @add_cost(\n",
    "    pbm, (t,), begin\n",
    "        TEST_P, = arg\n",
    "        pars[\"a\"]*sum(TEST_P.^2)\n",
    "    end)\n",
    "\n",
    "pbm\n",
    "\n",
    "cost(pbm)"
   ]
  },
  {
   "cell_type": "code",
   "execution_count": 20,
   "id": "6068cdd5-3947-4b54-9a97-30cf001dd333",
   "metadata": {},
   "outputs": [
    {
     "ename": "LoadError",
     "evalue": "UndefVarError: TEST_P not defined",
     "output_type": "error",
     "traceback": [
      "UndefVarError: TEST_P not defined",
      "",
      "Stacktrace:",
      " [1] top-level scope",
      "   @ :0",
      " [2] eval",
      "   @ ./boot.jl:373 [inlined]",
      " [3] include_string(mapexpr::typeof(REPL.softscope), mod::Module, code::String, filename::String)",
      "   @ Base ./loading.jl:1196"
     ]
    }
   ],
   "source": [
    "TEST_P"
   ]
  },
  {
   "cell_type": "markdown",
   "id": "7e4de56b-5524-483a-83d6-1413eac99406",
   "metadata": {},
   "source": [
    "# Solve problem"
   ]
  },
  {
   "cell_type": "code",
   "execution_count": 21,
   "id": "3c598382-42f6-4bb8-a4bc-1dce1db00cf6",
   "metadata": {},
   "outputs": [
    {
     "name": "stdout",
     "output_type": "stream",
     "text": [
      "x = [2.0000000000095266, 2.0000000000095266, 5.0000000000238165, 10.000000000047633, -1.000000000004763]\n",
      "t = [1.1524313115706931e-5]\n",
      "J = -8.29959449100464e-10\n",
      "\n",
      "ECOS 2.0.8 - (C) embotech GmbH, Zurich Switzerland, 2012-15. Web: www.embotech.com/ECOS\n",
      "\n",
      "It     pcost       dcost      gap   pres   dres    k/t    mu     step   sigma     IR    |   BT\n",
      " 0  +0.000e+00  -2.449e-01  +4e+00  2e-01  1e-01  1e+00  2e+00    ---    ---    1  1  - |  -  - \n",
      " 1  -6.147e-02  -8.099e-02  +2e-01  7e-03  4e-03  3e-02  9e-02  0.9530  5e-03   1  1  1 |  0  0\n",
      " 2  -5.548e-04  -2.077e-03  +1e-02  3e-04  2e-04  9e-04  5e-03  0.9475  8e-04   1  1  1 |  0  0\n",
      " 3  -4.848e-04  -6.068e-04  +2e-03  6e-05  4e-05  4e-04  1e-03  0.9090  1e-01   1  2  2 |  0  0\n",
      " 4  -4.348e-05  -7.855e-05  +8e-04  2e-05  1e-05  1e-04  4e-04  0.7244  1e-01   1  2  2 |  0  0\n",
      " 5  -1.174e-04  -1.268e-04  +3e-04  9e-06  5e-06  7e-05  2e-04  0.8239  3e-01   1  1  1 |  0  0\n",
      " 6  -1.708e-06  -3.017e-06  +5e-05  1e-06  7e-07  9e-06  2e-05  0.9890  1e-01   2  2  2 |  0  0\n",
      " 7  -6.230e-08  -1.239e-07  +2e-06  6e-08  4e-08  4e-07  1e-06  0.9600  8e-03   1  1  1 |  0  0\n",
      " 8  -5.661e-08  -6.196e-08  +2e-07  5e-09  3e-09  4e-08  1e-07  0.9181  6e-03   2  1  1 |  0  0\n",
      " 9  +3.774e-10  -1.080e-09  +6e-08  1e-09  9e-10  1e-08  3e-08  0.9257  2e-01   1  1  1 |  0  0\n",
      "10  -6.392e-10  -7.070e-10  +3e-09  6e-11  4e-11  5e-10  1e-09  0.9765  2e-02   2  1  1 |  0  0\n",
      "\n",
      "OPTIMAL (within feastol=6.4e-11, reltol=4.2e+00, abstol=2.7e-09).\n",
      "Runtime: 0.000123 seconds.\n",
      "\n"
     ]
    }
   ],
   "source": [
    "problem_pars = Dict(\"a\" => 5, \"x_ref\" => [2; 2; 5; 10; -1])\n",
    "opts = Dict(\"verbose\" => 1)\n",
    "pbm = ConicProgram(problem_pars;\n",
    "    solver = ECOS.Optimizer,\n",
    "    solver_options = opts)\n",
    "\n",
    "x = @new_variable(pbm, length(problem_pars[\"x_ref\"]), \"x\")\n",
    "t = @new_variable(pbm, \"t\")\n",
    "\n",
    "# norm(x-x_ref, 2) <= t\n",
    "@add_constraint(\n",
    "    pbm, SOC, (x, t),\n",
    "    begin\n",
    "        x, t = arg\n",
    "        vcat(t, x-pars[\"x_ref\"])\n",
    "    end)\n",
    "\n",
    "# cost: min t\n",
    "@add_cost(\n",
    "    pbm, (t,), begin\n",
    "        t, = arg\n",
    "        t.^2\n",
    "    end)\n",
    "\n",
    "# solve the problem\n",
    "exit_status = solve!(pbm)\n",
    "\n",
    "# what have we found?\n",
    "x_opt = value(x)\n",
    "t_opt = value(t)\n",
    "J_opt = objective_value(pbm)\n",
    "\n",
    "println(\"x = \", x_opt)\n",
    "println(\"t = \", t_opt)\n",
    "println(\"J = \", J_opt)"
   ]
  },
  {
   "cell_type": "code",
   "execution_count": 22,
   "id": "468f33e9-dfbf-457e-8ea3-c9875e631358",
   "metadata": {},
   "outputs": [
    {
     "data": {
      "text/plain": [
       "Vector variable\n",
       "  1 elements\n",
       "  (1,) shape\n",
       "  Name: t\n",
       "  Block index in stack: 2\n",
       "  Indices in stack: 6\n",
       "  Type: Vector{JuMP.AffExpr}\n",
       "  No scaling (x=xh)\n",
       "  Any perturbation allowed\n",
       "  Value =\n",
       "     t"
      ]
     },
     "execution_count": 22,
     "metadata": {},
     "output_type": "execute_result"
    }
   ],
   "source": [
    "t"
   ]
  }
 ],
 "metadata": {
  "kernelspec": {
   "display_name": "Julia 1.7.1",
   "language": "julia",
   "name": "julia-1.7"
  },
  "language_info": {
   "file_extension": ".jl",
   "mimetype": "application/julia",
   "name": "julia",
   "version": "1.7.1"
  }
 },
 "nbformat": 4,
 "nbformat_minor": 5
}
