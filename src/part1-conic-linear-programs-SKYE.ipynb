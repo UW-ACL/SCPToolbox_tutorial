{
 "cells": [
  {
   "cell_type": "code",
   "execution_count": 1,
   "id": "7b730534-e2f1-4c3a-b51c-0648350a014f",
   "metadata": {},
   "outputs": [
    {
     "name": "stderr",
     "output_type": "stream",
     "text": [
      "\u001b[32m\u001b[1m  Activating\u001b[22m\u001b[39m project at `~/ACL/AAS/SCPToolbox_tutorial`\n",
      "┌ Info: Precompiling SCPToolbox [bd2bc758-a5dc-11eb-050f-6b2434548817]\n",
      "└ @ Base loading.jl:1423\n"
     ]
    }
   ],
   "source": [
    "import Pkg\n",
    "Pkg.activate(\"..\")\n",
    "\n",
    "using SCPToolbox\n",
    "using ECOS"
   ]
  },
  {
   "cell_type": "markdown",
   "id": "0d412ad5-2b06-4f9e-b8be-1d11df25d64d",
   "metadata": {},
   "source": [
    "# Declare new problem"
   ]
  },
  {
   "cell_type": "code",
   "execution_count": 2,
   "id": "664867d9-f891-4872-a190-3e951045f01e",
   "metadata": {},
   "outputs": [
    {
     "data": {
      "text/plain": [
       "Conic linear program\n",
       "\n",
       "  Feasibility problem\n",
       "  0 variables (0 blocks)\n",
       "  0 parameters (0 blocks)\n",
       "  0 constraints\n",
       "\n",
       "  Variable argument\n",
       "    0 elements\n",
       "    0 blocks\n",
       "\n",
       "\n",
       "  Parameter argument\n",
       "    0 elements\n",
       "    0 blocks\n"
      ]
     },
     "execution_count": 2,
     "metadata": {},
     "output_type": "execute_result"
    }
   ],
   "source": [
    "opts = Dict(\"verbose\" => 0) \n",
    "pbm = ConicProgram(solver = ECOS.Optimizer, solver_options = opts)"
   ]
  },
  {
   "cell_type": "markdown",
   "id": "ea65405e-4318-404d-b782-00a9d794f472",
   "metadata": {},
   "source": [
    "# Variables\n",
    "\n"
   ]
  },
  {
   "cell_type": "markdown",
   "id": "21038bc4-2ea3-498f-8451-83a6eb2ad88a",
   "metadata": {},
   "source": [
    "Variables are the quantities that the SCP Toolbox determines values for upon solution. These variables therefore begin as symbolic values during problem formulation, but are ultimately given numerical values upon convergence to a locally optimal trajectory solution. These variables are generally broken up into three main categories: \n",
    "\n",
    "- **scalars**: variables containing a single element.  *e.g.* $x \\in \\mathbb{R}$.\n",
    "- **vectors**: variables containing a single row or column.  *e.g.* $x \\in \\mathbb{R}^N$.\n",
    "- **matrices**: variables for both rows and columns greater than size two.  *e.g.* $x \\in \\mathbb{R}^{N \\times M}$.\n",
    "\n",
    "\n",
    "## Variable Properties\n",
    "\n",
    "Each variable declared by the user is defined by a set of properties.\n",
    "\n",
    "1. **Elements:** The number of elements in the variable, given as a scalar.\n",
    "2. **Shape:** The tuple defining the dimensions of the variable, given as $(N,M)$ where $N$ is the number of rows and $M$ is the number of columns. This appears as $(1,)$ for a scalar, $(N,)$ for an $N$-dimensional vector, and $(N,M)$ for an $N \\times M$-dimensional matrix. \n",
    "3. **Name:** The name is a colloquial title given by the user. This property not only allows the user to keep track of the origin of the variables of the problem, but can also be queried to search for all variables with names containing a common string.\n",
    "4. **Block index:** The block index keeps track of the order in which each standalone variable is stored in the stack. Though the user defines each variable individually, the parser reformats these variables into a single vector, where the data within each element of the variable is stored in a corresponding block of elements. Vectors and scalars are simply stored in the stack same format, while matrices are vectorized in column-major form.\n",
    "5. **Indices:** The indices of the variable define the explicit elements of the stack where the variable data is stored. The elements in these indices make up the block mentioned above.\n",
    "6. **Type:** The category of the variable.\n",
    "7. **Scaling Type:** The information on whether a variable is scaled, and how scaling is performed if so. Scaling means that the physical quantity for a variable is nondimensionalized with an affine mapping when exposed to the optimizer. This scaling is reversed upon achieving a solution to achieve a meaningful physical quantity.\n",
    "8. **Value Type:** The symbolic or numerical quantity assigned to a given variable.\n"
   ]
  },
  {
   "cell_type": "markdown",
   "id": "5e9ef919-238a-4e7b-8877-bad1e4db9b8e",
   "metadata": {},
   "source": [
    "## Variable Declaration\n",
    "At the high level, each variable declaration is done with the `@new_variable()` function. However, this constructor is overloaded such that variables may be declared with a variety of different input-argument syntaxes. Each call to the constructor takes in the corresponding problem that they are associated with alongside other input arguments."
   ]
  },
  {
   "cell_type": "markdown",
   "id": "3f3798c8-44e3-4580-aef7-b53ad6a74bb2",
   "metadata": {},
   "source": [
    "A scalar variable may be declared via passing the corresponding problem, a dimension of 1, and a variable name as constructor inputs, shown respectively below. The resulting variable properties are shown as well. Here, scaling is not applied."
   ]
  },
  {
   "cell_type": "code",
   "execution_count": null,
   "id": "adb09100-7bfc-4872-b08c-3ec5e50e3b79",
   "metadata": {},
   "outputs": [],
   "source": [
    "x = @new_variable(pbm, 1, \"x\")"
   ]
  },
  {
   "cell_type": "markdown",
   "id": "5a777fba-39fd-427c-9e1b-3e1afe50bca9",
   "metadata": {},
   "source": [
    "An equivalent scalar variable may also be defined as follows, where the input argument of the variable dimensions are modified. Note that for each new variable definition within a given problem object, the block index increments by 1 and the corresponding stack indices also increase according to the next available element in the stack and the size of the new variable."
   ]
  },
  {
   "cell_type": "code",
   "execution_count": null,
   "id": "58261ad8-30c8-44c4-80b7-f32400f6d95e",
   "metadata": {},
   "outputs": [],
   "source": [
    "x = @new_variable(pbm, (1,1), \"x\")"
   ]
  },
  {
   "cell_type": "markdown",
   "id": "fe58195b-04b6-4c97-b12f-7b63bba673c2",
   "metadata": {},
   "source": [
    "Finally, a scalar quantity may be simply defined as follows, without specifying a dimension."
   ]
  },
  {
   "cell_type": "code",
   "execution_count": null,
   "id": "99d558c9-3da8-4f92-8d95-4cd102f3c37a",
   "metadata": {},
   "outputs": [],
   "source": [
    "q = @new_variable(pbm, \"q\")"
   ]
  },
  {
   "cell_type": "markdown",
   "id": "dbcfb83a-5853-486d-8947-11e03a3c5c77",
   "metadata": {},
   "source": [
    "\n",
    "A vector variable is declared by defining a length dimension $>1$. Note the value now has multiple elements."
   ]
  },
  {
   "cell_type": "code",
   "execution_count": null,
   "id": "2f26eeed-7cbd-4712-bba6-6df473b049ae",
   "metadata": {},
   "outputs": [],
   "source": [
    "v = @new_variable(pbm, 3, \"v\")"
   ]
  },
  {
   "cell_type": "markdown",
   "id": "b7ef5a04-1710-43a6-80e1-220cce4467ca",
   "metadata": {},
   "source": [
    "A matrix variable may be declared by defining dimensions $>1$ for both rows and columns. Note that the value property now has indices that mirror the shape property. A matrix variable may represent a standard matrix, such as those commonly applied to achieve a linear transformations on a vector. A matrix variable may also represent a set of vectors, such as values of the state or control from a dynamic system, sampled at variable discrete timesteps along a trajectory."
   ]
  },
  {
   "cell_type": "code",
   "execution_count": null,
   "id": "0b3e9e82-a29b-4561-9c9f-91188a077cf7",
   "metadata": {},
   "outputs": [],
   "source": [
    "y = @new_variable(pbm, (2, 5), \"y\")"
   ]
  },
  {
   "cell_type": "markdown",
   "id": "46107cb1-90cf-4d04-97ae-2fc97bb512c2",
   "metadata": {},
   "source": [
    "Individual row or column vectors of a matrix may be indexed as follows. Note that these indexed quantities are themselves vector variables."
   ]
  },
  {
   "cell_type": "code",
   "execution_count": null,
   "id": "a58f5c4c-1899-4d6e-ae62-5ce5cce6dde3",
   "metadata": {},
   "outputs": [],
   "source": [
    "y[:, 1]"
   ]
  },
  {
   "cell_type": "markdown",
   "id": "a574d88f-bd82-492c-97be-b7be6f468733",
   "metadata": {},
   "source": [
    "## Variable Operations\n",
    "\n",
    "Once a variable is defined, additional operations may be performed to scale the variable and probe its value. Scaling is an important operation which improves numerical conditioning of the underlying optimization problem by applying an affine mapping to the physical quantity in order to produce a corresponding scaled quantity that lies approximately between 0 and 1. In terms a notation, a physical quantity may be denoted as $x$ while the corresponding scaled quantity may be denoted as $\\hat{x}$.\n",
    "\n",
    "For a scalar, the affine mapping may be approximated as follows. $x = a*\\hat{x} + b$, where $a = (x_{max} - x_{min})$ and $b = -x_{min}$.\n",
    "\n",
    "The utility of the affine mapping becomes clear while defining simple set constraints on the value of the variable. Examples of such constraints are a ball, halfspace, or box, etc. This is discussed in more detail in the Constraints section below."
   ]
  },
  {
   "cell_type": "markdown",
   "id": "579e6e10-b660-4f9c-b095-7679fb483402",
   "metadata": {},
   "source": [
    "The affine mapping for scaling a given physical variable is called via the `@scale()` function. This function is given the vector to be scaled, a vector of entries that will linearly scale each element of the variable, and an affine offset, respectively."
   ]
  },
  {
   "cell_type": "code",
   "execution_count": null,
   "id": "e1ac051a-f867-449e-8bff-32717c1b9e50",
   "metadata": {},
   "outputs": [],
   "source": [
    "qh = @new_variable(pbm, \"qh\")"
   ]
  },
  {
   "cell_type": "code",
   "execution_count": null,
   "id": "36832448-a579-47e8-93df-2468928ade5e",
   "metadata": {},
   "outputs": [],
   "source": [
    "@scale(qh, [10], 5)"
   ]
  },
  {
   "cell_type": "markdown",
   "id": "1c6c42c7-eabb-46ca-874d-d370060272d9",
   "metadata": {},
   "source": [
    "The value of this new affine mapping can be queried with the `value()` function as follows."
   ]
  },
  {
   "cell_type": "code",
   "execution_count": null,
   "id": "dc131ae7-58d4-4b4b-8544-49dc9d013e80",
   "metadata": {},
   "outputs": [],
   "source": [
    "value(qh)"
   ]
  },
  {
   "cell_type": "markdown",
   "id": "131502cb-3f58-4bbc-b4c2-9b2268c4fe4c",
   "metadata": {},
   "source": [
    "To apply a different scaling to each element of a variable, diagonal entires of a matrix that scales each variable element may be defined. In addition, vector-value affine offsets may also be applied. "
   ]
  },
  {
   "cell_type": "code",
   "execution_count": null,
   "id": "89c4ddd3-11d4-4440-ad25-bd3da59c6e1c",
   "metadata": {},
   "outputs": [],
   "source": [
    "@scale(y, [2; 4], [3;1])"
   ]
  },
  {
   "cell_type": "code",
   "execution_count": null,
   "id": "eeecf56b-561f-46b1-83e7-668c302634e3",
   "metadata": {},
   "outputs": [],
   "source": [
    "y"
   ]
  },
  {
   "cell_type": "markdown",
   "id": "c0d02a74-5012-4dcd-86b9-f0c6fe5f7b72",
   "metadata": {},
   "source": [
    "The value of this scaled matrix variable is given below."
   ]
  },
  {
   "cell_type": "code",
   "execution_count": null,
   "id": "4cc31dfd-a745-404b-8faf-45eee9adfe25",
   "metadata": {},
   "outputs": [],
   "source": [
    "value(y)"
   ]
  },
  {
   "cell_type": "markdown",
   "id": "62437e56-3014-4f74-a81f-4f58424b40f2",
   "metadata": {},
   "source": [
    "After defining the variables above, the properties of the corresponding optimization problem may be queried."
   ]
  },
  {
   "cell_type": "code",
   "execution_count": null,
   "id": "474e51b7-5d5b-4c3e-84b8-e58ccaf8b6c9",
   "metadata": {},
   "outputs": [],
   "source": [
    "pbm"
   ]
  },
  {
   "cell_type": "markdown",
   "id": "4a855090-8c28-48d8-b4a0-804e614d7f37",
   "metadata": {},
   "source": [
    "Finally, the variables of this problem can be queried explicitly."
   ]
  },
  {
   "cell_type": "code",
   "execution_count": null,
   "id": "259e66e2-2562-4f7e-b7e2-fec8c6f75395",
   "metadata": {},
   "outputs": [],
   "source": [
    "display(variables(pbm))"
   ]
  },
  {
   "cell_type": "markdown",
   "id": "3c3009cf-4133-43ae-891f-bb52a2ca9884",
   "metadata": {},
   "source": [
    "# Constraints"
   ]
  },
  {
   "cell_type": "markdown",
   "id": "ab0192b1-c69d-4045-be4b-f7b0731d6d1c",
   "metadata": {},
   "source": [
    "A conic constraint is of the form `{z : z ∈ K}`, where `K` is a convex cone.\n",
    "\n",
    "The supported cones are:\n",
    "- `UNCONSTRAINED` for unconstrained.\n",
    "- `ZERO` for constraints `z==0`.\n",
    "- `NONPOS` for constraints `z<=0`.\n",
    "- `L1` for constraints `z=(t, x), norm(x, 1)<=t`.\n",
    "- `SOC` for constraints `z=(t, x), norm(x, 2)<=t`.\n",
    "- `LINF` for constraints `z=(t, x), norm(x, ∞)<=t`.\n",
    "- `GEOM` for constraints `z=(t, x), geomean(x)>=t`.\n",
    "- `EXP` for constraints `z=(x, y, w), y*exp(x/y)<=w, y>0`."
   ]
  },
  {
   "cell_type": "markdown",
   "id": "a031da93-a3f3-4d62-8033-bd3316e6e2e6",
   "metadata": {},
   "source": [
    "Let's define a second order cone:\n",
    "$$\n",
    "\\|x\\|_2 \\le t\n",
    "$$\n",
    "\n",
    "where $x\\in\\mathbb R^2$."
   ]
  },
  {
   "cell_type": "code",
   "execution_count": null,
   "id": "cb541d76-20a5-4a42-841a-8396c0b85264",
   "metadata": {},
   "outputs": [],
   "source": [
    "opts = Dict(\"verbose\" => 0)\n",
    "pbm = ConicProgram(pars; solver = ECOS.Optimizer, solver_options = opts)\n",
    "\n",
    "x = @new_variable(pbm, 2, \"x\")\n",
    "t = @new_variable(pbm, \"t\")\n",
    "\n",
    "# Define the constraint\n",
    "cstr = @add_constraint(\n",
    "    pbm, SOC, \"my-soc\", (x, t),\n",
    "    begin\n",
    "        local x, t = arg\n",
    "        vcat(t, x)\n",
    "    end)\n",
    "\n",
    "cstr = @add_constraint(\n",
    "    pbm, NONPOS, \"my-nonpos-x\", (x,),\n",
    "    begin\n",
    "        local x, = arg\n",
    "        x\n",
    "    end)\n",
    "\n",
    "cstr = @add_constraint(\n",
    "    pbm, NONPOS, \"nonpos-another\", (x,),\n",
    "    begin\n",
    "        local x, = arg\n",
    "        x\n",
    "    end)\n",
    "\n",
    "display(cstr)\n",
    "display(pbm)\n",
    "constraints(pbm)"
   ]
  },
  {
   "cell_type": "code",
   "execution_count": null,
   "id": "d098bd1f-6c54-4348-9903-6f311367320d",
   "metadata": {},
   "outputs": [],
   "source": [
    "constraints(pbm, \"^nonpos\")"
   ]
  },
  {
   "cell_type": "markdown",
   "id": "d2edd31f-876a-422a-b8a2-23e679de5ae9",
   "metadata": {},
   "source": [
    "# Objective function"
   ]
  },
  {
   "cell_type": "code",
   "execution_count": null,
   "id": "db4ca78d-194c-4d0c-bbb6-fbc8680718ea",
   "metadata": {},
   "outputs": [],
   "source": [
    "my_pars = Dict(\"a\" => 5)\n",
    "opts = Dict(\"verbose\" => 0)\n",
    "pbm = ConicProgram(my_pars; solver = ECOS.Optimizer, solver_options = opts)\n",
    "\n",
    "t = @new_variable(pbm, \"t\")\n",
    "\n",
    "function tmp()\n",
    "    obj = @add_cost(\n",
    "        pbm, (t,), begin\n",
    "            TEST_P, = arg\n",
    "            pars[\"a\"]*sum(TEST_P.^2)\n",
    "        end)\n",
    "    #display(TEST_P)\n",
    "end\n",
    "\n",
    "obj = @add_cost(\n",
    "    pbm, (t,), begin\n",
    "        TEST_P, = arg\n",
    "        pars[\"a\"]*sum(TEST_P.^2)\n",
    "    end)\n",
    "\n",
    "pbm\n",
    "\n",
    "cost(pbm)"
   ]
  },
  {
   "cell_type": "code",
   "execution_count": null,
   "id": "6068cdd5-3947-4b54-9a97-30cf001dd333",
   "metadata": {},
   "outputs": [],
   "source": [
    "TEST_P"
   ]
  },
  {
   "cell_type": "markdown",
   "id": "7e4de56b-5524-483a-83d6-1413eac99406",
   "metadata": {},
   "source": [
    "# Solve problem"
   ]
  },
  {
   "cell_type": "code",
   "execution_count": null,
   "id": "3c598382-42f6-4bb8-a4bc-1dce1db00cf6",
   "metadata": {},
   "outputs": [],
   "source": [
    "problem_pars = Dict(\"a\" => 5, \"x_ref\" => [2; 2; 5; 10; -1])\n",
    "opts = Dict(\"verbose\" => 1)\n",
    "pbm = ConicProgram(problem_pars;\n",
    "    solver = ECOS.Optimizer,\n",
    "    solver_options = opts)\n",
    "\n",
    "x = @new_variable(pbm, length(problem_pars[\"x_ref\"]), \"x\")\n",
    "t = @new_variable(pbm, \"t\")\n",
    "\n",
    "# norm(x-x_ref, 2) <= t\n",
    "@add_constraint(\n",
    "    pbm, SOC, (x, t),\n",
    "    begin\n",
    "        x, t = arg\n",
    "        vcat(t, x-pars[\"x_ref\"])\n",
    "    end)\n",
    "\n",
    "# cost: min t\n",
    "@add_cost(\n",
    "    pbm, (t,), begin\n",
    "        t, = arg\n",
    "        t.^2\n",
    "    end)\n",
    "\n",
    "# solve the problem\n",
    "exit_status = solve!(pbm)\n",
    "\n",
    "# what have we found?\n",
    "x_opt = value(x)\n",
    "t_opt = value(t)\n",
    "J_opt = objective_value(pbm)\n",
    "\n",
    "println(\"x = \", x_opt)\n",
    "println(\"t = \", t_opt)\n",
    "println(\"J = \", J_opt)"
   ]
  },
  {
   "cell_type": "code",
   "execution_count": null,
   "id": "468f33e9-dfbf-457e-8ea3-c9875e631358",
   "metadata": {},
   "outputs": [],
   "source": [
    "t"
   ]
  }
 ],
 "metadata": {
  "kernelspec": {
   "display_name": "Julia 1.7.1",
   "language": "julia",
   "name": "julia-1.7"
  },
  "language_info": {
   "file_extension": ".jl",
   "mimetype": "application/julia",
   "name": "julia",
   "version": "1.7.1"
  }
 },
 "nbformat": 4,
 "nbformat_minor": 5
}
