{
 "cells": [
  {
   "cell_type": "code",
   "execution_count": 4,
   "id": "5fbe39b5-3ef0-4cea-bfea-537a8ab8851e",
   "metadata": {},
   "outputs": [
    {
     "name": "stderr",
     "output_type": "stream",
     "text": [
      "\u001b[32m\u001b[1m  Activating\u001b[22m\u001b[39m project at `~/Documents/SCPToolbox_tutorial`\n"
     ]
    }
   ],
   "source": [
    "import Pkg\n",
    "Pkg.activate(\"..\")\n",
    "\n",
    "# these lines are required only for local installations\n",
    "# Pkg.develop(path=\"../../scp_traj_opt/\")\n",
    "# Pkg.precompile()\n",
    "\n",
    "using SCPToolbox\n",
    "using COSMO\n",
    "using ECOS"
   ]
  },
  {
   "cell_type": "code",
   "execution_count": 6,
   "id": "24248afe-cc2c-4108-b4b2-a3b36740418f",
   "metadata": {},
   "outputs": [
    {
     "ename": "LoadError",
     "evalue": "TypeError: in keyword argument solver, expected DataType, got Type{Optimizer}",
     "output_type": "error",
     "traceback": [
      "TypeError: in keyword argument solver, expected DataType, got Type{Optimizer}",
      "",
      "Stacktrace:",
      " [1] top-level scope",
      "   @ In[6]:6",
      " [2] eval",
      "   @ ./boot.jl:373 [inlined]",
      " [3] include_string(mapexpr::typeof(REPL.softscope), mod::Module, code::String, filename::String)",
      "   @ Base ./loading.jl:1196"
     ]
    }
   ],
   "source": [
    "# least squares problem\n",
    "A = [1 3 ; 7 20 ; 8 9.9 ; 3 4.5]\n",
    "b = [4;5;1;2]\n",
    "\n",
    "# pbm = ConicProgram(solver = ECOS.Optimizer)\n",
    "pbm = ConicProgram(solver = COSMO.Optimizer)\n",
    "x = @new_variable(pbm,2,\"x\")\n",
    "@add_cost(pbm,(x,),\n",
    "    begin\n",
    "        x, = arg\n",
    "        sum((A*x .- b) .^ 2)\n",
    "    end\n",
    ")\n",
    "exit_status = solve!(pbm)\n",
    "@show exit_status\n",
    "@show value(x)\n",
    ";"
   ]
  }
 ],
 "metadata": {
  "kernelspec": {
   "display_name": "Julia 1.7.1",
   "language": "julia",
   "name": "julia-1.7"
  },
  "language_info": {
   "file_extension": ".jl",
   "mimetype": "application/julia",
   "name": "julia",
   "version": "1.7.1"
  }
 },
 "nbformat": 4,
 "nbformat_minor": 5
}
