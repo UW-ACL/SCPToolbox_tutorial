{
 "cells": [
  {
   "cell_type": "code",
   "execution_count": 60,
   "id": "5fbe39b5-3ef0-4cea-bfea-537a8ab8851e",
   "metadata": {},
   "outputs": [
    {
     "name": "stderr",
     "output_type": "stream",
     "text": [
      "\u001b[32m\u001b[1m  Activating\u001b[22m\u001b[39m project at `~/Nextcloud/personal/research/scp/aas_gnc_workshop/tutorial`\n"
     ]
    }
   ],
   "source": [
    "import Pkg\n",
    "Pkg.activate(\"..\")\n",
    "\n",
    "# these lines are required only for local installations\n",
    "# Pkg.develop(path=\"../../scp_traj_opt/\")\n",
    "# Pkg.precompile()\n",
    "\n",
    "using SCPToolbox\n",
    "using COSMO\n",
    "using ECOS"
   ]
  },
  {
   "cell_type": "markdown",
   "id": "8f4d58c5-632e-496b-a231-936c731c1726",
   "metadata": {},
   "source": [
    "# Problem data"
   ]
  },
  {
   "cell_type": "code",
   "execution_count": 61,
   "id": "3a5acab3-2e70-4dcc-a527-01cf7772a121",
   "metadata": {},
   "outputs": [],
   "source": [
    "q = [1; 1.];\n",
    "P = [4. 1; 1 2];\n",
    "A = [1. 1; 1 0; 0 1];\n",
    "l = [1.; 0; 0];\n",
    "u = [1; 0.7; 0.7];\n",
    "\n",
    "# First, we decide to solve the problem with two one-sided constraints using `COSMO.Nonnegatives` as the convex set:\n",
    "Aa = [-A; A]\n",
    "ba = [u; -l]\n",
    ";"
   ]
  },
  {
   "cell_type": "markdown",
   "id": "30f80ad9-79ad-499a-96b2-78bf76294ef9",
   "metadata": {},
   "source": [
    "# JuMP"
   ]
  },
  {
   "cell_type": "code",
   "execution_count": 62,
   "id": "9a2bc702-0cb0-4b5c-b7c6-77c07aaa1d95",
   "metadata": {},
   "outputs": [
    {
     "name": "stdout",
     "output_type": "stream",
     "text": [
      "------------------------------------------------------------------\n",
      "          COSMO v0.8.1 - A Quadratic Objective Conic Solver\n",
      "                         Michael Garstka\n",
      "                University of Oxford, 2017 - 2021\n",
      "------------------------------------------------------------------\n",
      "\n",
      "Problem:  x ∈ R^{2},\n",
      "          constraints: A ∈ R^{6x2} (8 nnz),\n",
      "          matrix size to factor: 8x8,\n",
      "          Floating-point precision: Float64\n",
      "Sets:     Nonnegatives) of dim: 6\n",
      "Settings: ϵ_abs = 1.0e-05, ϵ_rel = 1.0e-05,\n",
      "          ϵ_prim_inf = 1.0e-04, ϵ_dual_inf = 1.0e-04,\n",
      "          ρ = 0.1, σ = 1e-06, α = 1.6,\n",
      "          max_iter = 5000,\n",
      "          scaling iter = 10 (on),\n",
      "          check termination every 25 iter,\n",
      "          check infeasibility every 40 iter,\n",
      "          KKT system solver: QDLDL\n",
      "Acc:      Anderson Type2{QRDecomp},\n",
      "          Memory size = 8, RestartedMemory,\t\n",
      "          Safeguarded: true, tol: 2.0\n",
      "Setup Time: 0.1ms\n",
      "\n",
      "Iter:\tObjective:\tPrimal Res:\tDual Res:\tRho:\n",
      "1\t-8.4332e-02\t6.0000e-01\t9.0029e-01\t1.0000e-01\n",
      "25\t-1.2000e-01\t1.5712e-16\t6.2804e-16\t1.0000e-01\n",
      "\n",
      "------------------------------------------------------------------\n",
      ">>> Results\n",
      "Status: \u001b[32mSolved\u001b[39m\n",
      "Iterations: 26 (incl. 1 safeguarding iter)\n",
      "Optimal objective: -0.12\n",
      "Runtime: 0.001s (0.63ms)\n",
      "\n"
     ]
    },
    {
     "data": {
      "text/plain": [
       "-0.12000000000000008"
      ]
     },
     "execution_count": 62,
     "metadata": {},
     "output_type": "execute_result"
    }
   ],
   "source": [
    "mdl = Model()\n",
    "set_optimizer(mdl, COSMO.Optimizer)\n",
    "\n",
    "x = @variable(mdl, x[1:2])\n",
    "@constraint(mdl, Aa*x .<= ba)\n",
    "@objective(mdl, Min, 0.5*x'*P*x+q'*x)\n",
    "\n",
    "status = JuMP.optimize!(mdl)\n",
    "\n",
    "JuMP.objective_value(mdl)"
   ]
  },
  {
   "cell_type": "markdown",
   "id": "97483a85-1d74-4965-93c4-35a6ec431348",
   "metadata": {},
   "source": [
    "# SCPToolbox"
   ]
  },
  {
   "cell_type": "code",
   "execution_count": 63,
   "id": "80a683ac-ea8e-4fc4-aa40-e36f289c55f2",
   "metadata": {},
   "outputs": [
    {
     "name": "stdout",
     "output_type": "stream",
     "text": [
      "------------------------------------------------------------------\n",
      "          COSMO v0.8.1 - A Quadratic Objective Conic Solver\n",
      "                         Michael Garstka\n",
      "                University of Oxford, 2017 - 2021\n",
      "------------------------------------------------------------------\n",
      "\n",
      "Problem:  x ∈ R^{2},\n",
      "          constraints: A ∈ R^{6x2} (8 nnz),\n",
      "          matrix size to factor: 8x8,\n",
      "          Floating-point precision: Float64\n",
      "Sets:     Nonnegatives) of dim: 6\n",
      "Settings: ϵ_abs = 1.0e-05, ϵ_rel = 1.0e-05,\n",
      "          ϵ_prim_inf = 1.0e-04, ϵ_dual_inf = 1.0e-04,\n",
      "          ρ = 0.1, σ = 1e-06, α = 1.6,\n",
      "          max_iter = 5000,\n",
      "          scaling iter = 10 (on),\n",
      "          check termination every 25 iter,\n",
      "          check infeasibility every 40 iter,\n",
      "          KKT system solver: QDLDL\n",
      "Acc:      Anderson Type2{QRDecomp},\n",
      "          Memory size = 8, RestartedMemory,\t\n",
      "          Safeguarded: true, tol: 2.0\n",
      "Setup Time: 0.07ms\n",
      "\n",
      "Iter:\tObjective:\tPrimal Res:\tDual Res:\tRho:\n",
      "1\t-8.4332e-02\t6.0000e-01\t9.0029e-01\t1.0000e-01\n",
      "25\t-1.2000e-01\t1.5712e-16\t6.2804e-16\t1.0000e-01\n",
      "\n",
      "------------------------------------------------------------------\n",
      ">>> Results\n",
      "Status: \u001b[32mSolved\u001b[39m\n",
      "Iterations: 26 (incl. 1 safeguarding iter)\n",
      "Optimal objective: -0.12\n",
      "Runtime: 0.0s (0.41ms)\n",
      "\n"
     ]
    },
    {
     "data": {
      "text/plain": [
       "OPTIMAL::TerminationStatusCode = 1"
      ]
     },
     "metadata": {},
     "output_type": "display_data"
    },
    {
     "data": {
      "text/plain": [
       "-0.12000000000000008"
      ]
     },
     "metadata": {},
     "output_type": "display_data"
    }
   ],
   "source": [
    "pbm = ConicProgram(solver = COSMO)\n",
    "\n",
    "x = @new_variable(pbm, 2, \"x\")\n",
    "\n",
    "@add_constraint(pbm, NONPOS, x -> Aa*x-ba)\n",
    "\n",
    "J = @add_cost(pbm, x -> 0.5*x'*P*x+q'*x)\n",
    "\n",
    "exit_status = solve!(pbm)\n",
    "flush(stdout)\n",
    "display(exit_status)\n",
    "display(objective_value(pbm))"
   ]
  }
 ],
 "metadata": {
  "kernelspec": {
   "display_name": "Julia 1.7.1",
   "language": "julia",
   "name": "julia-1.7"
  },
  "language_info": {
   "file_extension": ".jl",
   "mimetype": "application/julia",
   "name": "julia",
   "version": "1.7.1"
  }
 },
 "nbformat": 4,
 "nbformat_minor": 5
}
