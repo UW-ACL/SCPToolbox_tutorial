{
 "cells": [
  {
   "cell_type": "code",
   "execution_count": 1,
   "id": "7b730534-e2f1-4c3a-b51c-0648350a014f",
   "metadata": {},
   "outputs": [
    {
     "name": "stderr",
     "output_type": "stream",
     "text": [
      "\u001b[32m\u001b[1m  Activating\u001b[22m\u001b[39m project at `~/ACL/AAS/SCPToolbox_tutorial`\n"
     ]
    }
   ],
   "source": [
    "import Pkg\n",
    "Pkg.activate(\"..\")\n",
    "\n",
    "using SCPToolbox\n",
    "using ECOS"
   ]
  },
  {
   "cell_type": "markdown",
   "id": "0f80c554-6dbf-4e87-babe-8a01f71edd4f",
   "metadata": {
    "slideshow": {
     "slide_type": "slide"
    },
    "tags": []
   },
   "source": [
    "# Conic Linear Programs"
   ]
  },
  {
   "cell_type": "markdown",
   "id": "04416ec0-d7b6-4248-b189-2db59c33f71f",
   "metadata": {
    "slideshow": {
     "slide_type": "fragment"
    },
    "tags": []
   },
   "source": [
    "General form:"
   ]
  },
  {
   "cell_type": "markdown",
   "id": "c78ea3ce-0e81-43c9-ba75-ae0c6f6a51c2",
   "metadata": {
    "slideshow": {
     "slide_type": "fragment"
    },
    "tags": []
   },
   "source": [
    "\\begin{align}\n",
    "\\underset{x\\in\\mathbb{R}^n}{{\\text{minimize}}} &~ c^\\top x \\\\\n",
    "\\text{subject to} &~Ax+b \\in \\mathbb{K}\n",
    "\\end{align}"
   ]
  },
  {
   "cell_type": "markdown",
   "id": "2bff61bb-bf88-44b0-8f87-ce4e65719f11",
   "metadata": {
    "slideshow": {
     "slide_type": "fragment"
    },
    "tags": []
   },
   "source": [
    "where $c\\in\\mathbb{R}^n,~b\\in\\mathbb{R}^m,~A\\in\\mathbb{R}^{m\\times n}$ are problem parameters, and $\\mathbb{K}$ is a cartesian product of convex cones. The cones supported by `SCPToolbox.jl` are described in the table below."
   ]
  },
  {
   "cell_type": "markdown",
   "id": "5840019f-fc9f-410e-bfc1-da37f9f94bde",
   "metadata": {
    "slideshow": {
     "slide_type": "slide"
    },
    "tags": []
   },
   "source": [
    "|    Label        | Notation     |     Name      | Definition |\n",
    "|:---------------:|:----:|:-------------:|:----------:|\n",
    "|`UNCONSTRAINED`  |  $\\mathbb{K}_{ \\lesseqgtr}$ | Unconstrained cone  |  $$\\{x\\in\\mathbb{R}^n\\}$$ |\n",
    "|`ZERO`           |  $\\mathbb{K}_{=0}$ | Zero cone             | $\\{x\\in\\mathbb{R}^n~|~x=0\\}$                               |\n",
    "|`NONPOS`         |  $\\mathbb{K}_{\\leq 0}$ | Non-positive orthant  | $\\{x\\in\\mathbb{R}^n~|~x\\leq 0\\}$                           |\n",
    "|`L1`             |  $\\mathbb{K}_{1}$ | $l_1$ norm cone       | $\\{(t,x)\\in\\mathbb{R}^n\\times\\mathbb{R}~|~\\|x\\|_1\\leq t\\}$ |\n",
    "|`SOC`             |  $\\mathbb{K}_{2}$ | $l_2$ norm cone       | $\\{(t,x)\\in\\mathbb{R}^n\\times\\mathbb{R}~|~\\|x\\|_2\\leq t\\}$ |\n",
    "| `LINF` |  $\\mathbb{K}_{\\infty}$ |  $l_\\infty$ norm cone |  $\\{(t,x)\\in\\mathbb{R}^n\\times\\mathbb{R}~|~\\|x\\|_\\infty\\leq t\\}$  |\n",
    "| `GEOM` |  $\\mathbb{K}_{\\text{GM}}$ | Geometric mean cone | $ \\left\\{ (t,x)\\in\\mathbb{R}^n\\times\\mathbb{R}~\\middle|~\\left(\\prod_{i=1}^n x_i\\right)^{1/n} \\geq t \\right\\}$ |\n",
    "| `EXP` |  $\\mathbb{K}_{\\text{EXP}}$ | Exponential cone | $\\{(x,y,z)\\in \\mathbb{R}\\times \\mathbb{R} \\times \\mathbb{R} ~|~ y\\,\\text{exp}(x/y) \\leq z,~y>0\\}$ |"
   ]
  },
  {
   "cell_type": "markdown",
   "id": "5f524023-c97f-4ffa-9516-eae4e0bf45f0",
   "metadata": {
    "slideshow": {
     "slide_type": "slide"
    },
    "tags": []
   },
   "source": [
    "The optimization problem shown above can be solved using state-of-the-art solvers like `ECOS`, `Gurobi` and `Mosek`. However, they typically need a parser to convert the problem data to a canonical form. Hence such solvers are not user-friendly to interface with and solve problems which are not natively expressed in the canonical forms. \n",
    "\n",
    "In `SCPToolbox.jl`, henceforth refered to as the toolbox, a conic linear program is formulated by instantiating a `ConicProblem` object with the choice of solver and its associated options.  "
   ]
  },
  {
   "cell_type": "code",
   "execution_count": 2,
   "id": "5ede114e-da01-4017-bf36-98c89582bdd6",
   "metadata": {
    "slideshow": {
     "slide_type": "slide"
    },
    "tags": []
   },
   "outputs": [
    {
     "data": {
      "text/plain": [
       "Conic linear program\n",
       "\n",
       "  Feasibility problem\n",
       "  0 variables (0 blocks)\n",
       "  0 parameters (0 blocks)\n",
       "  0 constraints\n",
       "\n",
       "  Variable argument\n",
       "    0 elements\n",
       "    0 blocks\n",
       "\n",
       "\n",
       "  Parameter argument\n",
       "    0 elements\n",
       "    0 blocks\n"
      ]
     },
     "execution_count": 2,
     "metadata": {},
     "output_type": "execute_result"
    }
   ],
   "source": [
    "opts = Dict(\"verbose\" => 0)\n",
    "pbm = ConicProgram(solver = ECOS.Optimizer, solver_options = opts)"
   ]
  },
  {
   "cell_type": "markdown",
   "id": "c4737273-e649-4ee7-a34e-07b105f0d34e",
   "metadata": {
    "slideshow": {
     "slide_type": "slide"
    },
    "tags": []
   },
   "source": [
    "# Variables\n",
    "\n"
   ]
  },
  {
   "cell_type": "markdown",
   "id": "340e855a-51b5-4cd4-8db0-c18fee4ebdc7",
   "metadata": {
    "slideshow": {
     "slide_type": "skip"
    },
    "tags": []
   },
   "source": [
    "Variables are the quantities that the SCP Toolbox determines values for upon solution. These variables therefore begin as symbolic values during problem formulation, but are ultimately given numerical values upon convergence to a locally optimal trajectory solution. These variables are generally broken up into three main categories: "
   ]
  },
  {
   "cell_type": "markdown",
   "id": "50a87927-f15d-45ba-9c5e-52e96b2cd657",
   "metadata": {
    "slideshow": {
     "slide_type": "slide"
    },
    "tags": []
   },
   "source": [
    "- **scalars**: variables containing a single element.  *e.g.* $x \\in \\mathbb{R}$.\n",
    "- **vectors**: variables containing a single row or column.  *e.g.* $x \\in \\mathbb{R}^N$.\n",
    "- **matrices**: variables for both rows and columns greater than size two.  *e.g.* $x \\in \\mathbb{R}^{N \\times M}$."
   ]
  },
  {
   "cell_type": "markdown",
   "id": "33d24bbc-e33b-410e-aa3d-0d9d0c611e70",
   "metadata": {},
   "source": [
    "## Variable Properties\n",
    "\n",
    "Each variable declared by the user is defined by a set of properties.\n",
    "\n",
    "1. **Elements:** The number of elements in the variable, given as a scalar.\n",
    "2. **Shape:** The tuple defining the dimensions of the variable, given as $(N,M)$ where $N$ is the number of rows and $M$ is the number of columns. This appears as $(1,)$ for a scalar, $(N,)$ for an $N$-dimensional vector, and $(N,M)$ for an $N \\times M$-dimensional matrix. \n",
    "3. **Name:** The name is a colloquial title given by the user. This property not only allows the user to keep track of the origin of the variables of the problem, but can also be queried to search for all variables with names containing a common string.\n",
    "4. **Block index:** The block index keeps track of the order in which each standalone variable is stored in the stack. Though the user defines each variable individually, the parser reformats these variables into a single vector, where the data within each element of the variable is stored in a corresponding block of elements. Vectors and scalars are simply stored in the stack same format, while matrices are vectorized in column-major form.\n",
    "5. **Indices:** The indices of the variable define the explicit elements of the stack where the variable data is stored. The elements in these indices make up the block mentioned above.\n",
    "6. **Type:** The category of the variable.\n",
    "7. **Scaling Type:** The information on whether a variable is scaled, and how scaling is performed if so. Scaling means that the physical quantity for a variable is nondimensionalized with an affine mapping when exposed to the optimizer. This scaling is reversed upon achieving a solution to achieve a meaningful physical quantity.\n",
    "8. **Value Type:** The symbolic or numerical quantity assigned to a given variable."
   ]
  },
  {
   "cell_type": "markdown",
   "id": "e57c10f7-c0e6-4700-b544-edf97148f3a4",
   "metadata": {
    "slideshow": {
     "slide_type": "slide"
    },
    "tags": []
   },
   "source": [
    "## Variable Declaration"
   ]
  },
  {
   "cell_type": "markdown",
   "id": "a769d661-1e48-48d7-8620-223885001211",
   "metadata": {
    "slideshow": {
     "slide_type": "skip"
    },
    "tags": []
   },
   "source": [
    "At the high level, each variable declaration is done with the `@new_variable()` function. However, this constructor is overloaded such that variables may be declared with a variety of different input-argument syntaxes. Each call to the constructor takes in the corresponding problem that they are associated with alongside other input arguments."
   ]
  },
  {
   "cell_type": "markdown",
   "id": "93112744-0246-46d4-bda0-0c03a153feed",
   "metadata": {
    "slideshow": {
     "slide_type": "skip"
    },
    "tags": []
   },
   "source": [
    "A scalar variable may be declared via passing the corresponding problem, a dimension of 1, and a variable name as constructor inputs, shown respectively below. The resulting variable properties are shown as well. Here, scaling is not applied."
   ]
  },
  {
   "cell_type": "code",
   "execution_count": 3,
   "id": "1537bfdb-862c-408f-82a1-fdb06ec695de",
   "metadata": {
    "slideshow": {
     "slide_type": "slide"
    },
    "tags": []
   },
   "outputs": [
    {
     "data": {
      "text/plain": [
       "Vector variable\n",
       "  1 elements\n",
       "  (1,) shape\n",
       "  Name: x\n",
       "  Block index in stack: 1\n",
       "  Indices in stack: 1\n",
       "  Type: Vector{JuMP.AffExpr}\n",
       "  No scaling (x=xh)\n",
       "  Any perturbation allowed\n",
       "  Value =\n",
       "     x"
      ]
     },
     "execution_count": 3,
     "metadata": {},
     "output_type": "execute_result"
    }
   ],
   "source": [
    "x = @new_variable(pbm, 1, \"x\")"
   ]
  },
  {
   "cell_type": "markdown",
   "id": "30e98539-08f0-45af-8b4f-66173b8d79ed",
   "metadata": {
    "slideshow": {
     "slide_type": "skip"
    },
    "tags": []
   },
   "source": [
    "An equivalent scalar variable may also be defined as follows, where the input argument of the variable dimensions are modified. Note that for each new variable definition within a given problem object, the block index increments by 1 and the corresponding stack indices also increase according to the next available element in the stack and the size of the new variable."
   ]
  },
  {
   "cell_type": "code",
   "execution_count": 4,
   "id": "1da75800-4b2d-42bd-b087-ff9695b22dc6",
   "metadata": {
    "slideshow": {
     "slide_type": "fragment"
    },
    "tags": []
   },
   "outputs": [
    {
     "data": {
      "text/plain": [
       "Matrix variable\n",
       "  1 elements\n",
       "  (1, 1) shape\n",
       "  Name: x1\n",
       "  Block index in stack: 2\n",
       "  Indices in stack: 2\n",
       "  Type: Matrix{JuMP.AffExpr}\n",
       "  No scaling (x=xh)\n",
       "  Any perturbation allowed\n",
       "  Value =\n",
       "     x1"
      ]
     },
     "execution_count": 4,
     "metadata": {},
     "output_type": "execute_result"
    }
   ],
   "source": [
    "x = @new_variable(pbm, (1,1), \"x\")"
   ]
  },
  {
   "cell_type": "markdown",
   "id": "19b6eef5-6eb5-4d95-a598-467ca4d1a378",
   "metadata": {
    "slideshow": {
     "slide_type": "skip"
    },
    "tags": []
   },
   "source": [
    "Finally, a scalar quantity may be simply defined as follows, without specifying a dimension."
   ]
  },
  {
   "cell_type": "code",
   "execution_count": 5,
   "id": "1823c97a-9a51-4426-9d8b-e3063427fbb6",
   "metadata": {
    "slideshow": {
     "slide_type": "fragment"
    },
    "tags": []
   },
   "outputs": [
    {
     "data": {
      "text/plain": [
       "Vector variable\n",
       "  1 elements\n",
       "  (1,) shape\n",
       "  Name: q\n",
       "  Block index in stack: 3\n",
       "  Indices in stack: 3\n",
       "  Type: Vector{JuMP.AffExpr}\n",
       "  No scaling (x=xh)\n",
       "  Any perturbation allowed\n",
       "  Value =\n",
       "     q"
      ]
     },
     "execution_count": 5,
     "metadata": {},
     "output_type": "execute_result"
    }
   ],
   "source": [
    "q = @new_variable(pbm, \"q\")"
   ]
  },
  {
   "cell_type": "markdown",
   "id": "bd6aa1c7-34d6-47e8-90ab-6e479b591ca5",
   "metadata": {
    "slideshow": {
     "slide_type": "skip"
    },
    "tags": []
   },
   "source": [
    "\n",
    "A vector variable is declared by defining a length dimension $>1$. Note the value now has multiple elements."
   ]
  },
  {
   "cell_type": "code",
   "execution_count": 6,
   "id": "bd5a0325-3e42-4e54-8f65-502837b251cb",
   "metadata": {
    "slideshow": {
     "slide_type": "slide"
    },
    "tags": []
   },
   "outputs": [
    {
     "data": {
      "text/plain": [
       "Vector variable\n",
       "  3 elements\n",
       "  (3,) shape\n",
       "  Name: v\n",
       "  Block index in stack: 4\n",
       "  Indices in stack: 4:6\n",
       "  Type: Vector{JuMP.AffExpr}\n",
       "  No scaling (x=xh)\n",
       "  Any perturbation allowed\n",
       "  Value =\n",
       "     v[1]\n",
       "     v[2]\n",
       "     v[3]"
      ]
     },
     "execution_count": 6,
     "metadata": {},
     "output_type": "execute_result"
    }
   ],
   "source": [
    "v = @new_variable(pbm, 3, \"v\")"
   ]
  },
  {
   "cell_type": "markdown",
   "id": "b93f7970-26ee-4cac-923d-aed9b4cdd3cb",
   "metadata": {
    "slideshow": {
     "slide_type": "skip"
    },
    "tags": []
   },
   "source": [
    "A matrix variable may be declared by defining dimensions $>1$ for both rows and columns. Note that the value property now has indices that mirror the shape property. A matrix variable may represent a standard matrix, such as those commonly applied to achieve a linear transformations on a vector. A matrix variable may also represent a set of vectors, such as values of the state or control from a dynamic system, sampled at variable discrete timesteps along a trajectory."
   ]
  },
  {
   "cell_type": "code",
   "execution_count": 7,
   "id": "446ae59c-a231-45b9-8939-0506cb65c55a",
   "metadata": {
    "slideshow": {
     "slide_type": "slide"
    },
    "tags": []
   },
   "outputs": [
    {
     "data": {
      "text/plain": [
       "Matrix variable\n",
       "  10 elements\n",
       "  (2, 5) shape\n",
       "  Name: y\n",
       "  Block index in stack: 5\n",
       "  Indices in stack: 7:16\n",
       "  Type: Matrix{JuMP.AffExpr}\n",
       "  No scaling (x=xh)\n",
       "  Any perturbation allowed\n",
       "  Value =\n",
       "     y[1,1]  y[1,2]  y[1,3]  y[1,4]  y[1,5]\n",
       "     y[2,1]  y[2,2]  y[2,3]  y[2,4]  y[2,5]"
      ]
     },
     "execution_count": 7,
     "metadata": {},
     "output_type": "execute_result"
    }
   ],
   "source": [
    "y = @new_variable(pbm, (2, 5), \"y\")"
   ]
  },
  {
   "cell_type": "markdown",
   "id": "639c4b2a-6cad-4d33-b071-e75b22b7d425",
   "metadata": {
    "slideshow": {
     "slide_type": "skip"
    },
    "tags": []
   },
   "source": [
    "Individual row or column vectors of a matrix may be indexed as follows. Note that these indexed quantities are themselves vector variables."
   ]
  },
  {
   "cell_type": "code",
   "execution_count": 8,
   "id": "af74628f-5c6c-45a7-821a-63938e251503",
   "metadata": {
    "slideshow": {
     "slide_type": "fragment"
    },
    "tags": []
   },
   "outputs": [
    {
     "data": {
      "text/plain": [
       "Vector variable\n",
       "  2 elements\n",
       "  (2,) shape\n",
       "  Name: y\n",
       "  Block index in stack: 5\n",
       "  Indices in stack: 7:8\n",
       "  Type: SubArray{JuMP.AffExpr, 1, Matrix{JuMP.AffExpr}, Tuple{Base.Slice{Base.OneTo{Int64}}, Int64}, true}\n",
       "  No scaling (x=xh)\n",
       "  Any perturbation allowed\n",
       "  Value =\n",
       "     y[1,1]\n",
       "     y[2,1]"
      ]
     },
     "execution_count": 8,
     "metadata": {},
     "output_type": "execute_result"
    }
   ],
   "source": [
    "y[:, 1]"
   ]
  },
  {
   "cell_type": "markdown",
   "id": "5749bc50-80e3-474b-adf8-9c7c8d0323a3",
   "metadata": {
    "slideshow": {
     "slide_type": "slide"
    },
    "tags": []
   },
   "source": [
    "## Variable Operations\n"
   ]
  },
  {
   "cell_type": "markdown",
   "id": "4e6f22e1-9655-4f74-9de7-87da7145e995",
   "metadata": {
    "slideshow": {
     "slide_type": "skip"
    },
    "tags": []
   },
   "source": [
    "\n",
    "Once a variable is defined, additional operations may be performed to scale the variable and probe its value. Scaling is an important operation which improves numerical conditioning of the underlying optimization problem by applying an affine mapping to the physical quantity in order to produce a corresponding scaled quantity that lies approximately between 0 and 1. In terms a notation, a physical quantity may be denoted as $x$ while the corresponding scaled quantity may be denoted as $\\hat{x}$.\n",
    "\n",
    "For a scalar, the affine mapping may be approximated as follows. $x = a*\\hat{x} + b$, where $a = (x_{max} - x_{min})$ and $b = -x_{min}$.\n",
    "\n",
    "The utility of the affine mapping becomes clear while defining simple set constraints on the value of the variable. Examples of such constraints are a ball, halfspace, or box, etc. This is discussed in more detail in the Constraints section below."
   ]
  },
  {
   "cell_type": "markdown",
   "id": "b78005fa-7d3e-46e5-94ee-be932435b2fa",
   "metadata": {
    "slideshow": {
     "slide_type": "skip"
    },
    "tags": []
   },
   "source": [
    "The affine mapping for scaling a given physical variable is called via the `@scale()` function. This function is given the vector to be scaled, a vector of entries that will linearly scale each element of the variable, and an affine offset, respectively."
   ]
  },
  {
   "cell_type": "code",
   "execution_count": 9,
   "id": "d5da3269-5d24-4860-bb40-938a633d9bda",
   "metadata": {
    "slideshow": {
     "slide_type": "slide"
    },
    "tags": []
   },
   "outputs": [
    {
     "data": {
      "text/plain": [
       "Vector variable\n",
       "  1 elements\n",
       "  (1,) shape\n",
       "  Name: qh\n",
       "  Block index in stack: 6\n",
       "  Indices in stack: 17\n",
       "  Type: Vector{JuMP.AffExpr}\n",
       "  No scaling (x=xh)\n",
       "  Any perturbation allowed\n",
       "  Value =\n",
       "     qh"
      ]
     },
     "execution_count": 9,
     "metadata": {},
     "output_type": "execute_result"
    }
   ],
   "source": [
    "qh = @new_variable(pbm, \"qh\")"
   ]
  },
  {
   "cell_type": "code",
   "execution_count": 10,
   "id": "2e966cac-9ff4-42c4-bb60-1448047ba44e",
   "metadata": {
    "slideshow": {
     "slide_type": "fragment"
    },
    "tags": []
   },
   "outputs": [],
   "source": [
    "@scale(qh, [10], 5)"
   ]
  },
  {
   "cell_type": "markdown",
   "id": "f5f3da69-7d87-476d-8661-dad4c8de6435",
   "metadata": {
    "slideshow": {
     "slide_type": "skip"
    },
    "tags": []
   },
   "source": [
    "The value of this new affine mapping can be queried with the `value()` function as follows."
   ]
  },
  {
   "cell_type": "code",
   "execution_count": 11,
   "id": "0f699a44-9e5b-4093-9dd3-c87b2b770b08",
   "metadata": {
    "slideshow": {
     "slide_type": "fragment"
    },
    "tags": []
   },
   "outputs": [
    {
     "data": {
      "text/plain": [
       "1-element Vector{JuMP.AffExpr}:\n",
       " 10 qh + 5"
      ]
     },
     "execution_count": 11,
     "metadata": {},
     "output_type": "execute_result"
    }
   ],
   "source": [
    "value(qh)"
   ]
  },
  {
   "cell_type": "markdown",
   "id": "595e41eb-5418-47e6-bb36-b87e39a253e2",
   "metadata": {
    "slideshow": {
     "slide_type": "skip"
    },
    "tags": []
   },
   "source": [
    "To apply a different scaling to each element of a variable, diagonal entires of a matrix that scales each variable element may be defined. In addition, vector-value affine offsets may also be applied. "
   ]
  },
  {
   "cell_type": "code",
   "execution_count": 12,
   "id": "61644f54-f58e-4c36-940d-c663dce988c9",
   "metadata": {
    "slideshow": {
     "slide_type": "slide"
    },
    "tags": []
   },
   "outputs": [],
   "source": [
    "@scale(y, [2; 4], [3;1])"
   ]
  },
  {
   "cell_type": "code",
   "execution_count": 13,
   "id": "c8038490-bbc3-48e5-94c9-3cdae5325ca4",
   "metadata": {
    "slideshow": {
     "slide_type": "fragment"
    },
    "tags": []
   },
   "outputs": [
    {
     "data": {
      "text/plain": [
       "Matrix variable\n",
       "  10 elements\n",
       "  (2, 5) shape\n",
       "  Name: y\n",
       "  Block index in stack: 5\n",
       "  Indices in stack: 7:16\n",
       "  Type: Matrix{JuMP.AffExpr}\n",
       "  Affine scaling x=(S.*xh).+c\n",
       "  Any perturbation allowed\n",
       "  Value =\n",
       "     y[1,1]  y[1,2]  y[1,3]  y[1,4]  y[1,5]\n",
       "     y[2,1]  y[2,2]  y[2,3]  y[2,4]  y[2,5]"
      ]
     },
     "execution_count": 13,
     "metadata": {},
     "output_type": "execute_result"
    }
   ],
   "source": [
    "y"
   ]
  },
  {
   "cell_type": "markdown",
   "id": "9082b3f8-ce0b-4bd4-97ce-70018db69ab6",
   "metadata": {
    "slideshow": {
     "slide_type": "skip"
    },
    "tags": []
   },
   "source": [
    "The value of this scaled matrix variable is given below."
   ]
  },
  {
   "cell_type": "code",
   "execution_count": 14,
   "id": "c2e6b878-b1cf-410e-800b-e36bc3328a47",
   "metadata": {
    "slideshow": {
     "slide_type": "fragment"
    },
    "tags": []
   },
   "outputs": [
    {
     "data": {
      "text/plain": [
       "2×5 Matrix{JuMP.AffExpr}:\n",
       " 2 y[1,1] + 3  2 y[1,2] + 3  2 y[1,3] + 3  2 y[1,4] + 3  2 y[1,5] + 3\n",
       " 4 y[2,1] + 1  4 y[2,2] + 1  4 y[2,3] + 1  4 y[2,4] + 1  4 y[2,5] + 1"
      ]
     },
     "execution_count": 14,
     "metadata": {},
     "output_type": "execute_result"
    }
   ],
   "source": [
    "value(y)"
   ]
  },
  {
   "cell_type": "markdown",
   "id": "cfdd079d-5df4-495c-aadb-744be6b4e9da",
   "metadata": {
    "slideshow": {
     "slide_type": "skip"
    },
    "tags": []
   },
   "source": [
    "After defining the variables above, the properties of the corresponding optimization problem may be queried."
   ]
  },
  {
   "cell_type": "code",
   "execution_count": 15,
   "id": "1eaa7367-e9fc-4569-8707-0599345da392",
   "metadata": {
    "slideshow": {
     "slide_type": "slide"
    },
    "tags": []
   },
   "outputs": [
    {
     "data": {
      "text/plain": [
       "Conic linear program\n",
       "\n",
       "  Feasibility problem\n",
       "  17 variables (6 blocks)\n",
       "  0 parameters (0 blocks)\n",
       "  0 constraints\n",
       "\n",
       "  Variable argument\n",
       "    17 elements\n",
       "    6 blocks\n",
       "     1) 1    ... x\n",
       "     2) 2    ... x1\n",
       "     3) 3    ... q\n",
       "     4) 4:6  ... v\n",
       "     5) 7:16 ... y\n",
       "     6) 17   ... qh\n",
       "\n",
       "  Parameter argument\n",
       "    0 elements\n",
       "    0 blocks\n"
      ]
     },
     "execution_count": 15,
     "metadata": {},
     "output_type": "execute_result"
    }
   ],
   "source": [
    "pbm"
   ]
  },
  {
   "cell_type": "markdown",
   "id": "6a4db4c2-5afa-4b91-a45a-cceabf0a0ec7",
   "metadata": {
    "slideshow": {
     "slide_type": "skip"
    },
    "tags": []
   },
   "source": [
    "Finally, the variables of this problem can be queried explicitly."
   ]
  },
  {
   "cell_type": "code",
   "execution_count": 16,
   "id": "a1862bfc-b59f-401a-b66b-10bff0415d6b",
   "metadata": {
    "slideshow": {
     "slide_type": "slide"
    },
    "tags": []
   },
   "outputs": [
    {
     "data": {
      "text/plain": [
       "6-element Vector{SCPToolbox.Parser.ConicLinearProgram.VariableArgumentBlock}:\n",
       " Vector variable\n",
       "  1 elements\n",
       "  (1,) shape\n",
       "  Name: x\n",
       "  Block index in stack: 1\n",
       "  Indices in stack: 1\n",
       "  Type: Vector{JuMP.AffExpr}\n",
       "  No scaling (x=xh)\n",
       "  Any perturbation allowed\n",
       "  Value =\n",
       "     x\n",
       " Matrix variable\n",
       "  1 elements\n",
       "  (1, 1) shape\n",
       "  Name: x1\n",
       "  Block index in stack: 2\n",
       "  Indices in stack: 2\n",
       "  Type: Matrix{JuMP.AffExpr}\n",
       "  No scaling (x=xh)\n",
       "  Any perturbation allowed\n",
       "  Value =\n",
       "     x1\n",
       " Vector variable\n",
       "  1 elements\n",
       "  (1,) shape\n",
       "  Name: q\n",
       "  Block index in stack: 3\n",
       "  Indices in stack: 3\n",
       "  Type: Vector{JuMP.AffExpr}\n",
       "  No scaling (x=xh)\n",
       "  Any perturbation allowed\n",
       "  Value =\n",
       "     q\n",
       " Vector variable\n",
       "  3 elements\n",
       "  (3,) shape\n",
       "  Name: v\n",
       "  Block index in stack: 4\n",
       "  Indices in stack: 4:6\n",
       "  Type: Vector{JuMP.AffExpr}\n",
       "  No scaling (x=xh)\n",
       "  Any perturbation allowed\n",
       "  Value =\n",
       "     v[1]\n",
       "     v[2]\n",
       "     v[3]\n",
       " Matrix variable\n",
       "  10 elements\n",
       "  (2, 5) shape\n",
       "  Name: y\n",
       "  Block index in stack: 5\n",
       "  Indices in stack: 7:16\n",
       "  Type: Matrix{JuMP.AffExpr}\n",
       "  Affine scaling x=(S.*xh).+c\n",
       "  Any perturbation allowed\n",
       "  Value =\n",
       "     y[1,1]  y[1,2]  y[1,3]  y[1,4]  y[1,5]\n",
       "     y[2,1]  y[2,2]  y[2,3]  y[2,4]  y[2,5]\n",
       " Vector variable\n",
       "  1 elements\n",
       "  (1,) shape\n",
       "  Name: qh\n",
       "  Block index in stack: 6\n",
       "  Indices in stack: 17\n",
       "  Type: Vector{JuMP.AffExpr}\n",
       "  Affine scaling x=(S.*xh).+c\n",
       "  Any perturbation allowed\n",
       "  Value =\n",
       "     qh"
      ]
     },
     "execution_count": 16,
     "metadata": {},
     "output_type": "execute_result"
    }
   ],
   "source": [
    "variables(pbm)"
   ]
  },
  {
   "cell_type": "code",
   "execution_count": 17,
   "id": "96ba8b67-5961-446a-b88e-df2ed1059109",
   "metadata": {
    "slideshow": {
     "slide_type": "slide"
    },
    "tags": []
   },
   "outputs": [
    {
     "data": {
      "text/plain": [
       "6-element Vector{SCPToolbox.Parser.ConicLinearProgram.VariableArgumentBlock}:\n",
       " Vector variable\n",
       "  1 elements\n",
       "  (1,) shape\n",
       "  Name: x\n",
       "  Block index in stack: 1\n",
       "  Indices in stack: 1\n",
       "  Type: Vector{JuMP.AffExpr}\n",
       "  No scaling (x=xh)\n",
       "  Any perturbation allowed\n",
       "  Value =\n",
       "     x\n",
       " Matrix variable\n",
       "  1 elements\n",
       "  (1, 1) shape\n",
       "  Name: x1\n",
       "  Block index in stack: 2\n",
       "  Indices in stack: 2\n",
       "  Type: Matrix{JuMP.AffExpr}\n",
       "  No scaling (x=xh)\n",
       "  Any perturbation allowed\n",
       "  Value =\n",
       "     x1\n",
       " Vector variable\n",
       "  1 elements\n",
       "  (1,) shape\n",
       "  Name: q\n",
       "  Block index in stack: 3\n",
       "  Indices in stack: 3\n",
       "  Type: Vector{JuMP.AffExpr}\n",
       "  No scaling (x=xh)\n",
       "  Any perturbation allowed\n",
       "  Value =\n",
       "     q\n",
       " Vector variable\n",
       "  3 elements\n",
       "  (3,) shape\n",
       "  Name: v\n",
       "  Block index in stack: 4\n",
       "  Indices in stack: 4:6\n",
       "  Type: Vector{JuMP.AffExpr}\n",
       "  No scaling (x=xh)\n",
       "  Any perturbation allowed\n",
       "  Value =\n",
       "     v[1]\n",
       "     v[2]\n",
       "     v[3]\n",
       " Matrix variable\n",
       "  10 elements\n",
       "  (2, 5) shape\n",
       "  Name: y\n",
       "  Block index in stack: 5\n",
       "  Indices in stack: 7:16\n",
       "  Type: Matrix{JuMP.AffExpr}\n",
       "  Affine scaling x=(S.*xh).+c\n",
       "  Any perturbation allowed\n",
       "  Value =\n",
       "     y[1,1]  y[1,2]  y[1,3]  y[1,4]  y[1,5]\n",
       "     y[2,1]  y[2,2]  y[2,3]  y[2,4]  y[2,5]\n",
       " Vector variable\n",
       "  1 elements\n",
       "  (1,) shape\n",
       "  Name: qh\n",
       "  Block index in stack: 6\n",
       "  Indices in stack: 17\n",
       "  Type: Vector{JuMP.AffExpr}\n",
       "  Affine scaling x=(S.*xh).+c\n",
       "  Any perturbation allowed\n",
       "  Value =\n",
       "     qh"
      ]
     },
     "metadata": {},
     "output_type": "display_data"
    }
   ],
   "source": [
    "display(variables(pbm))"
   ]
  },
  {
   "cell_type": "markdown",
   "id": "91ff8b05-ffe7-4098-b642-51884540d4f4",
   "metadata": {
    "slideshow": {
     "slide_type": "slide"
    },
    "tags": []
   },
   "source": [
    "## Constraints"
   ]
  },
  {
   "cell_type": "markdown",
   "id": "e2a5863c-e4b5-4831-9f7e-a99d46fd6b49",
   "metadata": {
    "slideshow": {
     "slide_type": "fragment"
    },
    "tags": []
   },
   "source": [
    "A conic constraint $y\\in\\mathbb{K}$ (say for $\\mathbb{K} = \\mathbb{K}_2$) can be modelled in the toolbox as follows:"
   ]
  },
  {
   "cell_type": "code",
   "execution_count": 18,
   "id": "72737946-f877-4135-ad9f-6a9650ab442b",
   "metadata": {
    "slideshow": {
     "slide_type": "fragment"
    },
    "tags": []
   },
   "outputs": [
    {
     "data": {
      "text/plain": [
       "Name: my-soc\n",
       "Cone f(x,p)∈K, where:\n",
       "K is a second-order cone, {(t, x)∈ℝ×ℝⁿ : ‖x‖₂≤t}\n",
       "f(x,p) = \n",
       "  100 t\n",
       "  x\n",
       "Affine function\n",
       "Arguments:\n",
       "  x (block 1) : 1\n",
       "  t (block 2) : 2\n"
      ]
     },
     "execution_count": 18,
     "metadata": {},
     "output_type": "execute_result"
    }
   ],
   "source": [
    "params = Dict(\"n\" => 4, \"a\" => 100)\n",
    "opts = Dict(\"verbose\" => 0)\n",
    "pbm = ConicProgram(params; solver = ECOS.Optimizer, solver_options = opts)\n",
    "\n",
    "x = @new_variable(pbm, length(params[\"n\"]),\"x\")\n",
    "t = @new_variable(pbm,\"t\")\n",
    "\n",
    "# Define the constraint\n",
    "cstr = @add_constraint(\n",
    "    pbm, SOC, \"my-soc\", (x, t),\n",
    "    begin\n",
    "        local x, t = arg\n",
    "        vcat(pars[\"a\"]*t, x)\n",
    "    end)"
   ]
  },
  {
   "cell_type": "code",
   "execution_count": 19,
   "id": "0239b96e-f895-4c0a-8f42-22c66ee0357d",
   "metadata": {
    "slideshow": {
     "slide_type": "slide"
    },
    "tags": []
   },
   "outputs": [
    {
     "data": {
      "text/plain": [
       "true"
      ]
     },
     "execution_count": 19,
     "metadata": {},
     "output_type": "execute_result"
    }
   ],
   "source": [
    "variables(pbm,\"^x\\$\") == x"
   ]
  },
  {
   "cell_type": "markdown",
   "id": "21fa9821-5d85-4feb-a8c2-0c4c8b1e75c2",
   "metadata": {},
   "source": [
    "Note the use of [regular expressions](https://en.wikipedia.org/wiki/Regular_expression) for searching though the list of variables names."
   ]
  },
  {
   "cell_type": "code",
   "execution_count": 20,
   "id": "3ed83602-9d01-4a9d-8c5b-85e922864902",
   "metadata": {
    "slideshow": {
     "slide_type": "slide"
    },
    "tags": []
   },
   "outputs": [
    {
     "data": {
      "text/plain": [
       "Name: my-soc\n",
       "Cone f(x,p)∈K, where:\n",
       "K is a second-order cone, {(t, x)∈ℝ×ℝⁿ : ‖x‖₂≤t}\n",
       "f(x,p) = \n",
       "  100 t\n",
       "  x\n",
       "Affine function\n",
       "Arguments:\n",
       "  x (block 1) : 1\n",
       "  t (block 2) : 2\n"
      ]
     },
     "execution_count": 20,
     "metadata": {},
     "output_type": "execute_result"
    }
   ],
   "source": [
    "constraints(pbm, \"^my-soc\")"
   ]
  },
  {
   "cell_type": "markdown",
   "id": "b9d0177e-aa8f-492c-b1e9-c21ad500c673",
   "metadata": {
    "slideshow": {
     "slide_type": "slide"
    },
    "tags": []
   },
   "source": [
    "## Examples"
   ]
  },
  {
   "cell_type": "markdown",
   "id": "12750789-272a-4edd-b4a0-b4f2f315fd02",
   "metadata": {
    "slideshow": {
     "slide_type": "fragment"
    },
    "tags": []
   },
   "source": [
    "Many simple constraint set typical in a trajectory optimization problem like box, ball, halfspace and hyperplane can be represented as conic constraints."
   ]
  },
  {
   "cell_type": "markdown",
   "id": "153f5a6f-eb53-4e22-bdd0-0305f1d355bf",
   "metadata": {
    "slideshow": {
     "slide_type": "slide"
    },
    "tags": []
   },
   "source": [
    "### Box"
   ]
  },
  {
   "cell_type": "markdown",
   "id": "df61cabd-c976-4b1a-b39c-dcf40684dfb2",
   "metadata": {
    "slideshow": {
     "slide_type": "fragment"
    },
    "tags": []
   },
   "source": [
    "A box with bounds $l,u\\in\\mathbb{R}$ with $l<u$ can be formulated as as non-positive orthant cone:"
   ]
  },
  {
   "cell_type": "markdown",
   "id": "6b30ffc2-c270-4196-aa7a-693fbeaa539b",
   "metadata": {
    "slideshow": {
     "slide_type": "fragment"
    },
    "tags": []
   },
   "source": [
    "$$\n",
    "\\{x\\in\\mathbb{R}^n~|~l\\leq x \\leq u\\}\n",
    "$$\n",
    "\n",
    "$$\n",
    "l\\leq x \\leq u \\iff \\left[ \\begin{array}{c}I\\\\ -I\\end{array}\\right]x + \\left[\\begin{array}{c}-u\\mathbf{1}\\\\ l\\mathbf{1} \\end{array}\\right] \\in \\mathbb{K}_{\\leq 0}\n",
    "$$"
   ]
  },
  {
   "cell_type": "code",
   "execution_count": 21,
   "id": "ab1ce0ae-7243-446e-8d28-13d7ea84965e",
   "metadata": {
    "slideshow": {
     "slide_type": "slide"
    },
    "tags": []
   },
   "outputs": [
    {
     "data": {
      "text/plain": [
       "Name: my-box\n",
       "Cone f(x,p)∈K, where:\n",
       "K is a nonpositive orthant cone, {z : z≤0}\n",
       "f(x,p) = \n",
       "  x[1] - 9\n",
       "  x[2] - 9\n",
       "  -x[1] + 2\n",
       "  -x[2] + 2\n",
       "Affine function\n",
       "Arguments:\n",
       "  x (block 1) : 1:2\n"
      ]
     },
     "execution_count": 21,
     "metadata": {},
     "output_type": "execute_result"
    }
   ],
   "source": [
    "params = Dict(\"n\" => 2, \"l\" => 2, \"u\" => 9)\n",
    "A = [1  0;0 1;-1 0;0 -1]\n",
    "b = [-params[\"u\"];-params[\"u\"];params[\"l\"];params[\"l\"]]\n",
    "\n",
    "pbm = ConicProgram(params)\n",
    "\n",
    "x = @new_variable(pbm, params[\"n\"],\"x\")\n",
    "\n",
    "# Define the constraint\n",
    "cstr = @add_constraint(\n",
    "    pbm, NONPOS, \"my-box\", (x,),\n",
    "    begin\n",
    "        local x, = arg\n",
    "        A*x+b\n",
    "    end)"
   ]
  },
  {
   "cell_type": "markdown",
   "id": "8e18c553-9767-4114-946b-77c7863786f4",
   "metadata": {
    "slideshow": {
     "slide_type": "slide"
    },
    "tags": []
   },
   "source": [
    "### Ball"
   ]
  },
  {
   "cell_type": "markdown",
   "id": "d3778d74-992e-43d7-84ff-522106300c7a",
   "metadata": {
    "slideshow": {
     "slide_type": "fragment"
    },
    "tags": []
   },
   "source": [
    "A ball with radius $r \\in \\mathbb{R}_+$ set can be represented as a $l_2$ norm cone (second-order cone):"
   ]
  },
  {
   "cell_type": "markdown",
   "id": "3cba727c-83de-49ba-adf0-02abed81a284",
   "metadata": {
    "slideshow": {
     "slide_type": "fragment"
    },
    "tags": []
   },
   "source": [
    "$$\n",
    "\\{x\\in\\mathbb{R}^n~|~\\|x\\|_2\\leq r\\}\n",
    "$$\n",
    "\n",
    "$$\n",
    "\\|x\\|_2\\leq r \\iff \\left[ \\begin{array}{c} 0 \\\\ I \\end{array} \\right] x + \\left[ \\begin{array}{c} r \\\\ 0 \\end{array} \\right]\\in \\mathbb{K}_2\n",
    "$$"
   ]
  },
  {
   "cell_type": "code",
   "execution_count": 22,
   "id": "d45f6b42-3b02-4022-8554-22ecc55c9463",
   "metadata": {
    "slideshow": {
     "slide_type": "slide"
    },
    "tags": []
   },
   "outputs": [
    {
     "data": {
      "text/plain": [
       "Name: my-ball\n",
       "Cone f(x,p)∈K, where:\n",
       "K is a second-order cone, {(t, x)∈ℝ×ℝⁿ : ‖x‖₂≤t}\n",
       "f(x,p) = \n",
       "  4\n",
       "  x[1]\n",
       "  x[2]\n",
       "Affine function\n",
       "Arguments:\n",
       "  x (block 1) : 1:2\n"
      ]
     },
     "execution_count": 22,
     "metadata": {},
     "output_type": "execute_result"
    }
   ],
   "source": [
    "params = Dict(\"n\" => 2, \"r\" => 4)\n",
    "A = [0  0;1 0;0 1]\n",
    "b = [params[\"r\"];0;0]\n",
    "\n",
    "pbm = ConicProgram(params)\n",
    "\n",
    "x = @new_variable(pbm, params[\"n\"],\"x\")\n",
    "\n",
    "# Define the constraint\n",
    "cstr = @add_constraint(\n",
    "    pbm, SOC, \"my-ball\", (x,),\n",
    "    begin\n",
    "        local x, = arg\n",
    "        A*x+b\n",
    "    end)"
   ]
  },
  {
   "cell_type": "markdown",
   "id": "26fb0dd6-e432-4f6b-926b-0fcc4ed46b1b",
   "metadata": {
    "slideshow": {
     "slide_type": "slide"
    },
    "tags": []
   },
   "source": [
    "### Hyperplane"
   ]
  },
  {
   "cell_type": "markdown",
   "id": "134964f6-dffb-45e6-9438-8abad180548e",
   "metadata": {
    "slideshow": {
     "slide_type": "fragment"
    },
    "tags": []
   },
   "source": [
    "A hyperplane defined by $a\\in \\mathbb{R}^n$ and $b\\in\\mathbb{R}$ can be represented as a zero cone:"
   ]
  },
  {
   "cell_type": "markdown",
   "id": "51d7474e-5433-4d35-8f67-a6a1bf9ac893",
   "metadata": {
    "slideshow": {
     "slide_type": "fragment"
    },
    "tags": []
   },
   "source": [
    "$$\n",
    "\\left\\{x\\in\\mathbb{R}^n~|~a^\\top x = b\\right\\}\n",
    "$$\n",
    "\n",
    "$$\n",
    "a^\\top x = b \\iff \\left[a^\\top\\right]x + (-b) \\in \\mathbb{K}_{=0}\n",
    "$$"
   ]
  },
  {
   "cell_type": "code",
   "execution_count": 23,
   "id": "1bdadbab-7236-489a-b29d-a9b8434157fb",
   "metadata": {
    "slideshow": {
     "slide_type": "slide"
    },
    "tags": []
   },
   "outputs": [
    {
     "name": "stdout",
     "output_type": "stream",
     "text": [
      "A = [1.1 3.2]\n"
     ]
    },
    {
     "data": {
      "text/plain": [
       "Name: my-hypln\n",
       "Cone f(x,p)∈K, where:\n",
       "K is a zero cone, {z : z=0}\n",
       "f(x,p) = \n",
       "  1.1 x[1] + 3.2 x[2] - 9\n",
       "Affine function\n",
       "Arguments:\n",
       "  x (block 1) : 1:2\n"
      ]
     },
     "execution_count": 23,
     "metadata": {},
     "output_type": "execute_result"
    }
   ],
   "source": [
    "params = Dict(\"n\" => 2, \"a\" => [1.1;3.2], \"b\" => 9)\n",
    "A = Matrix(transpose(params[\"a\"]))\n",
    "b = -params[\"b\"]\n",
    "\n",
    "@show A\n",
    "\n",
    "pbm = ConicProgram(params)\n",
    "\n",
    "x = @new_variable(pbm, params[\"n\"],\"x\")\n",
    "\n",
    "# Define the constraint\n",
    "cstr = @add_constraint(\n",
    "    pbm, ZERO, \"my-hypln\", (x,),\n",
    "    begin\n",
    "        local x, = arg\n",
    "        A*x .+ b\n",
    "    end)"
   ]
  },
  {
   "cell_type": "markdown",
   "id": "834db5c5-859d-4d7b-889e-654a1b27686d",
   "metadata": {
    "slideshow": {
     "slide_type": "slide"
    },
    "tags": []
   },
   "source": [
    "### Halfspace"
   ]
  },
  {
   "cell_type": "markdown",
   "id": "a2e3375f-656e-430e-8d0c-423d6e91c6be",
   "metadata": {
    "slideshow": {
     "slide_type": "fragment"
    },
    "tags": []
   },
   "source": [
    "A halfspace defined by $a\\in \\mathbb{R}^n$ and $b\\in\\mathbb{R}$ can be represented as a non-positive orthant cone:"
   ]
  },
  {
   "cell_type": "markdown",
   "id": "67f6eaf6-f47c-45b6-ac5e-96237cb25023",
   "metadata": {
    "slideshow": {
     "slide_type": "fragment"
    },
    "tags": []
   },
   "source": [
    "$$\n",
    "\\left\\{x\\in\\mathbb{R}^n~|~a^\\top x \\leq b\\right\\}\n",
    "$$\n",
    "\n",
    "$$\n",
    "a^\\top x \\leq b \\iff \\left[a^\\top\\right] x + (-b) \\in \\mathbb{K}_{\\leq 0}\n",
    "$$"
   ]
  },
  {
   "cell_type": "code",
   "execution_count": 24,
   "id": "a62c3669-be18-48c7-8bb5-e35f971ebbd1",
   "metadata": {
    "slideshow": {
     "slide_type": "slide"
    },
    "tags": []
   },
   "outputs": [
    {
     "name": "stdout",
     "output_type": "stream",
     "text": [
      "A * [1; 2] = [7.5]\n",
      "(1,)\n"
     ]
    },
    {
     "data": {
      "text/plain": [
       "Name: my-hlfspace\n",
       "Cone f(x,p)∈K, where:\n",
       "K is a nonpositive orthant cone, {z : z≤0}\n",
       "f(x,p) = \n",
       "  1.1 x[1] + 3.2 x[2] - 9\n",
       "Affine function\n",
       "Arguments:\n",
       "  x (block 1) : 1:2\n"
      ]
     },
     "execution_count": 24,
     "metadata": {},
     "output_type": "execute_result"
    }
   ],
   "source": [
    "params = Dict(\"n\" => 2, \"a\" => [1.1;3.2], \"b\" => 9)\n",
    "A = Matrix(transpose(params[\"a\"]))\n",
    "b = -params[\"b\"]\n",
    "\n",
    "@show A*[1;2]\n",
    "\n",
    "pbm = ConicProgram(params)\n",
    "\n",
    "x = @new_variable(pbm, params[\"n\"],\"x\")\n",
    "\n",
    "# Define the constraint\n",
    "cstr = @add_constraint(\n",
    "    pbm, NONPOS, \"my-hlfspace\", (x,),\n",
    "    begin\n",
    "        local x, = arg\n",
    "        println(size(A*x))\n",
    "        A*x .+ b\n",
    "    end)"
   ]
  },
  {
   "cell_type": "markdown",
   "id": "ac096741-ec93-4574-8d7b-c80b3be98ad1",
   "metadata": {
    "slideshow": {
     "slide_type": "slide"
    },
    "tags": []
   },
   "source": [
    "## Objective function"
   ]
  },
  {
   "cell_type": "markdown",
   "id": "66597907-fbbb-4a09-8aac-bb2795407427",
   "metadata": {
    "slideshow": {
     "slide_type": "fragment"
    },
    "tags": []
   },
   "source": [
    " - This section explains how the __objective function__ is defined. "
   ]
  },
  {
   "cell_type": "markdown",
   "id": "97f3e1b9-56ff-480b-8b4d-05c298da9d3c",
   "metadata": {
    "slideshow": {
     "slide_type": "fragment"
    },
    "tags": []
   },
   "source": [
    " - Regardless of whether optimization problems have constraints or not, they seek to optimize a function with respect to  a chosen _objective_."
   ]
  },
  {
   "cell_type": "markdown",
   "id": "66924d41-b5fe-4485-859a-35a98509b5d3",
   "metadata": {
    "slideshow": {
     "slide_type": "fragment"
    },
    "tags": []
   },
   "source": [
    " - i.e., they seek to either minimize a certain _cost_ or maximize a certain _reward_. "
   ]
  },
  {
   "cell_type": "markdown",
   "id": "8389e5a5-652a-47ed-b8ec-5d0adde956c2",
   "metadata": {
    "slideshow": {
     "slide_type": "fragment"
    },
    "tags": []
   },
   "source": [
    " - For example, propellant consumption is an important metric that is ideally optimized for (minimized) in a rocket-powered planetary landing mission. We may also want to minimize the total energy to go from one point to another."
   ]
  },
  {
   "cell_type": "markdown",
   "id": "a0beff45-4894-44e7-8c68-5d13d4a6e875",
   "metadata": {
    "slideshow": {
     "slide_type": "fragment"
    },
    "tags": []
   },
   "source": [
    "__Note__: Although we take cost-minimization to be the default objective here, a problem can be easily cast as a reward-maximization problem by minimizing the negative of the objective function."
   ]
  },
  {
   "cell_type": "markdown",
   "id": "d3f2ff48-a6d3-4ca3-9be8-c18144bd501f",
   "metadata": {
    "slideshow": {
     "slide_type": "slide"
    },
    "tags": []
   },
   "source": [
    "Let us define a new optimization problem, but this time, with a user-defined constant parameter, `a`."
   ]
  },
  {
   "cell_type": "code",
   "execution_count": 25,
   "id": "921058dd-2f7a-4044-a47c-f846c98c2e47",
   "metadata": {
    "slideshow": {
     "slide_type": "fragment"
    },
    "tags": []
   },
   "outputs": [
    {
     "data": {
      "text/plain": [
       "Conic linear program\n",
       "\n",
       "  Feasibility problem\n",
       "  0 variables (0 blocks)\n",
       "  0 parameters (0 blocks)\n",
       "  0 constraints\n",
       "\n",
       "  Variable argument\n",
       "    0 elements\n",
       "    0 blocks\n",
       "\n",
       "\n",
       "  Parameter argument\n",
       "    0 elements\n",
       "    0 blocks\n"
      ]
     },
     "execution_count": 25,
     "metadata": {},
     "output_type": "execute_result"
    }
   ],
   "source": [
    "my_pars = Dict(\"a\" => 5)\n",
    "opts = Dict(\"verbose\" => 0)\n",
    "pbm = ConicProgram(my_pars; solver = ECOS.Optimizer, solver_options = opts)"
   ]
  },
  {
   "cell_type": "markdown",
   "id": "b40f3873-bada-4cd7-b1b5-84cdb0e00604",
   "metadata": {
    "slideshow": {
     "slide_type": "slide"
    },
    "tags": []
   },
   "source": [
    "Next, we define a scalar variable, `x`."
   ]
  },
  {
   "cell_type": "code",
   "execution_count": 26,
   "id": "d69e5984-5a51-4510-8b48-41a46211d25e",
   "metadata": {
    "slideshow": {
     "slide_type": "fragment"
    },
    "tags": []
   },
   "outputs": [
    {
     "data": {
      "text/plain": [
       "Vector variable\n",
       "  1 elements\n",
       "  (1,) shape\n",
       "  Name: x\n",
       "  Block index in stack: 1\n",
       "  Indices in stack: 1\n",
       "  Type: Vector{JuMP.AffExpr}\n",
       "  No scaling (x=xh)\n",
       "  Any perturbation allowed\n",
       "  Value =\n",
       "     x"
      ]
     },
     "execution_count": 26,
     "metadata": {},
     "output_type": "execute_result"
    }
   ],
   "source": [
    "x = @new_variable(pbm, \"x\")"
   ]
  },
  {
   "cell_type": "markdown",
   "id": "f7be5664-f25e-4986-ba0e-49d32d7281dc",
   "metadata": {
    "slideshow": {
     "slide_type": "slide"
    },
    "tags": []
   },
   "source": [
    "Now we are ready to define our objective function, which we will henceforth refer to as simply \"cost\"."
   ]
  },
  {
   "cell_type": "markdown",
   "id": "e627aff3-e630-45ca-997b-0d8a0864c422",
   "metadata": {
    "slideshow": {
     "slide_type": "fragment"
    },
    "tags": []
   },
   "source": [
    "By default, the cost is initialized to zero when a new problem is generated. We use the `@add_cost` function to add terms to the cost `obj`."
   ]
  },
  {
   "cell_type": "code",
   "execution_count": 27,
   "id": "ed70664a-4766-4e43-a5a7-2173379591da",
   "metadata": {
    "slideshow": {
     "slide_type": "fragment"
    },
    "tags": []
   },
   "outputs": [
    {
     "data": {
      "text/plain": [
       "Cost function composed of 1 terms\n",
       "\n",
       "Term 1:\n",
       "  Coefficient: 1.00e+00\n",
       "  Affine function\n",
       "  Arguments:\n",
       "    x (block 1) : 1\n",
       "  Current value =\n",
       "    5 x"
      ]
     },
     "execution_count": 27,
     "metadata": {},
     "output_type": "execute_result"
    }
   ],
   "source": [
    "obj = @add_cost(\n",
    "                pbm, (x,), \n",
    "                begin\n",
    "                    x, = arg\n",
    "                    pars[\"a\"]*x\n",
    "                end\n",
    "                )"
   ]
  },
  {
   "cell_type": "markdown",
   "id": "85c2be80-a19e-47e9-a211-e0a67877158b",
   "metadata": {
    "slideshow": {
     "slide_type": "slide"
    },
    "tags": []
   },
   "source": [
    " - The first argument of the function is to indicate that we are adding the cost term to the problem we have defined, `pbm`. \n",
    "\n",
    " - The third argument unpacks the tuple into variables that are used to define the cost. Here, our cost is simply the constant parameter that we defined earlier, `a`, and the cost itself is `a*x`.\n",
    "\n",
    " - The second argument is a tuple including the variables associated with the cost, which in this case is just `x`."
   ]
  },
  {
   "cell_type": "markdown",
   "id": "00ba5988-2ecc-47aa-8211-0d823041f799",
   "metadata": {
    "slideshow": {
     "slide_type": "slide"
    },
    "tags": []
   },
   "source": [
    "The cost function we have included is as follows:"
   ]
  },
  {
   "cell_type": "code",
   "execution_count": 28,
   "id": "c3e87dee-f77d-41b6-bfb1-2d34822ef0a2",
   "metadata": {
    "slideshow": {
     "slide_type": "fragment"
    },
    "tags": []
   },
   "outputs": [
    {
     "data": {
      "text/plain": [
       "Cost function composed of 1 terms\n",
       "\n",
       "Term 1:\n",
       "  Coefficient: 1.00e+00\n",
       "  Affine function\n",
       "  Arguments:\n",
       "    x (block 1) : 1\n",
       "  Current value =\n",
       "    5 x"
      ]
     },
     "execution_count": 28,
     "metadata": {},
     "output_type": "execute_result"
    }
   ],
   "source": [
    "cost(pbm)"
   ]
  },
  {
   "cell_type": "markdown",
   "id": "5a844619-5e6c-4140-8873-bdffffbb3ce5",
   "metadata": {
    "slideshow": {
     "slide_type": "slide"
    },
    "tags": []
   },
   "source": [
    "# Solve problem"
   ]
  },
  {
   "cell_type": "markdown",
   "id": "484fcd38-9327-470a-b441-50a00cfc962a",
   "metadata": {
    "slideshow": {
     "slide_type": "fragment"
    },
    "tags": []
   },
   "source": [
    "With everything we have learned so far, we are now ready to solve a convex optimization problem!"
   ]
  },
  {
   "cell_type": "markdown",
   "id": "91ee19a8-998b-48ff-b98d-20333afc23b4",
   "metadata": {
    "slideshow": {
     "slide_type": "fragment"
    },
    "tags": []
   },
   "source": [
    "We will start with a new problem for this example."
   ]
  },
  {
   "cell_type": "markdown",
   "id": "2447dbda-fb7c-476a-ae65-58d1e80f620a",
   "metadata": {
    "slideshow": {
     "slide_type": "slide"
    },
    "tags": []
   },
   "source": [
    "As before, we begin by defining constant parameters to be passed to the solver."
   ]
  },
  {
   "cell_type": "code",
   "execution_count": 29,
   "id": "6f803b5c-2894-4d67-9cf6-046265a51c1a",
   "metadata": {
    "slideshow": {
     "slide_type": "fragment"
    },
    "tags": []
   },
   "outputs": [
    {
     "data": {
      "text/plain": [
       "Dict{String, Any} with 2 entries:\n",
       "  \"x_ref\" => [2, 2, 5, 10, -1]\n",
       "  \"a\"     => 5"
      ]
     },
     "execution_count": 29,
     "metadata": {},
     "output_type": "execute_result"
    }
   ],
   "source": [
    "problem_pars = Dict(\"a\" => 5, \"x_ref\" => [2; 2; 5; 10; -1])"
   ]
  },
  {
   "cell_type": "markdown",
   "id": "866d5be1-a2a8-4b66-9b21-ee99a965239f",
   "metadata": {
    "slideshow": {
     "slide_type": "fragment"
    },
    "tags": []
   },
   "source": [
    "Here, we have defined one scalar constant, `a`, and one 5-dimensional constant vector, `x_ref`."
   ]
  },
  {
   "cell_type": "markdown",
   "id": "aa047eef-42e0-4528-aab0-89fa49b45c45",
   "metadata": {
    "slideshow": {
     "slide_type": "slide"
    },
    "tags": []
   },
   "source": [
    "Now, we create a dictionary of options to be passed to the low-level optimizer. In this case, we set the `verbose` flag to `1` so that we can see the full output of the low-level optimizer."
   ]
  },
  {
   "cell_type": "code",
   "execution_count": 30,
   "id": "c8a493b1-f708-4928-9fcc-d2c46777a574",
   "metadata": {
    "slideshow": {
     "slide_type": "fragment"
    },
    "tags": []
   },
   "outputs": [
    {
     "data": {
      "text/plain": [
       "Dict{String, Int64} with 1 entry:\n",
       "  \"verbose\" => 1"
      ]
     },
     "execution_count": 30,
     "metadata": {},
     "output_type": "execute_result"
    }
   ],
   "source": [
    "opts = Dict(\"verbose\" => 1)"
   ]
  },
  {
   "cell_type": "markdown",
   "id": "b34fe0f5-db83-4ac2-8157-c15d8d325937",
   "metadata": {
    "slideshow": {
     "slide_type": "slide"
    },
    "tags": []
   },
   "source": [
    "We now define our optimization problem. We shall make use of the open-source low-level convex optimization solver, ECOS."
   ]
  },
  {
   "cell_type": "code",
   "execution_count": 31,
   "id": "7fe7550d-9808-4b39-99c7-c2a527244f3b",
   "metadata": {
    "slideshow": {
     "slide_type": "fragment"
    },
    "tags": []
   },
   "outputs": [
    {
     "data": {
      "text/plain": [
       "Conic linear program\n",
       "\n",
       "  Feasibility problem\n",
       "  0 variables (0 blocks)\n",
       "  0 parameters (0 blocks)\n",
       "  0 constraints\n",
       "\n",
       "  Variable argument\n",
       "    0 elements\n",
       "    0 blocks\n",
       "\n",
       "\n",
       "  Parameter argument\n",
       "    0 elements\n",
       "    0 blocks\n"
      ]
     },
     "execution_count": 31,
     "metadata": {},
     "output_type": "execute_result"
    }
   ],
   "source": [
    "pbm = ConicProgram(problem_pars;\n",
    "    solver = ECOS.Optimizer,\n",
    "    solver_options = opts)"
   ]
  },
  {
   "cell_type": "markdown",
   "id": "322fc573-e273-4478-ad66-17553fdf204b",
   "metadata": {
    "slideshow": {
     "slide_type": "slide"
    },
    "tags": []
   },
   "source": [
    "We define two variables, `t` of dimension 1, and `x` of dimension 5."
   ]
  },
  {
   "cell_type": "code",
   "execution_count": 32,
   "id": "e701992d-7e86-43c0-8cba-c222f92d6fc1",
   "metadata": {
    "slideshow": {
     "slide_type": "fragment"
    },
    "tags": []
   },
   "outputs": [
    {
     "data": {
      "text/plain": [
       "Vector variable\n",
       "  1 elements\n",
       "  (1,) shape\n",
       "  Name: t\n",
       "  Block index in stack: 2\n",
       "  Indices in stack: 6\n",
       "  Type: Vector{JuMP.AffExpr}\n",
       "  No scaling (x=xh)\n",
       "  Any perturbation allowed\n",
       "  Value =\n",
       "     t"
      ]
     },
     "execution_count": 32,
     "metadata": {},
     "output_type": "execute_result"
    }
   ],
   "source": [
    "x = @new_variable(pbm, length(problem_pars[\"x_ref\"]), \"x\")\n",
    "t = @new_variable(pbm, \"t\")"
   ]
  },
  {
   "cell_type": "markdown",
   "id": "5d19f538-6ca4-4b48-b1b7-1ff51e4d1806",
   "metadata": {
    "slideshow": {
     "slide_type": "slide"
    },
    "tags": []
   },
   "source": [
    "Now we add a second-order cone (SOC) constraint, $\\|x-x_{ref}\\|_2 \\le t$, to the problem."
   ]
  },
  {
   "cell_type": "code",
   "execution_count": 33,
   "id": "2e592bff-8ab7-49e3-907a-2d9a903706cc",
   "metadata": {
    "slideshow": {
     "slide_type": "fragment"
    },
    "tags": []
   },
   "outputs": [
    {
     "data": {
      "text/plain": [
       "Name: f1\n",
       "Cone f(x,p)∈K, where:\n",
       "K is a second-order cone, {(t, x)∈ℝ×ℝⁿ : ‖x‖₂≤t}\n",
       "f(x,p) = \n",
       "  t\n",
       "  x[1] - 2\n",
       "  x[2] - 2\n",
       "  x[3] - 5\n",
       "  x[4] - 10\n",
       "  x[5] + 1\n",
       "Affine function\n",
       "Arguments:\n",
       "  x (block 1) : 1:5\n",
       "  t (block 2) : 6\n"
      ]
     },
     "execution_count": 33,
     "metadata": {},
     "output_type": "execute_result"
    }
   ],
   "source": [
    "@add_constraint(\n",
    "    pbm, SOC, (x, t),\n",
    "    begin\n",
    "        x, t = arg\n",
    "        vcat(t, x-pars[\"x_ref\"])\n",
    "    end)"
   ]
  },
  {
   "cell_type": "markdown",
   "id": "7fe7dc05-5c39-40a3-97d1-132d0a614177",
   "metadata": {
    "slideshow": {
     "slide_type": "slide"
    },
    "tags": []
   },
   "source": [
    "We choose the cost function to be $t^{2}$."
   ]
  },
  {
   "cell_type": "code",
   "execution_count": 34,
   "id": "1755a912-06fb-48e9-91bf-ed39fe03d1ac",
   "metadata": {
    "slideshow": {
     "slide_type": "fragment"
    },
    "tags": []
   },
   "outputs": [
    {
     "data": {
      "text/plain": [
       "Cost function composed of 1 terms\n",
       "\n",
       "Term 1:\n",
       "  Coefficient: 1.00e+00\n",
       "  Quadratic function\n",
       "  Arguments:\n",
       "    t (block 2) : 6\n",
       "  Current value =\n",
       "    t²"
      ]
     },
     "execution_count": 34,
     "metadata": {},
     "output_type": "execute_result"
    }
   ],
   "source": [
    "@add_cost(\n",
    "    pbm, (t,), \n",
    "    begin\n",
    "        t, = arg\n",
    "        t.^2\n",
    "    end)"
   ]
  },
  {
   "cell_type": "markdown",
   "id": "a2888ce5-fb03-426c-a35e-8e52dedb7d48",
   "metadata": {
    "slideshow": {
     "slide_type": "slide"
    },
    "tags": []
   },
   "source": [
    "We are finally ready to solve the problem we just defined!"
   ]
  },
  {
   "cell_type": "code",
   "execution_count": 35,
   "id": "33338392-a185-4464-a660-fb84a0e0e340",
   "metadata": {
    "slideshow": {
     "slide_type": "fragment"
    },
    "tags": []
   },
   "outputs": [
    {
     "name": "stdout",
     "output_type": "stream",
     "text": [
      "\n",
      "ECOS 2.0.8 - (C) embotech GmbH, Zurich Switzerland, 2012-15. Web: www.embotech.com/ECOS\n",
      "\n",
      "It     pcost       dcost      gap   pres   dres    k/t    mu     step   sigma     IR    |   BT\n",
      " 0  +0.000e+00  -2.449e-01  +4e+00  2e-01  1e-01  1e+00  2e+00    ---    ---    1  1  - |  -  - \n",
      " 1  -6.147e-02  -8.099e-02  +2e-01  7e-03  4e-03  3e-02  9e-02  0.9530  5e-03   1  1  1 |  0  0\n",
      " 2  -5.548e-04  -2.077e-03  +1e-02  3e-04  2e-04  9e-04  5e-03  0.9475  8e-04   1  1  1 |  0  0\n",
      " 3  -4.848e-04  -6.068e-04  +2e-03  6e-05  4e-05  4e-04  1e-03  0.9090  1e-01   1  2  2 |  0  0\n",
      " 4  -4.348e-05  -7.855e-05  +8e-04  2e-05  1e-05  1e-04  4e-04  0.7244  1e-01   1  2  2 |  0  0\n",
      " 5  -1.174e-04  -1.268e-04  +3e-04  9e-06  5e-06  7e-05  2e-04  0.8239  3e-01   1  1  1 |  0  0\n",
      " 6  -1.708e-06  -3.017e-06  +5e-05  1e-06  7e-07  9e-06  2e-05  0.9890  1e-01   2  2  2 |  0  0\n",
      " 7  -6.230e-08  -1.239e-07  +2e-06  6e-08  4e-08  4e-07  1e-06  0.9600  8e-03   1  1  1 |  0  0\n",
      " 8  -5.661e-08  -6.196e-08  +2e-07  5e-09  3e-09  4e-08  1e-07  0.9181  6e-03   2  1  1 |  0  0\n",
      " 9  +3.774e-10  -1.080e-09  +6e-08  1e-09  9e-10  1e-08  3e-08  0.9257  2e-01   1  1  1 |  0  0\n",
      "10  -6.392e-10  -7.070e-10  +3e-09  6e-11  4e-11  5e-10  1e-09  0.9765  2e-02   2  1  1 |  0  0\n",
      "\n",
      "OPTIMAL (within feastol=6.4e-11, reltol=4.2e+00, abstol=2.7e-09).\n",
      "Runtime: 0.000123 seconds.\n",
      "\n"
     ]
    },
    {
     "data": {
      "text/plain": [
       "OPTIMAL::TerminationStatusCode = 1"
      ]
     },
     "execution_count": 35,
     "metadata": {},
     "output_type": "execute_result"
    }
   ],
   "source": [
    "exit_status = solve!(pbm)"
   ]
  },
  {
   "cell_type": "markdown",
   "id": "1ea04944-e770-4b63-bfa9-2493b894a87c",
   "metadata": {
    "slideshow": {
     "slide_type": "slide"
    },
    "tags": []
   },
   "source": [
    "The optimal cost value is `J_opt`."
   ]
  },
  {
   "cell_type": "code",
   "execution_count": 36,
   "id": "03667655-3daa-4f0e-bd0a-df799d2c4286",
   "metadata": {
    "slideshow": {
     "slide_type": "fragment"
    },
    "tags": []
   },
   "outputs": [
    {
     "data": {
      "text/plain": [
       "-8.29959449100464e-10"
      ]
     },
     "execution_count": 36,
     "metadata": {},
     "output_type": "execute_result"
    }
   ],
   "source": [
    "J_opt = objective_value(pbm)"
   ]
  },
  {
   "cell_type": "markdown",
   "id": "65563d8a-f080-4164-a0d5-6616a24e9dd1",
   "metadata": {
    "slideshow": {
     "slide_type": "slide"
    },
    "tags": []
   },
   "source": [
    "The optimal values of the decision variables are `x_opt` and `t_opt`."
   ]
  },
  {
   "cell_type": "code",
   "execution_count": 37,
   "id": "87797a30-2841-413a-aac6-8105111276ed",
   "metadata": {
    "slideshow": {
     "slide_type": "fragment"
    },
    "tags": []
   },
   "outputs": [
    {
     "data": {
      "text/plain": [
       "5-element Vector{Float64}:\n",
       "  2.0000000000095266\n",
       "  2.0000000000095266\n",
       "  5.0000000000238165\n",
       " 10.000000000047633\n",
       " -1.000000000004763"
      ]
     },
     "execution_count": 37,
     "metadata": {},
     "output_type": "execute_result"
    }
   ],
   "source": [
    "x_opt = value(x)"
   ]
  },
  {
   "cell_type": "code",
   "execution_count": 38,
   "id": "3e20ada6-861f-44e7-afaa-d555741babd0",
   "metadata": {
    "slideshow": {
     "slide_type": "fragment"
    },
    "tags": []
   },
   "outputs": [
    {
     "data": {
      "text/plain": [
       "1-element Vector{Float64}:\n",
       " 1.1524313115706931e-5"
      ]
     },
     "execution_count": 38,
     "metadata": {},
     "output_type": "execute_result"
    }
   ],
   "source": [
    "t_opt = value(t)"
   ]
  },
  {
   "cell_type": "markdown",
   "id": "4298851a-82ac-4054-a4d9-e53388dfdc4e",
   "metadata": {
    "slideshow": {
     "slide_type": "slide"
    },
    "tags": []
   },
   "source": [
    "The optimal values of the decision variables can also be accessed as mentioned before."
   ]
  },
  {
   "cell_type": "code",
   "execution_count": 39,
   "id": "ae75740e-ab2b-4922-8936-d829163d919a",
   "metadata": {
    "slideshow": {
     "slide_type": "fragment"
    },
    "tags": []
   },
   "outputs": [
    {
     "data": {
      "text/plain": [
       "5-element Vector{Float64}:\n",
       "  2.0000000000095266\n",
       "  2.0000000000095266\n",
       "  5.0000000000238165\n",
       " 10.000000000047633\n",
       " -1.000000000004763"
      ]
     },
     "execution_count": 39,
     "metadata": {},
     "output_type": "execute_result"
    }
   ],
   "source": [
    "value(variables(pbm, \"^x\\$\"))"
   ]
  },
  {
   "cell_type": "code",
   "execution_count": 40,
   "id": "af10606a-d01f-4099-9c70-2e849ac60443",
   "metadata": {
    "slideshow": {
     "slide_type": "fragment"
    },
    "tags": []
   },
   "outputs": [
    {
     "data": {
      "text/plain": [
       "1-element Vector{Float64}:\n",
       " 1.1524313115706931e-5"
      ]
     },
     "execution_count": 40,
     "metadata": {},
     "output_type": "execute_result"
    }
   ],
   "source": [
    "value(variables(pbm, \"^t\\$\"))"
   ]
  },
  {
   "cell_type": "markdown",
   "id": "8ef15a40-7057-4807-a654-d1754b122b9c",
   "metadata": {
    "slideshow": {
     "slide_type": "slide"
    },
    "tags": []
   },
   "source": [
    "Congratulations! "
   ]
  },
  {
   "cell_type": "markdown",
   "id": "c96ff284-52f0-4032-b970-3dd4ce8f1a60",
   "metadata": {
    "slideshow": {
     "slide_type": "fragment"
    },
    "tags": []
   },
   "source": [
    "We now know how to solve convex optimization problems, which form the basis for Sequential Convex Programming (SCP) problems, which we shall now get into with some exciting examples!"
   ]
  }
 ],
 "metadata": {
  "kernelspec": {
   "display_name": "Julia 1.7.1",
   "language": "julia",
   "name": "julia-1.7"
  },
  "language_info": {
   "file_extension": ".jl",
   "mimetype": "application/julia",
   "name": "julia",
   "version": "1.7.1"
  }
 },
 "nbformat": 4,
 "nbformat_minor": 5
}
