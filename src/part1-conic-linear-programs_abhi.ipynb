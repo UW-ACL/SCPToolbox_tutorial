{
 "cells": [
  {
   "cell_type": "markdown",
   "id": "62004cfc-3a43-42ce-9200-494fe6a610d2",
   "metadata": {
    "slideshow": {
     "slide_type": "slide"
    }
   },
   "source": [
    "# These are not LaTeX slides"
   ]
  },
  {
   "cell_type": "raw",
   "id": "961ba48e-17b1-40b5-be2a-7cc40e7b3eaf",
   "metadata": {
    "slideshow": {
     "slide_type": "skip"
    },
    "tags": []
   },
   "source": [
    "$ jupyter nbconvert part1-conic-linear-programs.ipynb --to slides --post serve"
   ]
  },
  {
   "cell_type": "code",
   "execution_count": 1,
   "id": "7b730534-e2f1-4c3a-b51c-0648350a014f",
   "metadata": {
    "slideshow": {
     "slide_type": "skip"
    }
   },
   "outputs": [
    {
     "name": "stderr",
     "output_type": "stream",
     "text": [
      "\u001b[32m\u001b[1m  Activating\u001b[22m\u001b[39m project at `~/GitHub/SCPToolbox_tutorial`\n"
     ]
    }
   ],
   "source": [
    "import Pkg\n",
    "Pkg.activate(\"..\")\n",
    "\n",
    "using SCPToolbox\n",
    "using ECOS"
   ]
  },
  {
   "cell_type": "markdown",
   "id": "d2edd31f-876a-422a-b8a2-23e679de5ae9",
   "metadata": {
    "slideshow": {
     "slide_type": "slide"
    },
    "tags": []
   },
   "source": [
    "## Objective function"
   ]
  },
  {
   "cell_type": "markdown",
   "id": "66becda5-d3aa-4ad3-a306-55359e44c5d1",
   "metadata": {
    "slideshow": {
     "slide_type": "fragment"
    },
    "tags": []
   },
   "source": [
    " - This section explains how the __objective function__ is defined. "
   ]
  },
  {
   "cell_type": "markdown",
   "id": "d93548cd-b03b-44fd-800a-80c9e43f12ae",
   "metadata": {
    "slideshow": {
     "slide_type": "fragment"
    },
    "tags": []
   },
   "source": [
    " - Regardless of whether optimization problems have constraints or not, they seek to optimize a function with respect to  a chosen _objective_."
   ]
  },
  {
   "cell_type": "markdown",
   "id": "dbab7159-393b-40d4-8b85-f23ae42cdcfc",
   "metadata": {
    "slideshow": {
     "slide_type": "fragment"
    },
    "tags": []
   },
   "source": [
    " - i.e., they seek to either minimize a certain _cost_ or maximize a certain _reward_. "
   ]
  },
  {
   "cell_type": "markdown",
   "id": "f8349cfc-767a-4c2b-8e18-51f2936ba62c",
   "metadata": {
    "slideshow": {
     "slide_type": "fragment"
    },
    "tags": []
   },
   "source": [
    " - For example, propellant consumption is an important metric that is ideally optimized for (minimized) in a rocket-powered planetary landing mission. We may also want to minimize the total energy to go from one point to another."
   ]
  },
  {
   "cell_type": "markdown",
   "id": "960ed5f0-c847-4e4a-961a-e0a21917b9cf",
   "metadata": {
    "slideshow": {
     "slide_type": "fragment"
    },
    "tags": []
   },
   "source": [
    "__Note__: Although we take cost-minimization to be the default objective here, a problem can be easily cast as a reward-maximization problem by minimizing the negative of the objective function."
   ]
  },
  {
   "cell_type": "markdown",
   "id": "324f3c89-9c03-42c5-8c88-c8b9a4e2bde3",
   "metadata": {
    "slideshow": {
     "slide_type": "slide"
    },
    "tags": []
   },
   "source": [
    "Let us define a new optimization problem, but this time, with a user-defined constant parameter, `a`."
   ]
  },
  {
   "cell_type": "code",
   "execution_count": 2,
   "id": "db4ca78d-194c-4d0c-bbb6-fbc8680718ea",
   "metadata": {
    "slideshow": {
     "slide_type": "fragment"
    },
    "tags": []
   },
   "outputs": [
    {
     "data": {
      "text/plain": [
       "Conic linear program\n",
       "\n",
       "  Feasibility problem\n",
       "  0 variables (0 blocks)\n",
       "  0 parameters (0 blocks)\n",
       "  0 constraints\n",
       "\n",
       "  Variable argument\n",
       "    0 elements\n",
       "    0 blocks\n",
       "\n",
       "\n",
       "  Parameter argument\n",
       "    0 elements\n",
       "    0 blocks\n"
      ]
     },
     "execution_count": 2,
     "metadata": {},
     "output_type": "execute_result"
    }
   ],
   "source": [
    "my_pars = Dict(\"a\" => 5)\n",
    "opts = Dict(\"verbose\" => 0)\n",
    "pbm = ConicProgram(my_pars; solver = ECOS.Optimizer, solver_options = opts)"
   ]
  },
  {
   "cell_type": "markdown",
   "id": "a345cdd0-58fe-426a-aee5-a74d2a5b8484",
   "metadata": {
    "slideshow": {
     "slide_type": "slide"
    },
    "tags": []
   },
   "source": [
    "Next, we define a scalar variable, `x`."
   ]
  },
  {
   "cell_type": "code",
   "execution_count": 3,
   "id": "3331c8ef-e982-4e70-ab09-35ee637e5b98",
   "metadata": {
    "slideshow": {
     "slide_type": "fragment"
    },
    "tags": []
   },
   "outputs": [
    {
     "data": {
      "text/plain": [
       "Vector variable\n",
       "  1 elements\n",
       "  (1,) shape\n",
       "  Name: x\n",
       "  Block index in stack: 1\n",
       "  Indices in stack: 1\n",
       "  Type: Vector{JuMP.AffExpr}\n",
       "  No scaling (x=xh)\n",
       "  Any perturbation allowed\n",
       "  Value =\n",
       "     x"
      ]
     },
     "execution_count": 3,
     "metadata": {},
     "output_type": "execute_result"
    }
   ],
   "source": [
    "x = @new_variable(pbm, \"x\")"
   ]
  },
  {
   "cell_type": "markdown",
   "id": "bd91eb5a-1e0c-46e4-9d43-71ed9e4977ab",
   "metadata": {
    "slideshow": {
     "slide_type": "slide"
    },
    "tags": []
   },
   "source": [
    "Now we are ready to define our objective function, which we will henceforth refer to as simply \"cost\"."
   ]
  },
  {
   "cell_type": "markdown",
   "id": "b1dd4330-551e-49ae-bc8e-bf0488ac8d10",
   "metadata": {
    "slideshow": {
     "slide_type": "fragment"
    },
    "tags": []
   },
   "source": [
    "By default, the cost is initialized to zero when a new problem is generated. We use the `@add_cost` function to add terms to the cost `obj`."
   ]
  },
  {
   "cell_type": "code",
   "execution_count": 4,
   "id": "9bb68c73-b431-4776-b3f7-4ea9cc3ee7d0",
   "metadata": {
    "slideshow": {
     "slide_type": "fragment"
    },
    "tags": []
   },
   "outputs": [
    {
     "data": {
      "text/plain": [
       "Cost function composed of 1 terms\n",
       "\n",
       "Term 1:\n",
       "  Coefficient: 1.00e+00\n",
       "  Affine function\n",
       "  Arguments:\n",
       "    x (block 1) : 1\n",
       "  Current value =\n",
       "    5 x"
      ]
     },
     "execution_count": 4,
     "metadata": {},
     "output_type": "execute_result"
    }
   ],
   "source": [
    "obj = @add_cost(\n",
    "                pbm, (x,), \n",
    "                begin\n",
    "                    x, = arg\n",
    "                    pars[\"a\"]*x\n",
    "                end\n",
    "                )"
   ]
  },
  {
   "cell_type": "markdown",
   "id": "59bf61d8-8457-4e9d-8d21-a2f560099401",
   "metadata": {
    "slideshow": {
     "slide_type": "slide"
    },
    "tags": []
   },
   "source": [
    " - The first argument of the function is to indicate that we are adding the cost term to the problem we have defined, `pbm`. \n",
    "\n",
    " - The third argument unpacks the tuple into variables that are used to define the cost. Here, our cost is simply the constant parameter that we defined earlier, `a`, and the cost itself is `a*x`.\n",
    "\n",
    " - The second argument is a tuple including the variables associated with the cost, which in this case is just `x`."
   ]
  },
  {
   "cell_type": "markdown",
   "id": "7a96d2fc-c439-469c-a618-00cd084f85dd",
   "metadata": {
    "slideshow": {
     "slide_type": "slide"
    },
    "tags": []
   },
   "source": [
    "The cost function we have included is as follows:"
   ]
  },
  {
   "cell_type": "code",
   "execution_count": 5,
   "id": "3b721a42-1f14-4bd1-bae4-65ee6c0a16ef",
   "metadata": {
    "slideshow": {
     "slide_type": "fragment"
    },
    "tags": []
   },
   "outputs": [
    {
     "data": {
      "text/plain": [
       "Cost function composed of 1 terms\n",
       "\n",
       "Term 1:\n",
       "  Coefficient: 1.00e+00\n",
       "  Affine function\n",
       "  Arguments:\n",
       "    x (block 1) : 1\n",
       "  Current value =\n",
       "    5 x"
      ]
     },
     "execution_count": 5,
     "metadata": {},
     "output_type": "execute_result"
    }
   ],
   "source": [
    "cost(pbm)"
   ]
  },
  {
   "cell_type": "markdown",
   "id": "7e4de56b-5524-483a-83d6-1413eac99406",
   "metadata": {
    "slideshow": {
     "slide_type": "slide"
    },
    "tags": []
   },
   "source": [
    "# Solve problem"
   ]
  },
  {
   "cell_type": "markdown",
   "id": "5f07fad1-c314-419d-913e-fb41ca28f6b1",
   "metadata": {
    "slideshow": {
     "slide_type": "fragment"
    },
    "tags": []
   },
   "source": [
    "With everything we have learned so far, we are now ready to solve a convex optimization problem!"
   ]
  },
  {
   "cell_type": "markdown",
   "id": "8d669bb4-fb5e-475e-b20a-d3b0731f1df6",
   "metadata": {
    "slideshow": {
     "slide_type": "fragment"
    },
    "tags": []
   },
   "source": [
    "We will start with a new problem for this example."
   ]
  },
  {
   "cell_type": "markdown",
   "id": "e140f0e9-cf6e-4124-ac0f-6c945d4fcad6",
   "metadata": {
    "slideshow": {
     "slide_type": "slide"
    },
    "tags": []
   },
   "source": [
    "As before, we begin by defining constant parameters to be passed to the solver."
   ]
  },
  {
   "cell_type": "code",
   "execution_count": 6,
   "id": "605d0587-e0cf-412b-afa0-26e6ce4ab021",
   "metadata": {
    "slideshow": {
     "slide_type": "fragment"
    },
    "tags": []
   },
   "outputs": [
    {
     "data": {
      "text/plain": [
       "Dict{String, Any} with 2 entries:\n",
       "  \"x_ref\" => [2, 2, 5, 10, -1]\n",
       "  \"a\"     => 5"
      ]
     },
     "execution_count": 6,
     "metadata": {},
     "output_type": "execute_result"
    }
   ],
   "source": [
    "problem_pars = Dict(\"a\" => 5, \"x_ref\" => [2; 2; 5; 10; -1])"
   ]
  },
  {
   "cell_type": "markdown",
   "id": "a2387668-c495-429f-ae1c-f3ec72dc06e9",
   "metadata": {
    "slideshow": {
     "slide_type": "fragment"
    },
    "tags": []
   },
   "source": [
    "Here, we have defined one scalar constant, `a`, and one 5-dimensional constant vector, `x_ref`."
   ]
  },
  {
   "cell_type": "markdown",
   "id": "821e7b91-264d-4284-990f-8c61d811166a",
   "metadata": {
    "slideshow": {
     "slide_type": "slide"
    },
    "tags": []
   },
   "source": [
    "Now, we create a dictionary of options to be passed to the low-level optimizer. In this case, we set the `verbose` flag to `1` so that we can see the full output of the low-level optimizer."
   ]
  },
  {
   "cell_type": "code",
   "execution_count": 7,
   "id": "a653842c-9a24-420a-81f4-1bb5d58b2103",
   "metadata": {
    "slideshow": {
     "slide_type": "fragment"
    },
    "tags": []
   },
   "outputs": [
    {
     "data": {
      "text/plain": [
       "Dict{String, Int64} with 1 entry:\n",
       "  \"verbose\" => 1"
      ]
     },
     "execution_count": 7,
     "metadata": {},
     "output_type": "execute_result"
    }
   ],
   "source": [
    "opts = Dict(\"verbose\" => 1)"
   ]
  },
  {
   "cell_type": "markdown",
   "id": "50306f71-e930-402f-8606-5d1a2da1deb1",
   "metadata": {
    "slideshow": {
     "slide_type": "slide"
    },
    "tags": []
   },
   "source": [
    "We now define our optimization problem. We shall make use of the open-source low-level convex optimization solver, ECOS."
   ]
  },
  {
   "cell_type": "code",
   "execution_count": 8,
   "id": "884dc02b-556d-4243-b8cb-4d7f9a23191c",
   "metadata": {
    "slideshow": {
     "slide_type": "fragment"
    },
    "tags": []
   },
   "outputs": [
    {
     "data": {
      "text/plain": [
       "Conic linear program\n",
       "\n",
       "  Feasibility problem\n",
       "  0 variables (0 blocks)\n",
       "  0 parameters (0 blocks)\n",
       "  0 constraints\n",
       "\n",
       "  Variable argument\n",
       "    0 elements\n",
       "    0 blocks\n",
       "\n",
       "\n",
       "  Parameter argument\n",
       "    0 elements\n",
       "    0 blocks\n"
      ]
     },
     "execution_count": 8,
     "metadata": {},
     "output_type": "execute_result"
    }
   ],
   "source": [
    "pbm = ConicProgram(problem_pars;\n",
    "    solver = ECOS.Optimizer,\n",
    "    solver_options = opts)"
   ]
  },
  {
   "cell_type": "markdown",
   "id": "cec7e37a-f5ec-49fa-8225-a56744385f41",
   "metadata": {
    "slideshow": {
     "slide_type": "slide"
    },
    "tags": []
   },
   "source": [
    "We define two variables, `t` of dimension 1, and `x` of dimension 5."
   ]
  },
  {
   "cell_type": "code",
   "execution_count": 9,
   "id": "363bb0ce-ff62-4073-9c37-0da91d88caba",
   "metadata": {
    "slideshow": {
     "slide_type": "fragment"
    },
    "tags": []
   },
   "outputs": [
    {
     "data": {
      "text/plain": [
       "Vector variable\n",
       "  1 elements\n",
       "  (1,) shape\n",
       "  Name: t\n",
       "  Block index in stack: 2\n",
       "  Indices in stack: 6\n",
       "  Type: Vector{JuMP.AffExpr}\n",
       "  No scaling (x=xh)\n",
       "  Any perturbation allowed\n",
       "  Value =\n",
       "     t"
      ]
     },
     "execution_count": 9,
     "metadata": {},
     "output_type": "execute_result"
    }
   ],
   "source": [
    "x = @new_variable(pbm, length(problem_pars[\"x_ref\"]), \"x\")\n",
    "t = @new_variable(pbm, \"t\")"
   ]
  },
  {
   "cell_type": "markdown",
   "id": "9e7e4a15-3680-4d59-8728-31db58102d6d",
   "metadata": {
    "slideshow": {
     "slide_type": "slide"
    },
    "tags": []
   },
   "source": [
    "Now we add a second-order cone (SOC) constraint, $\\|x-x_{ref}\\|_2 \\le t$, to the problem."
   ]
  },
  {
   "cell_type": "code",
   "execution_count": 10,
   "id": "dcf5a3b8-6936-47c7-bc13-b7002b1e9111",
   "metadata": {
    "slideshow": {
     "slide_type": "fragment"
    },
    "tags": []
   },
   "outputs": [
    {
     "data": {
      "text/plain": [
       "Name: f1\n",
       "Cone f(x,p)∈K, where:\n",
       "K is a second-order cone, {(t, x)∈ℝ×ℝⁿ : ‖x‖₂≤t}\n",
       "f(x,p) = \n",
       "  t\n",
       "  x[1] - 2\n",
       "  x[2] - 2\n",
       "  x[3] - 5\n",
       "  x[4] - 10\n",
       "  x[5] + 1\n",
       "Affine function\n",
       "Arguments:\n",
       "  x (block 1) : 1:5\n",
       "  t (block 2) : 6\n"
      ]
     },
     "execution_count": 10,
     "metadata": {},
     "output_type": "execute_result"
    }
   ],
   "source": [
    "@add_constraint(\n",
    "    pbm, SOC, (x, t),\n",
    "    begin\n",
    "        x, t = arg\n",
    "        vcat(t, x-pars[\"x_ref\"])\n",
    "    end)"
   ]
  },
  {
   "cell_type": "markdown",
   "id": "9e0e8ab5-0da0-4c58-9540-6fb23eaebc5f",
   "metadata": {
    "slideshow": {
     "slide_type": "slide"
    },
    "tags": []
   },
   "source": [
    "We choose the cost function to be $t^{2}$."
   ]
  },
  {
   "cell_type": "code",
   "execution_count": 11,
   "id": "ea49fc38-b5cd-43a9-9d27-44b0d8f0cec3",
   "metadata": {
    "slideshow": {
     "slide_type": "fragment"
    },
    "tags": []
   },
   "outputs": [
    {
     "data": {
      "text/plain": [
       "Cost function composed of 1 terms\n",
       "\n",
       "Term 1:\n",
       "  Coefficient: 1.00e+00\n",
       "  Quadratic function\n",
       "  Arguments:\n",
       "    t (block 2) : 6\n",
       "  Current value =\n",
       "    t²"
      ]
     },
     "execution_count": 11,
     "metadata": {},
     "output_type": "execute_result"
    }
   ],
   "source": [
    "@add_cost(\n",
    "    pbm, (t,), \n",
    "    begin\n",
    "        t, = arg\n",
    "        t.^2\n",
    "    end)"
   ]
  },
  {
   "cell_type": "markdown",
   "id": "84d96541-6bec-4590-ae7b-c2dcabfd0d95",
   "metadata": {
    "slideshow": {
     "slide_type": "slide"
    },
    "tags": []
   },
   "source": [
    "We are finally ready to solve the problem we just defined!"
   ]
  },
  {
   "cell_type": "code",
   "execution_count": 12,
   "id": "3c598382-42f6-4bb8-a4bc-1dce1db00cf6",
   "metadata": {
    "slideshow": {
     "slide_type": "fragment"
    },
    "tags": []
   },
   "outputs": [
    {
     "name": "stdout",
     "output_type": "stream",
     "text": [
      "\n",
      "ECOS 2.0.8 - (C) embotech GmbH, Zurich Switzerland, 2012-15. Web: www.embotech.com/ECOS\n",
      "\n",
      "It     pcost       dcost      gap   pres   dres    k/t    mu     step   sigma     IR    |   BT\n",
      " 0  +0.000e+00  -2.449e-01  +4e+00  2e-01  1e-01  1e+00  2e+00    ---    ---    1  1  - |  -  - \n",
      " 1  -6.147e-02  -8.099e-02  +2e-01  7e-03  4e-03  3e-02  9e-02  0.9530  5e-03   1  1  1 |  0  0\n",
      " 2  -5.548e-04  -2.077e-03  +1e-02  3e-04  2e-04  9e-04  5e-03  0.9475  8e-04   1  1  1 |  0  0\n",
      " 3  -4.848e-04  -6.068e-04  +2e-03  6e-05  4e-05  4e-04  1e-03  0.9090  1e-01   1  2  2 |  0  0\n",
      " 4  -4.348e-05  -7.855e-05  +8e-04  2e-05  1e-05  1e-04  4e-04  0.7244  1e-01   1  2  2 |  0  0\n",
      " 5  -1.174e-04  -1.268e-04  +3e-04  9e-06  5e-06  7e-05  2e-04  0.8239  3e-01   1  1  1 |  0  0\n",
      " 6  -1.708e-06  -3.017e-06  +5e-05  1e-06  7e-07  9e-06  2e-05  0.9890  1e-01   2  2  2 |  0  0\n",
      " 7  -6.230e-08  -1.239e-07  +2e-06  6e-08  4e-08  4e-07  1e-06  0.9600  8e-03   1  1  1 |  0  0\n",
      " 8  -5.661e-08  -6.196e-08  +2e-07  5e-09  3e-09  4e-08  1e-07  0.9181  6e-03   2  1  1 |  0  0\n",
      " 9  +3.774e-10  -1.080e-09  +6e-08  1e-09  9e-10  1e-08  3e-08  0.9257  2e-01   1  1  1 |  0  0\n",
      "10  -6.392e-10  -7.070e-10  +3e-09  6e-11  4e-11  5e-10  1e-09  0.9765  2e-02   2  1  1 |  0  0\n",
      "\n",
      "OPTIMAL (within feastol=6.4e-11, reltol=4.2e+00, abstol=2.7e-09).\n",
      "Runtime: 0.000154 seconds.\n",
      "\n"
     ]
    },
    {
     "data": {
      "text/plain": [
       "OPTIMAL::TerminationStatusCode = 1"
      ]
     },
     "execution_count": 12,
     "metadata": {},
     "output_type": "execute_result"
    }
   ],
   "source": [
    "exit_status = solve!(pbm)"
   ]
  },
  {
   "cell_type": "markdown",
   "id": "05413dc0-b314-4d57-ab98-5bf006c5541f",
   "metadata": {
    "slideshow": {
     "slide_type": "slide"
    },
    "tags": []
   },
   "source": [
    "The optimal cost value is `J_opt`."
   ]
  },
  {
   "cell_type": "code",
   "execution_count": 13,
   "id": "378b98b1-0f36-41f3-b869-2959284f35b1",
   "metadata": {
    "slideshow": {
     "slide_type": "fragment"
    },
    "tags": []
   },
   "outputs": [
    {
     "data": {
      "text/plain": [
       "-8.29959449100464e-10"
      ]
     },
     "execution_count": 13,
     "metadata": {},
     "output_type": "execute_result"
    }
   ],
   "source": [
    "J_opt = objective_value(pbm)"
   ]
  },
  {
   "cell_type": "markdown",
   "id": "5033d9cf-fc22-42f9-9528-918a4bdd7449",
   "metadata": {
    "slideshow": {
     "slide_type": "slide"
    },
    "tags": []
   },
   "source": [
    "The optimal values of the decision variables are `x_opt` and `t_opt`."
   ]
  },
  {
   "cell_type": "code",
   "execution_count": 14,
   "id": "b374661b-47c9-45c4-b323-3a8db24a4b78",
   "metadata": {
    "slideshow": {
     "slide_type": "fragment"
    },
    "tags": []
   },
   "outputs": [
    {
     "data": {
      "text/plain": [
       "5-element Vector{Float64}:\n",
       "  2.0000000000095266\n",
       "  2.0000000000095266\n",
       "  5.0000000000238165\n",
       " 10.000000000047633\n",
       " -1.000000000004763"
      ]
     },
     "execution_count": 14,
     "metadata": {},
     "output_type": "execute_result"
    }
   ],
   "source": [
    "x_opt = value(x)"
   ]
  },
  {
   "cell_type": "code",
   "execution_count": 15,
   "id": "ffd87147-e1bd-42dc-817e-d66a5ebc9104",
   "metadata": {
    "slideshow": {
     "slide_type": "fragment"
    },
    "tags": []
   },
   "outputs": [
    {
     "data": {
      "text/plain": [
       "1-element Vector{Float64}:\n",
       " 1.1524313115706931e-5"
      ]
     },
     "execution_count": 15,
     "metadata": {},
     "output_type": "execute_result"
    }
   ],
   "source": [
    "t_opt = value(t)"
   ]
  },
  {
   "cell_type": "markdown",
   "id": "49950e94-bff8-475f-ab4e-dd790fb11520",
   "metadata": {
    "slideshow": {
     "slide_type": "slide"
    },
    "tags": []
   },
   "source": [
    "The optimal values of the decision variables can also be accessed as mentioned before."
   ]
  },
  {
   "cell_type": "code",
   "execution_count": 16,
   "id": "e1a99fa9-7cb8-4a4d-8d12-20999e3f9288",
   "metadata": {
    "slideshow": {
     "slide_type": "fragment"
    },
    "tags": []
   },
   "outputs": [
    {
     "data": {
      "text/plain": [
       "5-element Vector{Float64}:\n",
       "  2.0000000000095266\n",
       "  2.0000000000095266\n",
       "  5.0000000000238165\n",
       " 10.000000000047633\n",
       " -1.000000000004763"
      ]
     },
     "execution_count": 16,
     "metadata": {},
     "output_type": "execute_result"
    }
   ],
   "source": [
    "value(variables(pbm, \"^x\\$\"))"
   ]
  },
  {
   "cell_type": "code",
   "execution_count": 17,
   "id": "cdfb5232-5744-420b-98fe-447ca129e4b7",
   "metadata": {
    "slideshow": {
     "slide_type": "fragment"
    },
    "tags": []
   },
   "outputs": [
    {
     "data": {
      "text/plain": [
       "1-element Vector{Float64}:\n",
       " 1.1524313115706931e-5"
      ]
     },
     "execution_count": 17,
     "metadata": {},
     "output_type": "execute_result"
    }
   ],
   "source": [
    "value(variables(pbm, \"^t\\$\"))"
   ]
  },
  {
   "cell_type": "markdown",
   "id": "10ad8614-7c97-4a26-9336-c4c380b41801",
   "metadata": {
    "slideshow": {
     "slide_type": "slide"
    },
    "tags": []
   },
   "source": [
    "Congratulations! "
   ]
  },
  {
   "cell_type": "markdown",
   "id": "f8b988ce-e9f3-48d2-8b42-4e7931efe2f2",
   "metadata": {
    "slideshow": {
     "slide_type": "fragment"
    },
    "tags": []
   },
   "source": [
    "We now know how to solve convex optimization problems, which form the basis for Sequential Convex Programming (SCP) problems, which we shall now get into with some exciting examples!"
   ]
  }
 ],
 "metadata": {
  "celltoolbar": "Slideshow",
  "kernelspec": {
   "display_name": "Julia 1.7.1",
   "language": "julia",
   "name": "julia-1.7"
  },
  "language_info": {
   "file_extension": ".jl",
   "mimetype": "application/julia",
   "name": "julia",
   "version": "1.7.1"
  }
 },
 "nbformat": 4,
 "nbformat_minor": 5
}
