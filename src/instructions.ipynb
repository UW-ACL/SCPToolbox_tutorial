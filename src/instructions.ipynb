{
 "cells": [
  {
   "cell_type": "markdown",
   "metadata": {},
   "source": [
    "# Instructions"
   ]
  },
  {
   "cell_type": "markdown",
   "metadata": {},
   "source": [
    "$$\\underline{\\text{Slide creation rubric}}$$\n",
    "\n",
    "| Slide             | Menu option  | Command      |\n",
    "|:-----------------:|:------------:|:------------:|\n",
    "| New               | `Slide Type` | `Slide`      |\n",
    "| Persistent        | `Slide Type` | `Fragment`   |\n",
    "| Hide input only   | `Add Tag`    | `hide-input` |\n",
    "| Hide entire cell  | `Slide Type` | `Skip`       |\n",
    "\n",
    "Notebook $\\rightarrow$ slides (CLI):\n",
    "\n",
    "1. `jupyter nbconvert --output-dir='slides' p1_clp.ipynb --to slides --no-prompt --TagRemovePreprocessor.remove_input_tags={\\\"hide-input\\\"} --post serve`\n",
    "\n",
    "2. `jupyter nbconvert --output-dir='slides' p2_scp.ipynb --to slides --no-prompt --TagRemovePreprocessor.remove_input_tags={\\\"hide-input\\\"} --post serve`\n",
    "\n",
    "3. `jupyter nbconvert --output-dir='slides' p3_dubin.ipynb --to slides --no-prompt --TagRemovePreprocessor.remove_input_tags={\\\"hide-input\\\"} --post serve`\n",
    "\n",
    "4. `jupyter nbconvert --output-dir='slides' p4_rocket.ipynb --to slides --no-prompt --TagRemovePreprocessor.remove_input_tags={\\\"hide-input\\\"} --post serve`"
   ]
  }
 ],
 "metadata": {
  "kernelspec": {
   "display_name": "Julia 1.7.1",
   "language": "julia",
   "name": "julia-1.7"
  },
  "language_info": {
   "file_extension": ".jl",
   "mimetype": "application/julia",
   "name": "julia",
   "version": "1.7.1"
  }
 },
 "nbformat": 4,
 "nbformat_minor": 4
}
