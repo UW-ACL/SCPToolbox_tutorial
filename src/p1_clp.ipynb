{
 "cells": [
  {
   "cell_type": "markdown",
   "id": "6ee5dac6",
   "metadata": {
    "slideshow": {
     "slide_type": "slide"
    },
    "tags": []
   },
   "source": [
    "# SCP Toolbox Workshop\n",
    "\n",
    "___A tutorial on generating dynamically feasible trajectories reliably and efficiently___\n",
    "\n",
    "Monday, February 7, 2022\n",
    "\n",
    "Rocky Mountain AAS GN&C Conference, Breckenridge, CO"
   ]
  },
  {
   "cell_type": "markdown",
   "id": "fb4bf081",
   "metadata": {
    "slideshow": {
     "slide_type": "slide"
    },
    "tags": []
   },
   "source": [
    "# Part 1"
   ]
  },
  {
   "cell_type": "code",
   "execution_count": 1,
   "id": "5369bb3d",
   "metadata": {
    "slideshow": {
     "slide_type": "skip"
    },
    "tags": []
   },
   "outputs": [
    {
     "name": "stderr",
     "output_type": "stream",
     "text": [
      "\u001b[32m\u001b[1m  Activating\u001b[22m\u001b[39m project at `~/Documents/SCPToolbox_tutorial`\n",
      "\u001b[32m\u001b[1m   Resolving\u001b[22m\u001b[39m package versions...\n",
      "\u001b[32m\u001b[1m    Updating\u001b[22m\u001b[39m `~/Documents/SCPToolbox_tutorial/Project.toml`\n",
      " \u001b[90m [bd2bc758] \u001b[39m\u001b[92m+ SCPToolbox v1.0.0 `../scp_traj_opt`\u001b[39m\n",
      "\u001b[32m\u001b[1m  No Changes\u001b[22m\u001b[39m to `~/Documents/SCPToolbox_tutorial/Manifest.toml`\n"
     ]
    }
   ],
   "source": [
    "import Pkg\n",
    "Pkg.activate(\"..\")\n",
    "\n",
    "# these lines are required only for local installations\n",
    "Pkg.develop(path=\"../../scp_traj_opt/\")\n",
    "Pkg.precompile()\n",
    "\n",
    "using SCPToolbox\n",
    "using ECOS\n",
    "using OSQP\n",
    "using SCS\n",
    "using Ipopt"
   ]
  },
  {
   "cell_type": "markdown",
   "id": "f25b307a",
   "metadata": {
    "slideshow": {
     "slide_type": "fragment"
    },
    "tags": []
   },
   "source": [
    "## Conic Linear Programs"
   ]
  },
  {
   "cell_type": "markdown",
   "id": "fcc148cd",
   "metadata": {
    "slideshow": {
     "slide_type": "slide"
    },
    "tags": []
   },
   "source": [
    "__General form__:"
   ]
  },
  {
   "cell_type": "markdown",
   "id": "c4539786",
   "metadata": {
    "slideshow": {
     "slide_type": "fragment"
    },
    "tags": []
   },
   "source": [
    "\\begin{align}\n",
    "\\underset{x\\in\\mathbb{R}^n}{{\\text{minimize}}} &~ c^\\top x \\\\\n",
    "\\text{subject to} &~Ax+b \\in \\mathbb{K}\n",
    "\\end{align}"
   ]
  },
  {
   "cell_type": "markdown",
   "id": "6ec5c6dd",
   "metadata": {
    "slideshow": {
     "slide_type": "fragment"
    },
    "tags": []
   },
   "source": [
    "where $c\\in\\mathbb{R}^n,~b\\in\\mathbb{R}^m,~A\\in\\mathbb{R}^{m\\times n}$ are problem parameters, and $\\mathbb{K}$ is a cartesian product of convex cones. "
   ]
  },
  {
   "cell_type": "markdown",
   "id": "111a400d",
   "metadata": {
    "slideshow": {
     "slide_type": "slide"
    },
    "tags": []
   },
   "source": [
    "- The optimization problem shown can be solved using state-of-the-art solvers like `ECOS`, `Gurobi` and `Mosek`. "
   ]
  },
  {
   "cell_type": "markdown",
   "id": "deef7e7f",
   "metadata": {
    "slideshow": {
     "slide_type": "fragment"
    }
   },
   "source": [
    "- They typically need a parser to convert the problem data to a canonical form. "
   ]
  },
  {
   "cell_type": "markdown",
   "id": "07f71015",
   "metadata": {
    "slideshow": {
     "slide_type": "fragment"
    }
   },
   "source": [
    "- Such solvers are not user-friendly to interface with."
   ]
  },
  {
   "cell_type": "markdown",
   "id": "558037fe",
   "metadata": {
    "slideshow": {
     "slide_type": "fragment"
    }
   },
   "source": [
    "- In `SCPToolbox.jl`, henceforth referred to as _the toolbox_, a conic linear program is formulated by instantiating a `ConicProblem` object with the choice of solver and its associated options.  "
   ]
  },
  {
   "cell_type": "markdown",
   "id": "7ecad1a5",
   "metadata": {
    "slideshow": {
     "slide_type": "slide"
    }
   },
   "source": [
    "The cones supported by the toolbox are described in the table below:"
   ]
  },
  {
   "cell_type": "markdown",
   "id": "11db3d63",
   "metadata": {
    "slideshow": {
     "slide_type": "fragment"
    },
    "tags": []
   },
   "source": [
    "|    Label        | Notation     |     Name      | Definition |\n",
    "|:---------------:|:----:|:-------------:|:----------:|\n",
    "|`UNCONSTRAINED`  |  $\\mathbb{K}_{ \\lesseqgtr}$ | Unconstrained cone  |  $$\\{x\\in\\mathbb{R}^n\\}$$ |\n",
    "|`ZERO`           |  $\\mathbb{K}_{=0}$ | Zero cone             | $\\{x\\in\\mathbb{R}^n\\mid x=0\\}$                               |\n",
    "|`NONPOS`         |  $\\mathbb{K}_{\\leq 0}$ | Non-positive orthant  | $\\{x\\in\\mathbb{R}^n\\mid x\\leq 0\\}$                           |\n",
    "|`L1`             |  $\\mathbb{K}_{1}$ | $l_1$ norm cone       | $\\{(t,x)\\in\\mathbb{R}^n\\times\\mathbb{R}\\mid \\|x\\|_1\\leq t\\}$ |\n",
    "|`SOC`             |  $\\mathbb{K}_{2}$ | $l_2$ norm cone       | $\\{(t,x)\\in\\mathbb{R}^n\\times\\mathbb{R}\\mid \\|x\\|_2\\leq t\\}$ |\n",
    "| `LINF` |  $\\mathbb{K}_{\\infty}$ |  $l_\\infty$ norm cone |  $\\{(t,x)\\in\\mathbb{R}^n\\times\\mathbb{R}\\mid \\|x\\|_\\infty\\leq t\\}$  |\n",
    "| `GEOM` |  $\\mathbb{K}_{\\text{GM}}$ | Geometric mean cone | $ \\big\\{ (t,x)\\in\\mathbb{R}^n\\times\\mathbb{R}\\mid \\left(\\prod_{i=1}^n x_i\\right)^{1/n} \\geq t \\big\\}$ |\n",
    "| `EXP` |  $\\mathbb{K}_{\\text{EXP}}$ | Exponential cone | $\\{(x,y,z)\\in \\mathbb{R}\\times \\mathbb{R} \\times \\mathbb{R} \\mid y\\,\\text{exp}(x/y) \\leq z,~y>0\\}$ |"
   ]
  },
  {
   "cell_type": "code",
   "execution_count": 2,
   "id": "d3ed7f9b",
   "metadata": {
    "slideshow": {
     "slide_type": "slide"
    },
    "tags": []
   },
   "outputs": [
    {
     "data": {
      "text/plain": [
       "Conic linear program\n",
       "\n",
       "  Feasibility problem\n",
       "  0 variables (0 blocks)\n",
       "  0 parameters (0 blocks)\n",
       "  0 constraints\n",
       "\n",
       "  Variable argument\n",
       "    0 elements\n",
       "    0 blocks\n",
       "\n",
       "\n",
       "  Parameter argument\n",
       "    0 elements\n",
       "    0 blocks\n"
      ]
     },
     "execution_count": 2,
     "metadata": {},
     "output_type": "execute_result"
    }
   ],
   "source": [
    "opts = Dict(\"verbose\" => 0)\n",
    "pbm = ConicProgram(solver = ECOS, solver_options = opts)"
   ]
  },
  {
   "cell_type": "markdown",
   "id": "72c65bd0",
   "metadata": {
    "slideshow": {
     "slide_type": "slide"
    },
    "tags": []
   },
   "source": [
    "## Variables"
   ]
  },
  {
   "cell_type": "markdown",
   "id": "a912fe63",
   "metadata": {
    "slideshow": {
     "slide_type": "skip"
    },
    "tags": []
   },
   "source": [
    "Variables are the quantities that the SCP Toolbox determines values for upon solution. These variables therefore begin as symbolic values during problem formulation, but are ultimately given numerical values upon convergence to a locally optimal trajectory solution. "
   ]
  },
  {
   "cell_type": "markdown",
   "id": "cc7a1263",
   "metadata": {
    "slideshow": {
     "slide_type": "slide"
    },
    "tags": []
   },
   "source": [
    "Variables are generally broken up into three main categories: \n",
    "- **scalars**: variables containing a single element.  *e.g.* $x \\in \\mathbb{R}$.\n",
    "- **vectors**: variables containing a single row or column.  *e.g.* $x \\in \\mathbb{R}^N$.\n",
    "- **matrices**: variables for both rows and columns greater than size two.  *e.g.* $x \\in \\mathbb{R}^{N \\times M}$."
   ]
  },
  {
   "cell_type": "markdown",
   "id": "590aea2b",
   "metadata": {
    "slideshow": {
     "slide_type": "skip"
    },
    "tags": []
   },
   "source": [
    "### Variable Properties"
   ]
  },
  {
   "cell_type": "markdown",
   "id": "3509f0ed",
   "metadata": {
    "slideshow": {
     "slide_type": "skip"
    },
    "tags": []
   },
   "source": [
    "\n",
    "Each variable declared by the user is defined by a set of properties.\n",
    "\n",
    "1. **Elements:** The number of elements in the variable, given as a scalar.\n",
    "2. **Shape:** The tuple defining the dimensions of the variable, given as $(N,M)$ for an $N \\times M$-dimensional matrix.\n",
    "3. **Name:** The title given as a user-defined string.\n",
    "4. **Block index:** The position where the variable is stored in the stack after the parser reformats all variable data into a single vector, where the data within each element of the variable is stored in a corresponding block of elements. Matrices are vectorized in column-major form.\n",
    "5. **Indices:** The elements of the stack where the variable data is stored, making up the block.\n",
    "6. **Type:** Datatype.\n",
    "7. **Scaling Type:** If a variable is scaled, then the physical quantity is nondimensionalized with an affine mapping when exposed to the optimizer.\n",
    "8. **Value Type:** The symbolic or numerical quantity assigned to a given variable."
   ]
  },
  {
   "cell_type": "markdown",
   "id": "11a6d9dd",
   "metadata": {
    "slideshow": {
     "slide_type": "skip"
    },
    "tags": []
   },
   "source": [
    "### Variable Declaration"
   ]
  },
  {
   "cell_type": "markdown",
   "id": "6ec8dce3",
   "metadata": {
    "slideshow": {
     "slide_type": "skip"
    },
    "tags": []
   },
   "source": [
    "At the high level, each variable declaration is done with the `@new_variable()` function. However, this constructor is overloaded such that variables may be declared with a variety of different input-argument syntaxes. Each call to the constructor takes in the corresponding problem that they are associated with alongside other input arguments."
   ]
  },
  {
   "cell_type": "markdown",
   "id": "cabfb78e",
   "metadata": {
    "slideshow": {
     "slide_type": "skip"
    },
    "tags": []
   },
   "source": [
    "A scalar variable may be declared via passing the corresponding problem, a dimension of 1, and a variable name as constructor inputs, shown respectively below. The resulting variable properties are shown as well. Here, scaling is not applied. By default, a scalar variable is treated as a vector variable of length one, so be mindful of the vector-scalar operations."
   ]
  },
  {
   "cell_type": "code",
   "execution_count": 58,
   "id": "802333e8",
   "metadata": {
    "slideshow": {
     "slide_type": "skip"
    },
    "tags": []
   },
   "outputs": [
    {
     "data": {
      "text/plain": [
       "Vector variable\n",
       "  1 elements\n",
       "  (1,) shape\n",
       "  Name: x1\n",
       "  Block index in stack: 2\n",
       "  Indices in stack: 3\n",
       "  Type: Vector{JuMP.AffExpr}\n",
       "  No scaling (x=xh)\n",
       "  Any perturbation allowed\n",
       "  Value =\n",
       "     x1"
      ]
     },
     "execution_count": 58,
     "metadata": {},
     "output_type": "execute_result"
    }
   ],
   "source": [
    "x = @new_variable(pbm, 1, \"x\")"
   ]
  },
  {
   "cell_type": "markdown",
   "id": "d3f78ea1",
   "metadata": {
    "slideshow": {
     "slide_type": "slide"
    },
    "tags": []
   },
   "source": [
    "A scalar quantity may be simply defined as follows, without specifying a dimension."
   ]
  },
  {
   "cell_type": "code",
   "execution_count": 4,
   "id": "02e6ddd1",
   "metadata": {
    "slideshow": {
     "slide_type": "fragment"
    },
    "tags": []
   },
   "outputs": [
    {
     "data": {
      "text/plain": [
       "Vector variable\n",
       "  1 elements\n",
       "  (1,) shape\n",
       "  Name: q\n",
       "  Block index in stack: 2\n",
       "  Indices in stack: 2\n",
       "  Type: Vector{JuMP.AffExpr}\n",
       "  No scaling (x=xh)\n",
       "  Any perturbation allowed\n",
       "  Value =\n",
       "     q"
      ]
     },
     "execution_count": 4,
     "metadata": {},
     "output_type": "execute_result"
    }
   ],
   "source": [
    "q = @new_variable(pbm, \"q\")"
   ]
  },
  {
   "cell_type": "markdown",
   "id": "e645b3cc",
   "metadata": {
    "slideshow": {
     "slide_type": "slide"
    },
    "tags": []
   },
   "source": [
    "A vector variable (with dimension $>1$) may be declared as follows. Note that the value now has multiple elements."
   ]
  },
  {
   "cell_type": "code",
   "execution_count": 5,
   "id": "a46eeaa8",
   "metadata": {
    "slideshow": {
     "slide_type": "fragment"
    },
    "tags": []
   },
   "outputs": [
    {
     "data": {
      "text/plain": [
       "Vector variable\n",
       "  3 elements\n",
       "  (3,) shape\n",
       "  Name: v\n",
       "  Block index in stack: 3\n",
       "  Indices in stack: 3:5\n",
       "  Type: Vector{JuMP.AffExpr}\n",
       "  No scaling (x=xh)\n",
       "  Any perturbation allowed\n",
       "  Value =\n",
       "     v[1]\n",
       "     v[2]\n",
       "     v[3]"
      ]
     },
     "execution_count": 5,
     "metadata": {},
     "output_type": "execute_result"
    }
   ],
   "source": [
    "v = @new_variable(pbm, 3, \"v\")"
   ]
  },
  {
   "cell_type": "markdown",
   "id": "df384074",
   "metadata": {
    "slideshow": {
     "slide_type": "slide"
    },
    "tags": []
   },
   "source": [
    "A matrix variable (with row and column dimensions both $>1$) may be declared as follows."
   ]
  },
  {
   "cell_type": "markdown",
   "id": "39f4dde7",
   "metadata": {
    "slideshow": {
     "slide_type": "skip"
    },
    "tags": []
   },
   "source": [
    "A matrix variable may represent a standard matrix, such as those commonly applied to achieve a linear transformations on a vector. A matrix variable may also represent a set of vectors, such as values of the state or control from a dynamic system, sampled at variable discrete timesteps along a trajectory."
   ]
  },
  {
   "cell_type": "code",
   "execution_count": 6,
   "id": "70dbcfbb",
   "metadata": {
    "slideshow": {
     "slide_type": "fragment"
    },
    "tags": []
   },
   "outputs": [
    {
     "data": {
      "text/plain": [
       "Matrix variable\n",
       "  10 elements\n",
       "  (2, 5) shape\n",
       "  Name: y\n",
       "  Block index in stack: 4\n",
       "  Indices in stack: 6:15\n",
       "  Type: Matrix{JuMP.AffExpr}\n",
       "  No scaling (x=xh)\n",
       "  Any perturbation allowed\n",
       "  Value =\n",
       "     y[1,1]  y[1,2]  y[1,3]  y[1,4]  y[1,5]\n",
       "     y[2,1]  y[2,2]  y[2,3]  y[2,4]  y[2,5]"
      ]
     },
     "execution_count": 6,
     "metadata": {},
     "output_type": "execute_result"
    }
   ],
   "source": [
    "y = @new_variable(pbm, (2, 5), \"y\")"
   ]
  },
  {
   "cell_type": "markdown",
   "id": "eba6f755",
   "metadata": {
    "slideshow": {
     "slide_type": "skip"
    },
    "tags": []
   },
   "source": [
    "Individual row or column vectors of a matrix may be indexed as follows. Note that these indexed quantities are themselves vector variables."
   ]
  },
  {
   "cell_type": "code",
   "execution_count": 7,
   "id": "ac035bbe",
   "metadata": {
    "slideshow": {
     "slide_type": "skip"
    },
    "tags": []
   },
   "outputs": [
    {
     "data": {
      "text/plain": [
       "Vector variable\n",
       "  2 elements\n",
       "  (2,) shape\n",
       "  Name: y\n",
       "  Block index in stack: 4\n",
       "  Indices in stack: 6:7\n",
       "  Type: SubArray{JuMP.AffExpr, 1, Matrix{JuMP.AffExpr}, Tuple{Base.Slice{Base.OneTo{Int64}}, Int64}, true}\n",
       "  No scaling (x=xh)\n",
       "  Any perturbation allowed\n",
       "  Value =\n",
       "     y[1,1]\n",
       "     y[2,1]"
      ]
     },
     "execution_count": 7,
     "metadata": {},
     "output_type": "execute_result"
    }
   ],
   "source": [
    "y[:, 1]"
   ]
  },
  {
   "cell_type": "markdown",
   "id": "e8d4180f",
   "metadata": {
    "slideshow": {
     "slide_type": "skip"
    },
    "tags": []
   },
   "source": [
    "### Variable Operations\n"
   ]
  },
  {
   "cell_type": "markdown",
   "id": "d25e51f5",
   "metadata": {
    "slideshow": {
     "slide_type": "slide"
    },
    "tags": []
   },
   "source": [
    "### Scaling"
   ]
  },
  {
   "cell_type": "markdown",
   "id": "182a5096",
   "metadata": {
    "slideshow": {
     "slide_type": "fragment"
    },
    "tags": []
   },
   "source": [
    "Scaling is an important operation which improves numerical conditioning of the underlying optimization problem by applying an affine mapping to the physical quantity in order to produce a corresponding scaled quantity that lies approximately between $0$ and $1$. "
   ]
  },
  {
   "cell_type": "markdown",
   "id": "ec3977cc",
   "metadata": {
    "slideshow": {
     "slide_type": "skip"
    },
    "tags": []
   },
   "source": [
    "The utility of the affine mapping becomes clear while defining simple set constraints on the value of the variable. Examples of such constraints are a ball, halfspace, or box, etc. This is discussed in more detail in the Constraints section below."
   ]
  },
  {
   "cell_type": "markdown",
   "id": "91827822",
   "metadata": {
    "slideshow": {
     "slide_type": "fragment"
    },
    "tags": []
   },
   "source": [
    "In the scalar case, this affine mapping may be approximated as follows for physical quantity $x$ and scaled quantity $\\hat{x}$: \n",
    "\n",
    "$x = a \\hat{x} + b$, \n",
    "\n",
    "where $a = (x_\\text{max} - x_\\text{min})$ and $b = x_\\text{min}$."
   ]
  },
  {
   "cell_type": "markdown",
   "id": "97ab9159",
   "metadata": {
    "slideshow": {
     "slide_type": "skip"
    },
    "tags": []
   },
   "source": [
    "The affine mapping for scaling a given physical variable is called via the `@scale()` function. This function is given the vector to be scaled, a vector of entries that will linearly scale each element of the variable, and an affine offset, respectively."
   ]
  },
  {
   "cell_type": "code",
   "execution_count": 105,
   "id": "0838a9eb",
   "metadata": {
    "slideshow": {
     "slide_type": "slide"
    },
    "tags": []
   },
   "outputs": [],
   "source": [
    "p = @new_variable(pbm, \"p\")\n",
    "@scale(p, 10, 5);"
   ]
  },
  {
   "cell_type": "markdown",
   "id": "9d265117",
   "metadata": {
    "slideshow": {
     "slide_type": "fragment"
    },
    "tags": []
   },
   "source": [
    "The value of this new affine mapping can be queried with the `value()` function as follows:"
   ]
  },
  {
   "cell_type": "code",
   "execution_count": 56,
   "id": "0880bc5e",
   "metadata": {
    "slideshow": {
     "slide_type": "fragment"
    },
    "tags": []
   },
   "outputs": [
    {
     "data": {
      "text/plain": [
       "1-element Vector{JuMP.AffExpr}:\n",
       " 10 p + 5"
      ]
     },
     "execution_count": 56,
     "metadata": {},
     "output_type": "execute_result"
    }
   ],
   "source": [
    "value(p)"
   ]
  },
  {
   "cell_type": "markdown",
   "id": "667b6b7f",
   "metadata": {
    "slideshow": {
     "slide_type": "slide"
    },
    "tags": []
   },
   "source": [
    "To apply a different scaling to each element of a variable, diagonal entries of a matrix that scales each variable element may be defined. In addition, vector-value affine offsets may also be applied. "
   ]
  },
  {
   "cell_type": "code",
   "execution_count": 11,
   "id": "4633224f",
   "metadata": {
    "slideshow": {
     "slide_type": "fragment"
    },
    "tags": []
   },
   "outputs": [],
   "source": [
    "@scale(y, [2; 4], [3;1])"
   ]
  },
  {
   "cell_type": "code",
   "execution_count": 12,
   "id": "deb12b25",
   "metadata": {
    "slideshow": {
     "slide_type": "skip"
    },
    "tags": []
   },
   "outputs": [
    {
     "data": {
      "text/plain": [
       "Matrix variable\n",
       "  10 elements\n",
       "  (2, 5) shape\n",
       "  Name: y\n",
       "  Block index in stack: 4\n",
       "  Indices in stack: 6:15\n",
       "  Type: Matrix{JuMP.AffExpr}\n",
       "  Affine scaling x=(S.*xh).+c\n",
       "  Any perturbation allowed\n",
       "  Value =\n",
       "     y[1,1]  y[1,2]  y[1,3]  y[1,4]  y[1,5]\n",
       "     y[2,1]  y[2,2]  y[2,3]  y[2,4]  y[2,5]"
      ]
     },
     "execution_count": 12,
     "metadata": {},
     "output_type": "execute_result"
    }
   ],
   "source": [
    "y"
   ]
  },
  {
   "cell_type": "markdown",
   "id": "cd2cf02e",
   "metadata": {
    "slideshow": {
     "slide_type": "skip"
    },
    "tags": []
   },
   "source": [
    "The value of this scaled matrix variable is given below."
   ]
  },
  {
   "cell_type": "code",
   "execution_count": 13,
   "id": "57a9fbc6",
   "metadata": {
    "slideshow": {
     "slide_type": "fragment"
    },
    "tags": []
   },
   "outputs": [
    {
     "data": {
      "text/plain": [
       "2×5 Matrix{JuMP.AffExpr}:\n",
       " 2 y[1,1] + 3  2 y[1,2] + 3  2 y[1,3] + 3  2 y[1,4] + 3  2 y[1,5] + 3\n",
       " 4 y[2,1] + 1  4 y[2,2] + 1  4 y[2,3] + 1  4 y[2,4] + 1  4 y[2,5] + 1"
      ]
     },
     "execution_count": 13,
     "metadata": {},
     "output_type": "execute_result"
    }
   ],
   "source": [
    "value(y)"
   ]
  },
  {
   "cell_type": "markdown",
   "id": "c4d4ecff",
   "metadata": {
    "slideshow": {
     "slide_type": "skip"
    },
    "tags": []
   },
   "source": [
    "The variables created for a given problem are displayed."
   ]
  },
  {
   "cell_type": "code",
   "execution_count": 14,
   "id": "3d3ec969",
   "metadata": {
    "slideshow": {
     "slide_type": "slide"
    },
    "tags": []
   },
   "outputs": [
    {
     "data": {
      "text/plain": [
       "Conic linear program\n",
       "\n",
       "  Feasibility problem\n",
       "  16 variables (5 blocks)\n",
       "  0 parameters (0 blocks)\n",
       "  0 constraints\n",
       "\n",
       "  Variable argument\n",
       "    16 elements\n",
       "    5 blocks\n",
       "     1) 1    ... x\n",
       "     2) 2    ... q\n",
       "     3) 3:5  ... v\n",
       "     4) 6:15 ... y\n",
       "     5) 16   ... qh\n",
       "\n",
       "  Parameter argument\n",
       "    0 elements\n",
       "    0 blocks\n"
      ]
     },
     "execution_count": 14,
     "metadata": {},
     "output_type": "execute_result"
    }
   ],
   "source": [
    "pbm"
   ]
  },
  {
   "cell_type": "markdown",
   "id": "389e31df",
   "metadata": {
    "slideshow": {
     "slide_type": "skip"
    },
    "tags": []
   },
   "source": [
    "Finally, the variables of this problem can be queried explicitly."
   ]
  },
  {
   "cell_type": "code",
   "execution_count": 15,
   "id": "b5710800",
   "metadata": {
    "slideshow": {
     "slide_type": "skip"
    },
    "tags": []
   },
   "outputs": [
    {
     "data": {
      "text/plain": [
       "5-element Vector{SCPToolbox.Parser.ConicLinearProgram.VariableArgumentBlock}:\n",
       " Vector variable\n",
       "  1 elements\n",
       "  (1,) shape\n",
       "  Name: x\n",
       "  Block index in stack: 1\n",
       "  Indices in stack: 1\n",
       "  Type: Vector{JuMP.AffExpr}\n",
       "  No scaling (x=xh)\n",
       "  Any perturbation allowed\n",
       "  Value =\n",
       "     x\n",
       " Vector variable\n",
       "  1 elements\n",
       "  (1,) shape\n",
       "  Name: q\n",
       "  Block index in stack: 2\n",
       "  Indices in stack: 2\n",
       "  Type: Vector{JuMP.AffExpr}\n",
       "  No scaling (x=xh)\n",
       "  Any perturbation allowed\n",
       "  Value =\n",
       "     q\n",
       " Vector variable\n",
       "  3 elements\n",
       "  (3,) shape\n",
       "  Name: v\n",
       "  Block index in stack: 3\n",
       "  Indices in stack: 3:5\n",
       "  Type: Vector{JuMP.AffExpr}\n",
       "  No scaling (x=xh)\n",
       "  Any perturbation allowed\n",
       "  Value =\n",
       "     v[1]\n",
       "     v[2]\n",
       "     v[3]\n",
       " Matrix variable\n",
       "  10 elements\n",
       "  (2, 5) shape\n",
       "  Name: y\n",
       "  Block index in stack: 4\n",
       "  Indices in stack: 6:15\n",
       "  Type: Matrix{JuMP.AffExpr}\n",
       "  Affine scaling x=(S.*xh).+c\n",
       "  Any perturbation allowed\n",
       "  Value =\n",
       "     y[1,1]  y[1,2]  y[1,3]  y[1,4]  y[1,5]\n",
       "     y[2,1]  y[2,2]  y[2,3]  y[2,4]  y[2,5]\n",
       " Vector variable\n",
       "  1 elements\n",
       "  (1,) shape\n",
       "  Name: qh\n",
       "  Block index in stack: 5\n",
       "  Indices in stack: 16\n",
       "  Type: Vector{JuMP.AffExpr}\n",
       "  Affine scaling x=(S.*xh).+c\n",
       "  Any perturbation allowed\n",
       "  Value =\n",
       "     qh"
      ]
     },
     "execution_count": 15,
     "metadata": {},
     "output_type": "execute_result"
    }
   ],
   "source": [
    "variables(pbm)"
   ]
  },
  {
   "cell_type": "markdown",
   "id": "fbe54982",
   "metadata": {
    "slideshow": {
     "slide_type": "slide"
    },
    "tags": []
   },
   "source": [
    "## Constraints"
   ]
  },
  {
   "cell_type": "markdown",
   "id": "c3bb584b",
   "metadata": {
    "slideshow": {
     "slide_type": "slide"
    },
    "tags": []
   },
   "source": [
    "A conic constraint $y\\in\\mathbb{K}$ (say for $\\mathbb{K} = \\mathbb{K}_2$) can be modelled in the toolbox as follows:"
   ]
  },
  {
   "cell_type": "code",
   "execution_count": 5,
   "id": "d0ef3662",
   "metadata": {
    "slideshow": {
     "slide_type": "fragment"
    },
    "tags": []
   },
   "outputs": [
    {
     "data": {
      "text/plain": [
       "Name: my-soc\n",
       "Cone f(x,p)∈K, where:\n",
       "K is a second-order cone, {(t, x)∈ℝ×ℝⁿ : ‖x‖₂≤t}\n",
       "f(x,p) = \n",
       "  100 x2\n",
       "  x1[1]\n",
       "  x1[2]\n",
       "  x1[3]\n",
       "  x1[4]\n",
       "Affine function\n",
       "Arguments:\n",
       "  x1 (block 1) : 1:4\n",
       "  x2 (block 2) : 5\n"
      ]
     },
     "execution_count": 5,
     "metadata": {},
     "output_type": "execute_result"
    }
   ],
   "source": [
    "pbm = ConicProgram(solver = ECOS, solver_options = Dict(\"verbose\" => 0))\n",
    "\n",
    "x = @new_variable(pbm, 4, \"x\")\n",
    "t = @new_variable(pbm, \"t\")\n",
    "\n",
    "cstr = @add_constraint(pbm, SOC, \"my-soc\", (x, t) -> vcat(100*t, x))"
   ]
  },
  {
   "cell_type": "code",
   "execution_count": 6,
   "id": "fbfc9eb7",
   "metadata": {
    "slideshow": {
     "slide_type": "skip"
    },
    "tags": []
   },
   "outputs": [
    {
     "data": {
      "text/plain": [
       "false"
      ]
     },
     "execution_count": 6,
     "metadata": {},
     "output_type": "execute_result"
    }
   ],
   "source": [
    "variables(pbm,\"^x\\$\") == x"
   ]
  },
  {
   "cell_type": "markdown",
   "id": "1fdf1418",
   "metadata": {
    "slideshow": {
     "slide_type": "slide"
    },
    "tags": []
   },
   "source": [
    "Note the use of [regular expressions](https://en.wikipedia.org/wiki/Regular_expression) for searching though the list of variables names."
   ]
  },
  {
   "cell_type": "code",
   "execution_count": 7,
   "id": "ca5d13f1",
   "metadata": {
    "slideshow": {
     "slide_type": "fragment"
    },
    "tags": []
   },
   "outputs": [
    {
     "data": {
      "text/plain": [
       "Name: my-soc\n",
       "Cone f(x,p)∈K, where:\n",
       "K is a second-order cone, {(t, x)∈ℝ×ℝⁿ : ‖x‖₂≤t}\n",
       "f(x,p) = \n",
       "  100 x2\n",
       "  x1[1]\n",
       "  x1[2]\n",
       "  x1[3]\n",
       "  x1[4]\n",
       "Affine function\n",
       "Arguments:\n",
       "  x1 (block 1) : 1:4\n",
       "  x2 (block 2) : 5\n"
      ]
     },
     "execution_count": 7,
     "metadata": {},
     "output_type": "execute_result"
    }
   ],
   "source": [
    "constraints(pbm, \"^my-soc\")"
   ]
  },
  {
   "cell_type": "markdown",
   "id": "13af6a85",
   "metadata": {
    "slideshow": {
     "slide_type": "slide"
    },
    "tags": []
   },
   "source": [
    "## Constraint Examples"
   ]
  },
  {
   "cell_type": "markdown",
   "id": "a6e7f6a8",
   "metadata": {
    "slideshow": {
     "slide_type": "fragment"
    },
    "tags": []
   },
   "source": [
    "Many simple constraint sets in trajectory optimization problems like box, ball, halfspace and hyperplane can be represented as conic constraints."
   ]
  },
  {
   "cell_type": "markdown",
   "id": "fc3188a8",
   "metadata": {
    "slideshow": {
     "slide_type": "slide"
    },
    "tags": []
   },
   "source": [
    "### Box"
   ]
  },
  {
   "cell_type": "markdown",
   "id": "096a0e24",
   "metadata": {
    "slideshow": {
     "slide_type": "fragment"
    },
    "tags": []
   },
   "source": [
    "A box with bounds $l,u\\in\\mathbb{R}$ with $l<u$ can be formulated as as non-positive orthant cone:"
   ]
  },
  {
   "cell_type": "markdown",
   "id": "893ea891",
   "metadata": {
    "slideshow": {
     "slide_type": "fragment"
    },
    "tags": []
   },
   "source": [
    "$$\n",
    "\\{x\\in\\mathbb{R}^n~|~l\\leq x \\leq u\\}\n",
    "$$\n",
    "\n",
    "$$\n",
    "l\\leq x \\leq u \\iff \\left[ \\begin{array}{c}I\\\\ -I\\end{array}\\right]x + \\left[\\begin{array}{c}-u\\mathbf{1}\\\\ l\\mathbf{1} \\end{array}\\right] \\in \\mathbb{K}_{\\leq 0}\n",
    "$$"
   ]
  },
  {
   "cell_type": "code",
   "execution_count": 9,
   "id": "7a5013cf",
   "metadata": {
    "slideshow": {
     "slide_type": "slide"
    },
    "tags": []
   },
   "outputs": [
    {
     "data": {
      "text/plain": [
       "Name: my-box\n",
       "Cone f(x,p)∈K, where:\n",
       "K is a nonpositive orthant cone, {z : z≤0}\n",
       "f(x,p) = \n",
       "  x[1] - 9\n",
       "  x[2] - 9\n",
       "  -x[1] + 2\n",
       "  -x[2] + 2\n",
       "Affine function\n",
       "Arguments:\n",
       "  x (block 1) : 1:2\n"
      ]
     },
     "execution_count": 9,
     "metadata": {},
     "output_type": "execute_result"
    }
   ],
   "source": [
    "l = 2\n",
    "u = 9\n",
    "\n",
    "A = [1  0; 0 1; -1 0; 0 -1]\n",
    "b = [-u; -u; l; l]\n",
    "\n",
    "pbm = ConicProgram()\n",
    "\n",
    "x = @new_variable(pbm, 2, \"x\")\n",
    "\n",
    "cstr = @add_constraint(pbm, NONPOS, \"my-box\", x -> A*x .+ b)"
   ]
  },
  {
   "cell_type": "markdown",
   "id": "a0c92b0e",
   "metadata": {
    "slideshow": {
     "slide_type": "slide"
    },
    "tags": []
   },
   "source": [
    "### Ball"
   ]
  },
  {
   "cell_type": "markdown",
   "id": "745e95ae",
   "metadata": {
    "slideshow": {
     "slide_type": "fragment"
    },
    "tags": []
   },
   "source": [
    "A ball with radius $r \\in \\mathbb{R}_+$ set can be represented as a $l_2$ norm cone (second-order cone):"
   ]
  },
  {
   "cell_type": "markdown",
   "id": "925bf2bf",
   "metadata": {
    "slideshow": {
     "slide_type": "fragment"
    },
    "tags": []
   },
   "source": [
    "$$\n",
    "\\{x\\in\\mathbb{R}^n~|~\\|x\\|_2\\leq r\\}\n",
    "$$\n",
    "\n",
    "$$\n",
    "\\|x\\|_2\\leq r \\iff \\left[ \\begin{array}{c} 0 \\\\ I \\end{array} \\right] x + \\left[ \\begin{array}{c} r \\\\ 0 \\end{array} \\right]\\in \\mathbb{K}_2\n",
    "$$"
   ]
  },
  {
   "cell_type": "code",
   "execution_count": 12,
   "id": "0aff79a2",
   "metadata": {
    "slideshow": {
     "slide_type": "slide"
    },
    "tags": []
   },
   "outputs": [
    {
     "data": {
      "text/plain": [
       "Name: my-ball\n",
       "Cone f(x,p)∈K, where:\n",
       "K is a second-order cone, {(t, x)∈ℝ×ℝⁿ : ‖x‖₂≤t}\n",
       "f(x,p) = \n",
       "  4\n",
       "  x[1]\n",
       "  x[2]\n",
       "Affine function\n",
       "Arguments:\n",
       "  x (block 1) : 1:2\n"
      ]
     },
     "execution_count": 12,
     "metadata": {},
     "output_type": "execute_result"
    }
   ],
   "source": [
    "r = 4\n",
    "\n",
    "A = [0  0; 1 0; 0 1]\n",
    "b = [r;0;0]\n",
    "\n",
    "pbm = ConicProgram()\n",
    "\n",
    "x = @new_variable(pbm, 2, \"x\")\n",
    "\n",
    "cstr = @add_constraint(pbm, SOC, \"my-ball\", x -> A*x .+ b)"
   ]
  },
  {
   "cell_type": "markdown",
   "id": "4adc46cb",
   "metadata": {
    "slideshow": {
     "slide_type": "slide"
    },
    "tags": []
   },
   "source": [
    "### Hyperplane"
   ]
  },
  {
   "cell_type": "markdown",
   "id": "82e62d55",
   "metadata": {
    "slideshow": {
     "slide_type": "fragment"
    },
    "tags": []
   },
   "source": [
    "A hyperplane defined by $a\\in \\mathbb{R}^n$ and $b\\in\\mathbb{R}$ can be represented as a zero cone:"
   ]
  },
  {
   "cell_type": "markdown",
   "id": "74bc84d5",
   "metadata": {
    "slideshow": {
     "slide_type": "fragment"
    },
    "tags": []
   },
   "source": [
    "$$\n",
    "\\left\\{x\\in\\mathbb{R}^n~|~a^\\top x = b\\right\\}\n",
    "$$\n",
    "\n",
    "$$\n",
    "a^\\top x = b \\iff \\left[a^\\top\\right]x + (-b) \\in \\mathbb{K}_{=0}\n",
    "$$"
   ]
  },
  {
   "cell_type": "code",
   "execution_count": 13,
   "id": "368a3f0b",
   "metadata": {
    "slideshow": {
     "slide_type": "slide"
    },
    "tags": []
   },
   "outputs": [
    {
     "data": {
      "text/plain": [
       "Name: my-hypln\n",
       "Cone f(x,p)∈K, where:\n",
       "K is a zero cone, {z : z=0}\n",
       "f(x,p) = \n",
       "  1.1 x[1] + 3.2 x[2] - 9\n",
       "Affine function\n",
       "Arguments:\n",
       "  x (block 1) : 1:2\n"
      ]
     },
     "execution_count": 13,
     "metadata": {},
     "output_type": "execute_result"
    }
   ],
   "source": [
    "A = [1.1 3.2]\n",
    "b = -9\n",
    "\n",
    "pbm = ConicProgram()\n",
    "\n",
    "x = @new_variable(pbm, 2, \"x\")\n",
    "\n",
    "cstr = @add_constraint(pbm, ZERO, \"my-hypln\", x -> A*x .+ b)"
   ]
  },
  {
   "cell_type": "markdown",
   "id": "f661c0ee",
   "metadata": {
    "slideshow": {
     "slide_type": "slide"
    },
    "tags": []
   },
   "source": [
    "### Halfspace"
   ]
  },
  {
   "cell_type": "markdown",
   "id": "7a325a92",
   "metadata": {
    "slideshow": {
     "slide_type": "fragment"
    },
    "tags": []
   },
   "source": [
    "A halfspace defined by $a\\in \\mathbb{R}^n$ and $b\\in\\mathbb{R}$ can be represented as a non-positive orthant cone:"
   ]
  },
  {
   "cell_type": "markdown",
   "id": "b97562c5",
   "metadata": {
    "slideshow": {
     "slide_type": "fragment"
    },
    "tags": []
   },
   "source": [
    "$$\n",
    "\\left\\{x\\in\\mathbb{R}^n~|~a^\\top x \\leq b\\right\\}\n",
    "$$\n",
    "\n",
    "$$\n",
    "a^\\top x \\leq b \\iff \\left[a^\\top\\right] x + (-b) \\in \\mathbb{K}_{\\leq 0}\n",
    "$$"
   ]
  },
  {
   "cell_type": "code",
   "execution_count": 14,
   "id": "7c1a721d",
   "metadata": {
    "slideshow": {
     "slide_type": "slide"
    },
    "tags": []
   },
   "outputs": [
    {
     "data": {
      "text/plain": [
       "Name: my-hypln\n",
       "Cone f(x,p)∈K, where:\n",
       "K is a nonpositive orthant cone, {z : z≤0}\n",
       "f(x,p) = \n",
       "  1.1 x[1] + 3.2 x[2] - 9\n",
       "Affine function\n",
       "Arguments:\n",
       "  x (block 1) : 1:2\n"
      ]
     },
     "execution_count": 14,
     "metadata": {},
     "output_type": "execute_result"
    }
   ],
   "source": [
    "A = [1.1 3.2]\n",
    "b = -9\n",
    "\n",
    "pbm = ConicProgram()\n",
    "\n",
    "x = @new_variable(pbm, 2, \"x\")\n",
    "\n",
    "cstr = @add_constraint(pbm, NONPOS, \"my-hypln\", x -> A*x .+ b)"
   ]
  },
  {
   "cell_type": "markdown",
   "id": "9778a295",
   "metadata": {
    "slideshow": {
     "slide_type": "slide"
    },
    "tags": []
   },
   "source": [
    "## Objective function"
   ]
  },
  {
   "cell_type": "markdown",
   "id": "8bb8f03e",
   "metadata": {
    "slideshow": {
     "slide_type": "fragment"
    },
    "tags": []
   },
   "source": [
    " - Regardless of whether optimization problems have constraints, the goal is to maximize or minimize a function i.e. the _objective_ or _cost_ function."
   ]
  },
  {
   "cell_type": "markdown",
   "id": "c4daf467",
   "metadata": {
    "slideshow": {
     "slide_type": "fragment"
    },
    "tags": []
   },
   "source": [
    " - For e.g. propellant consumption and control effort are important metrics for rocket-powered planetary landing missions. We may also want to minimize the total energy to go from one point to another."
   ]
  },
  {
   "cell_type": "markdown",
   "id": "05c6e757",
   "metadata": {
    "slideshow": {
     "slide_type": "fragment"
    },
    "tags": []
   },
   "source": [
    "__Note__: Maximizing a reward is equivalent to minimizing its negative. "
   ]
  },
  {
   "cell_type": "markdown",
   "id": "6a0468e8",
   "metadata": {
    "slideshow": {
     "slide_type": "skip"
    },
    "tags": []
   },
   "source": [
    "Define a scalar variable, `x`. "
   ]
  },
  {
   "cell_type": "markdown",
   "id": "9e7a1c39",
   "metadata": {
    "slideshow": {
     "slide_type": "skip"
    },
    "tags": []
   },
   "source": [
    "Define objective function, which we will henceforth refer to as simply \"cost\"."
   ]
  },
  {
   "cell_type": "markdown",
   "id": "92022a36",
   "metadata": {
    "slideshow": {
     "slide_type": "skip"
    },
    "tags": []
   },
   "source": [
    "By default, the cost is initialized to zero when a new problem is generated. We use the `@add_cost` function to add terms to the cost `obj`."
   ]
  },
  {
   "cell_type": "markdown",
   "id": "d92f5e57",
   "metadata": {
    "slideshow": {
     "slide_type": "skip"
    },
    "tags": []
   },
   "source": [
    " - The first argument indicates the `ConicProgram` instance `pbm` to which a cost term is added.\n",
    "\n",
    " - The second argument defines the cost function mapping in terms of the the input variable."
   ]
  },
  {
   "cell_type": "code",
   "execution_count": 104,
   "id": "6209113b-35b2-4034-92a3-46dae27ca605",
   "metadata": {
    "slideshow": {
     "slide_type": "slide"
    },
    "tags": []
   },
   "outputs": [],
   "source": [
    "my_pars = Dict(\"a\" => 1, \"b\" => 2.5)\n",
    "\n",
    "opts = Dict(\"verbose\" => 0)\n",
    "pbm = ConicProgram(my_pars; solver = ECOS, solver_options = opts)\n",
    "\n",
    "x = @new_variable(pbm, 2, \"x\")\n",
    "t = @new_variable(pbm, \"t\")\n",
    "\n",
    "@add_constraint(pbm, NONPOS, x -> -x*cst[\"b\"])\n",
    "@add_constraint(pbm, SOC, (x,t) -> vcat(t,x))\n",
    "@add_constraint(pbm, NONPOS, (x,t) -> x .- [t;t] .+ cst[\"a\"]*cst[\"b\"])\n",
    "\n",
    "@add_cost(pbm, t -> cst[\"a\"]*t);"
   ]
  },
  {
   "cell_type": "markdown",
   "id": "a7da06e4",
   "metadata": {
    "slideshow": {
     "slide_type": "slide"
    },
    "tags": []
   },
   "source": [
    "## Solve problem"
   ]
  },
  {
   "cell_type": "markdown",
   "id": "4f5056d6",
   "metadata": {
    "slideshow": {
     "slide_type": "fragment"
    },
    "tags": []
   },
   "source": [
    "With everything we have learned so far, we are now ready to solve a convex optimization problem!"
   ]
  },
  {
   "cell_type": "code",
   "execution_count": 97,
   "id": "7df256f8",
   "metadata": {
    "slideshow": {
     "slide_type": "slide"
    },
    "tags": []
   },
   "outputs": [
    {
     "data": {
      "text/plain": [
       "OPTIMAL::TerminationStatusCode = 1"
      ]
     },
     "execution_count": 97,
     "metadata": {},
     "output_type": "execute_result"
    }
   ],
   "source": [
    "exit_status = solve!(pbm)"
   ]
  },
  {
   "cell_type": "markdown",
   "id": "8a0cdcb0",
   "metadata": {
    "slideshow": {
     "slide_type": "slide"
    },
    "tags": []
   },
   "source": [
    "The optimal cost value is `J_opt`."
   ]
  },
  {
   "cell_type": "code",
   "execution_count": 98,
   "id": "bf028940",
   "metadata": {
    "slideshow": {
     "slide_type": "fragment"
    },
    "tags": []
   },
   "outputs": [
    {
     "data": {
      "text/plain": [
       "2.499999998686782"
      ]
     },
     "execution_count": 98,
     "metadata": {},
     "output_type": "execute_result"
    }
   ],
   "source": [
    "J_opt = objective_value(pbm)"
   ]
  },
  {
   "cell_type": "markdown",
   "id": "5727fd1f",
   "metadata": {
    "slideshow": {
     "slide_type": "slide"
    },
    "tags": []
   },
   "source": [
    "The optimal values of the decision variables are `x_opt` and `t_opt`."
   ]
  },
  {
   "cell_type": "code",
   "execution_count": 99,
   "id": "cb9266ce",
   "metadata": {
    "slideshow": {
     "slide_type": "fragment"
    },
    "tags": []
   },
   "outputs": [
    {
     "data": {
      "text/plain": [
       "2-element Vector{Float64}:\n",
       " -5.973286724406856e-10\n",
       " -5.973287215778078e-10"
      ]
     },
     "execution_count": 99,
     "metadata": {},
     "output_type": "execute_result"
    }
   ],
   "source": [
    "x_opt = value(x)"
   ]
  },
  {
   "cell_type": "code",
   "execution_count": 100,
   "id": "c2d7347c",
   "metadata": {
    "slideshow": {
     "slide_type": "fragment"
    },
    "tags": []
   },
   "outputs": [
    {
     "data": {
      "text/plain": [
       "1-element Vector{Float64}:\n",
       " 2.499999998686782"
      ]
     },
     "execution_count": 100,
     "metadata": {},
     "output_type": "execute_result"
    }
   ],
   "source": [
    "t_opt = value(t)"
   ]
  },
  {
   "cell_type": "markdown",
   "id": "1afd3571",
   "metadata": {
    "slideshow": {
     "slide_type": "slide"
    },
    "tags": []
   },
   "source": [
    "The optimal values of the decision variables can also be accessed as mentioned before."
   ]
  },
  {
   "cell_type": "code",
   "execution_count": 101,
   "id": "15dfb6f4",
   "metadata": {
    "slideshow": {
     "slide_type": "fragment"
    },
    "tags": []
   },
   "outputs": [
    {
     "data": {
      "text/plain": [
       "2-element Vector{Float64}:\n",
       " -5.973286724406856e-10\n",
       " -5.973287215778078e-10"
      ]
     },
     "execution_count": 101,
     "metadata": {},
     "output_type": "execute_result"
    }
   ],
   "source": [
    "value(variables(pbm, \"^x\\$\"))"
   ]
  },
  {
   "cell_type": "code",
   "execution_count": 102,
   "id": "761b4a06",
   "metadata": {
    "slideshow": {
     "slide_type": "fragment"
    },
    "tags": []
   },
   "outputs": [
    {
     "data": {
      "text/plain": [
       "1-element Vector{Float64}:\n",
       " 2.499999998686782"
      ]
     },
     "execution_count": 102,
     "metadata": {},
     "output_type": "execute_result"
    }
   ],
   "source": [
    "value(variables(pbm, \"^t\\$\"))"
   ]
  },
  {
   "cell_type": "markdown",
   "id": "3274773a",
   "metadata": {
    "slideshow": {
     "slide_type": "slide"
    },
    "tags": []
   },
   "source": [
    "Congratulations! "
   ]
  },
  {
   "cell_type": "markdown",
   "id": "cf334a53",
   "metadata": {
    "slideshow": {
     "slide_type": "fragment"
    },
    "tags": []
   },
   "source": [
    "We now know how to solve convex optimization problems, which form the basis for Sequential Convex Programming (SCP) problems, which we shall now get into with some exciting examples!"
   ]
  }
 ],
 "metadata": {
  "celltoolbar": "Slideshow",
  "kernelspec": {
   "display_name": "Julia 1.7.1",
   "language": "julia",
   "name": "julia-1.7"
  },
  "language_info": {
   "file_extension": ".jl",
   "mimetype": "application/julia",
   "name": "julia",
   "version": "1.7.1"
  }
 },
 "nbformat": 4,
 "nbformat_minor": 5
}
