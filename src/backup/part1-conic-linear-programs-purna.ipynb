{
 "cells": [
  {
   "cell_type": "code",
   "execution_count": 1,
   "id": "7b730534-e2f1-4c3a-b51c-0648350a014f",
   "metadata": {
    "slideshow": {
     "slide_type": "skip"
    },
    "tags": []
   },
   "outputs": [
    {
     "name": "stderr",
     "output_type": "stream",
     "text": [
      "\u001b[32m\u001b[1m  Activating\u001b[22m\u001b[39m project at `~/Documents/SCPToolbox_tutorial`\n",
      "┌ Info: Precompiling SCPToolbox [bd2bc758-a5dc-11eb-050f-6b2434548817]\n",
      "└ @ Base loading.jl:1423\n"
     ]
    }
   ],
   "source": [
    "import Pkg\n",
    "Pkg.activate(\"..\")\n",
    "\n",
    "using SCPToolbox\n",
    "using ECOS"
   ]
  },
  {
   "cell_type": "markdown",
   "id": "0d412ad5-2b06-4f9e-b8be-1d11df25d64d",
   "metadata": {
    "slideshow": {
     "slide_type": "slide"
    },
    "tags": []
   },
   "source": [
    "# Conic Linear Programs"
   ]
  },
  {
   "cell_type": "markdown",
   "id": "86d950b9-0e82-43b5-8992-5cc6cfb3490f",
   "metadata": {
    "slideshow": {
     "slide_type": "fragment"
    },
    "tags": []
   },
   "source": [
    "General form:"
   ]
  },
  {
   "cell_type": "markdown",
   "id": "1712de31-f997-4de0-aa43-dd0e013b0a99",
   "metadata": {
    "slideshow": {
     "slide_type": "fragment"
    },
    "tags": []
   },
   "source": [
    "\\begin{align}\n",
    "\\underset{x\\in\\mathbb{R}^n}{{\\text{minimize}}} &~ c^\\top x \\\\\n",
    "\\text{subject to} &~Ax+b \\in \\mathbb{K}\n",
    "\\end{align}"
   ]
  },
  {
   "cell_type": "markdown",
   "id": "85df9296-88dc-4f27-b403-4de74efa2e23",
   "metadata": {
    "slideshow": {
     "slide_type": "fragment"
    },
    "tags": []
   },
   "source": [
    "where $c\\in\\mathbb{R}^n,~b\\in\\mathbb{R}^m,~A\\in\\mathbb{R}^{m\\times n}$ are problem parameters, and $\\mathbb{K}$ is a cartesian product of convex cones. The cones supported by `SCPToolbox.jl` are described in the table below."
   ]
  },
  {
   "cell_type": "markdown",
   "id": "4345b8bf-f77a-4369-85d7-d13c43eb82ee",
   "metadata": {
    "slideshow": {
     "slide_type": "slide"
    },
    "tags": []
   },
   "source": [
    "|    Label        | Notation     |     Name      | Definition |\n",
    "|:---------------:|:----:|:-------------:|:----------:|\n",
    "|`UNCONSTRAINED`  |  $\\mathbb{K}_{ \\lesseqgtr}$ | Unconstrained cone  |  $$\\{x\\in\\mathbb{R}^n\\}$$ |\n",
    "|`ZERO`           |  $\\mathbb{K}_{=0}$ | Zero cone             | $\\{x\\in\\mathbb{R}^n~|~x=0\\}$                               |\n",
    "|`NONPOS`         |  $\\mathbb{K}_{\\leq 0}$ | Non-positive orthant  | $\\{x\\in\\mathbb{R}^n~|~x\\leq 0\\}$                           |\n",
    "|`L1`             |  $\\mathbb{K}_{1}$ | $l_1$ norm cone       | $\\{(t,x)\\in\\mathbb{R}^n\\times\\mathbb{R}~|~\\|x\\|_1\\leq t\\}$ |\n",
    "|`SOC`             |  $\\mathbb{K}_{2}$ | $l_2$ norm cone       | $\\{(t,x)\\in\\mathbb{R}^n\\times\\mathbb{R}~|~\\|x\\|_2\\leq t\\}$ |\n",
    "| `LINF` |  $\\mathbb{K}_{\\infty}$ |  $l_\\infty$ norm cone |  $\\{(t,x)\\in\\mathbb{R}^n\\times\\mathbb{R}~|~\\|x\\|_\\infty\\leq t\\}$  |\n",
    "| `GEOM` |  $\\mathbb{K}_{\\text{GM}}$ | Geometric mean cone | $ \\left\\{ (t,x)\\in\\mathbb{R}^n\\times\\mathbb{R}~\\middle|~\\left(\\prod_{i=1}^n x_i\\right)^{1/n} \\geq t \\right\\}$ |\n",
    "| `EXP` |  $\\mathbb{K}_{\\text{EXP}}$ | Exponential cone | $\\{(x,y,z)\\in \\mathbb{R}\\times \\mathbb{R} \\times \\mathbb{R} ~|~ y\\,\\text{exp}(x/y) \\leq z,~y>0\\}$ |"
   ]
  },
  {
   "cell_type": "markdown",
   "id": "68002e73-48d9-4815-af16-e34982dcdbb6",
   "metadata": {
    "slideshow": {
     "slide_type": "slide"
    },
    "tags": []
   },
   "source": [
    "The optimization problem shown above can be solved using state-of-the-art solvers like `ECOS`, `Gurobi` and `Mosek`. However, they typically need a parser to convert the problem data to a canonical form. Hence such solvers are not user-friendly to interface with and solve problems which are not natively expressed in the canonical forms. \n",
    "\n",
    "In `SCPToolbox.jl`, henceforth refered to as the toolbox, a conic linear program is formulated by instantiating a `ConicProblem` object with the choice of solver and its associated options.  "
   ]
  },
  {
   "cell_type": "code",
   "execution_count": 2,
   "id": "959feb67-1b54-4a6e-9f66-c30ce4773abe",
   "metadata": {
    "slideshow": {
     "slide_type": "slide"
    },
    "tags": []
   },
   "outputs": [
    {
     "data": {
      "text/plain": [
       "Conic linear program\n",
       "\n",
       "  Feasibility problem\n",
       "  0 variables (0 blocks)\n",
       "  0 parameters (0 blocks)\n",
       "  0 constraints\n",
       "\n",
       "  Variable argument\n",
       "    0 elements\n",
       "    0 blocks\n",
       "\n",
       "\n",
       "  Parameter argument\n",
       "    0 elements\n",
       "    0 blocks\n"
      ]
     },
     "execution_count": 2,
     "metadata": {},
     "output_type": "execute_result"
    }
   ],
   "source": [
    "opts = Dict(\"verbose\" => 0)\n",
    "pbm = ConicProgram(solver = ECOS.Optimizer, solver_options = opts)"
   ]
  },
  {
   "cell_type": "markdown",
   "id": "3c3009cf-4133-43ae-891f-bb52a2ca9884",
   "metadata": {
    "slideshow": {
     "slide_type": "slide"
    },
    "tags": []
   },
   "source": [
    "## Constraints"
   ]
  },
  {
   "cell_type": "markdown",
   "id": "acd22b38-ebf7-4f5a-a4a9-fcc50f7b0458",
   "metadata": {
    "slideshow": {
     "slide_type": "fragment"
    },
    "tags": []
   },
   "source": [
    "A conic constraint $y\\in\\mathbb{K}$ (say for $\\mathbb{K} = \\mathbb{K}_2$) can be modelled in the toolbox as follows:"
   ]
  },
  {
   "cell_type": "code",
   "execution_count": 18,
   "id": "cb541d76-20a5-4a42-841a-8396c0b85264",
   "metadata": {
    "slideshow": {
     "slide_type": "fragment"
    },
    "tags": []
   },
   "outputs": [
    {
     "data": {
      "text/plain": [
       "Name: my-soc\n",
       "Cone f(x,p)∈K, where:\n",
       "K is a second-order cone, {(t, x)∈ℝ×ℝⁿ : ‖x‖₂≤t}\n",
       "f(x,p) = \n",
       "  100 t\n",
       "  x\n",
       "Affine function\n",
       "Arguments:\n",
       "  x (block 1) : 1\n",
       "  t (block 2) : 2\n"
      ]
     },
     "execution_count": 18,
     "metadata": {},
     "output_type": "execute_result"
    }
   ],
   "source": [
    "params = Dict(\"n\" => 4, \"a\" => 100)\n",
    "opts = Dict(\"verbose\" => 0)\n",
    "pbm = ConicProgram(params; solver = ECOS.Optimizer, solver_options = opts)\n",
    "\n",
    "x = @new_variable(pbm, length(params[\"n\"]),\"x\")\n",
    "t = @new_variable(pbm,\"t\")\n",
    "\n",
    "# Define the constraint\n",
    "cstr = @add_constraint(\n",
    "    pbm, SOC, \"my-soc\", (x, t),\n",
    "    begin\n",
    "        local x, t = arg\n",
    "        vcat(pars[\"a\"]*t, x)\n",
    "    end)"
   ]
  },
  {
   "cell_type": "code",
   "execution_count": 19,
   "id": "ce926dbd-fd61-43b9-9d71-18d40b633067",
   "metadata": {
    "slideshow": {
     "slide_type": "slide"
    },
    "tags": []
   },
   "outputs": [
    {
     "data": {
      "text/plain": [
       "true"
      ]
     },
     "execution_count": 19,
     "metadata": {},
     "output_type": "execute_result"
    }
   ],
   "source": [
    "variables(pbm,\"^x\\$\") == x"
   ]
  },
  {
   "cell_type": "markdown",
   "id": "292ee146-a01a-4a16-997d-ed9974e24da2",
   "metadata": {},
   "source": [
    "Note the use of [regular expressions](https://en.wikipedia.org/wiki/Regular_expression) for searching though the list of variables names."
   ]
  },
  {
   "cell_type": "code",
   "execution_count": 45,
   "id": "d098bd1f-6c54-4348-9903-6f311367320d",
   "metadata": {
    "slideshow": {
     "slide_type": "slide"
    },
    "tags": []
   },
   "outputs": [
    {
     "data": {
      "text/plain": [
       "0 constraints"
      ]
     },
     "execution_count": 45,
     "metadata": {},
     "output_type": "execute_result"
    },
    {
     "name": "stdout",
     "output_type": "stream",
     "text": [
      "\n",
      "\n"
     ]
    }
   ],
   "source": [
    "constraints(pbm, \"^my-soc\")"
   ]
  },
  {
   "cell_type": "markdown",
   "id": "b6ead0d4-b542-4f7e-9cd4-a1c261e2bd20",
   "metadata": {
    "slideshow": {
     "slide_type": "slide"
    },
    "tags": []
   },
   "source": [
    "## Examples"
   ]
  },
  {
   "cell_type": "markdown",
   "id": "def30fd4-0399-4cd5-af2a-7c0fc7071287",
   "metadata": {
    "slideshow": {
     "slide_type": "fragment"
    },
    "tags": []
   },
   "source": [
    "Many simple constraint set typical in a trajectory optimization problem like box, ball, halfspace and hyperplane can be represented as conic constraints."
   ]
  },
  {
   "cell_type": "markdown",
   "id": "e70679e2-fcd5-4286-8391-42454e367d03",
   "metadata": {
    "slideshow": {
     "slide_type": "slide"
    },
    "tags": []
   },
   "source": [
    "### Box"
   ]
  },
  {
   "cell_type": "markdown",
   "id": "2ba40b6c-2cfc-416e-bc1a-8fb09caa3840",
   "metadata": {
    "slideshow": {
     "slide_type": "fragment"
    },
    "tags": []
   },
   "source": [
    "A box with bounds $l,u\\in\\mathbb{R}$ with $l<u$ can be formulated as as non-positive orthant cone:"
   ]
  },
  {
   "cell_type": "markdown",
   "id": "60e24fbd-8820-4c19-82db-178a9440b473",
   "metadata": {
    "slideshow": {
     "slide_type": "fragment"
    },
    "tags": []
   },
   "source": [
    "$$\n",
    "\\{x\\in\\mathbb{R}^n~|~l\\leq x \\leq u\\}\n",
    "$$\n",
    "\n",
    "$$\n",
    "l\\leq x \\leq u \\iff \\left[ \\begin{array}{c}I\\\\ -I\\end{array}\\right]x + \\left[\\begin{array}{c}-u\\mathbf{1}\\\\ l\\mathbf{1} \\end{array}\\right] \\in \\mathbb{K}_{\\leq 0}\n",
    "$$"
   ]
  },
  {
   "cell_type": "code",
   "execution_count": 27,
   "id": "f9631c99-258e-4e53-baa8-7100c0e560e3",
   "metadata": {
    "slideshow": {
     "slide_type": "slide"
    },
    "tags": []
   },
   "outputs": [
    {
     "data": {
      "text/plain": [
       "Name: my-box\n",
       "Cone f(x,p)∈K, where:\n",
       "K is a nonpositive orthant cone, {z : z≤0}\n",
       "f(x,p) = \n",
       "  x[1] - 9\n",
       "  x[2] - 9\n",
       "  -x[1] + 2\n",
       "  -x[2] + 2\n",
       "Affine function\n",
       "Arguments:\n",
       "  x (block 1) : 1:2\n"
      ]
     },
     "execution_count": 27,
     "metadata": {},
     "output_type": "execute_result"
    }
   ],
   "source": [
    "params = Dict(\"n\" => 2, \"l\" => 2, \"u\" => 9)\n",
    "A = [1  0;0 1;-1 0;0 -1]\n",
    "b = [-params[\"u\"];-params[\"u\"];params[\"l\"];params[\"l\"]]\n",
    "\n",
    "pbm = ConicProgram(params)\n",
    "\n",
    "x = @new_variable(pbm, params[\"n\"],\"x\")\n",
    "\n",
    "# Define the constraint\n",
    "cstr = @add_constraint(\n",
    "    pbm, NONPOS, \"my-box\", (x,),\n",
    "    begin\n",
    "        local x, = arg\n",
    "        A*x+b\n",
    "    end)"
   ]
  },
  {
   "cell_type": "markdown",
   "id": "ea96df0e-efcd-40b5-8c7a-a2d16d019735",
   "metadata": {
    "slideshow": {
     "slide_type": "slide"
    },
    "tags": []
   },
   "source": [
    "### Ball"
   ]
  },
  {
   "cell_type": "markdown",
   "id": "90a3187e-f16f-4df4-9633-c360568d2c8b",
   "metadata": {
    "slideshow": {
     "slide_type": "fragment"
    },
    "tags": []
   },
   "source": [
    "A ball with radius $r \\in \\mathbb{R}_+$ set can be represented as a $l_2$ norm cone (second-order cone):"
   ]
  },
  {
   "cell_type": "markdown",
   "id": "36ec5cdc-5498-45d2-bdb1-377f7d48ba08",
   "metadata": {
    "slideshow": {
     "slide_type": "fragment"
    },
    "tags": []
   },
   "source": [
    "$$\n",
    "\\{x\\in\\mathbb{R}^n~|~\\|x\\|_2\\leq r\\}\n",
    "$$\n",
    "\n",
    "$$\n",
    "\\|x\\|_2\\leq r \\iff \\left[ \\begin{array}{c} 0 \\\\ I \\end{array} \\right] x + \\left[ \\begin{array}{c} r \\\\ 0 \\end{array} \\right]\\in \\mathbb{K}_2\n",
    "$$"
   ]
  },
  {
   "cell_type": "code",
   "execution_count": 30,
   "id": "3d3dc469-b848-409f-be27-9c9c39cbbcc1",
   "metadata": {
    "slideshow": {
     "slide_type": "slide"
    },
    "tags": []
   },
   "outputs": [
    {
     "data": {
      "text/plain": [
       "Name: my-ball\n",
       "Cone f(x,p)∈K, where:\n",
       "K is a second-order cone, {(t, x)∈ℝ×ℝⁿ : ‖x‖₂≤t}\n",
       "f(x,p) = \n",
       "  4\n",
       "  x[1]\n",
       "  x[2]\n",
       "Affine function\n",
       "Arguments:\n",
       "  x (block 1) : 1:2\n"
      ]
     },
     "execution_count": 30,
     "metadata": {},
     "output_type": "execute_result"
    }
   ],
   "source": [
    "params = Dict(\"n\" => 2, \"r\" => 4)\n",
    "A = [0  0;1 0;0 1]\n",
    "b = [params[\"r\"];0;0]\n",
    "\n",
    "pbm = ConicProgram(params)\n",
    "\n",
    "x = @new_variable(pbm, params[\"n\"],\"x\")\n",
    "\n",
    "# Define the constraint\n",
    "cstr = @add_constraint(\n",
    "    pbm, SOC, \"my-ball\", (x,),\n",
    "    begin\n",
    "        local x, = arg\n",
    "        A*x+b\n",
    "    end)"
   ]
  },
  {
   "cell_type": "markdown",
   "id": "957bef2a-82aa-4d5a-86bc-f751b583cde0",
   "metadata": {
    "slideshow": {
     "slide_type": "slide"
    },
    "tags": []
   },
   "source": [
    "### Hyperplane"
   ]
  },
  {
   "cell_type": "markdown",
   "id": "6e247069-87d0-41ce-8756-1c42fcc5a551",
   "metadata": {
    "slideshow": {
     "slide_type": "fragment"
    },
    "tags": []
   },
   "source": [
    "A hyperplane defined by $a\\in \\mathbb{R}^n$ and $b\\in\\mathbb{R}$ can be represented as a zero cone:"
   ]
  },
  {
   "cell_type": "markdown",
   "id": "3b595d94-312f-448c-9dec-61ebf2f4c2df",
   "metadata": {
    "slideshow": {
     "slide_type": "fragment"
    },
    "tags": []
   },
   "source": [
    "$$\n",
    "\\left\\{x\\in\\mathbb{R}^n~|~a^\\top x = b\\right\\}\n",
    "$$\n",
    "\n",
    "$$\n",
    "a^\\top x = b \\iff \\left[a^\\top\\right]x + (-b) \\in \\mathbb{K}_{=0}\n",
    "$$"
   ]
  },
  {
   "cell_type": "code",
   "execution_count": 44,
   "id": "a32a3301-e5a2-4930-8115-c05562efc908",
   "metadata": {
    "slideshow": {
     "slide_type": "slide"
    },
    "tags": []
   },
   "outputs": [
    {
     "name": "stdout",
     "output_type": "stream",
     "text": [
      "A = [1.1 3.2]\n"
     ]
    },
    {
     "data": {
      "text/plain": [
       "Name: my-hypln\n",
       "Cone f(x,p)∈K, where:\n",
       "K is a zero cone, {z : z=0}\n",
       "f(x,p) = \n",
       "  1.1 x[1] + 3.2 x[2] - 9\n",
       "Affine function\n",
       "Arguments:\n",
       "  x (block 1) : 1:2\n"
      ]
     },
     "execution_count": 44,
     "metadata": {},
     "output_type": "execute_result"
    }
   ],
   "source": [
    "params = Dict(\"n\" => 2, \"a\" => [1.1;3.2], \"b\" => 9)\n",
    "A = Matrix(transpose(params[\"a\"]))\n",
    "b = -params[\"b\"]\n",
    "\n",
    "@show A\n",
    "\n",
    "pbm = ConicProgram(params)\n",
    "\n",
    "x = @new_variable(pbm, params[\"n\"],\"x\")\n",
    "\n",
    "# Define the constraint\n",
    "cstr = @add_constraint(\n",
    "    pbm, ZERO, \"my-hypln\", (x,),\n",
    "    begin\n",
    "        local x, = arg\n",
    "        A*x .+ b\n",
    "    end)"
   ]
  },
  {
   "cell_type": "markdown",
   "id": "6a8f67a6-d27e-403e-9e1c-6c0e4860dc43",
   "metadata": {
    "slideshow": {
     "slide_type": "slide"
    },
    "tags": []
   },
   "source": [
    "### Halfspace"
   ]
  },
  {
   "cell_type": "markdown",
   "id": "81a02e0c-8257-4f6b-ba89-ecb3de0c5e19",
   "metadata": {
    "slideshow": {
     "slide_type": "fragment"
    },
    "tags": []
   },
   "source": [
    "A halfspace defined by $a\\in \\mathbb{R}^n$ and $b\\in\\mathbb{R}$ can be represented as a non-positive orthant cone:"
   ]
  },
  {
   "cell_type": "markdown",
   "id": "6043c665-0eb3-47ba-a510-8faa47838914",
   "metadata": {
    "slideshow": {
     "slide_type": "fragment"
    },
    "tags": []
   },
   "source": [
    "$$\n",
    "\\left\\{x\\in\\mathbb{R}^n~|~a^\\top x \\leq b\\right\\}\n",
    "$$\n",
    "\n",
    "$$\n",
    "a^\\top x \\leq b \\iff \\left[a^\\top\\right] x + (-b) \\in \\mathbb{K}_{\\leq 0}\n",
    "$$"
   ]
  },
  {
   "cell_type": "code",
   "execution_count": 43,
   "id": "964406df-0078-4425-ae35-696d0818d117",
   "metadata": {
    "slideshow": {
     "slide_type": "slide"
    },
    "tags": []
   },
   "outputs": [
    {
     "name": "stdout",
     "output_type": "stream",
     "text": [
      "A * [1; 2] = [7.5]\n",
      "(1,)\n"
     ]
    },
    {
     "data": {
      "text/plain": [
       "Name: my-hlfspace\n",
       "Cone f(x,p)∈K, where:\n",
       "K is a nonpositive orthant cone, {z : z≤0}\n",
       "f(x,p) = \n",
       "  1.1 x[1] + 3.2 x[2] - 9\n",
       "Affine function\n",
       "Arguments:\n",
       "  x (block 1) : 1:2\n"
      ]
     },
     "execution_count": 43,
     "metadata": {},
     "output_type": "execute_result"
    }
   ],
   "source": [
    "params = Dict(\"n\" => 2, \"a\" => [1.1;3.2], \"b\" => 9)\n",
    "A = Matrix(transpose(params[\"a\"]))\n",
    "b = -params[\"b\"]\n",
    "\n",
    "@show A*[1;2]\n",
    "\n",
    "pbm = ConicProgram(params)\n",
    "\n",
    "x = @new_variable(pbm, params[\"n\"],\"x\")\n",
    "\n",
    "# Define the constraint\n",
    "cstr = @add_constraint(\n",
    "    pbm, NONPOS, \"my-hlfspace\", (x,),\n",
    "    begin\n",
    "        local x, = arg\n",
    "        println(size(A*x))\n",
    "        A*x .+ b\n",
    "    end)"
   ]
  }
 ],
 "metadata": {
  "kernelspec": {
   "display_name": "Julia 1.7.1",
   "language": "julia",
   "name": "julia-1.7"
  },
  "language_info": {
   "file_extension": ".jl",
   "mimetype": "application/julia",
   "name": "julia",
   "version": "1.7.1"
  }
 },
 "nbformat": 4,
 "nbformat_minor": 5
}
