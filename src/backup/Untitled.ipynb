{
 "cells": [
  {
   "cell_type": "code",
   "execution_count": 2,
   "id": "7b730534-e2f1-4c3a-b51c-0648350a014f",
   "metadata": {},
   "outputs": [
    {
     "name": "stderr",
     "output_type": "stream",
     "text": [
      "\u001b[32m\u001b[1m  Activating\u001b[22m\u001b[39m project at `~/Nextcloud/personal/research/scp/aas_gnc_workshop/tutorial`\n"
     ]
    }
   ],
   "source": [
    "import Pkg\n",
    "Pkg.activate(\"..\")\n",
    "\n",
    "using SCPToolbox\n",
    "using ECOS"
   ]
  },
  {
   "cell_type": "markdown",
   "id": "0d412ad5-2b06-4f9e-b8be-1d11df25d64d",
   "metadata": {},
   "source": [
    "# Declare new problem"
   ]
  },
  {
   "cell_type": "code",
   "execution_count": 2,
   "id": "664867d9-f891-4872-a190-3e951045f01e",
   "metadata": {},
   "outputs": [
    {
     "data": {
      "text/plain": [
       "Conic linear program\n",
       "\n",
       "  Feasibility problem\n",
       "  0 variables (0 blocks)\n",
       "  0 parameters (0 blocks)\n",
       "  0 constraints\n",
       "\n",
       "  Variable argument\n",
       "    0 elements\n",
       "    0 blocks\n",
       "\n",
       "\n",
       "  Parameter argument\n",
       "    0 elements\n",
       "    0 blocks\n"
      ]
     },
     "execution_count": 2,
     "metadata": {},
     "output_type": "execute_result"
    }
   ],
   "source": [
    "opts = Dict(\"verbose\" => 0)\n",
    "pbm = ConicProgram(solver = ECOS.Optimizer, solver_options = opts)"
   ]
  },
  {
   "cell_type": "markdown",
   "id": "ea65405e-4318-404d-b782-00a9d794f472",
   "metadata": {},
   "source": [
    "# Variables\n",
    "\n"
   ]
  },
  {
   "cell_type": "markdown",
   "id": "5e9ef919-238a-4e7b-8877-bad1e4db9b8e",
   "metadata": {},
   "source": [
    "- Demonstrate how to declare variables"
   ]
  },
  {
   "cell_type": "code",
   "execution_count": 3,
   "id": "adb09100-7bfc-4872-b08c-3ec5e50e3b79",
   "metadata": {},
   "outputs": [
    {
     "data": {
      "text/plain": [
       "Vector variable\n",
       "  1 elements\n",
       "  (1,) shape\n",
       "  Name: x\n",
       "  Block index in stack: 1\n",
       "  Indices in stack: 1\n",
       "  Type: Vector{JuMP.AffExpr}\n",
       "  No scaling (x=xh)\n",
       "  Any perturbation allowed\n",
       "  Value =\n",
       "     x"
      ]
     },
     "execution_count": 3,
     "metadata": {},
     "output_type": "execute_result"
    }
   ],
   "source": [
    "x = @new_variable(pbm, 1, \"x\")"
   ]
  },
  {
   "cell_type": "code",
   "execution_count": 4,
   "id": "0b3e9e82-a29b-4561-9c9f-91188a077cf7",
   "metadata": {},
   "outputs": [
    {
     "data": {
      "text/plain": [
       "Matrix variable\n",
       "  10 elements\n",
       "  (2, 5) shape\n",
       "  Name: y\n",
       "  Block index in stack: 2\n",
       "  Indices in stack: 2:11\n",
       "  Type: Matrix{JuMP.AffExpr}\n",
       "  No scaling (x=xh)\n",
       "  Any perturbation allowed\n",
       "  Value =\n",
       "     y[1,1]  y[1,2]  y[1,3]  y[1,4]  y[1,5]\n",
       "     y[2,1]  y[2,2]  y[2,3]  y[2,4]  y[2,5]"
      ]
     },
     "execution_count": 4,
     "metadata": {},
     "output_type": "execute_result"
    }
   ],
   "source": [
    "y = @new_variable(pbm, (2, 5), \"y\")"
   ]
  },
  {
   "cell_type": "code",
   "execution_count": 5,
   "id": "a58f5c4c-1899-4d6e-ae62-5ce5cce6dde3",
   "metadata": {},
   "outputs": [
    {
     "data": {
      "text/plain": [
       "Vector variable\n",
       "  2 elements\n",
       "  (2,) shape\n",
       "  Name: y\n",
       "  Block index in stack: 2\n",
       "  Indices in stack: 2:3\n",
       "  Type: SubArray{JuMP.AffExpr, 1, Matrix{JuMP.AffExpr}, Tuple{Base.Slice{Base.OneTo{Int64}}, Int64}, true}\n",
       "  No scaling (x=xh)\n",
       "  Any perturbation allowed\n",
       "  Value =\n",
       "     y[1,1]\n",
       "     y[2,1]"
      ]
     },
     "execution_count": 5,
     "metadata": {},
     "output_type": "execute_result"
    }
   ],
   "source": [
    "y[:, 1]"
   ]
  },
  {
   "cell_type": "code",
   "execution_count": 6,
   "id": "82bc89ac-50af-4908-bb0e-bcb7d1e49cdd",
   "metadata": {},
   "outputs": [
    {
     "data": {
      "text/plain": [
       "Vector variable\n",
       "  1 elements\n",
       "  (1,) shape\n",
       "  Name: q\n",
       "  Block index in stack: 3\n",
       "  Indices in stack: 12\n",
       "  Type: Vector{JuMP.AffExpr}\n",
       "  No scaling (x=xh)\n",
       "  Any perturbation allowed\n",
       "  Value =\n",
       "     q"
      ]
     },
     "execution_count": 6,
     "metadata": {},
     "output_type": "execute_result"
    }
   ],
   "source": [
    "q = @new_variable(pbm, \"q\")"
   ]
  },
  {
   "cell_type": "code",
   "execution_count": 7,
   "id": "36832448-a579-47e8-93df-2468928ade5e",
   "metadata": {},
   "outputs": [],
   "source": [
    "@scale(q, [10], 1)"
   ]
  },
  {
   "cell_type": "code",
   "execution_count": 8,
   "id": "a6a3b2e9-542e-4993-ab04-043786d2cdec",
   "metadata": {},
   "outputs": [
    {
     "data": {
      "text/plain": [
       "Vector variable\n",
       "  1 elements\n",
       "  (1,) shape\n",
       "  Name: q\n",
       "  Block index in stack: 3\n",
       "  Indices in stack: 12\n",
       "  Type: Vector{JuMP.AffExpr}\n",
       "  Affine scaling x=(S.*xh).+c\n",
       "  Any perturbation allowed\n",
       "  Value =\n",
       "     q"
      ]
     },
     "execution_count": 8,
     "metadata": {},
     "output_type": "execute_result"
    }
   ],
   "source": [
    "q"
   ]
  },
  {
   "cell_type": "code",
   "execution_count": 9,
   "id": "dc131ae7-58d4-4b4b-8544-49dc9d013e80",
   "metadata": {},
   "outputs": [
    {
     "data": {
      "text/plain": [
       "1-element Vector{JuMP.AffExpr}:\n",
       " 10 q + 1"
      ]
     },
     "execution_count": 9,
     "metadata": {},
     "output_type": "execute_result"
    }
   ],
   "source": [
    "value(q)"
   ]
  },
  {
   "cell_type": "code",
   "execution_count": 10,
   "id": "89c4ddd3-11d4-4440-ad25-bd3da59c6e1c",
   "metadata": {},
   "outputs": [],
   "source": [
    "@scale(y, [2; 4], [3;1])"
   ]
  },
  {
   "cell_type": "code",
   "execution_count": 11,
   "id": "eeecf56b-561f-46b1-83e7-668c302634e3",
   "metadata": {},
   "outputs": [
    {
     "data": {
      "text/plain": [
       "Matrix variable\n",
       "  10 elements\n",
       "  (2, 5) shape\n",
       "  Name: y\n",
       "  Block index in stack: 2\n",
       "  Indices in stack: 2:11\n",
       "  Type: Matrix{JuMP.AffExpr}\n",
       "  Affine scaling x=(S.*xh).+c\n",
       "  Any perturbation allowed\n",
       "  Value =\n",
       "     y[1,1]  y[1,2]  y[1,3]  y[1,4]  y[1,5]\n",
       "     y[2,1]  y[2,2]  y[2,3]  y[2,4]  y[2,5]"
      ]
     },
     "execution_count": 11,
     "metadata": {},
     "output_type": "execute_result"
    }
   ],
   "source": [
    "y"
   ]
  },
  {
   "cell_type": "code",
   "execution_count": 12,
   "id": "4cc31dfd-a745-404b-8faf-45eee9adfe25",
   "metadata": {},
   "outputs": [
    {
     "data": {
      "text/plain": [
       "2×5 Matrix{JuMP.AffExpr}:\n",
       " 2 y[1,1] + 3  2 y[1,2] + 3  2 y[1,3] + 3  2 y[1,4] + 3  2 y[1,5] + 3\n",
       " 4 y[2,1] + 1  4 y[2,2] + 1  4 y[2,3] + 1  4 y[2,4] + 1  4 y[2,5] + 1"
      ]
     },
     "execution_count": 12,
     "metadata": {},
     "output_type": "execute_result"
    }
   ],
   "source": [
    "value(y)"
   ]
  },
  {
   "cell_type": "code",
   "execution_count": 13,
   "id": "474e51b7-5d5b-4c3e-84b8-e58ccaf8b6c9",
   "metadata": {},
   "outputs": [
    {
     "data": {
      "text/plain": [
       "Conic linear program\n",
       "\n",
       "  Feasibility problem\n",
       "  12 variables (3 blocks)\n",
       "  0 parameters (0 blocks)\n",
       "  0 constraints\n",
       "\n",
       "  Variable argument\n",
       "    12 elements\n",
       "    3 blocks\n",
       "     1) 1    ... x\n",
       "     2) 2:11 ... y\n",
       "     3) 12   ... q\n",
       "\n",
       "  Parameter argument\n",
       "    0 elements\n",
       "    0 blocks\n"
      ]
     },
     "execution_count": 13,
     "metadata": {},
     "output_type": "execute_result"
    }
   ],
   "source": [
    "pbm"
   ]
  },
  {
   "cell_type": "code",
   "execution_count": 14,
   "id": "78a08d5f-db5b-4258-b6cd-76b24e44e393",
   "metadata": {},
   "outputs": [
    {
     "data": {
      "text/plain": [
       "Vector variable\n",
       "  1 elements\n",
       "  (1,) shape\n",
       "  Name: z\n",
       "  Block index in stack: 4\n",
       "  Indices in stack: 13\n",
       "  Type: Vector{JuMP.AffExpr}\n",
       "  No scaling (x=xh)\n",
       "  Any perturbation allowed\n",
       "  Value =\n",
       "     z"
      ]
     },
     "execution_count": 14,
     "metadata": {},
     "output_type": "execute_result"
    }
   ],
   "source": [
    "z = @new_variable(pbm, \"z\")"
   ]
  },
  {
   "cell_type": "code",
   "execution_count": 15,
   "id": "259e66e2-2562-4f7e-b7e2-fec8c6f75395",
   "metadata": {},
   "outputs": [
    {
     "data": {
      "text/plain": [
       "4-element Vector{SCPToolbox.Parser.ConicLinearProgram.VariableArgumentBlock}:\n",
       " Vector variable\n",
       "  1 elements\n",
       "  (1,) shape\n",
       "  Name: x\n",
       "  Block index in stack: 1\n",
       "  Indices in stack: 1\n",
       "  Type: Vector{JuMP.AffExpr}\n",
       "  No scaling (x=xh)\n",
       "  Any perturbation allowed\n",
       "  Value =\n",
       "     x\n",
       " Matrix variable\n",
       "  10 elements\n",
       "  (2, 5) shape\n",
       "  Name: y\n",
       "  Block index in stack: 2\n",
       "  Indices in stack: 2:11\n",
       "  Type: Matrix{JuMP.AffExpr}\n",
       "  Affine scaling x=(S.*xh).+c\n",
       "  Any perturbation allowed\n",
       "  Value =\n",
       "     y[1,1]  y[1,2]  y[1,3]  y[1,4]  y[1,5]\n",
       "     y[2,1]  y[2,2]  y[2,3]  y[2,4]  y[2,5]\n",
       " Vector variable\n",
       "  1 elements\n",
       "  (1,) shape\n",
       "  Name: q\n",
       "  Block index in stack: 3\n",
       "  Indices in stack: 12\n",
       "  Type: Vector{JuMP.AffExpr}\n",
       "  Affine scaling x=(S.*xh).+c\n",
       "  Any perturbation allowed\n",
       "  Value =\n",
       "     q\n",
       " Vector variable\n",
       "  1 elements\n",
       "  (1,) shape\n",
       "  Name: z\n",
       "  Block index in stack: 4\n",
       "  Indices in stack: 13\n",
       "  Type: Vector{JuMP.AffExpr}\n",
       "  No scaling (x=xh)\n",
       "  Any perturbation allowed\n",
       "  Value =\n",
       "     z"
      ]
     },
     "execution_count": 15,
     "metadata": {},
     "output_type": "execute_result"
    }
   ],
   "source": [
    "variables(pbm)"
   ]
  },
  {
   "cell_type": "code",
   "execution_count": 13,
   "id": "eed7af4a-2172-4b56-b392-14d665031109",
   "metadata": {},
   "outputs": [
    {
     "data": {
      "text/plain": [
       "Vector variable\n",
       "  1 elements\n",
       "  (1,) shape\n",
       "  Name: x4\n",
       "  Block index in stack: 4\n",
       "  Indices in stack: 13\n",
       "  Type: Vector{JuMP.AffExpr}\n",
       "  No scaling (x=xh)\n",
       "  Any perturbation allowed\n",
       "  Value =\n",
       "     x4"
      ]
     },
     "execution_count": 13,
     "metadata": {},
     "output_type": "execute_result"
    }
   ],
   "source": [
    "w = @new_variable(pbm)"
   ]
  },
  {
   "cell_type": "markdown",
   "id": "bf473320-527a-48e9-b6cd-6c0132bc5400",
   "metadata": {},
   "source": [
    "How to view the value of the variable?"
   ]
  },
  {
   "cell_type": "code",
   "execution_count": 17,
   "id": "a17ace35-7a9f-476f-a113-ebcb84217919",
   "metadata": {},
   "outputs": [
    {
     "data": {
      "text/plain": [
       "1-element Vector{JuMP.AffExpr}:\n",
       " x"
      ]
     },
     "execution_count": 17,
     "metadata": {},
     "output_type": "execute_result"
    }
   ],
   "source": [
    "value(x)"
   ]
  },
  {
   "cell_type": "code",
   "execution_count": 19,
   "id": "a3a34db7-fe53-4afd-8177-35af0ccdbfbd",
   "metadata": {},
   "outputs": [
    {
     "data": {
      "text/plain": [
       "2×5 Matrix{JuMP.AffExpr}:\n",
       " y[1,1]  y[1,2]  y[1,3]  y[1,4]  y[1,5]\n",
       " y[2,1]  y[2,2]  y[2,3]  y[2,4]  y[2,5]"
      ]
     },
     "execution_count": 19,
     "metadata": {},
     "output_type": "execute_result"
    }
   ],
   "source": [
    "value(y)"
   ]
  },
  {
   "cell_type": "code",
   "execution_count": 15,
   "id": "8c2bc8ce-7342-456b-8943-8d905d171d86",
   "metadata": {},
   "outputs": [
    {
     "data": {
      "text/plain": [
       "3×5 Matrix{JuMP.AffExpr}:\n",
       " x5[1,1]        x5[1,2]        x5[1,3]        x5[1,4]        x5[1,5]\n",
       " 2 x5[2,1]      2 x5[2,2]      2 x5[2,3]      2 x5[2,4]      2 x5[2,5]\n",
       " 3 x5[3,1] - 1  3 x5[3,2] - 1  3 x5[3,3] - 1  3 x5[3,4] - 1  3 x5[3,5] - 1"
      ]
     },
     "metadata": {},
     "output_type": "display_data"
    },
    {
     "data": {
      "text/plain": [
       "1-element Vector{Float64}:\n",
       " NaN"
      ]
     },
     "metadata": {},
     "output_type": "display_data"
    },
    {
     "data": {
      "text/plain": [
       "Conic linear program\n",
       "\n",
       "  Feasibility problem\n",
       "  38 variables (5 blocks)\n",
       "  1 parameters (1 blocks)\n",
       "  0 constraints\n",
       "\n",
       "  Variable argument\n",
       "    38 elements\n",
       "    5 blocks\n",
       "     1) 1     ... x\n",
       "     2) 2     ... z\n",
       "     3) 3     ... x3\n",
       "     4) 4:23  ... X\n",
       "     5) 24:38 ... x5\n",
       "\n",
       "  Parameter argument\n",
       "    1 elements\n",
       "    1 blocks\n",
       "     1) 1 ... p"
      ]
     },
     "metadata": {},
     "output_type": "display_data"
    },
    {
     "data": {
      "text/plain": [
       "5-element Vector{SCPToolbox.Parser.ConicLinearProgram.VariableArgumentBlock}:\n",
       " Vector variable\n",
       "  1 elements\n",
       "  (1,) shape\n",
       "  Name: x\n",
       "  Block index in stack: 1\n",
       "  Indices in stack: 1\n",
       "  Type: Vector{JuMP.AffExpr}\n",
       "  No scaling (x=xh)\n",
       "  Any perturbation allowed\n",
       "  Value =\n",
       "     x\n",
       " Vector variable\n",
       "  1 elements\n",
       "  (1,) shape\n",
       "  Name: z\n",
       "  Block index in stack: 2\n",
       "  Indices in stack: 2\n",
       "  Type: Vector{JuMP.AffExpr}\n",
       "  No scaling (x=xh)\n",
       "  Any perturbation allowed\n",
       "  Value =\n",
       "     z\n",
       " Vector variable\n",
       "  1 elements\n",
       "  (1,) shape\n",
       "  Name: x3\n",
       "  Block index in stack: 3\n",
       "  Indices in stack: 3\n",
       "  Type: Vector{JuMP.AffExpr}\n",
       "  Affine dilation x=S.*xh\n",
       "  Any perturbation allowed\n",
       "  Value =\n",
       "     x3\n",
       " Matrix variable\n",
       "  20 elements\n",
       "  (2, 10) shape\n",
       "  Name: X\n",
       "  Block index in stack: 4\n",
       "  Indices in stack: 4:23\n",
       "  Type: Matrix{JuMP.AffExpr}\n",
       "  No scaling (x=xh)\n",
       "  Any perturbation allowed\n",
       "  Value =\n",
       "     X[1,1]  X[1,2]  X[1,3]  …  X[1,9]  X[1,10]\n",
       "     X[2,1]  X[2,2]  X[2,3]     X[2,9]  X[2,10]\n",
       " Matrix variable\n",
       "  15 elements\n",
       "  (3, 5) shape\n",
       "  Name: x5\n",
       "  Block index in stack: 5\n",
       "  Indices in stack: 24:38\n",
       "  Type: Matrix{JuMP.AffExpr}\n",
       "  Affine scaling x=(S.*xh).+c\n",
       "  Any perturbation allowed\n",
       "  Value =\n",
       "     x5[1,1]  x5[1,2]  x5[1,3]  x5[1,4]  x5[1,5]\n",
       "     x5[2,1]  x5[2,2]  x5[2,3]  x5[2,4]  x5[2,5]\n",
       "     x5[3,1]  x5[3,2]  x5[3,3]  x5[3,4]  x5[3,5]"
      ]
     },
     "metadata": {},
     "output_type": "display_data"
    }
   ],
   "source": [
    "pars = Dict(\"engines\" => 42)\n",
    "opts = Dict(\"verbose\" => 0)\n",
    "pbm = ConicProgram(pars; solver = ECOS.Optimizer, solver_options = opts)\n",
    "\n",
    "@new_variable(pbm, 1, \"x\")\n",
    "@new_variable(pbm, \"z\")\n",
    "h = @new_variable(pbm)\n",
    "@new_variable(pbm, (2, 10), \"X\")\n",
    "w = @new_variable(pbm, (3, 5))\n",
    "@scale(w, [1;2;3], [0;0;-1])\n",
    "@scale(h, 10, 0)\n",
    "@scale(h, 20)\n",
    "\n",
    "p = @new_parameter(pbm, \"p\")\n",
    "\n",
    "display(value(w))\n",
    "display(value(p))\n",
    "\n",
    "display(pbm)\n",
    "display(variables(pbm))"
   ]
  },
  {
   "cell_type": "code",
   "execution_count": 16,
   "id": "6970c6a7-17d4-4cb5-ab14-e9a324778f43",
   "metadata": {},
   "outputs": [
    {
     "data": {
      "text/plain": [
       "Vector parameter\n",
       "  1 elements\n",
       "  (1,) shape\n",
       "  Name: p\n",
       "  Block index in stack: 1\n",
       "  Indices in stack: 1\n",
       "  Type: Vector{Float64}\n",
       "  No scaling (x=xh)\n",
       "  Any perturbation allowed\n",
       "  Value =\n",
       "     NaN"
      ]
     },
     "execution_count": 16,
     "metadata": {},
     "output_type": "execute_result"
    }
   ],
   "source": [
    "p"
   ]
  },
  {
   "cell_type": "markdown",
   "id": "3c3009cf-4133-43ae-891f-bb52a2ca9884",
   "metadata": {},
   "source": [
    "# Constraints"
   ]
  },
  {
   "cell_type": "markdown",
   "id": "ab0192b1-c69d-4045-be4b-f7b0731d6d1c",
   "metadata": {},
   "source": [
    "A conic constraint is of the form `{z : z ∈ K}`, where `K` is a convex cone.\n",
    "\n",
    "The supported cones are:\n",
    "- `UNCONSTRAINED` for unconstrained.\n",
    "- `ZERO` for constraints `z==0`.\n",
    "- `NONPOS` for constraints `z<=0`.\n",
    "- `L1` for constraints `z=(t, x), norm(x, 1)<=t`.\n",
    "- `SOC` for constraints `z=(t, x), norm(x, 2)<=t`.\n",
    "- `LINF` for constraints `z=(t, x), norm(x, ∞)<=t`.\n",
    "- `GEOM` for constraints `z=(t, x), geomean(x)>=t`.\n",
    "- `EXP` for constraints `z=(x, y, w), y*exp(x/y)<=w, y>0`."
   ]
  },
  {
   "cell_type": "markdown",
   "id": "a031da93-a3f3-4d62-8033-bd3316e6e2e6",
   "metadata": {},
   "source": [
    "Let's define a second order cone:\n",
    "$$\n",
    "\\|x\\|_2 \\le t\n",
    "$$\n",
    "\n",
    "where $x\\in\\mathbb R^2$."
   ]
  },
  {
   "cell_type": "code",
   "execution_count": 28,
   "id": "cb541d76-20a5-4a42-841a-8396c0b85264",
   "metadata": {},
   "outputs": [
    {
     "data": {
      "text/plain": [
       "Name: nonpos-another\n",
       "Cone f(x,p)∈K, where:\n",
       "K is a nonpositive orthant cone, {z : z≤0}\n",
       "f(x,p) = \n",
       "  x[1]\n",
       "  x[2]\n",
       "Affine function\n",
       "Arguments:\n",
       "  x (block 1) : 1:2\n"
      ]
     },
     "metadata": {},
     "output_type": "display_data"
    },
    {
     "data": {
      "text/plain": [
       "Conic linear program\n",
       "\n",
       "  Feasibility problem\n",
       "  3 variables (2 blocks)\n",
       "  0 parameters (0 blocks)\n",
       "  3 constraints\n",
       "    2 nonpositive orthant cones\n",
       "    1 second-order cones\n",
       "\n",
       "  Variable argument\n",
       "    3 elements\n",
       "    2 blocks\n",
       "     1) 1:2 ... x\n",
       "     2) 3   ... t\n",
       "\n",
       "  Parameter argument\n",
       "    0 elements\n",
       "    0 blocks\n"
      ]
     },
     "metadata": {},
     "output_type": "display_data"
    },
    {
     "data": {
      "text/plain": [
       "3 constraints\n",
       "  2 nonpositive orthant cones\n",
       "  1 second-order conesName: my-soc\n",
       "Cone f(x,p)∈K, where:\n",
       "K is a second-order cone, {(t, x)∈ℝ×ℝⁿ : ‖x‖₂≤t}\n",
       "f(x,p) = \n",
       "  t\n",
       "  x[1]\n",
       "  x[2]\n",
       "Affine function\n",
       "Arguments:\n",
       "  x (block 1) : 1:2\n",
       "  t (block 2) : 3\n",
       "\n",
       "Name: my-nonpos-x\n",
       "Cone f(x,p)∈K, where:\n",
       "K is a nonpositive orthant cone, {z : z≤0}\n",
       "f(x,p) = \n",
       "  x[1]\n",
       "  x[2]\n",
       "Affine function\n",
       "Arguments:\n",
       "  x (block 1) : 1:2\n",
       "\n",
       "Name: nonpos-another\n",
       "Cone f(x,p)∈K, where:\n",
       "K is a nonpositive orthant cone, {z : z≤0}\n",
       "f(x,p) = \n",
       "  x[1]\n",
       "  x[2]\n",
       "Affine function\n",
       "Arguments:\n",
       "  x (block 1) : 1:2\n",
       "\n"
      ]
     },
     "execution_count": 28,
     "metadata": {},
     "output_type": "execute_result"
    },
    {
     "name": "stdout",
     "output_type": "stream",
     "text": [
      "\n",
      "\n"
     ]
    }
   ],
   "source": [
    "opts = Dict(\"verbose\" => 0)\n",
    "pbm = ConicProgram(pars; solver = ECOS.Optimizer, solver_options = opts)\n",
    "\n",
    "x = @new_variable(pbm, 2, \"x\")\n",
    "t = @new_variable(pbm, \"t\")\n",
    "\n",
    "# Define the constraint\n",
    "cstr = @add_constraint(\n",
    "    pbm, SOC, \"my-soc\", (x, t),\n",
    "    begin\n",
    "        local x, t = arg\n",
    "        vcat(t, x)\n",
    "    end)\n",
    "\n",
    "cstr = @add_constraint(\n",
    "    pbm, NONPOS, \"my-nonpos-x\", (x,),\n",
    "    begin\n",
    "        local x, = arg\n",
    "        x\n",
    "    end)\n",
    "\n",
    "cstr = @add_constraint(\n",
    "    pbm, NONPOS, \"nonpos-another\", (x,),\n",
    "    begin\n",
    "        local x, = arg\n",
    "        x\n",
    "    end)\n",
    "\n",
    "display(cstr)\n",
    "display(pbm)\n",
    "constraints(pbm)"
   ]
  },
  {
   "cell_type": "code",
   "execution_count": 32,
   "id": "d098bd1f-6c54-4348-9903-6f311367320d",
   "metadata": {},
   "outputs": [
    {
     "data": {
      "text/plain": [
       "Name: nonpos-another\n",
       "Cone f(x,p)∈K, where:\n",
       "K is a nonpositive orthant cone, {z : z≤0}\n",
       "f(x,p) = \n",
       "  x[1]\n",
       "  x[2]\n",
       "Affine function\n",
       "Arguments:\n",
       "  x (block 1) : 1:2\n"
      ]
     },
     "execution_count": 32,
     "metadata": {},
     "output_type": "execute_result"
    }
   ],
   "source": [
    "constraints(pbm, \"^nonpos\")"
   ]
  },
  {
   "cell_type": "markdown",
   "id": "d2edd31f-876a-422a-b8a2-23e679de5ae9",
   "metadata": {},
   "source": [
    "# Objective function"
   ]
  },
  {
   "cell_type": "code",
   "execution_count": 59,
   "id": "db4ca78d-194c-4d0c-bbb6-fbc8680718ea",
   "metadata": {},
   "outputs": [
    {
     "data": {
      "text/plain": [
       "Cost function composed of 1 terms\n",
       "\n",
       "Term 1:\n",
       "  Coefficient: 1.00e+00\n",
       "  Quadratic function\n",
       "  Arguments:\n",
       "    t (block 1) : 1\n",
       "  Current value =\n",
       "    5 t²"
      ]
     },
     "execution_count": 59,
     "metadata": {},
     "output_type": "execute_result"
    }
   ],
   "source": [
    "my_pars = Dict(\"a\" => 5)\n",
    "opts = Dict(\"verbose\" => 0)\n",
    "pbm = ConicProgram(my_pars; solver = ECOS.Optimizer, solver_options = opts)\n",
    "\n",
    "t = @new_variable(pbm, \"t\")\n",
    "\n",
    "function tmp()\n",
    "    obj = @add_cost(\n",
    "        pbm, (t,), begin\n",
    "            TEST_P, = arg\n",
    "            pars[\"a\"]*sum(TEST_P.^2)\n",
    "        end)\n",
    "    #display(TEST_P)\n",
    "end\n",
    "\n",
    "obj = @add_cost(\n",
    "    pbm, (t,), begin\n",
    "        TEST_P, = arg\n",
    "        pars[\"a\"]*sum(TEST_P.^2)\n",
    "    end)\n",
    "\n",
    "pbm\n",
    "\n",
    "cost(pbm)"
   ]
  },
  {
   "cell_type": "code",
   "execution_count": 56,
   "id": "6068cdd5-3947-4b54-9a97-30cf001dd333",
   "metadata": {},
   "outputs": [
    {
     "ename": "LoadError",
     "evalue": "UndefVarError: TEST_P not defined",
     "output_type": "error",
     "traceback": [
      "UndefVarError: TEST_P not defined",
      "",
      "Stacktrace:",
      " [1] top-level scope",
      "   @ :0",
      " [2] eval",
      "   @ ./boot.jl:373 [inlined]",
      " [3] include_string(mapexpr::typeof(REPL.softscope), mod::Module, code::String, filename::String)",
      "   @ Base ./loading.jl:1196"
     ]
    }
   ],
   "source": [
    "TEST_P"
   ]
  },
  {
   "cell_type": "markdown",
   "id": "7e4de56b-5524-483a-83d6-1413eac99406",
   "metadata": {},
   "source": [
    "# Solve problem"
   ]
  },
  {
   "cell_type": "code",
   "execution_count": 80,
   "id": "3c598382-42f6-4bb8-a4bc-1dce1db00cf6",
   "metadata": {},
   "outputs": [
    {
     "name": "stdout",
     "output_type": "stream",
     "text": [
      "x = [2.0000000000095266, 2.0000000000095266, 5.0000000000238165, 10.000000000047633, -1.000000000004763]\n",
      "t = [1.1524313115706931e-5]\n",
      "J = -8.29959449100464e-10\n",
      "\n",
      "ECOS 2.0.8 - (C) embotech GmbH, Zurich Switzerland, 2012-15. Web: www.embotech.com/ECOS\n",
      "\n",
      "It     pcost       dcost      gap   pres   dres    k/t    mu     step   sigma     IR    |   BT\n",
      " 0  +0.000e+00  -2.449e-01  +4e+00  2e-01  1e-01  1e+00  2e+00    ---    ---    1  1  - |  -  - \n",
      " 1  -6.147e-02  -8.099e-02  +2e-01  7e-03  4e-03  3e-02  9e-02  0.9530  5e-03   1  1  1 |  0  0\n",
      " 2  -5.548e-04  -2.077e-03  +1e-02  3e-04  2e-04  9e-04  5e-03  0.9475  8e-04   1  1  1 |  0  0\n",
      " 3  -4.848e-04  -6.068e-04  +2e-03  6e-05  4e-05  4e-04  1e-03  0.9090  1e-01   1  2  2 |  0  0\n",
      " 4  -4.348e-05  -7.855e-05  +8e-04  2e-05  1e-05  1e-04  4e-04  0.7244  1e-01   1  2  2 |  0  0\n",
      " 5  -1.174e-04  -1.268e-04  +3e-04  9e-06  5e-06  7e-05  2e-04  0.8239  3e-01   1  1  1 |  0  0\n",
      " 6  -1.708e-06  -3.017e-06  +5e-05  1e-06  7e-07  9e-06  2e-05  0.9890  1e-01   2  2  2 |  0  0\n",
      " 7  -6.230e-08  -1.239e-07  +2e-06  6e-08  4e-08  4e-07  1e-06  0.9600  8e-03   1  1  1 |  0  0\n",
      " 8  -5.661e-08  -6.196e-08  +2e-07  5e-09  3e-09  4e-08  1e-07  0.9181  6e-03   2  1  1 |  0  0\n",
      " 9  +3.774e-10  -1.080e-09  +6e-08  1e-09  9e-10  1e-08  3e-08  0.9257  2e-01   1  1  1 |  0  0\n",
      "10  -6.392e-10  -7.070e-10  +3e-09  6e-11  4e-11  5e-10  1e-09  0.9765  2e-02   2  1  1 |  0  0\n",
      "\n",
      "OPTIMAL (within feastol=6.4e-11, reltol=4.2e+00, abstol=2.7e-09).\n",
      "Runtime: 0.000131 seconds.\n",
      "\n"
     ]
    }
   ],
   "source": [
    "problem_pars = Dict(\"a\" => 5, \"x_ref\" => [2; 2; 5; 10; -1])\n",
    "opts = Dict(\"verbose\" => 1)\n",
    "pbm = ConicProgram(problem_pars;\n",
    "    solver = ECOS.Optimizer,\n",
    "    solver_options = opts)\n",
    "\n",
    "x = @new_variable(pbm, length(problem_pars[\"x_ref\"]), \"x\")\n",
    "t = @new_variable(pbm, \"t\")\n",
    "\n",
    "# norm(x-x_ref, 2) <= t\n",
    "@add_constraint(\n",
    "    pbm, SOC, (x, t),\n",
    "    begin\n",
    "        x, t = arg\n",
    "        vcat(t, x-pars[\"x_ref\"])\n",
    "    end)\n",
    "\n",
    "# cost: min t\n",
    "@add_cost(\n",
    "    pbm, (t,), begin\n",
    "        t, = arg\n",
    "        t.^2\n",
    "    end)\n",
    "\n",
    "# solve the problem\n",
    "exit_status = solve!(pbm)\n",
    "\n",
    "# what have we found?\n",
    "x_opt = value(x)\n",
    "t_opt = value(t)\n",
    "J_opt = objective_value(pbm)\n",
    "\n",
    "println(\"x = \", x_opt)\n",
    "println(\"t = \", t_opt)\n",
    "println(\"J = \", J_opt)"
   ]
  },
  {
   "cell_type": "code",
   "execution_count": 64,
   "id": "468f33e9-dfbf-457e-8ea3-c9875e631358",
   "metadata": {},
   "outputs": [
    {
     "data": {
      "text/plain": [
       "Vector variable\n",
       "  1 elements\n",
       "  (1,) shape\n",
       "  Name: t\n",
       "  Block index in stack: 2\n",
       "  Indices in stack: 3\n",
       "  Type: Vector{JuMP.AffExpr}\n",
       "  No scaling (x=xh)\n",
       "  Any perturbation allowed\n",
       "  Value =\n",
       "     t"
      ]
     },
     "execution_count": 64,
     "metadata": {},
     "output_type": "execute_result"
    }
   ],
   "source": [
    "t"
   ]
  }
 ],
 "metadata": {
  "kernelspec": {
   "display_name": "Julia 1.7.1",
   "language": "julia",
   "name": "julia-1.7"
  },
  "language_info": {
   "file_extension": ".jl",
   "mimetype": "application/julia",
   "name": "julia",
   "version": "1.7.1"
  }
 },
 "nbformat": 4,
 "nbformat_minor": 5
}
