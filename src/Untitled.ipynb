{
 "cells": [
  {
   "cell_type": "code",
   "execution_count": 1,
   "id": "7b730534-e2f1-4c3a-b51c-0648350a014f",
   "metadata": {},
   "outputs": [
    {
     "name": "stderr",
     "output_type": "stream",
     "text": [
      "\u001b[32m\u001b[1m  Activating\u001b[22m\u001b[39m new project at `~/Nextcloud/personal/research/scp/aas_gnc_workshop`\n"
     ]
    },
    {
     "ename": "LoadError",
     "evalue": "ArgumentError: Package SCPToolbox not found in current path:\n- Run `import Pkg; Pkg.add(\"SCPToolbox\")` to install the SCPToolbox package.\n",
     "output_type": "error",
     "traceback": [
      "ArgumentError: Package SCPToolbox not found in current path:\n- Run `import Pkg; Pkg.add(\"SCPToolbox\")` to install the SCPToolbox package.\n",
      "",
      "Stacktrace:",
      " [1] require(into::Module, mod::Symbol)",
      "   @ Base ./loading.jl:967",
      " [2] eval",
      "   @ ./boot.jl:373 [inlined]",
      " [3] include_string(mapexpr::typeof(REPL.softscope), mod::Module, code::String, filename::String)",
      "   @ Base ./loading.jl:1196"
     ]
    }
   ],
   "source": [
    "import Pkg\n",
    "Pkg.activate(\"..\")\n",
    "\n",
    "using SCPToolbox\n",
    "using ECOS"
   ]
  },
  {
   "cell_type": "markdown",
   "id": "0d412ad5-2b06-4f9e-b8be-1d11df25d64d",
   "metadata": {},
   "source": [
    "# Declare new problem"
   ]
  },
  {
   "cell_type": "code",
   "execution_count": 23,
   "id": "664867d9-f891-4872-a190-3e951045f01e",
   "metadata": {},
   "outputs": [
    {
     "data": {
      "text/plain": [
       "Conic linear program\n",
       "\n",
       "  Feasibility problem\n",
       "  0 variables (0 blocks)\n",
       "  0 parameters (0 blocks)\n",
       "  0 constraints\n",
       "\n",
       "  Variable argument\n",
       "    0 elements\n",
       "    0 blocks\n",
       "\n",
       "\n",
       "  Parameter argument\n",
       "    0 elements\n",
       "    0 blocks\n"
      ]
     },
     "execution_count": 23,
     "metadata": {},
     "output_type": "execute_result"
    }
   ],
   "source": [
    "opts = Dict(\"verbose\" => 0)\n",
    "pbm = ConicProgram(solver = ECOS.Optimizer, solver_options = opts)"
   ]
  },
  {
   "cell_type": "markdown",
   "id": "ea65405e-4318-404d-b782-00a9d794f472",
   "metadata": {},
   "source": [
    "# Variables\n",
    "\n"
   ]
  },
  {
   "cell_type": "markdown",
   "id": "5e9ef919-238a-4e7b-8877-bad1e4db9b8e",
   "metadata": {},
   "source": [
    "- Demonstrate how to declare variables"
   ]
  },
  {
   "cell_type": "code",
   "execution_count": 24,
   "id": "adb09100-7bfc-4872-b08c-3ec5e50e3b79",
   "metadata": {},
   "outputs": [
    {
     "data": {
      "text/plain": [
       "Vector variable\n",
       "  1 elements\n",
       "  (1,) shape\n",
       "  Name: x\n",
       "  Block index in stack: 1\n",
       "  Indices in stack: 1\n",
       "  Type: Vector{JuMP.AffExpr}\n",
       "  No scaling (x=xh)\n",
       "  Any perturbation allowed\n",
       "  Value =\n",
       "     x"
      ]
     },
     "execution_count": 24,
     "metadata": {},
     "output_type": "execute_result"
    }
   ],
   "source": [
    "x = @new_variable(pbm, 1, \"x\")"
   ]
  },
  {
   "cell_type": "code",
   "execution_count": 25,
   "id": "0b3e9e82-a29b-4561-9c9f-91188a077cf7",
   "metadata": {},
   "outputs": [
    {
     "data": {
      "text/plain": [
       "Matrix variable\n",
       "  10 elements\n",
       "  (2, 5) shape\n",
       "  Name: y\n",
       "  Block index in stack: 2\n",
       "  Indices in stack: 2:11\n",
       "  Type: Matrix{JuMP.AffExpr}\n",
       "  No scaling (x=xh)\n",
       "  Any perturbation allowed\n",
       "  Value =\n",
       "     y[1,1]  y[1,2]  y[1,3]  y[1,4]  y[1,5]\n",
       "     y[2,1]  y[2,2]  y[2,3]  y[2,4]  y[2,5]"
      ]
     },
     "execution_count": 25,
     "metadata": {},
     "output_type": "execute_result"
    }
   ],
   "source": [
    "y = @new_variable(pbm, (2, 5), \"y\")"
   ]
  },
  {
   "cell_type": "code",
   "execution_count": 26,
   "id": "a58f5c4c-1899-4d6e-ae62-5ce5cce6dde3",
   "metadata": {},
   "outputs": [
    {
     "data": {
      "text/plain": [
       "Vector variable\n",
       "  2 elements\n",
       "  (2,) shape\n",
       "  Name: y\n",
       "  Block index in stack: 2\n",
       "  Indices in stack: 2:3\n",
       "  Type: SubArray{JuMP.AffExpr, 1, Matrix{JuMP.AffExpr}, Tuple{Base.Slice{Base.OneTo{Int64}}, Int64}, true}\n",
       "  No scaling (x=xh)\n",
       "  Any perturbation allowed\n",
       "  Value =\n",
       "     y[1,1]\n",
       "     y[2,1]"
      ]
     },
     "execution_count": 26,
     "metadata": {},
     "output_type": "execute_result"
    }
   ],
   "source": [
    "y[:, 1]"
   ]
  },
  {
   "cell_type": "code",
   "execution_count": 28,
   "id": "82bc89ac-50af-4908-bb0e-bcb7d1e49cdd",
   "metadata": {},
   "outputs": [
    {
     "data": {
      "text/plain": [
       "Vector variable\n",
       "  1 elements\n",
       "  (1,) shape\n",
       "  Name: q\n",
       "  Block index in stack: 3\n",
       "  Indices in stack: 12\n",
       "  Type: Vector{JuMP.AffExpr}\n",
       "  No scaling (x=xh)\n",
       "  Any perturbation allowed\n",
       "  Value =\n",
       "     q"
      ]
     },
     "execution_count": 28,
     "metadata": {},
     "output_type": "execute_result"
    }
   ],
   "source": [
    "q = @new_variable(pbm, \"q\")"
   ]
  },
  {
   "cell_type": "code",
   "execution_count": 29,
   "id": "36832448-a579-47e8-93df-2468928ade5e",
   "metadata": {},
   "outputs": [],
   "source": [
    "@scale(q, [10], 1)"
   ]
  },
  {
   "cell_type": "code",
   "execution_count": 30,
   "id": "a6a3b2e9-542e-4993-ab04-043786d2cdec",
   "metadata": {},
   "outputs": [
    {
     "data": {
      "text/plain": [
       "Vector variable\n",
       "  1 elements\n",
       "  (1,) shape\n",
       "  Name: q\n",
       "  Block index in stack: 3\n",
       "  Indices in stack: 12\n",
       "  Type: Vector{JuMP.AffExpr}\n",
       "  Affine scaling x=(S.*xh).+c\n",
       "  Any perturbation allowed\n",
       "  Value =\n",
       "     q"
      ]
     },
     "execution_count": 30,
     "metadata": {},
     "output_type": "execute_result"
    }
   ],
   "source": [
    "q"
   ]
  },
  {
   "cell_type": "code",
   "execution_count": 31,
   "id": "dc131ae7-58d4-4b4b-8544-49dc9d013e80",
   "metadata": {},
   "outputs": [
    {
     "data": {
      "text/plain": [
       "1-element Vector{JuMP.AffExpr}:\n",
       " 10 q + 1"
      ]
     },
     "execution_count": 31,
     "metadata": {},
     "output_type": "execute_result"
    }
   ],
   "source": [
    "value(q)"
   ]
  },
  {
   "cell_type": "code",
   "execution_count": 35,
   "id": "89c4ddd3-11d4-4440-ad25-bd3da59c6e1c",
   "metadata": {},
   "outputs": [],
   "source": [
    "@scale(y, [2; 4], [3;1])"
   ]
  },
  {
   "cell_type": "code",
   "execution_count": 36,
   "id": "eeecf56b-561f-46b1-83e7-668c302634e3",
   "metadata": {},
   "outputs": [
    {
     "data": {
      "text/plain": [
       "Matrix variable\n",
       "  10 elements\n",
       "  (2, 5) shape\n",
       "  Name: y\n",
       "  Block index in stack: 2\n",
       "  Indices in stack: 2:11\n",
       "  Type: Matrix{JuMP.AffExpr}\n",
       "  Affine scaling x=(S.*xh).+c\n",
       "  Any perturbation allowed\n",
       "  Value =\n",
       "     y[1,1]  y[1,2]  y[1,3]  y[1,4]  y[1,5]\n",
       "     y[2,1]  y[2,2]  y[2,3]  y[2,4]  y[2,5]"
      ]
     },
     "execution_count": 36,
     "metadata": {},
     "output_type": "execute_result"
    }
   ],
   "source": [
    "y"
   ]
  },
  {
   "cell_type": "code",
   "execution_count": 37,
   "id": "4cc31dfd-a745-404b-8faf-45eee9adfe25",
   "metadata": {},
   "outputs": [
    {
     "data": {
      "text/plain": [
       "2×5 Matrix{JuMP.AffExpr}:\n",
       " 2 y[1,1] + 3  2 y[1,2] + 3  2 y[1,3] + 3  2 y[1,4] + 3  2 y[1,5] + 3\n",
       " 4 y[2,1] + 1  4 y[2,2] + 1  4 y[2,3] + 1  4 y[2,4] + 1  4 y[2,5] + 1"
      ]
     },
     "execution_count": 37,
     "metadata": {},
     "output_type": "execute_result"
    }
   ],
   "source": [
    "value(y)"
   ]
  },
  {
   "cell_type": "code",
   "execution_count": 38,
   "id": "474e51b7-5d5b-4c3e-84b8-e58ccaf8b6c9",
   "metadata": {},
   "outputs": [
    {
     "data": {
      "text/plain": [
       "Conic linear program\n",
       "\n",
       "  Feasibility problem\n",
       "  12 variables (3 blocks)\n",
       "  0 parameters (0 blocks)\n",
       "  0 constraints\n",
       "\n",
       "  Variable argument\n",
       "    12 elements\n",
       "    3 blocks\n",
       "     1) 1    ... x\n",
       "     2) 2:11 ... y\n",
       "     3) 12   ... q\n",
       "\n",
       "  Parameter argument\n",
       "    0 elements\n",
       "    0 blocks\n"
      ]
     },
     "execution_count": 38,
     "metadata": {},
     "output_type": "execute_result"
    }
   ],
   "source": [
    "pbm"
   ]
  },
  {
   "cell_type": "code",
   "execution_count": 12,
   "id": "78a08d5f-db5b-4258-b6cd-76b24e44e393",
   "metadata": {},
   "outputs": [
    {
     "data": {
      "text/plain": [
       "Vector variable\n",
       "  1 elements\n",
       "  (1,) shape\n",
       "  Name: z\n",
       "  Block index in stack: 3\n",
       "  Indices in stack: 12\n",
       "  Type: Vector{JuMP.AffExpr}\n",
       "  No scaling (x=xh)\n",
       "  Any perturbation allowed\n",
       "  Value =\n",
       "     z"
      ]
     },
     "execution_count": 12,
     "metadata": {},
     "output_type": "execute_result"
    }
   ],
   "source": [
    "z = @new_variable(pbm, \"z\")"
   ]
  },
  {
   "cell_type": "code",
   "execution_count": 40,
   "id": "259e66e2-2562-4f7e-b7e2-fec8c6f75395",
   "metadata": {},
   "outputs": [
    {
     "ename": "LoadError",
     "evalue": "UndefVarError: variables not defined",
     "output_type": "error",
     "traceback": [
      "UndefVarError: variables not defined",
      "",
      "Stacktrace:",
      " [1] top-level scope",
      "   @ In[40]:1",
      " [2] eval",
      "   @ ./boot.jl:373 [inlined]",
      " [3] include_string(mapexpr::typeof(REPL.softscope), mod::Module, code::String, filename::String)",
      "   @ Base ./loading.jl:1196"
     ]
    }
   ],
   "source": [
    "variables(pbm)"
   ]
  },
  {
   "cell_type": "code",
   "execution_count": 13,
   "id": "eed7af4a-2172-4b56-b392-14d665031109",
   "metadata": {},
   "outputs": [
    {
     "data": {
      "text/plain": [
       "Vector variable\n",
       "  1 elements\n",
       "  (1,) shape\n",
       "  Name: x4\n",
       "  Block index in stack: 4\n",
       "  Indices in stack: 13\n",
       "  Type: Vector{JuMP.AffExpr}\n",
       "  No scaling (x=xh)\n",
       "  Any perturbation allowed\n",
       "  Value =\n",
       "     x4"
      ]
     },
     "execution_count": 13,
     "metadata": {},
     "output_type": "execute_result"
    }
   ],
   "source": [
    "w = @new_variable(pbm)"
   ]
  },
  {
   "cell_type": "markdown",
   "id": "bf473320-527a-48e9-b6cd-6c0132bc5400",
   "metadata": {},
   "source": [
    "How to view the value of the variable?"
   ]
  },
  {
   "cell_type": "code",
   "execution_count": 17,
   "id": "a17ace35-7a9f-476f-a113-ebcb84217919",
   "metadata": {},
   "outputs": [
    {
     "data": {
      "text/plain": [
       "1-element Vector{JuMP.AffExpr}:\n",
       " x"
      ]
     },
     "execution_count": 17,
     "metadata": {},
     "output_type": "execute_result"
    }
   ],
   "source": [
    "value(x)"
   ]
  },
  {
   "cell_type": "code",
   "execution_count": 19,
   "id": "a3a34db7-fe53-4afd-8177-35af0ccdbfbd",
   "metadata": {},
   "outputs": [
    {
     "data": {
      "text/plain": [
       "2×5 Matrix{JuMP.AffExpr}:\n",
       " y[1,1]  y[1,2]  y[1,3]  y[1,4]  y[1,5]\n",
       " y[2,1]  y[2,2]  y[2,3]  y[2,4]  y[2,5]"
      ]
     },
     "execution_count": 19,
     "metadata": {},
     "output_type": "execute_result"
    }
   ],
   "source": [
    "value(y)"
   ]
  },
  {
   "cell_type": "markdown",
   "id": "3c3009cf-4133-43ae-891f-bb52a2ca9884",
   "metadata": {},
   "source": [
    "# Constraints"
   ]
  },
  {
   "cell_type": "code",
   "execution_count": null,
   "id": "34e750f5-d25b-4948-bc74-45b385586266",
   "metadata": {},
   "outputs": [],
   "source": []
  }
 ],
 "metadata": {
  "kernelspec": {
   "display_name": "Julia 1.7.1",
   "language": "julia",
   "name": "julia-1.7"
  },
  "language_info": {
   "file_extension": ".jl",
   "mimetype": "application/julia",
   "name": "julia",
   "version": "1.7.1"
  }
 },
 "nbformat": 4,
 "nbformat_minor": 5
}
